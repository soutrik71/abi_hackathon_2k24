{
 "cells": [
  {
   "cell_type": "markdown",
   "id": "f336b5f8",
   "metadata": {},
   "source": [
    "1. Monthly vol data  already preprocessed\n",
    "2. Poc attributes - already prepoc\n",
    "3. PPg attribues- already preproc\n",
    "4. Macro economic - raw-> year-monthly-> wide format ( date + features...)\n",
    "5. Financial at PPg - year-month-ppg-features\n",
    "6. Weather data - Daily-> monthly agg\n",
    "7. Covid- Daily -> monthly \n",
    "8. Calendar Custom features"
   ]
  },
  {
   "cell_type": "code",
   "execution_count": 1,
   "id": "e60e9887",
   "metadata": {},
   "outputs": [],
   "source": [
    "# import jupyter_black\n",
    "\n",
    "# jupyter_black.load()"
   ]
  },
  {
   "cell_type": "code",
   "execution_count": 2,
   "id": "82b6de18",
   "metadata": {},
   "outputs": [
    {
     "data": {
      "application/javascript": [
       "IPython.notebook.set_autosave_interval(300000)"
      ]
     },
     "metadata": {},
     "output_type": "display_data"
    },
    {
     "name": "stdout",
     "output_type": "stream",
     "text": [
      "Autosaving every 300 seconds\n"
     ]
    }
   ],
   "source": [
    "%autosave 300\n",
    "%reload_ext autoreload\n",
    "%autoreload 2\n",
    "%config Completer.use_jedi = False"
   ]
  },
  {
   "cell_type": "code",
   "execution_count": 3,
   "id": "81f4573c",
   "metadata": {},
   "outputs": [
    {
     "name": "stdout",
     "output_type": "stream",
     "text": [
      "/mnt/batch/tasks/shared/LS_root/mounts/clusters/copilot-model-run/code/Users/Soutrik.Chowdhury/abi_hackathon_2k24\n"
     ]
    }
   ],
   "source": [
    "import os\n",
    "\n",
    "os.chdir(\n",
    "    r\"/mnt/batch/tasks/shared/LS_root/mounts/clusters/copilot-model-run/code/Users/Soutrik.Chowdhury/abi_hackathon_2k24\"\n",
    ")\n",
    "print(os.getcwd())"
   ]
  },
  {
   "cell_type": "code",
   "execution_count": 4,
   "id": "0db3b535",
   "metadata": {},
   "outputs": [],
   "source": [
    "import pandas as pd\n",
    "import numpy as np\n",
    "import matplotlib.pyplot as plt\n",
    "import seaborn as sns\n",
    "\n",
    "pd.set_option(\"display.max_columns\", None)\n",
    "pd.set_option(\"display.max_rows\", None)\n",
    "pd.set_option(\"display.max_colwidth\", None)\n",
    "pd.set_option(\"display.width\", None)\n",
    "from pandarallel import pandarallel\n",
    "import re\n",
    "from datetime import datetime\n",
    "import gc\n",
    "from sklearn.preprocessing import FunctionTransformer\n",
    "\n",
    "# from helpers.compress import reduce_mem_usage\n",
    "import pickle\n",
    "import warnings\n",
    "\n",
    "warnings.filterwarnings(\"ignore\")"
   ]
  },
  {
   "cell_type": "code",
   "execution_count": 5,
   "id": "577306fe",
   "metadata": {},
   "outputs": [
    {
     "name": "stdout",
     "output_type": "stream",
     "text": [
      "INFO: Pandarallel will run on 14 workers.\n",
      "INFO: Pandarallel will use Memory file system to transfer data between the main process and workers.\n"
     ]
    }
   ],
   "source": [
    "pandarallel.initialize(progress_bar=True, nb_workers=os.cpu_count() - 2)"
   ]
  },
  {
   "cell_type": "code",
   "execution_count": 6,
   "id": "a900f45b",
   "metadata": {},
   "outputs": [],
   "source": [
    "data_folder = \"data\"\n",
    "macro_data_folder = \"macro_data\"\n",
    "processed_data_folder = \"processed_data_S2\""
   ]
  },
  {
   "cell_type": "code",
   "execution_count": 7,
   "id": "cd81141b",
   "metadata": {},
   "outputs": [],
   "source": [
    "# volume_agg_df = pd.read_pickle(\n",
    "#     os.path.join(os.getcwd(), processed_data_folder, \"volume_df_month_agg.pkl\")\n",
    "# )"
   ]
  },
  {
   "cell_type": "markdown",
   "id": "8b74d3de",
   "metadata": {},
   "source": [
    "##### Attributes"
   ]
  },
  {
   "cell_type": "code",
   "execution_count": 8,
   "id": "88365fd5",
   "metadata": {},
   "outputs": [],
   "source": [
    "poc_atrb_df = pd.read_csv(\n",
    "    os.path.join(os.getcwd(), data_folder, \"hackathon_poc_description_data.csv\")\n",
    ")\n",
    "ppg_atrb_df = pd.read_csv(\n",
    "    os.path.join(os.getcwd(), data_folder, \"hackathon_product_description_data.csv\")\n",
    ")"
   ]
  },
  {
   "cell_type": "code",
   "execution_count": 9,
   "id": "5d26d5de",
   "metadata": {},
   "outputs": [
    {
     "data": {
      "text/html": [
       "<div>\n",
       "<style scoped>\n",
       "    .dataframe tbody tr th:only-of-type {\n",
       "        vertical-align: middle;\n",
       "    }\n",
       "\n",
       "    .dataframe tbody tr th {\n",
       "        vertical-align: top;\n",
       "    }\n",
       "\n",
       "    .dataframe thead th {\n",
       "        text-align: right;\n",
       "    }\n",
       "</style>\n",
       "<table border=\"1\" class=\"dataframe\">\n",
       "  <thead>\n",
       "    <tr style=\"text-align: right;\">\n",
       "      <th></th>\n",
       "      <th>unique_poc_id</th>\n",
       "      <th>region</th>\n",
       "      <th>subchannel</th>\n",
       "      <th>channel_type</th>\n",
       "      <th>sales_district</th>\n",
       "      <th>segment</th>\n",
       "    </tr>\n",
       "  </thead>\n",
       "  <tbody>\n",
       "    <tr>\n",
       "      <th>0</th>\n",
       "      <td>A</td>\n",
       "      <td>ALKP</td>\n",
       "      <td>AFMJ ZQQ</td>\n",
       "      <td>KVF</td>\n",
       "      <td>TGG BIRO AFDC ADCB</td>\n",
       "      <td>AHJB ZQQ</td>\n",
       "    </tr>\n",
       "    <tr>\n",
       "      <th>1</th>\n",
       "      <td>AA</td>\n",
       "      <td>ALKP</td>\n",
       "      <td>AFMJ ZQQ</td>\n",
       "      <td>KVF</td>\n",
       "      <td>TGG BIRO JIE</td>\n",
       "      <td>AHJB ZQQ</td>\n",
       "    </tr>\n",
       "    <tr>\n",
       "      <th>2</th>\n",
       "      <td>AAA</td>\n",
       "      <td>ALKP</td>\n",
       "      <td>FUK AIMO BGGD AGHI</td>\n",
       "      <td>BBOB</td>\n",
       "      <td>TGG BIRO ABNS</td>\n",
       "      <td>AKWM</td>\n",
       "    </tr>\n",
       "    <tr>\n",
       "      <th>3</th>\n",
       "      <td>AAAA</td>\n",
       "      <td>ALKP</td>\n",
       "      <td>ADDS ZQQ</td>\n",
       "      <td>KVF</td>\n",
       "      <td>TGG BIRO ABEP</td>\n",
       "      <td>AHJB ZQQ</td>\n",
       "    </tr>\n",
       "    <tr>\n",
       "      <th>4</th>\n",
       "      <td>AAAC</td>\n",
       "      <td>AZAK AHZ</td>\n",
       "      <td>AQXZ APPZ ADOT</td>\n",
       "      <td>BBOB</td>\n",
       "      <td>VOP BIRO ABXN</td>\n",
       "      <td>AZJC UIP</td>\n",
       "    </tr>\n",
       "  </tbody>\n",
       "</table>\n",
       "</div>"
      ],
      "text/plain": [
       "  unique_poc_id    region          subchannel channel_type  \\\n",
       "0             A      ALKP            AFMJ ZQQ          KVF   \n",
       "1            AA      ALKP            AFMJ ZQQ          KVF   \n",
       "2           AAA      ALKP  FUK AIMO BGGD AGHI         BBOB   \n",
       "3          AAAA      ALKP            ADDS ZQQ          KVF   \n",
       "4          AAAC  AZAK AHZ      AQXZ APPZ ADOT         BBOB   \n",
       "\n",
       "       sales_district   segment  \n",
       "0  TGG BIRO AFDC ADCB  AHJB ZQQ  \n",
       "1        TGG BIRO JIE  AHJB ZQQ  \n",
       "2       TGG BIRO ABNS      AKWM  \n",
       "3       TGG BIRO ABEP  AHJB ZQQ  \n",
       "4       VOP BIRO ABXN  AZJC UIP  "
      ]
     },
     "execution_count": 9,
     "metadata": {},
     "output_type": "execute_result"
    }
   ],
   "source": [
    "poc_atrb_df.head()"
   ]
  },
  {
   "cell_type": "code",
   "execution_count": 10,
   "id": "384d5917",
   "metadata": {},
   "outputs": [
    {
     "data": {
      "text/plain": [
       "((43645, 6),\n",
       " unique_poc_id     1\n",
       " region            0\n",
       " subchannel        0\n",
       " channel_type      0\n",
       " sales_district    0\n",
       " segment           0\n",
       " dtype: int64)"
      ]
     },
     "execution_count": 10,
     "metadata": {},
     "output_type": "execute_result"
    }
   ],
   "source": [
    "poc_atrb_df.shape, poc_atrb_df.isnull().sum()"
   ]
  },
  {
   "cell_type": "code",
   "execution_count": 11,
   "id": "f6988392",
   "metadata": {},
   "outputs": [],
   "source": [
    "poc_atrb_df[\"unique_poc_id\"] = poc_atrb_df[\"unique_poc_id\"].fillna(\"NA1\")"
   ]
  },
  {
   "cell_type": "code",
   "execution_count": 12,
   "id": "3f518f62",
   "metadata": {},
   "outputs": [
    {
     "data": {
      "text/html": [
       "<div>\n",
       "<style scoped>\n",
       "    .dataframe tbody tr th:only-of-type {\n",
       "        vertical-align: middle;\n",
       "    }\n",
       "\n",
       "    .dataframe tbody tr th {\n",
       "        vertical-align: top;\n",
       "    }\n",
       "\n",
       "    .dataframe thead th {\n",
       "        text-align: right;\n",
       "    }\n",
       "</style>\n",
       "<table border=\"1\" class=\"dataframe\">\n",
       "  <thead>\n",
       "    <tr style=\"text-align: right;\">\n",
       "      <th></th>\n",
       "      <th>Unnamed: 0</th>\n",
       "      <th>ppg_name</th>\n",
       "      <th>brand</th>\n",
       "      <th>subbrand</th>\n",
       "      <th>pack_type</th>\n",
       "      <th>pack_volume</th>\n",
       "      <th>category_name</th>\n",
       "      <th>price_segment</th>\n",
       "    </tr>\n",
       "  </thead>\n",
       "  <tbody>\n",
       "    <tr>\n",
       "      <th>0</th>\n",
       "      <td>0</td>\n",
       "      <td>BN EQ BL FP FN D</td>\n",
       "      <td>BN EQ</td>\n",
       "      <td>BN EQ BL FP</td>\n",
       "      <td>FN</td>\n",
       "      <td>D</td>\n",
       "      <td>FT BM</td>\n",
       "      <td>FG</td>\n",
       "    </tr>\n",
       "    <tr>\n",
       "      <th>1</th>\n",
       "      <td>1</td>\n",
       "      <td>FA FN DY</td>\n",
       "      <td>FA</td>\n",
       "      <td>FA</td>\n",
       "      <td>FN</td>\n",
       "      <td>DY</td>\n",
       "      <td>BM</td>\n",
       "      <td>CW</td>\n",
       "    </tr>\n",
       "    <tr>\n",
       "      <th>2</th>\n",
       "      <td>2</td>\n",
       "      <td>DE AI BH ES DX</td>\n",
       "      <td>FD CL CO</td>\n",
       "      <td>DE AI BH</td>\n",
       "      <td>ES</td>\n",
       "      <td>DX</td>\n",
       "      <td>BM</td>\n",
       "      <td>EJ CW</td>\n",
       "    </tr>\n",
       "    <tr>\n",
       "      <th>3</th>\n",
       "      <td>3</td>\n",
       "      <td>CM ES T</td>\n",
       "      <td>CM</td>\n",
       "      <td>CM</td>\n",
       "      <td>ES</td>\n",
       "      <td>T</td>\n",
       "      <td>BM</td>\n",
       "      <td>CW</td>\n",
       "    </tr>\n",
       "    <tr>\n",
       "      <th>4</th>\n",
       "      <td>4</td>\n",
       "      <td>AK BK CG T</td>\n",
       "      <td>AK</td>\n",
       "      <td>AK BK</td>\n",
       "      <td>CG</td>\n",
       "      <td>T</td>\n",
       "      <td>FT BM</td>\n",
       "      <td>BR</td>\n",
       "    </tr>\n",
       "  </tbody>\n",
       "</table>\n",
       "</div>"
      ],
      "text/plain": [
       "   Unnamed: 0          ppg_name     brand     subbrand pack_type pack_volume  \\\n",
       "0           0  BN EQ BL FP FN D     BN EQ  BN EQ BL FP        FN           D   \n",
       "1           1          FA FN DY        FA           FA        FN          DY   \n",
       "2           2    DE AI BH ES DX  FD CL CO     DE AI BH        ES          DX   \n",
       "3           3           CM ES T        CM           CM        ES           T   \n",
       "4           4        AK BK CG T        AK        AK BK        CG           T   \n",
       "\n",
       "  category_name price_segment  \n",
       "0         FT BM            FG  \n",
       "1            BM            CW  \n",
       "2            BM         EJ CW  \n",
       "3            BM            CW  \n",
       "4         FT BM            BR  "
      ]
     },
     "execution_count": 12,
     "metadata": {},
     "output_type": "execute_result"
    }
   ],
   "source": [
    "ppg_atrb_df.head()"
   ]
  },
  {
   "cell_type": "code",
   "execution_count": 13,
   "id": "a03ec339",
   "metadata": {},
   "outputs": [],
   "source": [
    "ppg_atrb_df = ppg_atrb_df.drop([\"Unnamed: 0\"], axis=1)"
   ]
  },
  {
   "cell_type": "code",
   "execution_count": 14,
   "id": "58d7e00a",
   "metadata": {},
   "outputs": [
    {
     "data": {
      "text/plain": [
       "((240, 7),\n",
       " ppg_name         0\n",
       " brand            0\n",
       " subbrand         0\n",
       " pack_type        0\n",
       " pack_volume      0\n",
       " category_name    0\n",
       " price_segment    0\n",
       " dtype: int64)"
      ]
     },
     "execution_count": 14,
     "metadata": {},
     "output_type": "execute_result"
    }
   ],
   "source": [
    "ppg_atrb_df.shape, ppg_atrb_df.isnull().sum()"
   ]
  },
  {
   "cell_type": "code",
   "execution_count": 15,
   "id": "3c8b66d1",
   "metadata": {},
   "outputs": [
    {
     "data": {
      "text/plain": [
       "(240, 7)"
      ]
     },
     "execution_count": 15,
     "metadata": {},
     "output_type": "execute_result"
    }
   ],
   "source": [
    "ppg_atrb_df.drop_duplicates(['ppg_name']).shape"
   ]
  },
  {
   "cell_type": "code",
   "execution_count": 16,
   "id": "782fcb10",
   "metadata": {},
   "outputs": [
    {
     "data": {
      "text/plain": [
       "(43645, 6)"
      ]
     },
     "execution_count": 16,
     "metadata": {},
     "output_type": "execute_result"
    }
   ],
   "source": [
    "poc_atrb_df.drop_duplicates(['unique_poc_id']).shape"
   ]
  },
  {
   "cell_type": "markdown",
   "id": "0a455a4e",
   "metadata": {},
   "source": [
    "##### Macro"
   ]
  },
  {
   "cell_type": "code",
   "execution_count": 17,
   "id": "b432c72b",
   "metadata": {},
   "outputs": [],
   "source": [
    "macro_eco_df = pd.read_csv(\n",
    "    os.path.join(os.getcwd(), macro_data_folder, \"MACROECONOMICS DATA.csv\")\n",
    ")"
   ]
  },
  {
   "cell_type": "code",
   "execution_count": 18,
   "id": "374f30c2",
   "metadata": {},
   "outputs": [],
   "source": [
    "macro_eco_df = macro_eco_df.loc[\n",
    "    macro_eco_df[\"frequency\"] == \"monthly\", [\"date\", \"concept\", \"value\", \"unit\"]\n",
    "].reset_index(drop=True)"
   ]
  },
  {
   "cell_type": "code",
   "execution_count": 19,
   "id": "3a4d9bc5",
   "metadata": {},
   "outputs": [],
   "source": [
    "macro_eco_df[\"date\"] = pd.to_datetime(\n",
    "    macro_eco_df[\"date\"], yearfirst=True, errors=\"coerce\"\n",
    ")"
   ]
  },
  {
   "cell_type": "code",
   "execution_count": 20,
   "id": "17d1b5de",
   "metadata": {},
   "outputs": [],
   "source": [
    "macro_eco_df_pvt = pd.pivot_table(\n",
    "    data=macro_eco_df,\n",
    "    index=[\"date\"],\n",
    "    columns=[\"concept\"],\n",
    "    values=[\"value\"],\n",
    "    fill_value=0.0,\n",
    ")\n",
    "\n",
    "macro_eco_df_pvt.columns = macro_eco_df_pvt.columns.get_level_values(1)\n",
    "macro_eco_df_pvt.columns.name = \"\"\n",
    "\n",
    "macro_eco_df_pvt = macro_eco_df_pvt.reset_index(drop=False)\n",
    "\n",
    "macro_eco_df_pvt[\"year\"] = macro_eco_df_pvt[\"date\"].dt.year\n",
    "macro_eco_df_pvt[\"month\"] = macro_eco_df_pvt[\"date\"].dt.month"
   ]
  },
  {
   "cell_type": "code",
   "execution_count": 21,
   "id": "5d59fb95",
   "metadata": {},
   "outputs": [
    {
     "data": {
      "text/html": [
       "<div>\n",
       "<style scoped>\n",
       "    .dataframe tbody tr th:only-of-type {\n",
       "        vertical-align: middle;\n",
       "    }\n",
       "\n",
       "    .dataframe tbody tr th {\n",
       "        vertical-align: top;\n",
       "    }\n",
       "\n",
       "    .dataframe thead th {\n",
       "        text-align: right;\n",
       "    }\n",
       "</style>\n",
       "<table border=\"1\" class=\"dataframe\">\n",
       "  <thead>\n",
       "    <tr style=\"text-align: right;\">\n",
       "      <th></th>\n",
       "      <th>date</th>\n",
       "      <th>central bank policy rate</th>\n",
       "      <th>consumer price index, aop</th>\n",
       "      <th>consumer price index, aop, usd</th>\n",
       "      <th>effective exchange rate index, nominal</th>\n",
       "      <th>exchange rate lc per eur, aop</th>\n",
       "      <th>exchange rate lc per eur, eop</th>\n",
       "      <th>exchange rate lc per usd, aop</th>\n",
       "      <th>exchange rate lc per usd, eop</th>\n",
       "      <th>exchange rate lc per yen, aop</th>\n",
       "      <th>exchange rate lc per yen, eop</th>\n",
       "      <th>exchange rate usd per lc, aop</th>\n",
       "      <th>exchange rate usd per lc, eop</th>\n",
       "      <th>inflation, cpi, aop</th>\n",
       "      <th>inflation, cpi, aop, usd</th>\n",
       "      <th>inflation, wpi, aop</th>\n",
       "      <th>inflation, wpi, aop, usd</th>\n",
       "      <th>interest rate, long-term</th>\n",
       "      <th>interest rate, long-term, differential with the usa</th>\n",
       "      <th>interest rate, short-term</th>\n",
       "      <th>interest rate, short-term, differential with the usa</th>\n",
       "      <th>interest rate, short-term, real</th>\n",
       "      <th>production index, industry</th>\n",
       "      <th>production index, industry, % change previous year</th>\n",
       "      <th>real fx index</th>\n",
       "      <th>retail sales, value index</th>\n",
       "      <th>retail sales, value index, usd</th>\n",
       "      <th>retail sales, volume index</th>\n",
       "      <th>retail sales, volume index, % change previous year</th>\n",
       "      <th>spread of long over short interest rate</th>\n",
       "      <th>wholesale price index</th>\n",
       "      <th>wholesale price index, usd</th>\n",
       "      <th>year</th>\n",
       "      <th>month</th>\n",
       "    </tr>\n",
       "  </thead>\n",
       "  <tbody>\n",
       "    <tr>\n",
       "      <th>0</th>\n",
       "      <td>2019-01-01</td>\n",
       "      <td>6.75</td>\n",
       "      <td>97.807319</td>\n",
       "      <td>101.882102</td>\n",
       "      <td>102.468635</td>\n",
       "      <td>15.831213</td>\n",
       "      <td>15.307645</td>\n",
       "      <td>13.867566</td>\n",
       "      <td>13.32490</td>\n",
       "      <td>0.127279</td>\n",
       "      <td>0.122337</td>\n",
       "      <td>0.072111</td>\n",
       "      <td>0.075047</td>\n",
       "      <td>3.962645</td>\n",
       "      <td>-8.532567</td>\n",
       "      <td>4.055963</td>\n",
       "      <td>-8.450465</td>\n",
       "      <td>9.3</td>\n",
       "      <td>6.59</td>\n",
       "      <td>7.39</td>\n",
       "      <td>5.02</td>\n",
       "      <td>3.296718</td>\n",
       "      <td>100.650325</td>\n",
       "      <td>0.499500</td>\n",
       "      <td>95.949289</td>\n",
       "      <td>96.086273</td>\n",
       "      <td>100.111209</td>\n",
       "      <td>98.250239</td>\n",
       "      <td>1.348131</td>\n",
       "      <td>1.91</td>\n",
       "      <td>97.438908</td>\n",
       "      <td>101.497904</td>\n",
       "      <td>2019</td>\n",
       "      <td>1</td>\n",
       "    </tr>\n",
       "    <tr>\n",
       "      <th>1</th>\n",
       "      <td>2019-02-01</td>\n",
       "      <td>6.75</td>\n",
       "      <td>98.162100</td>\n",
       "      <td>102.595856</td>\n",
       "      <td>102.849898</td>\n",
       "      <td>15.688265</td>\n",
       "      <td>15.928973</td>\n",
       "      <td>13.821043</td>\n",
       "      <td>13.95320</td>\n",
       "      <td>0.125240</td>\n",
       "      <td>0.125829</td>\n",
       "      <td>0.072353</td>\n",
       "      <td>0.071668</td>\n",
       "      <td>4.044073</td>\n",
       "      <td>-10.873784</td>\n",
       "      <td>4.800473</td>\n",
       "      <td>-10.225838</td>\n",
       "      <td>9.3</td>\n",
       "      <td>6.62</td>\n",
       "      <td>7.13</td>\n",
       "      <td>4.74</td>\n",
       "      <td>2.965980</td>\n",
       "      <td>100.450225</td>\n",
       "      <td>0.601202</td>\n",
       "      <td>95.627395</td>\n",
       "      <td>96.794315</td>\n",
       "      <td>101.188380</td>\n",
       "      <td>98.616510</td>\n",
       "      <td>1.219668</td>\n",
       "      <td>2.17</td>\n",
       "      <td>97.738142</td>\n",
       "      <td>102.152306</td>\n",
       "      <td>2019</td>\n",
       "      <td>2</td>\n",
       "    </tr>\n",
       "    <tr>\n",
       "      <th>2</th>\n",
       "      <td>2019-03-01</td>\n",
       "      <td>6.75</td>\n",
       "      <td>98.802462</td>\n",
       "      <td>99.207368</td>\n",
       "      <td>99.065731</td>\n",
       "      <td>16.259453</td>\n",
       "      <td>16.275976</td>\n",
       "      <td>14.386350</td>\n",
       "      <td>14.48685</td>\n",
       "      <td>0.129367</td>\n",
       "      <td>0.130606</td>\n",
       "      <td>0.069510</td>\n",
       "      <td>0.069028</td>\n",
       "      <td>4.609073</td>\n",
       "      <td>-14.002354</td>\n",
       "      <td>6.189641</td>\n",
       "      <td>-12.702991</td>\n",
       "      <td>9.2</td>\n",
       "      <td>6.63</td>\n",
       "      <td>6.98</td>\n",
       "      <td>4.58</td>\n",
       "      <td>2.266464</td>\n",
       "      <td>100.350175</td>\n",
       "      <td>0.905433</td>\n",
       "      <td>99.538742</td>\n",
       "      <td>97.961332</td>\n",
       "      <td>98.384268</td>\n",
       "      <td>99.158634</td>\n",
       "      <td>1.086230</td>\n",
       "      <td>2.22</td>\n",
       "      <td>98.661848</td>\n",
       "      <td>99.065748</td>\n",
       "      <td>2019</td>\n",
       "      <td>3</td>\n",
       "    </tr>\n",
       "    <tr>\n",
       "      <th>3</th>\n",
       "      <td>2019-04-01</td>\n",
       "      <td>6.75</td>\n",
       "      <td>99.297142</td>\n",
       "      <td>101.405621</td>\n",
       "      <td>101.090324</td>\n",
       "      <td>15.896098</td>\n",
       "      <td>16.036355</td>\n",
       "      <td>14.144953</td>\n",
       "      <td>14.29520</td>\n",
       "      <td>0.126677</td>\n",
       "      <td>0.127979</td>\n",
       "      <td>0.070697</td>\n",
       "      <td>0.069954</td>\n",
       "      <td>4.395847</td>\n",
       "      <td>-10.611090</td>\n",
       "      <td>6.532126</td>\n",
       "      <td>-8.781903</td>\n",
       "      <td>9.1</td>\n",
       "      <td>6.57</td>\n",
       "      <td>7.23</td>\n",
       "      <td>4.85</td>\n",
       "      <td>2.714813</td>\n",
       "      <td>103.951976</td>\n",
       "      <td>6.673511</td>\n",
       "      <td>97.868521</td>\n",
       "      <td>98.748308</td>\n",
       "      <td>100.867152</td>\n",
       "      <td>99.457270</td>\n",
       "      <td>2.056462</td>\n",
       "      <td>1.87</td>\n",
       "      <td>99.879266</td>\n",
       "      <td>101.999664</td>\n",
       "      <td>2019</td>\n",
       "      <td>4</td>\n",
       "    </tr>\n",
       "    <tr>\n",
       "      <th>4</th>\n",
       "      <td>2019-05-01</td>\n",
       "      <td>6.75</td>\n",
       "      <td>99.821805</td>\n",
       "      <td>99.934308</td>\n",
       "      <td>100.068526</td>\n",
       "      <td>16.138887</td>\n",
       "      <td>16.369333</td>\n",
       "      <td>14.429045</td>\n",
       "      <td>14.67970</td>\n",
       "      <td>0.131372</td>\n",
       "      <td>0.134270</td>\n",
       "      <td>0.069305</td>\n",
       "      <td>0.068121</td>\n",
       "      <td>4.601734</td>\n",
       "      <td>-9.078773</td>\n",
       "      <td>6.508732</td>\n",
       "      <td>-7.421185</td>\n",
       "      <td>9.1</td>\n",
       "      <td>6.70</td>\n",
       "      <td>7.13</td>\n",
       "      <td>4.78</td>\n",
       "      <td>2.417040</td>\n",
       "      <td>102.151076</td>\n",
       "      <td>1.089109</td>\n",
       "      <td>99.834147</td>\n",
       "      <td>98.875408</td>\n",
       "      <td>99.008458</td>\n",
       "      <td>99.061863</td>\n",
       "      <td>1.342332</td>\n",
       "      <td>1.97</td>\n",
       "      <td>100.496904</td>\n",
       "      <td>100.609733</td>\n",
       "      <td>2019</td>\n",
       "      <td>5</td>\n",
       "    </tr>\n",
       "  </tbody>\n",
       "</table>\n",
       "</div>"
      ],
      "text/plain": [
       "        date  central bank policy rate  consumer price index, aop  \\\n",
       "0 2019-01-01                      6.75                  97.807319   \n",
       "1 2019-02-01                      6.75                  98.162100   \n",
       "2 2019-03-01                      6.75                  98.802462   \n",
       "3 2019-04-01                      6.75                  99.297142   \n",
       "4 2019-05-01                      6.75                  99.821805   \n",
       "\n",
       "   consumer price index, aop, usd  effective exchange rate index, nominal  \\\n",
       "0                      101.882102                              102.468635   \n",
       "1                      102.595856                              102.849898   \n",
       "2                       99.207368                               99.065731   \n",
       "3                      101.405621                              101.090324   \n",
       "4                       99.934308                              100.068526   \n",
       "\n",
       "   exchange rate lc per eur, aop  exchange rate lc per eur, eop  \\\n",
       "0                      15.831213                      15.307645   \n",
       "1                      15.688265                      15.928973   \n",
       "2                      16.259453                      16.275976   \n",
       "3                      15.896098                      16.036355   \n",
       "4                      16.138887                      16.369333   \n",
       "\n",
       "   exchange rate lc per usd, aop  exchange rate lc per usd, eop  \\\n",
       "0                      13.867566                       13.32490   \n",
       "1                      13.821043                       13.95320   \n",
       "2                      14.386350                       14.48685   \n",
       "3                      14.144953                       14.29520   \n",
       "4                      14.429045                       14.67970   \n",
       "\n",
       "   exchange rate lc per yen, aop  exchange rate lc per yen, eop  \\\n",
       "0                       0.127279                       0.122337   \n",
       "1                       0.125240                       0.125829   \n",
       "2                       0.129367                       0.130606   \n",
       "3                       0.126677                       0.127979   \n",
       "4                       0.131372                       0.134270   \n",
       "\n",
       "   exchange rate usd per lc, aop  exchange rate usd per lc, eop  \\\n",
       "0                       0.072111                       0.075047   \n",
       "1                       0.072353                       0.071668   \n",
       "2                       0.069510                       0.069028   \n",
       "3                       0.070697                       0.069954   \n",
       "4                       0.069305                       0.068121   \n",
       "\n",
       "   inflation, cpi, aop  inflation, cpi, aop, usd  inflation, wpi, aop  \\\n",
       "0             3.962645                 -8.532567             4.055963   \n",
       "1             4.044073                -10.873784             4.800473   \n",
       "2             4.609073                -14.002354             6.189641   \n",
       "3             4.395847                -10.611090             6.532126   \n",
       "4             4.601734                 -9.078773             6.508732   \n",
       "\n",
       "   inflation, wpi, aop, usd  interest rate, long-term  \\\n",
       "0                 -8.450465                       9.3   \n",
       "1                -10.225838                       9.3   \n",
       "2                -12.702991                       9.2   \n",
       "3                 -8.781903                       9.1   \n",
       "4                 -7.421185                       9.1   \n",
       "\n",
       "   interest rate, long-term, differential with the usa  \\\n",
       "0                                                 6.59   \n",
       "1                                                 6.62   \n",
       "2                                                 6.63   \n",
       "3                                                 6.57   \n",
       "4                                                 6.70   \n",
       "\n",
       "   interest rate, short-term  \\\n",
       "0                       7.39   \n",
       "1                       7.13   \n",
       "2                       6.98   \n",
       "3                       7.23   \n",
       "4                       7.13   \n",
       "\n",
       "   interest rate, short-term, differential with the usa  \\\n",
       "0                                                  5.02   \n",
       "1                                                  4.74   \n",
       "2                                                  4.58   \n",
       "3                                                  4.85   \n",
       "4                                                  4.78   \n",
       "\n",
       "   interest rate, short-term, real  production index, industry  \\\n",
       "0                         3.296718                  100.650325   \n",
       "1                         2.965980                  100.450225   \n",
       "2                         2.266464                  100.350175   \n",
       "3                         2.714813                  103.951976   \n",
       "4                         2.417040                  102.151076   \n",
       "\n",
       "   production index, industry, % change previous year  real fx index  \\\n",
       "0                                            0.499500      95.949289   \n",
       "1                                            0.601202      95.627395   \n",
       "2                                            0.905433      99.538742   \n",
       "3                                            6.673511      97.868521   \n",
       "4                                            1.089109      99.834147   \n",
       "\n",
       "   retail sales, value index  retail sales, value index, usd  \\\n",
       "0                  96.086273                      100.111209   \n",
       "1                  96.794315                      101.188380   \n",
       "2                  97.961332                       98.384268   \n",
       "3                  98.748308                      100.867152   \n",
       "4                  98.875408                       99.008458   \n",
       "\n",
       "   retail sales, volume index  \\\n",
       "0                   98.250239   \n",
       "1                   98.616510   \n",
       "2                   99.158634   \n",
       "3                   99.457270   \n",
       "4                   99.061863   \n",
       "\n",
       "   retail sales, volume index, % change previous year  \\\n",
       "0                                            1.348131   \n",
       "1                                            1.219668   \n",
       "2                                            1.086230   \n",
       "3                                            2.056462   \n",
       "4                                            1.342332   \n",
       "\n",
       "   spread of long over short interest rate  wholesale price index  \\\n",
       "0                                     1.91              97.438908   \n",
       "1                                     2.17              97.738142   \n",
       "2                                     2.22              98.661848   \n",
       "3                                     1.87              99.879266   \n",
       "4                                     1.97             100.496904   \n",
       "\n",
       "   wholesale price index, usd  year  month  \n",
       "0                  101.497904  2019      1  \n",
       "1                  102.152306  2019      2  \n",
       "2                   99.065748  2019      3  \n",
       "3                  101.999664  2019      4  \n",
       "4                  100.609733  2019      5  "
      ]
     },
     "execution_count": 21,
     "metadata": {},
     "output_type": "execute_result"
    }
   ],
   "source": [
    "macro_eco_df_pvt.head()"
   ]
  },
  {
   "cell_type": "code",
   "execution_count": 22,
   "id": "c6ef6e6f",
   "metadata": {},
   "outputs": [
    {
     "data": {
      "text/plain": [
       "((73, 34),\n",
       " \n",
       " date                                                    0\n",
       " central bank policy rate                                0\n",
       " consumer price index, aop                               0\n",
       " consumer price index, aop, usd                          0\n",
       " effective exchange rate index, nominal                  0\n",
       " exchange rate lc per eur, aop                           0\n",
       " exchange rate lc per eur, eop                           0\n",
       " exchange rate lc per usd, aop                           0\n",
       " exchange rate lc per usd, eop                           0\n",
       " exchange rate lc per yen, aop                           0\n",
       " exchange rate lc per yen, eop                           0\n",
       " exchange rate usd per lc, aop                           0\n",
       " exchange rate usd per lc, eop                           0\n",
       " inflation, cpi, aop                                     0\n",
       " inflation, cpi, aop, usd                                0\n",
       " inflation, wpi, aop                                     0\n",
       " inflation, wpi, aop, usd                                0\n",
       " interest rate, long-term                                0\n",
       " interest rate, long-term, differential with the usa     0\n",
       " interest rate, short-term                               0\n",
       " interest rate, short-term, differential with the usa    0\n",
       " interest rate, short-term, real                         0\n",
       " production index, industry                              0\n",
       " production index, industry, % change previous year      0\n",
       " real fx index                                           0\n",
       " retail sales, value index                               0\n",
       " retail sales, value index, usd                          0\n",
       " retail sales, volume index                              0\n",
       " retail sales, volume index, % change previous year      0\n",
       " spread of long over short interest rate                 0\n",
       " wholesale price index                                   0\n",
       " wholesale price index, usd                              0\n",
       " year                                                    0\n",
       " month                                                   0\n",
       " dtype: int64)"
      ]
     },
     "execution_count": 22,
     "metadata": {},
     "output_type": "execute_result"
    }
   ],
   "source": [
    "macro_eco_df_pvt.shape, macro_eco_df_pvt.isnull().sum()"
   ]
  },
  {
   "cell_type": "code",
   "execution_count": 75,
   "id": "4e126496",
   "metadata": {},
   "outputs": [
    {
     "data": {
      "text/plain": [
       "(73, 34)"
      ]
     },
     "execution_count": 75,
     "metadata": {},
     "output_type": "execute_result"
    }
   ],
   "source": [
    "macro_eco_df_pvt.drop_duplicates(['year','month']).shape"
   ]
  },
  {
   "cell_type": "markdown",
   "id": "cc4443be",
   "metadata": {},
   "source": [
    "##### PPG financials"
   ]
  },
  {
   "cell_type": "code",
   "execution_count": 23,
   "id": "197f7666",
   "metadata": {},
   "outputs": [],
   "source": [
    "ppg_financials = pd.read_csv(\n",
    "    os.path.join(os.getcwd(), macro_data_folder, \"FINANCIALS DATA.csv\")\n",
    ")"
   ]
  },
  {
   "cell_type": "code",
   "execution_count": 24,
   "id": "01a7a49a",
   "metadata": {},
   "outputs": [
    {
     "data": {
      "text/html": [
       "<div>\n",
       "<style scoped>\n",
       "    .dataframe tbody tr th:only-of-type {\n",
       "        vertical-align: middle;\n",
       "    }\n",
       "\n",
       "    .dataframe tbody tr th {\n",
       "        vertical-align: top;\n",
       "    }\n",
       "\n",
       "    .dataframe thead th {\n",
       "        text-align: right;\n",
       "    }\n",
       "</style>\n",
       "<table border=\"1\" class=\"dataframe\">\n",
       "  <thead>\n",
       "    <tr style=\"text-align: right;\">\n",
       "      <th></th>\n",
       "      <th>year</th>\n",
       "      <th>month</th>\n",
       "      <th>maco_hl</th>\n",
       "      <th>nr_hl</th>\n",
       "      <th>ppg_name</th>\n",
       "    </tr>\n",
       "  </thead>\n",
       "  <tbody>\n",
       "    <tr>\n",
       "      <th>0</th>\n",
       "      <td>2023</td>\n",
       "      <td>2</td>\n",
       "      <td>47.179571</td>\n",
       "      <td>116.526880</td>\n",
       "      <td>GD A ES B</td>\n",
       "    </tr>\n",
       "    <tr>\n",
       "      <th>1</th>\n",
       "      <td>2023</td>\n",
       "      <td>12</td>\n",
       "      <td>47.073232</td>\n",
       "      <td>117.612651</td>\n",
       "      <td>GH GE FN DX</td>\n",
       "    </tr>\n",
       "    <tr>\n",
       "      <th>2</th>\n",
       "      <td>2024</td>\n",
       "      <td>3</td>\n",
       "      <td>0.000000</td>\n",
       "      <td>0.000000</td>\n",
       "      <td>EF FC EN FO</td>\n",
       "    </tr>\n",
       "    <tr>\n",
       "      <th>3</th>\n",
       "      <td>2024</td>\n",
       "      <td>3</td>\n",
       "      <td>0.000000</td>\n",
       "      <td>0.000000</td>\n",
       "      <td>DZ E BW AB ES EH</td>\n",
       "    </tr>\n",
       "    <tr>\n",
       "      <th>4</th>\n",
       "      <td>2021</td>\n",
       "      <td>12</td>\n",
       "      <td>51.676846</td>\n",
       "      <td>107.904104</td>\n",
       "      <td>CJ CZ ES ER</td>\n",
       "    </tr>\n",
       "  </tbody>\n",
       "</table>\n",
       "</div>"
      ],
      "text/plain": [
       "   year  month    maco_hl       nr_hl          ppg_name\n",
       "0  2023      2  47.179571  116.526880         GD A ES B\n",
       "1  2023     12  47.073232  117.612651       GH GE FN DX\n",
       "2  2024      3   0.000000    0.000000       EF FC EN FO\n",
       "3  2024      3   0.000000    0.000000  DZ E BW AB ES EH\n",
       "4  2021     12  51.676846  107.904104       CJ CZ ES ER"
      ]
     },
     "execution_count": 24,
     "metadata": {},
     "output_type": "execute_result"
    }
   ],
   "source": [
    "ppg_financials.head()"
   ]
  },
  {
   "cell_type": "code",
   "execution_count": 25,
   "id": "04b31643",
   "metadata": {},
   "outputs": [
    {
     "data": {
      "text/plain": [
       "((8694, 5),\n",
       " year        0\n",
       " month       0\n",
       " maco_hl     0\n",
       " nr_hl       0\n",
       " ppg_name    0\n",
       " dtype: int64)"
      ]
     },
     "execution_count": 25,
     "metadata": {},
     "output_type": "execute_result"
    }
   ],
   "source": [
    "ppg_financials.shape, ppg_financials.isnull().sum()"
   ]
  },
  {
   "cell_type": "code",
   "execution_count": 26,
   "id": "3eaaf2af",
   "metadata": {},
   "outputs": [],
   "source": [
    "missed_fin_ppg = list(\n",
    "    set(ppg_atrb_df[\"ppg_name\"].unique()).difference(set(ppg_financials[\"ppg_name\"]))\n",
    ")"
   ]
  },
  {
   "cell_type": "code",
   "execution_count": 27,
   "id": "bddc88e3",
   "metadata": {},
   "outputs": [
    {
     "data": {
      "text/plain": [
       "36"
      ]
     },
     "execution_count": 27,
     "metadata": {},
     "output_type": "execute_result"
    }
   ],
   "source": [
    "len(missed_fin_ppg)"
   ]
  },
  {
   "cell_type": "code",
   "execution_count": 28,
   "id": "b469ebd5",
   "metadata": {},
   "outputs": [],
   "source": [
    "ppg_financials = ppg_financials.groupby(\n",
    "    [\"ppg_name\", \"year\", \"month\"], as_index=False\n",
    ").agg({\"maco_hl\": \"mean\", \"nr_hl\": \"mean\"})"
   ]
  },
  {
   "cell_type": "code",
   "execution_count": 29,
   "id": "7e8f18b3",
   "metadata": {},
   "outputs": [
    {
     "data": {
      "text/plain": [
       "(8568, 5)"
      ]
     },
     "execution_count": 29,
     "metadata": {},
     "output_type": "execute_result"
    }
   ],
   "source": [
    "ppg_financials.shape"
   ]
  },
  {
   "cell_type": "markdown",
   "id": "64c34fa1",
   "metadata": {},
   "source": [
    "##### Calendar"
   ]
  },
  {
   "cell_type": "code",
   "execution_count": 30,
   "id": "55cd1509",
   "metadata": {},
   "outputs": [],
   "source": [
    "calendar_df = pd.read_pickle(\n",
    "    os.path.join(os.getcwd(), processed_data_folder, \"calendar.pkl\")\n",
    ")"
   ]
  },
  {
   "cell_type": "code",
   "execution_count": 31,
   "id": "0dad0c69",
   "metadata": {},
   "outputs": [
    {
     "data": {
      "text/html": [
       "<div>\n",
       "<style scoped>\n",
       "    .dataframe tbody tr th:only-of-type {\n",
       "        vertical-align: middle;\n",
       "    }\n",
       "\n",
       "    .dataframe tbody tr th {\n",
       "        vertical-align: top;\n",
       "    }\n",
       "\n",
       "    .dataframe thead th {\n",
       "        text-align: right;\n",
       "    }\n",
       "</style>\n",
       "<table border=\"1\" class=\"dataframe\">\n",
       "  <thead>\n",
       "    <tr style=\"text-align: right;\">\n",
       "      <th></th>\n",
       "      <th>date</th>\n",
       "      <th>year</th>\n",
       "      <th>month</th>\n",
       "      <th>week</th>\n",
       "      <th>adjusted_year</th>\n",
       "      <th>adjusted_month</th>\n",
       "      <th>year_week_start_date</th>\n",
       "      <th>day_of_the_week</th>\n",
       "      <th>is_weekend</th>\n",
       "      <th>is_month_start</th>\n",
       "      <th>is_month_end</th>\n",
       "      <th>quarter</th>\n",
       "      <th>key</th>\n",
       "      <th>holiday</th>\n",
       "      <th>month_sin_adj</th>\n",
       "      <th>month_cos_adj</th>\n",
       "      <th>month_sin</th>\n",
       "      <th>month_cos</th>\n",
       "      <th>week_sin</th>\n",
       "      <th>week_cos</th>\n",
       "      <th>quarter_sin</th>\n",
       "      <th>quarter_cos</th>\n",
       "      <th>year_month_start_date</th>\n",
       "    </tr>\n",
       "  </thead>\n",
       "  <tbody>\n",
       "    <tr>\n",
       "      <th>0</th>\n",
       "      <td>2019-01-01</td>\n",
       "      <td>2019</td>\n",
       "      <td>1</td>\n",
       "      <td>1</td>\n",
       "      <td>2019</td>\n",
       "      <td>1</td>\n",
       "      <td>2019-01-01</td>\n",
       "      <td>1</td>\n",
       "      <td>0</td>\n",
       "      <td>1</td>\n",
       "      <td>0</td>\n",
       "      <td>1</td>\n",
       "      <td>1</td>\n",
       "      <td>1.0</td>\n",
       "      <td>0.5</td>\n",
       "      <td>0.866025</td>\n",
       "      <td>0.5</td>\n",
       "      <td>0.866025</td>\n",
       "      <td>0.120537</td>\n",
       "      <td>0.992709</td>\n",
       "      <td>1.0</td>\n",
       "      <td>6.123234e-17</td>\n",
       "      <td>2019-01-01</td>\n",
       "    </tr>\n",
       "    <tr>\n",
       "      <th>1</th>\n",
       "      <td>2019-01-02</td>\n",
       "      <td>2019</td>\n",
       "      <td>1</td>\n",
       "      <td>1</td>\n",
       "      <td>2019</td>\n",
       "      <td>1</td>\n",
       "      <td>2019-01-01</td>\n",
       "      <td>2</td>\n",
       "      <td>0</td>\n",
       "      <td>0</td>\n",
       "      <td>0</td>\n",
       "      <td>1</td>\n",
       "      <td>1</td>\n",
       "      <td>0.0</td>\n",
       "      <td>0.5</td>\n",
       "      <td>0.866025</td>\n",
       "      <td>0.5</td>\n",
       "      <td>0.866025</td>\n",
       "      <td>0.120537</td>\n",
       "      <td>0.992709</td>\n",
       "      <td>1.0</td>\n",
       "      <td>6.123234e-17</td>\n",
       "      <td>2019-01-01</td>\n",
       "    </tr>\n",
       "    <tr>\n",
       "      <th>2</th>\n",
       "      <td>2019-01-03</td>\n",
       "      <td>2019</td>\n",
       "      <td>1</td>\n",
       "      <td>1</td>\n",
       "      <td>2019</td>\n",
       "      <td>1</td>\n",
       "      <td>2019-01-01</td>\n",
       "      <td>3</td>\n",
       "      <td>0</td>\n",
       "      <td>0</td>\n",
       "      <td>0</td>\n",
       "      <td>1</td>\n",
       "      <td>1</td>\n",
       "      <td>0.0</td>\n",
       "      <td>0.5</td>\n",
       "      <td>0.866025</td>\n",
       "      <td>0.5</td>\n",
       "      <td>0.866025</td>\n",
       "      <td>0.120537</td>\n",
       "      <td>0.992709</td>\n",
       "      <td>1.0</td>\n",
       "      <td>6.123234e-17</td>\n",
       "      <td>2019-01-01</td>\n",
       "    </tr>\n",
       "  </tbody>\n",
       "</table>\n",
       "</div>"
      ],
      "text/plain": [
       "        date  year  month  week  adjusted_year  adjusted_month  \\\n",
       "0 2019-01-01  2019      1     1           2019               1   \n",
       "1 2019-01-02  2019      1     1           2019               1   \n",
       "2 2019-01-03  2019      1     1           2019               1   \n",
       "\n",
       "  year_week_start_date  day_of_the_week  is_weekend  is_month_start  \\\n",
       "0           2019-01-01                1           0               1   \n",
       "1           2019-01-01                2           0               0   \n",
       "2           2019-01-01                3           0               0   \n",
       "\n",
       "   is_month_end  quarter  key  holiday  month_sin_adj  month_cos_adj  \\\n",
       "0             0        1    1      1.0            0.5       0.866025   \n",
       "1             0        1    1      0.0            0.5       0.866025   \n",
       "2             0        1    1      0.0            0.5       0.866025   \n",
       "\n",
       "   month_sin  month_cos  week_sin  week_cos  quarter_sin   quarter_cos  \\\n",
       "0        0.5   0.866025  0.120537  0.992709          1.0  6.123234e-17   \n",
       "1        0.5   0.866025  0.120537  0.992709          1.0  6.123234e-17   \n",
       "2        0.5   0.866025  0.120537  0.992709          1.0  6.123234e-17   \n",
       "\n",
       "  year_month_start_date  \n",
       "0            2019-01-01  \n",
       "1            2019-01-01  \n",
       "2            2019-01-01  "
      ]
     },
     "execution_count": 31,
     "metadata": {},
     "output_type": "execute_result"
    }
   ],
   "source": [
    "calendar_df.head(3)"
   ]
  },
  {
   "cell_type": "code",
   "execution_count": 32,
   "id": "9bc61342",
   "metadata": {},
   "outputs": [],
   "source": [
    "calendar_df_week = calendar_df.loc[\n",
    "    :,\n",
    "    [\n",
    "        \"date\",\n",
    "        \"week\",\n",
    "        \"adjusted_year\",\n",
    "        \"year_week_start_date\",\n",
    "        \"is_month_start\",\n",
    "        \"is_month_end\",\n",
    "        \"quarter\",\n",
    "        \"holiday\",\n",
    "        \"month_sin_adj\",\n",
    "        \"month_cos_adj\",\n",
    "        \"week_sin\",\n",
    "        \"week_cos\",\n",
    "        \"quarter_sin\",\n",
    "        \"quarter_cos\",\n",
    "    ],\n",
    "]"
   ]
  },
  {
   "cell_type": "code",
   "execution_count": 33,
   "id": "dc58fc24",
   "metadata": {},
   "outputs": [],
   "source": [
    "calendar_df_week = (\n",
    "    calendar_df_week.groupby([\"adjusted_year\", \"week\"])\n",
    "    .agg(\n",
    "        {\n",
    "            \"year_week_start_date\": \"max\",\n",
    "            \"is_month_start\": \"max\",\n",
    "            \"is_month_end\": \"max\",\n",
    "            \"holiday\": \"sum\",\n",
    "            \"month_sin_adj\": \"max\",\n",
    "            \"month_cos_adj\": \"max\",\n",
    "            \"week_sin\": \"max\",\n",
    "            \"week_cos\": \"max\",\n",
    "            \"quarter_sin\": \"max\",\n",
    "            \"quarter_cos\": \"max\",\n",
    "        }\n",
    "    )\n",
    "    .reset_index(drop=False)\n",
    ")"
   ]
  },
  {
   "cell_type": "code",
   "execution_count": 34,
   "id": "72f4e2e9",
   "metadata": {},
   "outputs": [
    {
     "data": {
      "text/html": [
       "<div>\n",
       "<style scoped>\n",
       "    .dataframe tbody tr th:only-of-type {\n",
       "        vertical-align: middle;\n",
       "    }\n",
       "\n",
       "    .dataframe tbody tr th {\n",
       "        vertical-align: top;\n",
       "    }\n",
       "\n",
       "    .dataframe thead th {\n",
       "        text-align: right;\n",
       "    }\n",
       "</style>\n",
       "<table border=\"1\" class=\"dataframe\">\n",
       "  <thead>\n",
       "    <tr style=\"text-align: right;\">\n",
       "      <th></th>\n",
       "      <th>adjusted_year</th>\n",
       "      <th>week</th>\n",
       "      <th>year_week_start_date</th>\n",
       "      <th>is_month_start</th>\n",
       "      <th>is_month_end</th>\n",
       "      <th>holiday</th>\n",
       "      <th>month_sin_adj</th>\n",
       "      <th>month_cos_adj</th>\n",
       "      <th>week_sin</th>\n",
       "      <th>week_cos</th>\n",
       "      <th>quarter_sin</th>\n",
       "      <th>quarter_cos</th>\n",
       "    </tr>\n",
       "  </thead>\n",
       "  <tbody>\n",
       "    <tr>\n",
       "      <th>0</th>\n",
       "      <td>2019</td>\n",
       "      <td>1</td>\n",
       "      <td>2019-01-01</td>\n",
       "      <td>1</td>\n",
       "      <td>0</td>\n",
       "      <td>1.0</td>\n",
       "      <td>0.5</td>\n",
       "      <td>0.866025</td>\n",
       "      <td>0.120537</td>\n",
       "      <td>0.992709</td>\n",
       "      <td>1.0</td>\n",
       "      <td>6.123234e-17</td>\n",
       "    </tr>\n",
       "    <tr>\n",
       "      <th>1</th>\n",
       "      <td>2019</td>\n",
       "      <td>2</td>\n",
       "      <td>2019-01-07</td>\n",
       "      <td>0</td>\n",
       "      <td>0</td>\n",
       "      <td>0.0</td>\n",
       "      <td>0.5</td>\n",
       "      <td>0.866025</td>\n",
       "      <td>0.239316</td>\n",
       "      <td>0.970942</td>\n",
       "      <td>1.0</td>\n",
       "      <td>6.123234e-17</td>\n",
       "    </tr>\n",
       "    <tr>\n",
       "      <th>2</th>\n",
       "      <td>2019</td>\n",
       "      <td>3</td>\n",
       "      <td>2019-01-14</td>\n",
       "      <td>0</td>\n",
       "      <td>0</td>\n",
       "      <td>0.0</td>\n",
       "      <td>0.5</td>\n",
       "      <td>0.866025</td>\n",
       "      <td>0.354605</td>\n",
       "      <td>0.935016</td>\n",
       "      <td>1.0</td>\n",
       "      <td>6.123234e-17</td>\n",
       "    </tr>\n",
       "  </tbody>\n",
       "</table>\n",
       "</div>"
      ],
      "text/plain": [
       "   adjusted_year  week year_week_start_date  is_month_start  is_month_end  \\\n",
       "0           2019     1           2019-01-01               1             0   \n",
       "1           2019     2           2019-01-07               0             0   \n",
       "2           2019     3           2019-01-14               0             0   \n",
       "\n",
       "   holiday  month_sin_adj  month_cos_adj  week_sin  week_cos  quarter_sin  \\\n",
       "0      1.0            0.5       0.866025  0.120537  0.992709          1.0   \n",
       "1      0.0            0.5       0.866025  0.239316  0.970942          1.0   \n",
       "2      0.0            0.5       0.866025  0.354605  0.935016          1.0   \n",
       "\n",
       "    quarter_cos  \n",
       "0  6.123234e-17  \n",
       "1  6.123234e-17  \n",
       "2  6.123234e-17  "
      ]
     },
     "execution_count": 34,
     "metadata": {},
     "output_type": "execute_result"
    }
   ],
   "source": [
    "calendar_df_week.head(3)"
   ]
  },
  {
   "cell_type": "code",
   "execution_count": 35,
   "id": "cf82aef8",
   "metadata": {},
   "outputs": [],
   "source": [
    "calendar_df_month = calendar_df.loc[\n",
    "    :,\n",
    "    [\n",
    "        \"date\",\n",
    "        \"year\",\n",
    "        \"month\",\n",
    "        \"quarter\",\n",
    "        \"holiday\",\n",
    "        \"month_sin\",\n",
    "        \"month_cos\",\n",
    "        \"quarter_sin\",\n",
    "        \"quarter_cos\",\n",
    "        \"year_month_start_date\",\n",
    "    ],\n",
    "]"
   ]
  },
  {
   "cell_type": "code",
   "execution_count": 36,
   "id": "78af6e43",
   "metadata": {},
   "outputs": [],
   "source": [
    "calendar_df_month = calendar_df_month.groupby(\n",
    "    [\"year\", \"month\", \"quarter\"], as_index=False\n",
    ").agg(\n",
    "    {\n",
    "        \"year_month_start_date\": \"max\",\n",
    "        \"holiday\": \"sum\",\n",
    "        \"month_sin\": \"max\",\n",
    "        \"month_cos\": \"max\",\n",
    "        \"quarter_sin\": \"max\",\n",
    "        \"quarter_cos\": \"max\",\n",
    "    }\n",
    ")"
   ]
  },
  {
   "cell_type": "code",
   "execution_count": 37,
   "id": "9ff1d510",
   "metadata": {},
   "outputs": [
    {
     "data": {
      "text/html": [
       "<div>\n",
       "<style scoped>\n",
       "    .dataframe tbody tr th:only-of-type {\n",
       "        vertical-align: middle;\n",
       "    }\n",
       "\n",
       "    .dataframe tbody tr th {\n",
       "        vertical-align: top;\n",
       "    }\n",
       "\n",
       "    .dataframe thead th {\n",
       "        text-align: right;\n",
       "    }\n",
       "</style>\n",
       "<table border=\"1\" class=\"dataframe\">\n",
       "  <thead>\n",
       "    <tr style=\"text-align: right;\">\n",
       "      <th></th>\n",
       "      <th>year</th>\n",
       "      <th>month</th>\n",
       "      <th>quarter</th>\n",
       "      <th>year_month_start_date</th>\n",
       "      <th>holiday</th>\n",
       "      <th>month_sin</th>\n",
       "      <th>month_cos</th>\n",
       "      <th>quarter_sin</th>\n",
       "      <th>quarter_cos</th>\n",
       "    </tr>\n",
       "  </thead>\n",
       "  <tbody>\n",
       "    <tr>\n",
       "      <th>0</th>\n",
       "      <td>2019</td>\n",
       "      <td>1</td>\n",
       "      <td>1</td>\n",
       "      <td>2019-01-01</td>\n",
       "      <td>1.0</td>\n",
       "      <td>0.500000</td>\n",
       "      <td>8.660254e-01</td>\n",
       "      <td>1.0</td>\n",
       "      <td>6.123234e-17</td>\n",
       "    </tr>\n",
       "    <tr>\n",
       "      <th>1</th>\n",
       "      <td>2019</td>\n",
       "      <td>2</td>\n",
       "      <td>1</td>\n",
       "      <td>2019-02-01</td>\n",
       "      <td>0.0</td>\n",
       "      <td>0.866025</td>\n",
       "      <td>5.000000e-01</td>\n",
       "      <td>1.0</td>\n",
       "      <td>6.123234e-17</td>\n",
       "    </tr>\n",
       "    <tr>\n",
       "      <th>2</th>\n",
       "      <td>2019</td>\n",
       "      <td>3</td>\n",
       "      <td>1</td>\n",
       "      <td>2019-03-01</td>\n",
       "      <td>1.0</td>\n",
       "      <td>1.000000</td>\n",
       "      <td>6.123234e-17</td>\n",
       "      <td>1.0</td>\n",
       "      <td>6.123234e-17</td>\n",
       "    </tr>\n",
       "  </tbody>\n",
       "</table>\n",
       "</div>"
      ],
      "text/plain": [
       "   year  month  quarter year_month_start_date  holiday  month_sin  \\\n",
       "0  2019      1        1            2019-01-01      1.0   0.500000   \n",
       "1  2019      2        1            2019-02-01      0.0   0.866025   \n",
       "2  2019      3        1            2019-03-01      1.0   1.000000   \n",
       "\n",
       "      month_cos  quarter_sin   quarter_cos  \n",
       "0  8.660254e-01          1.0  6.123234e-17  \n",
       "1  5.000000e-01          1.0  6.123234e-17  \n",
       "2  6.123234e-17          1.0  6.123234e-17  "
      ]
     },
     "execution_count": 37,
     "metadata": {},
     "output_type": "execute_result"
    }
   ],
   "source": [
    "calendar_df_month.head(3)"
   ]
  },
  {
   "cell_type": "code",
   "execution_count": 39,
   "id": "b8221efa",
   "metadata": {},
   "outputs": [
    {
     "name": "stdout",
     "output_type": "stream",
     "text": [
      "(60, 9)\n",
      "(60, 9)\n"
     ]
    }
   ],
   "source": [
    "print(calendar_df_month.drop_duplicates(['year','month']).shape)\n",
    "print(calendar_df_month.shape)"
   ]
  },
  {
   "cell_type": "markdown",
   "id": "6428d6e6",
   "metadata": {},
   "source": [
    "##### Weather "
   ]
  },
  {
   "cell_type": "code",
   "execution_count": 40,
   "id": "4641f036",
   "metadata": {},
   "outputs": [],
   "source": [
    "weather_data = pd.read_csv(\n",
    "    os.path.join(os.getcwd(), macro_data_folder, \"sa_weather_data.csv\")\n",
    ")"
   ]
  },
  {
   "cell_type": "code",
   "execution_count": 41,
   "id": "fe4cc5a0",
   "metadata": {},
   "outputs": [],
   "source": [
    "weather_data = weather_data.drop(\n",
    "    [\"Unnamed: 0\", \"name\", \"feelslikemax\", \"feelslikemin\", \"feelslike\"], axis=1\n",
    ")"
   ]
  },
  {
   "cell_type": "code",
   "execution_count": 42,
   "id": "3f093a09",
   "metadata": {},
   "outputs": [
    {
     "data": {
      "text/plain": [
       "((1826, 8),\n",
       " date        0\n",
       " tempmax     0\n",
       " tempmin     0\n",
       " temp        0\n",
       " dew         0\n",
       " humidity    0\n",
       " precip      0\n",
       " windgust    0\n",
       " dtype: int64)"
      ]
     },
     "execution_count": 42,
     "metadata": {},
     "output_type": "execute_result"
    }
   ],
   "source": [
    "weather_data.shape, weather_data.isnull().sum()"
   ]
  },
  {
   "cell_type": "code",
   "execution_count": 43,
   "id": "b6c2b455",
   "metadata": {},
   "outputs": [],
   "source": [
    "weather_data[\"date\"] = pd.to_datetime(weather_data[\"date\"], errors=\"coerce\")"
   ]
  },
  {
   "cell_type": "code",
   "execution_count": 44,
   "id": "cd852fdd",
   "metadata": {},
   "outputs": [
    {
     "data": {
      "text/html": [
       "<div>\n",
       "<style scoped>\n",
       "    .dataframe tbody tr th:only-of-type {\n",
       "        vertical-align: middle;\n",
       "    }\n",
       "\n",
       "    .dataframe tbody tr th {\n",
       "        vertical-align: top;\n",
       "    }\n",
       "\n",
       "    .dataframe thead th {\n",
       "        text-align: right;\n",
       "    }\n",
       "</style>\n",
       "<table border=\"1\" class=\"dataframe\">\n",
       "  <thead>\n",
       "    <tr style=\"text-align: right;\">\n",
       "      <th></th>\n",
       "      <th>date</th>\n",
       "      <th>tempmax</th>\n",
       "      <th>tempmin</th>\n",
       "      <th>temp</th>\n",
       "      <th>dew</th>\n",
       "      <th>humidity</th>\n",
       "      <th>precip</th>\n",
       "      <th>windgust</th>\n",
       "    </tr>\n",
       "  </thead>\n",
       "  <tbody>\n",
       "    <tr>\n",
       "      <th>0</th>\n",
       "      <td>2019-01-01</td>\n",
       "      <td>26.3</td>\n",
       "      <td>17.8</td>\n",
       "      <td>21.0</td>\n",
       "      <td>14.6</td>\n",
       "      <td>67.8</td>\n",
       "      <td>0.002</td>\n",
       "      <td>55.8</td>\n",
       "    </tr>\n",
       "    <tr>\n",
       "      <th>1</th>\n",
       "      <td>2019-01-02</td>\n",
       "      <td>27.0</td>\n",
       "      <td>17.0</td>\n",
       "      <td>21.0</td>\n",
       "      <td>10.8</td>\n",
       "      <td>53.3</td>\n",
       "      <td>0.322</td>\n",
       "      <td>64.4</td>\n",
       "    </tr>\n",
       "    <tr>\n",
       "      <th>2</th>\n",
       "      <td>2019-01-03</td>\n",
       "      <td>29.6</td>\n",
       "      <td>17.0</td>\n",
       "      <td>23.4</td>\n",
       "      <td>11.7</td>\n",
       "      <td>50.0</td>\n",
       "      <td>0.000</td>\n",
       "      <td>53.3</td>\n",
       "    </tr>\n",
       "    <tr>\n",
       "      <th>3</th>\n",
       "      <td>2019-01-04</td>\n",
       "      <td>26.0</td>\n",
       "      <td>18.0</td>\n",
       "      <td>21.8</td>\n",
       "      <td>15.3</td>\n",
       "      <td>67.8</td>\n",
       "      <td>0.000</td>\n",
       "      <td>39.6</td>\n",
       "    </tr>\n",
       "    <tr>\n",
       "      <th>4</th>\n",
       "      <td>2019-01-05</td>\n",
       "      <td>24.1</td>\n",
       "      <td>18.0</td>\n",
       "      <td>21.0</td>\n",
       "      <td>13.4</td>\n",
       "      <td>62.7</td>\n",
       "      <td>0.000</td>\n",
       "      <td>51.1</td>\n",
       "    </tr>\n",
       "  </tbody>\n",
       "</table>\n",
       "</div>"
      ],
      "text/plain": [
       "        date  tempmax  tempmin  temp   dew  humidity  precip  windgust\n",
       "0 2019-01-01     26.3     17.8  21.0  14.6      67.8   0.002      55.8\n",
       "1 2019-01-02     27.0     17.0  21.0  10.8      53.3   0.322      64.4\n",
       "2 2019-01-03     29.6     17.0  23.4  11.7      50.0   0.000      53.3\n",
       "3 2019-01-04     26.0     18.0  21.8  15.3      67.8   0.000      39.6\n",
       "4 2019-01-05     24.1     18.0  21.0  13.4      62.7   0.000      51.1"
      ]
     },
     "execution_count": 44,
     "metadata": {},
     "output_type": "execute_result"
    }
   ],
   "source": [
    "weather_data.head()"
   ]
  },
  {
   "cell_type": "code",
   "execution_count": 45,
   "id": "11e95621",
   "metadata": {},
   "outputs": [],
   "source": [
    "weather_data_weekly = pd.merge(\n",
    "    weather_data, calendar_df[[\"date\", \"week\", \"adjusted_year\", \"quarter\"]], on=\"date\"\n",
    ")"
   ]
  },
  {
   "cell_type": "code",
   "execution_count": 46,
   "id": "75f4a72c",
   "metadata": {},
   "outputs": [
    {
     "data": {
      "text/plain": [
       "date             0\n",
       "tempmax          0\n",
       "tempmin          0\n",
       "temp             0\n",
       "dew              0\n",
       "humidity         0\n",
       "precip           0\n",
       "windgust         0\n",
       "week             0\n",
       "adjusted_year    0\n",
       "quarter          0\n",
       "dtype: int64"
      ]
     },
     "execution_count": 46,
     "metadata": {},
     "output_type": "execute_result"
    }
   ],
   "source": [
    "weather_data_weekly.isnull().sum()"
   ]
  },
  {
   "cell_type": "code",
   "execution_count": 47,
   "id": "799941f6",
   "metadata": {},
   "outputs": [],
   "source": [
    "weather_data_weekly = weather_data_weekly.groupby(\n",
    "    [\"adjusted_year\", \"week\"], as_index=False\n",
    ").agg(\n",
    "    {\n",
    "        \"tempmax\": \"median\",\n",
    "        \"tempmin\": \"median\",\n",
    "        \"temp\": \"median\",\n",
    "        \"dew\": \"median\",\n",
    "        \"humidity\": \"median\",\n",
    "        \"precip\": \"median\",\n",
    "        \"windgust\": \"median\",\n",
    "    }\n",
    ")"
   ]
  },
  {
   "cell_type": "code",
   "execution_count": 48,
   "id": "b276eea6",
   "metadata": {},
   "outputs": [
    {
     "data": {
      "text/plain": [
       "(261, 9)"
      ]
     },
     "execution_count": 48,
     "metadata": {},
     "output_type": "execute_result"
    }
   ],
   "source": [
    "weather_data_weekly.shape"
   ]
  },
  {
   "cell_type": "code",
   "execution_count": 49,
   "id": "84d6e5d7",
   "metadata": {},
   "outputs": [
    {
     "data": {
      "text/html": [
       "<div>\n",
       "<style scoped>\n",
       "    .dataframe tbody tr th:only-of-type {\n",
       "        vertical-align: middle;\n",
       "    }\n",
       "\n",
       "    .dataframe tbody tr th {\n",
       "        vertical-align: top;\n",
       "    }\n",
       "\n",
       "    .dataframe thead th {\n",
       "        text-align: right;\n",
       "    }\n",
       "</style>\n",
       "<table border=\"1\" class=\"dataframe\">\n",
       "  <thead>\n",
       "    <tr style=\"text-align: right;\">\n",
       "      <th></th>\n",
       "      <th>adjusted_year</th>\n",
       "      <th>week</th>\n",
       "      <th>tempmax</th>\n",
       "      <th>tempmin</th>\n",
       "      <th>temp</th>\n",
       "      <th>dew</th>\n",
       "      <th>humidity</th>\n",
       "      <th>precip</th>\n",
       "      <th>windgust</th>\n",
       "    </tr>\n",
       "  </thead>\n",
       "  <tbody>\n",
       "    <tr>\n",
       "      <th>0</th>\n",
       "      <td>2019</td>\n",
       "      <td>1</td>\n",
       "      <td>26.65</td>\n",
       "      <td>17.9</td>\n",
       "      <td>21.25</td>\n",
       "      <td>13.3</td>\n",
       "      <td>61.7</td>\n",
       "      <td>0.0</td>\n",
       "      <td>54.55</td>\n",
       "    </tr>\n",
       "    <tr>\n",
       "      <th>1</th>\n",
       "      <td>2019</td>\n",
       "      <td>2</td>\n",
       "      <td>24.00</td>\n",
       "      <td>16.3</td>\n",
       "      <td>19.70</td>\n",
       "      <td>14.1</td>\n",
       "      <td>69.1</td>\n",
       "      <td>0.0</td>\n",
       "      <td>50.30</td>\n",
       "    </tr>\n",
       "    <tr>\n",
       "      <th>2</th>\n",
       "      <td>2019</td>\n",
       "      <td>3</td>\n",
       "      <td>25.00</td>\n",
       "      <td>15.0</td>\n",
       "      <td>20.40</td>\n",
       "      <td>13.2</td>\n",
       "      <td>65.7</td>\n",
       "      <td>0.0</td>\n",
       "      <td>45.40</td>\n",
       "    </tr>\n",
       "    <tr>\n",
       "      <th>3</th>\n",
       "      <td>2019</td>\n",
       "      <td>4</td>\n",
       "      <td>25.00</td>\n",
       "      <td>17.0</td>\n",
       "      <td>20.70</td>\n",
       "      <td>12.2</td>\n",
       "      <td>59.4</td>\n",
       "      <td>0.0</td>\n",
       "      <td>49.30</td>\n",
       "    </tr>\n",
       "    <tr>\n",
       "      <th>4</th>\n",
       "      <td>2019</td>\n",
       "      <td>5</td>\n",
       "      <td>27.00</td>\n",
       "      <td>19.2</td>\n",
       "      <td>22.20</td>\n",
       "      <td>15.5</td>\n",
       "      <td>68.9</td>\n",
       "      <td>0.0</td>\n",
       "      <td>51.10</td>\n",
       "    </tr>\n",
       "  </tbody>\n",
       "</table>\n",
       "</div>"
      ],
      "text/plain": [
       "   adjusted_year  week  tempmax  tempmin   temp   dew  humidity  precip  \\\n",
       "0           2019     1    26.65     17.9  21.25  13.3      61.7     0.0   \n",
       "1           2019     2    24.00     16.3  19.70  14.1      69.1     0.0   \n",
       "2           2019     3    25.00     15.0  20.40  13.2      65.7     0.0   \n",
       "3           2019     4    25.00     17.0  20.70  12.2      59.4     0.0   \n",
       "4           2019     5    27.00     19.2  22.20  15.5      68.9     0.0   \n",
       "\n",
       "   windgust  \n",
       "0     54.55  \n",
       "1     50.30  \n",
       "2     45.40  \n",
       "3     49.30  \n",
       "4     51.10  "
      ]
     },
     "execution_count": 49,
     "metadata": {},
     "output_type": "execute_result"
    }
   ],
   "source": [
    "weather_data_weekly.head()"
   ]
  },
  {
   "cell_type": "code",
   "execution_count": 50,
   "id": "c568a826",
   "metadata": {},
   "outputs": [],
   "source": [
    "weather_data_monthly = pd.merge(\n",
    "    weather_data, calendar_df[[\"date\", \"year\", \"quarter\", \"month\"]], on=\"date\"\n",
    ")"
   ]
  },
  {
   "cell_type": "code",
   "execution_count": 51,
   "id": "0c000512",
   "metadata": {},
   "outputs": [],
   "source": [
    "weather_data_monthly = weather_data_monthly.groupby(\n",
    "    [\"year\", \"quarter\", \"month\"], as_index=False\n",
    ").agg(\n",
    "    {\n",
    "        \"tempmax\": \"median\",\n",
    "        \"tempmin\": \"median\",\n",
    "        \"temp\": \"median\",\n",
    "        \"dew\": \"median\",\n",
    "        \"humidity\": \"median\",\n",
    "        \"precip\": \"median\",\n",
    "        \"windgust\": \"median\",\n",
    "    }\n",
    ")"
   ]
  },
  {
   "cell_type": "code",
   "execution_count": 52,
   "id": "c3ceb296",
   "metadata": {},
   "outputs": [
    {
     "data": {
      "text/plain": [
       "year        0\n",
       "quarter     0\n",
       "month       0\n",
       "tempmax     0\n",
       "tempmin     0\n",
       "temp        0\n",
       "dew         0\n",
       "humidity    0\n",
       "precip      0\n",
       "windgust    0\n",
       "dtype: int64"
      ]
     },
     "execution_count": 52,
     "metadata": {},
     "output_type": "execute_result"
    }
   ],
   "source": [
    "weather_data_monthly.isnull().sum()"
   ]
  },
  {
   "cell_type": "code",
   "execution_count": 54,
   "id": "b957a5e1",
   "metadata": {},
   "outputs": [
    {
     "data": {
      "text/plain": [
       "(60, 10)"
      ]
     },
     "execution_count": 54,
     "metadata": {},
     "output_type": "execute_result"
    }
   ],
   "source": [
    "weather_data_monthly.shape"
   ]
  },
  {
   "cell_type": "markdown",
   "id": "a32410db",
   "metadata": {},
   "source": [
    "###### Covid"
   ]
  },
  {
   "cell_type": "code",
   "execution_count": 55,
   "id": "97d591e2",
   "metadata": {},
   "outputs": [],
   "source": [
    "covid_data = pd.read_csv(\n",
    "    os.path.join(os.getcwd(), macro_data_folder, \"sa_covid_data.csv\")\n",
    ")"
   ]
  },
  {
   "cell_type": "code",
   "execution_count": 56,
   "id": "358a1a24",
   "metadata": {},
   "outputs": [],
   "source": [
    "covid_data[\"date\"] = pd.to_datetime(covid_data[\"date\"], errors=\"coerce\")"
   ]
  },
  {
   "cell_type": "code",
   "execution_count": 57,
   "id": "c9d5e7a5",
   "metadata": {},
   "outputs": [
    {
     "data": {
      "text/html": [
       "<div>\n",
       "<style scoped>\n",
       "    .dataframe tbody tr th:only-of-type {\n",
       "        vertical-align: middle;\n",
       "    }\n",
       "\n",
       "    .dataframe tbody tr th {\n",
       "        vertical-align: top;\n",
       "    }\n",
       "\n",
       "    .dataframe thead th {\n",
       "        text-align: right;\n",
       "    }\n",
       "</style>\n",
       "<table border=\"1\" class=\"dataframe\">\n",
       "  <thead>\n",
       "    <tr style=\"text-align: right;\">\n",
       "      <th></th>\n",
       "      <th>date</th>\n",
       "      <th>daily_cases</th>\n",
       "      <th>daily_deaths</th>\n",
       "      <th>source2_daily_cases</th>\n",
       "      <th>source2_daily_deaths</th>\n",
       "    </tr>\n",
       "  </thead>\n",
       "  <tbody>\n",
       "    <tr>\n",
       "      <th>0</th>\n",
       "      <td>2020-01-01</td>\n",
       "      <td>0</td>\n",
       "      <td>0</td>\n",
       "      <td>0</td>\n",
       "      <td>0</td>\n",
       "    </tr>\n",
       "    <tr>\n",
       "      <th>1</th>\n",
       "      <td>2020-01-02</td>\n",
       "      <td>0</td>\n",
       "      <td>0</td>\n",
       "      <td>0</td>\n",
       "      <td>0</td>\n",
       "    </tr>\n",
       "    <tr>\n",
       "      <th>2</th>\n",
       "      <td>2020-01-03</td>\n",
       "      <td>0</td>\n",
       "      <td>0</td>\n",
       "      <td>0</td>\n",
       "      <td>0</td>\n",
       "    </tr>\n",
       "    <tr>\n",
       "      <th>3</th>\n",
       "      <td>2020-01-04</td>\n",
       "      <td>0</td>\n",
       "      <td>0</td>\n",
       "      <td>0</td>\n",
       "      <td>0</td>\n",
       "    </tr>\n",
       "    <tr>\n",
       "      <th>4</th>\n",
       "      <td>2020-01-05</td>\n",
       "      <td>0</td>\n",
       "      <td>0</td>\n",
       "      <td>0</td>\n",
       "      <td>0</td>\n",
       "    </tr>\n",
       "  </tbody>\n",
       "</table>\n",
       "</div>"
      ],
      "text/plain": [
       "        date  daily_cases  daily_deaths  source2_daily_cases  \\\n",
       "0 2020-01-01            0             0                    0   \n",
       "1 2020-01-02            0             0                    0   \n",
       "2 2020-01-03            0             0                    0   \n",
       "3 2020-01-04            0             0                    0   \n",
       "4 2020-01-05            0             0                    0   \n",
       "\n",
       "   source2_daily_deaths  \n",
       "0                     0  \n",
       "1                     0  \n",
       "2                     0  \n",
       "3                     0  \n",
       "4                     0  "
      ]
     },
     "execution_count": 57,
     "metadata": {},
     "output_type": "execute_result"
    }
   ],
   "source": [
    "covid_data.head()"
   ]
  },
  {
   "cell_type": "code",
   "execution_count": 58,
   "id": "c5cbee11",
   "metadata": {},
   "outputs": [
    {
     "data": {
      "text/plain": [
       "((1096, 5),\n",
       " date                    0\n",
       " daily_cases             0\n",
       " daily_deaths            0\n",
       " source2_daily_cases     0\n",
       " source2_daily_deaths    0\n",
       " dtype: int64)"
      ]
     },
     "execution_count": 58,
     "metadata": {},
     "output_type": "execute_result"
    }
   ],
   "source": [
    "covid_data.shape, covid_data.isnull().sum()"
   ]
  },
  {
   "cell_type": "code",
   "execution_count": 59,
   "id": "7111dc04",
   "metadata": {},
   "outputs": [],
   "source": [
    "covid_data = covid_data.loc[:, [\"date\", \"daily_cases\", \"daily_deaths\"]]"
   ]
  },
  {
   "cell_type": "code",
   "execution_count": 60,
   "id": "d0e49721",
   "metadata": {},
   "outputs": [],
   "source": [
    "covid_data_weekly = pd.merge(\n",
    "    covid_data, calendar_df[[\"date\", \"week\", \"adjusted_year\"]], on=\"date\"\n",
    ")"
   ]
  },
  {
   "cell_type": "code",
   "execution_count": 61,
   "id": "be06f2ee",
   "metadata": {},
   "outputs": [
    {
     "data": {
      "text/plain": [
       "((1096, 5),\n",
       " date             0\n",
       " daily_cases      0\n",
       " daily_deaths     0\n",
       " week             0\n",
       " adjusted_year    0\n",
       " dtype: int64)"
      ]
     },
     "execution_count": 61,
     "metadata": {},
     "output_type": "execute_result"
    }
   ],
   "source": [
    "covid_data_weekly.shape, covid_data_weekly.isnull().sum()"
   ]
  },
  {
   "cell_type": "code",
   "execution_count": 62,
   "id": "bbc3e87c",
   "metadata": {},
   "outputs": [],
   "source": [
    "covid_data_weekly = covid_data_weekly.groupby(\n",
    "    [\"adjusted_year\", \"week\"], as_index=False\n",
    ").agg({\"daily_cases\": \"sum\", \"daily_deaths\": \"sum\"})"
   ]
  },
  {
   "cell_type": "code",
   "execution_count": 63,
   "id": "ea32aa79",
   "metadata": {},
   "outputs": [],
   "source": [
    "covid_data_weekly[\"daily_cases_band\"] = pd.qcut(\n",
    "    covid_data_weekly[\"daily_cases\"],\n",
    "    q=[0, 0.33, 0.66, 1.0],\n",
    "    labels=[\"low\", \"mid\", \"high\"],\n",
    ")\n",
    "covid_data_weekly[\"daily_deaths_band\"] = pd.qcut(\n",
    "    covid_data_weekly[\"daily_deaths\"],\n",
    "    q=[0, 0.33, 0.66, 1.0],\n",
    "    labels=[\"low\", \"mid\", \"high\"],\n",
    ")"
   ]
  },
  {
   "cell_type": "code",
   "execution_count": 64,
   "id": "ba1a28bf",
   "metadata": {},
   "outputs": [
    {
     "data": {
      "text/plain": [
       "<Axes: >"
      ]
     },
     "execution_count": 64,
     "metadata": {},
     "output_type": "execute_result"
    },
    {
     "data": {
      "image/png": "[encoded data removed]",
      "text/plain": [
       "<Figure size 576x432 with 1 Axes>"
      ]
     },
     "metadata": {
      "needs_background": "light"
     },
     "output_type": "display_data"
    }
   ],
   "source": [
    "plt.figure(figsize=(8, 6))\n",
    "covid_data_weekly[\"daily_cases\"].plot()"
   ]
  },
  {
   "cell_type": "code",
   "execution_count": 65,
   "id": "7582a026",
   "metadata": {},
   "outputs": [],
   "source": [
    "covid_data_monthly = pd.merge(\n",
    "    covid_data, calendar_df[[\"date\", \"year\", \"quarter\", \"month\"]], on=\"date\"\n",
    ")"
   ]
  },
  {
   "cell_type": "code",
   "execution_count": 66,
   "id": "115c9836",
   "metadata": {},
   "outputs": [
    {
     "data": {
      "text/plain": [
       "((1096, 6),\n",
       " date            0\n",
       " daily_cases     0\n",
       " daily_deaths    0\n",
       " year            0\n",
       " quarter         0\n",
       " month           0\n",
       " dtype: int64)"
      ]
     },
     "execution_count": 66,
     "metadata": {},
     "output_type": "execute_result"
    }
   ],
   "source": [
    "covid_data_monthly.shape, covid_data_monthly.isnull().sum()"
   ]
  },
  {
   "cell_type": "code",
   "execution_count": 67,
   "id": "65cf4803",
   "metadata": {},
   "outputs": [],
   "source": [
    "covid_data_monthly = covid_data_monthly.groupby(\n",
    "    [\"year\", \"quarter\", \"month\"], as_index=False\n",
    ").agg({\"daily_cases\": \"sum\", \"daily_deaths\": \"sum\"})"
   ]
  },
  {
   "cell_type": "code",
   "execution_count": 68,
   "id": "ab74a3e0",
   "metadata": {},
   "outputs": [],
   "source": [
    "covid_data_monthly[\"daily_cases_band\"] = pd.qcut(\n",
    "    covid_data_monthly[\"daily_cases\"],\n",
    "    q=[0, 0.33, 0.66, 1.0],\n",
    "    labels=[\"low\", \"mid\", \"high\"],\n",
    ")\n",
    "covid_data_monthly[\"daily_deaths_band\"] = pd.qcut(\n",
    "    covid_data_monthly[\"daily_deaths\"],\n",
    "    q=[0, 0.33, 0.66, 1.0],\n",
    "    labels=[\"low\", \"mid\", \"high\"],\n",
    ")"
   ]
  },
  {
   "cell_type": "code",
   "execution_count": 69,
   "id": "f4f1f3b7",
   "metadata": {},
   "outputs": [
    {
     "data": {
      "text/plain": [
       "<Axes: >"
      ]
     },
     "execution_count": 69,
     "metadata": {},
     "output_type": "execute_result"
    },
    {
     "data": {
      "image/png": "[encoded data removed]",
      "text/plain": [
       "<Figure size 576x432 with 1 Axes>"
      ]
     },
     "metadata": {
      "needs_background": "light"
     },
     "output_type": "display_data"
    }
   ],
   "source": [
    "plt.figure(figsize=(8, 6))\n",
    "covid_data_monthly[\"daily_cases\"].plot()"
   ]
  },
  {
   "cell_type": "code",
   "execution_count": 73,
   "id": "771fade1",
   "metadata": {},
   "outputs": [
    {
     "data": {
      "text/plain": [
       "(36, 7)"
      ]
     },
     "execution_count": 73,
     "metadata": {},
     "output_type": "execute_result"
    }
   ],
   "source": [
    "covid_data_monthly.drop_duplicates(['year','month']).shape"
   ]
  },
  {
   "cell_type": "markdown",
   "id": "a761ea39",
   "metadata": {},
   "source": [
    "##### Write out"
   ]
  },
  {
   "cell_type": "code",
   "execution_count": 76,
   "id": "d54d8887",
   "metadata": {},
   "outputs": [
    {
     "name": "stdout",
     "output_type": "stream",
     "text": [
      "(43645, 6) unique_poc_id     0\n",
      "region            0\n",
      "subchannel        0\n",
      "channel_type      0\n",
      "sales_district    0\n",
      "segment           0\n",
      "dtype: int64\n",
      "(240, 7) ppg_name         0\n",
      "brand            0\n",
      "subbrand         0\n",
      "pack_type        0\n",
      "pack_volume      0\n",
      "category_name    0\n",
      "price_segment    0\n",
      "dtype: int64\n",
      "(73, 34) \n",
      "date                                                    0\n",
      "central bank policy rate                                0\n",
      "consumer price index, aop                               0\n",
      "consumer price index, aop, usd                          0\n",
      "effective exchange rate index, nominal                  0\n",
      "exchange rate lc per eur, aop                           0\n",
      "exchange rate lc per eur, eop                           0\n",
      "exchange rate lc per usd, aop                           0\n",
      "exchange rate lc per usd, eop                           0\n",
      "exchange rate lc per yen, aop                           0\n",
      "exchange rate lc per yen, eop                           0\n",
      "exchange rate usd per lc, aop                           0\n",
      "exchange rate usd per lc, eop                           0\n",
      "inflation, cpi, aop                                     0\n",
      "inflation, cpi, aop, usd                                0\n",
      "inflation, wpi, aop                                     0\n",
      "inflation, wpi, aop, usd                                0\n",
      "interest rate, long-term                                0\n",
      "interest rate, long-term, differential with the usa     0\n",
      "interest rate, short-term                               0\n",
      "interest rate, short-term, differential with the usa    0\n",
      "interest rate, short-term, real                         0\n",
      "production index, industry                              0\n",
      "production index, industry, % change previous year      0\n",
      "real fx index                                           0\n",
      "retail sales, value index                               0\n",
      "retail sales, value index, usd                          0\n",
      "retail sales, volume index                              0\n",
      "retail sales, volume index, % change previous year      0\n",
      "spread of long over short interest rate                 0\n",
      "wholesale price index                                   0\n",
      "wholesale price index, usd                              0\n",
      "year                                                    0\n",
      "month                                                   0\n",
      "dtype: int64\n",
      "(8568, 5) ppg_name    0\n",
      "year        0\n",
      "month       0\n",
      "maco_hl     0\n",
      "nr_hl       0\n",
      "dtype: int64\n",
      "(261, 12) adjusted_year           0\n",
      "week                    0\n",
      "year_week_start_date    0\n",
      "is_month_start          0\n",
      "is_month_end            0\n",
      "holiday                 0\n",
      "month_sin_adj           0\n",
      "month_cos_adj           0\n",
      "week_sin                0\n",
      "week_cos                0\n",
      "quarter_sin             0\n",
      "quarter_cos             0\n",
      "dtype: int64\n",
      "(60, 9) year                     0\n",
      "month                    0\n",
      "quarter                  0\n",
      "year_month_start_date    0\n",
      "holiday                  0\n",
      "month_sin                0\n",
      "month_cos                0\n",
      "quarter_sin              0\n",
      "quarter_cos              0\n",
      "dtype: int64\n",
      "(157, 6) adjusted_year        0\n",
      "week                 0\n",
      "daily_cases          0\n",
      "daily_deaths         0\n",
      "daily_cases_band     0\n",
      "daily_deaths_band    0\n",
      "dtype: int64\n",
      "(36, 7) year                 0\n",
      "quarter              0\n",
      "month                0\n",
      "daily_cases          0\n",
      "daily_deaths         0\n",
      "daily_cases_band     0\n",
      "daily_deaths_band    0\n",
      "dtype: int64\n",
      "(261, 9) adjusted_year    0\n",
      "week             0\n",
      "tempmax          0\n",
      "tempmin          0\n",
      "temp             0\n",
      "dew              0\n",
      "humidity         0\n",
      "precip           0\n",
      "windgust         0\n",
      "dtype: int64\n",
      "(60, 10) year        0\n",
      "quarter     0\n",
      "month       0\n",
      "tempmax     0\n",
      "tempmin     0\n",
      "temp        0\n",
      "dew         0\n",
      "humidity    0\n",
      "precip      0\n",
      "windgust    0\n",
      "dtype: int64\n"
     ]
    }
   ],
   "source": [
    "print(poc_atrb_df.shape, poc_atrb_df.isnull().sum())\n",
    "print(ppg_atrb_df.shape, ppg_atrb_df.isnull().sum())\n",
    "print(macro_eco_df_pvt.shape, macro_eco_df_pvt.isnull().sum())\n",
    "print(ppg_financials.shape, ppg_financials.isnull().sum())\n",
    "print(calendar_df_week.shape, calendar_df_week.isnull().sum())\n",
    "print(calendar_df_month.shape, calendar_df_month.isnull().sum())\n",
    "print(covid_data_weekly.shape, covid_data_weekly.isnull().sum())\n",
    "print(covid_data_monthly.shape, covid_data_monthly.isnull().sum())\n",
    "print(weather_data_weekly.shape, weather_data_weekly.isnull().sum())\n",
    "print(weather_data_monthly.shape, weather_data_monthly.isnull().sum())"
   ]
  },
  {
   "cell_type": "code",
   "execution_count": 77,
   "id": "92f709a8",
   "metadata": {},
   "outputs": [],
   "source": [
    "os.makedirs(os.path.join(os.getcwd(), \"macro_processed\"), exist_ok=True)"
   ]
  },
  {
   "cell_type": "code",
   "execution_count": 78,
   "id": "fe1f4d5b",
   "metadata": {},
   "outputs": [],
   "source": [
    "poc_atrb_df.to_pickle(os.path.join(os.getcwd(), \"macro_processed\", \"poc_atrb_df.pkl\"))\n",
    "ppg_atrb_df.to_pickle(os.path.join(os.getcwd(), \"macro_processed\", \"ppg_atrb_df.pkl\"))\n",
    "macro_eco_df_pvt.to_pickle(\n",
    "    os.path.join(os.getcwd(), \"macro_processed\", \"macro_eco_df_pvt.pkl\")\n",
    ")\n",
    "ppg_financials.to_pickle(\n",
    "    os.path.join(os.getcwd(), \"macro_processed\", \"ppg_financials.pkl\")\n",
    ")\n",
    "calendar_df_week.to_pickle(\n",
    "    os.path.join(os.getcwd(), \"macro_processed\", \"calendar_df_week.pkl\")\n",
    ")\n",
    "calendar_df_month.to_pickle(\n",
    "    os.path.join(os.getcwd(), \"macro_processed\", \"calendar_df_month.pkl\")\n",
    ")\n",
    "covid_data_weekly.to_pickle(\n",
    "    os.path.join(os.getcwd(), \"macro_processed\", \"covid_data_weekly.pkl\")\n",
    ")\n",
    "covid_data_monthly.to_pickle(\n",
    "    os.path.join(os.getcwd(), \"macro_processed\", \"covid_data_monthly.pkl\")\n",
    ")\n",
    "weather_data_weekly.to_pickle(\n",
    "    os.path.join(os.getcwd(), \"macro_processed\", \"weather_data_weekly.pkl\")\n",
    ")\n",
    "weather_data_monthly.to_pickle(\n",
    "    os.path.join(os.getcwd(), \"macro_processed\", \"weather_data_monthly.pkl\")\n",
    ")"
   ]
  },
  {
   "cell_type": "code",
   "execution_count": null,
   "id": "9d469792",
   "metadata": {},
   "outputs": [],
   "source": []
  }
 ],
 "metadata": {
  "kernelspec": {
   "display_name": "torch_env",
   "language": "python",
   "name": "torch_env"
  },
  "language_info": {
   "codemirror_mode": {
    "name": "ipython",
    "version": 3
   },
   "file_extension": ".py",
   "mimetype": "text/x-python",
   "name": "python",
   "nbconvert_exporter": "python",
   "pygments_lexer": "ipython3",
   "version": "3.10.14"
  }
 },
 "nbformat": 4,
 "nbformat_minor": 5
}
