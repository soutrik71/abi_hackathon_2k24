{
 "cells": [
  {
   "cell_type": "code",
   "execution_count": 2,
   "id": "1b8deae0",
   "metadata": {},
   "outputs": [
    {
     "data": {
      "application/javascript": [
       "IPython.notebook.set_autosave_interval(300000)"
      ]
     },
     "metadata": {},
     "output_type": "display_data"
    },
    {
     "name": "stdout",
     "output_type": "stream",
     "text": [
      "Autosaving every 300 seconds\n"
     ]
    }
   ],
   "source": [
    "%autosave 300\n",
    "%reload_ext autoreload\n",
    "%autoreload 2\n",
    "%config Completer.use_jedi = False"
   ]
  },
  {
   "cell_type": "code",
   "execution_count": 3,
   "id": "d7cb2666",
   "metadata": {},
   "outputs": [
    {
     "name": "stdout",
     "output_type": "stream",
     "text": [
      "/mnt/batch/tasks/shared/LS_root/mounts/clusters/copilot-model-run/code/Users/Soutrik.Chowdhury/abi_hackathon_2k24\n"
     ]
    }
   ],
   "source": [
    "import os\n",
    "\n",
    "os.chdir(\n",
    "    r\"/mnt/batch/tasks/shared/LS_root/mounts/clusters/copilot-model-run/code/Users/Soutrik.Chowdhury/abi_hackathon_2k24\"\n",
    ")\n",
    "print(os.getcwd())"
   ]
  },
  {
   "cell_type": "code",
   "execution_count": 4,
   "id": "6964d59b",
   "metadata": {},
   "outputs": [],
   "source": [
    "import pandas as pd\n",
    "import numpy as np\n",
    "import matplotlib.pyplot as plt\n",
    "import seaborn as sns\n",
    "\n",
    "pd.set_option(\"display.max_columns\", None)\n",
    "pd.set_option(\"display.max_rows\", None)\n",
    "pd.set_option(\"display.max_colwidth\", None)\n",
    "pd.set_option(\"display.width\", None)\n",
    "from pandarallel import pandarallel\n",
    "import re\n",
    "from datetime import datetime\n",
    "import gc\n",
    "from sklearn.preprocessing import FunctionTransformer\n",
    "\n",
    "# from helpers.compress import reduce_mem_usage\n",
    "import pickle\n",
    "import warnings\n",
    "from autogluon.timeseries import TimeSeriesDataFrame, TimeSeriesPredictor\n",
    "warnings.filterwarnings(\"ignore\")"
   ]
  },
  {
   "cell_type": "code",
   "execution_count": 5,
   "id": "9b14ff8c",
   "metadata": {},
   "outputs": [],
   "source": [
    "data_folder = \"data\"\n",
    "macro_data_folder = \"macro_data\"\n",
    "processed_data_folder = \"processed_data_S2\"\n",
    "processed_macro = \"macro_processed\"\n",
    "fe_data = \"feature_engineered_data\""
   ]
  },
  {
   "cell_type": "code",
   "execution_count": 6,
   "id": "a8a92bbb",
   "metadata": {},
   "outputs": [],
   "source": [
    "volume_monthly_df_best = pd.read_pickle(\n",
    "    os.path.join(\n",
    "        os.getcwd(), processed_data_folder, \"submission_id_vol_cluster_monthly_df_all_feats.pkl\"\n",
    "    )\n",
    ")"
   ]
  },
  {
   "cell_type": "code",
   "execution_count": 7,
   "id": "9bea9cd0",
   "metadata": {},
   "outputs": [],
   "source": [
    "submission_df = pd.read_csv(\n",
    "    os.path.join(\n",
    "        os.getcwd(), data_folder, \"sample_submission_file.csv\"\n",
    "    )\n",
    ")"
   ]
  },
  {
   "cell_type": "code",
   "execution_count": 8,
   "id": "63c94d9c",
   "metadata": {},
   "outputs": [],
   "source": [
    "test_cut_date = \"2023-01-01\"\n",
    "full_train_df = volume_monthly_df_best.loc[volume_monthly_df_best['year_month_start_date']<test_cut_date].reset_index(drop=True)\n",
    "test_df =  volume_monthly_df_best.loc[volume_monthly_df_best['year_month_start_date']>=test_cut_date].reset_index(drop=True)"
   ]
  },
  {
   "cell_type": "code",
   "execution_count": 9,
   "id": "8319dd3c",
   "metadata": {},
   "outputs": [
    {
     "data": {
      "text/plain": [
       "(1973838, 67)"
      ]
     },
     "execution_count": 9,
     "metadata": {},
     "output_type": "execute_result"
    }
   ],
   "source": [
    "full_train_df.shape"
   ]
  },
  {
   "cell_type": "code",
   "execution_count": 10,
   "id": "84c428e7",
   "metadata": {},
   "outputs": [
    {
     "data": {
      "text/plain": [
       "(592044, 67)"
      ]
     },
     "execution_count": 10,
     "metadata": {},
     "output_type": "execute_result"
    }
   ],
   "source": [
    "test_df.shape"
   ]
  },
  {
   "cell_type": "code",
   "execution_count": 11,
   "id": "dff9d282",
   "metadata": {},
   "outputs": [],
   "source": [
    "# test_df['poc_ppg_id'].nunique() *12"
   ]
  },
  {
   "cell_type": "code",
   "execution_count": 12,
   "id": "5f4b037b",
   "metadata": {},
   "outputs": [],
   "source": [
    "val_date = \"2022-07-01\"\n",
    "train_df = full_train_df.loc[full_train_df['year_month_start_date']<val_date].reset_index(drop=True)\n",
    "val_df = full_train_df.loc[full_train_df['year_month_start_date']>=val_date].reset_index(drop=True)"
   ]
  },
  {
   "cell_type": "code",
   "execution_count": 13,
   "id": "184f2aad",
   "metadata": {},
   "outputs": [],
   "source": [
    "from autogluon.tabular import TabularDataset, TabularPredictor\n",
    "from autogluon.common import space"
   ]
  },
  {
   "cell_type": "code",
   "execution_count": 14,
   "id": "efc1d067",
   "metadata": {},
   "outputs": [],
   "source": [
    "label = 'sales_volume_hl_agg'"
   ]
  },
  {
   "cell_type": "code",
   "execution_count": 15,
   "id": "aac1a98b",
   "metadata": {},
   "outputs": [],
   "source": [
    "y_val = val_df[label]\n",
    "val_df_nolabel = val_df.drop(columns=[label])"
   ]
  },
  {
   "cell_type": "code",
   "execution_count": 16,
   "id": "b6c6e5b3",
   "metadata": {},
   "outputs": [],
   "source": [
    "metric='smape'"
   ]
  },
  {
   "cell_type": "code",
   "execution_count": 17,
   "id": "925217fc",
   "metadata": {},
   "outputs": [],
   "source": [
    "# GBM,XGB"
   ]
  },
  {
   "cell_type": "code",
   "execution_count": 18,
   "id": "372ce617",
   "metadata": {},
   "outputs": [],
   "source": [
    "gbm_options = {  # specifies non-default hyperparameter values for lightGBM gradient boosted trees\n",
    "    'num_boost_round': space.Int(lower=100, upper=1000, default=200), \n",
    "    'num_leaves': space.Int(lower=26, upper=66, default=36),\n",
    "    'learning_rate' : space.Real(0.01, 0.1, log=True)\n",
    "\n",
    "}\n",
    "xgb_options = {  # specifies non-default hyperparameter values for lightGBM gradient boosted trees\n",
    "    'max_depth': space.Int(lower=6, upper=15, default=10),\n",
    "    'eta' : space.Real(0.01, 0.5, log=True)\n",
    "}\n",
    "xt_options = {  # specifies non-default hyperparameter values for neural network models\n",
    "    'min_samples_split': space.Int(lower=2, upper=8, default=5), \n",
    "    'n_estimators': space.Int(lower=100, upper=300, default=100),\n",
    "}"
   ]
  },
  {
   "cell_type": "code",
   "execution_count": null,
   "id": "c95fa80b",
   "metadata": {},
   "outputs": [
    {
     "name": "stderr",
     "output_type": "stream",
     "text": [
      "No path specified. Models will be saved in: \"AutogluonModels/ag-20240719_140049\"\n",
      "Verbosity: 2 (Standard Logging)\n",
      "=================== System Info ===================\n",
      "AutoGluon Version:  1.1.1\n",
      "Python Version:     3.10.14\n",
      "Operating System:   Linux\n",
      "Platform Machine:   x86_64\n",
      "Platform Version:   #73~20.04.1-Ubuntu SMP Mon May 6 09:43:44 UTC 2024\n",
      "CPU Count:          16\n",
      "Memory Avail:       76.04 GB / 108.07 GB (70.4%)\n",
      "Disk Space Avail:   5035.03 GB / 5120.00 GB (98.3%)\n",
      "===================================================\n",
      "No presets specified! To achieve strong results with AutoGluon, it is recommended to use the available presets.\n",
      "\tRecommended Presets (For more details refer to https://auto.gluon.ai/stable/tutorials/tabular/tabular-essentials.html#presets):\n",
      "\tpresets='best_quality'   : Maximize accuracy. Default time_limit=3600.\n",
      "\tpresets='high_quality'   : Strong accuracy with fast inference speed. Default time_limit=3600.\n",
      "\tpresets='good_quality'   : Good accuracy with very fast inference speed. Default time_limit=3600.\n",
      "\tpresets='medium_quality' : Fast training time, ideal for initial prototyping.\n",
      "Warning: hyperparameter tuning is currently experimental and may cause the process to hang.\n",
      "Warning: Training may take a very long time because `time_limit` was not specified and `train_data` is large (1973838 samples, 2485.13 MB).\n",
      "\tConsider setting `time_limit` to ensure training finishes within an expected duration or experiment with a small portion of `train_data` to identify an ideal `presets` and `hyperparameters` configuration.\n",
      "Beginning AutoGluon training ...\n",
      "AutoGluon will save models to \"AutogluonModels/ag-20240719_140049\"\n",
      "Train Data Rows:    1973838\n",
      "Train Data Columns: 66\n",
      "Label Column:       sales_volume_hl_agg\n",
      "AutoGluon infers your prediction problem is: 'regression' (because dtype of label-column == float and many unique label-values observed).\n",
      "\tLabel info (max, min, mean, stddev): (3166.039907949469, 0.0, 10.10111, 46.83626)\n",
      "\tIf 'regression' is not the correct problem_type, please manually specify the problem_type parameter during Predictor init (You may specify problem_type as one of: ['binary', 'multiclass', 'regression', 'quantile'])\n",
      "Problem Type:       regression\n",
      "Preprocessing data ...\n",
      "Using Feature Generators to preprocess the data ...\n",
      "Fitting AutoMLPipelineFeatureGenerator...\n",
      "\tAvailable Memory:                    79094.47 MB\n",
      "\tTrain Data (Original)  Memory Usage: 2354.94 MB (3.0% of available memory)\n",
      "\tInferring data type of each feature based on column values. Set feature_metadata_in to manually specify special dtypes of the features.\n",
      "\tStage 1 Generators:\n",
      "\t\tFitting AsTypeFeatureGenerator...\n",
      "\t\t\tNote: Converting 3 features to boolean dtype as they only contain 2 unique values.\n",
      "\tStage 2 Generators:\n",
      "\t\tFitting FillNaFeatureGenerator...\n",
      "\tStage 3 Generators:\n",
      "\t\tFitting IdentityFeatureGenerator...\n",
      "\t\tFitting CategoryFeatureGenerator...\n",
      "\t\t\tFitting CategoryMemoryMinimizeFeatureGenerator...\n",
      "\t\tFitting DatetimeFeatureGenerator...\n",
      "\tStage 4 Generators:\n",
      "\t\tFitting DropUniqueFeatureGenerator...\n",
      "\tStage 5 Generators:\n",
      "\t\tFitting DropDuplicatesFeatureGenerator...\n",
      "\tTypes of features in original data (raw dtype, special dtypes):\n",
      "\t\t('datetime', []) :  1 | ['year_month_start_date']\n",
      "\t\t('float', [])    : 49 | ['sample_submission_flag', 'id_life_flag', 'ppg_seasonality_index', 'poc_seasonality_index', 'sales_lag_12', ...]\n",
      "\t\t('int', [])      :  3 | ['year', 'month', 'quarter']\n",
      "\t\t('object', [])   : 13 | ['poc_ppg_id', 'ppg_name', 'unique_poc_id', 'poc_ppg_cluster', 'category_name', ...]\n",
      "\tTypes of features in processed data (raw dtype, special dtypes):\n",
      "\t\t('category', [])             : 12 | ['poc_ppg_id', 'ppg_name', 'unique_poc_id', 'poc_ppg_cluster', 'price_segment', ...]\n",
      "\t\t('float', [])                : 47 | ['ppg_seasonality_index', 'poc_seasonality_index', 'sales_lag_12', 'sales_lag_13', 'sales_lag_14', ...]\n",
      "\t\t('int', [])                  :  3 | ['year', 'month', 'quarter']\n",
      "\t\t('int', ['bool'])            :  3 | ['sample_submission_flag', 'id_life_flag', 'category_name']\n",
      "\t\t('int', ['datetime_as_int']) :  2 | ['year_month_start_date', 'year_month_start_date.dayofweek']\n",
      "\t17.2s = Fit runtime\n",
      "\t66 features in original data used to generate 67 features in processed data.\n",
      "\tTrain Data (Processed) Memory Usage: 818.85 MB (0.8% of available memory)\n",
      "Data preprocessing and feature engineering runtime = 18.0s ...\n",
      "AutoGluon will gauge predictive performance using evaluation metric: 'symmetric_mean_absolute_percentage_error'\n",
      "\tThis metric's sign has been flipped to adhere to being higher_is_better. The metric score can be multiplied by -1 to get the metric value.\n",
      "\tTo change this, specify the eval_metric parameter of Predictor()\n",
      "Automatically generating train/validation split with holdout_frac=0.02, Train Rows: 1934361, Val Rows: 39477\n",
      "User-specified model hyperparameters to be fit:\n",
      "{\n",
      "\t'GBM': {'num_boost_round': Int: lower=100, upper=1000, 'num_leaves': Int: lower=26, upper=66, 'learning_rate': Real: lower=0.01, upper=0.1},\n",
      "\t'XGB': {'max_depth': Int: lower=6, upper=15, 'eta': Real: lower=0.01, upper=0.5},\n",
      "\t'XT': {},\n",
      "}\n",
      "Fitting 3 L1 models ...\n",
      "Hyperparameter tuning model: LightGBM ...\n"
     ]
    },
    {
     "data": {
      "application/vnd.jupyter.widget-view+json": {
       "model_id": "6d98471379cd4a488c71cc08c14f57f2",
       "version_major": 2,
       "version_minor": 0
      },
      "text/plain": [
       "  0%|          | 0/15 [00:00<?, ?it/s]"
      ]
     },
     "metadata": {},
     "output_type": "display_data"
    },
    {
     "name": "stderr",
     "output_type": "stream",
     "text": [
      "Fitted model: LightGBM/T1 ...\n",
      "\t-0.5578\t = Validation score   (-symmetric_mean_absolute_percentage_error)\n",
      "\t24.02s\t = Training   runtime\n",
      "\t0.04s\t = Validation runtime\n",
      "Fitted model: LightGBM/T2 ...\n",
      "\t-0.5099\t = Validation score   (-symmetric_mean_absolute_percentage_error)\n",
      "\t45.8s\t = Training   runtime\n",
      "\t0.11s\t = Validation runtime\n",
      "Fitted model: LightGBM/T3 ...\n",
      "\t-0.5019\t = Validation score   (-symmetric_mean_absolute_percentage_error)\n",
      "\t117.83s\t = Training   runtime\n",
      "\t0.76s\t = Validation runtime\n",
      "Fitted model: LightGBM/T4 ...\n",
      "\t-0.4983\t = Validation score   (-symmetric_mean_absolute_percentage_error)\n",
      "\t118.62s\t = Training   runtime\n",
      "\t0.68s\t = Validation runtime\n",
      "Fitted model: LightGBM/T5 ...\n",
      "\t-0.5058\t = Validation score   (-symmetric_mean_absolute_percentage_error)\n",
      "\t104.31s\t = Training   runtime\n",
      "\t0.49s\t = Validation runtime\n",
      "Fitted model: LightGBM/T6 ...\n",
      "\t-0.51\t = Validation score   (-symmetric_mean_absolute_percentage_error)\n",
      "\t92.08s\t = Training   runtime\n",
      "\t0.47s\t = Validation runtime\n",
      "Fitted model: LightGBM/T7 ...\n",
      "\t-0.5065\t = Validation score   (-symmetric_mean_absolute_percentage_error)\n",
      "\t30.09s\t = Training   runtime\n",
      "\t0.09s\t = Validation runtime\n",
      "Fitted model: LightGBM/T8 ...\n",
      "\t-0.5042\t = Validation score   (-symmetric_mean_absolute_percentage_error)\n",
      "\t75.26s\t = Training   runtime\n",
      "\t0.28s\t = Validation runtime\n",
      "Fitted model: LightGBM/T9 ...\n",
      "\t-0.5075\t = Validation score   (-symmetric_mean_absolute_percentage_error)\n",
      "\t74.11s\t = Training   runtime\n",
      "\t0.28s\t = Validation runtime\n",
      "Fitted model: LightGBM/T10 ...\n",
      "\t-0.5049\t = Validation score   (-symmetric_mean_absolute_percentage_error)\n",
      "\t126.88s\t = Training   runtime\n",
      "\t0.57s\t = Validation runtime\n",
      "Fitted model: LightGBM/T11 ...\n",
      "\t-0.5052\t = Validation score   (-symmetric_mean_absolute_percentage_error)\n",
      "\t105.66s\t = Training   runtime\n",
      "\t0.47s\t = Validation runtime\n",
      "Fitted model: LightGBM/T12 ...\n",
      "\t-0.505\t = Validation score   (-symmetric_mean_absolute_percentage_error)\n",
      "\t23.98s\t = Training   runtime\n",
      "\t0.07s\t = Validation runtime\n",
      "Fitted model: LightGBM/T13 ...\n",
      "\t-0.5058\t = Validation score   (-symmetric_mean_absolute_percentage_error)\n",
      "\t27.88s\t = Training   runtime\n",
      "\t0.06s\t = Validation runtime\n",
      "Fitted model: LightGBM/T14 ...\n",
      "\t-0.5424\t = Validation score   (-symmetric_mean_absolute_percentage_error)\n",
      "\t19.58s\t = Training   runtime\n",
      "\t0.03s\t = Validation runtime\n",
      "Fitted model: LightGBM/T15 ...\n",
      "\t-0.5229\t = Validation score   (-symmetric_mean_absolute_percentage_error)\n",
      "\t23.53s\t = Training   runtime\n",
      "\t0.04s\t = Validation runtime\n",
      "Hyperparameter tuning model: ExtraTrees ...\n",
      "\tNo hyperparameter search space specified for ExtraTrees. Skipping HPO. Will train one model based on the provided hyperparameters.\n",
      "Fitted model: ExtraTrees ...\n",
      "\t-0.5014\t = Validation score   (-symmetric_mean_absolute_percentage_error)\n",
      "\t556.97s\t = Training   runtime\n",
      "\t57.72s\t = Validation runtime\n",
      "Hyperparameter tuning model: XGBoost ...\n"
     ]
    },
    {
     "data": {
      "application/vnd.jupyter.widget-view+json": {
       "model_id": "636bbd0407d64a57b1d800cd6ef93ec1",
       "version_major": 2,
       "version_minor": 0
      },
      "text/plain": [
       "  0%|          | 0/15 [00:00<?, ?it/s]"
      ]
     },
     "metadata": {},
     "output_type": "display_data"
    }
   ],
   "source": [
    "hyperparameters = {  # hyperparameters of each model type\n",
    "                   'GBM': gbm_options,\n",
    "                   'XGB': xgb_options, \n",
    "                    \"XT\":{}\n",
    "                  }  \n",
    "num_trials = 15  # try at most 5 different hyperparameter configurations for each type of model\n",
    "search_strategy = 'auto'  # to tune hyperparameters using random search routine with a local scheduler\n",
    "\n",
    "hyperparameter_tune_kwargs = {  # HPO is not performed unless hyperparameter_tune_kwargs is specified\n",
    "    'num_trials': num_trials,\n",
    "    'scheduler' : 'local',\n",
    "    'searcher': search_strategy,\n",
    "}  # Refer to TabularPredictor.fit docstring for all valid values\n",
    "\n",
    "predictor = TabularPredictor(label=label, eval_metric=metric).fit(\n",
    "    full_train_df,\n",
    "    hyperparameters=hyperparameters,\n",
    "    hyperparameter_tune_kwargs=hyperparameter_tune_kwargs, \n",
    "#     presets=\"high_quality\",\n",
    "#     refit_full=True\n",
    "\n",
    ")"
   ]
  },
  {
   "cell_type": "code",
   "execution_count": null,
   "id": "a6388dfd",
   "metadata": {},
   "outputs": [],
   "source": [
    "# predictor = TabularPredictor.load('AutogluonModels/ag-20240719_063409')"
   ]
  },
  {
   "cell_type": "code",
   "execution_count": null,
   "id": "a05c5e46",
   "metadata": {},
   "outputs": [],
   "source": [
    "y_pred = predictor.predict(val_df_nolabel)\n",
    "print(\"Predictions:  \", list(y_pred)[:5])\n",
    "perf = predictor.evaluate(val_df, auxiliary_metrics=False)"
   ]
  },
  {
   "cell_type": "code",
   "execution_count": null,
   "id": "58fe3d92",
   "metadata": {},
   "outputs": [],
   "source": [
    "predictor.leaderboard(val_df)"
   ]
  },
  {
   "cell_type": "code",
   "execution_count": null,
   "id": "1cbca8cd",
   "metadata": {},
   "outputs": [],
   "source": [
    "results = predictor.fit_summary()"
   ]
  },
  {
   "cell_type": "code",
   "execution_count": null,
   "id": "66af84c3",
   "metadata": {},
   "outputs": [],
   "source": [
    "predictor.evaluate(val_df)"
   ]
  },
  {
   "cell_type": "code",
   "execution_count": null,
   "id": "cde148a4",
   "metadata": {},
   "outputs": [],
   "source": [
    "predictor.feature_importance(test_data)"
   ]
  },
  {
   "cell_type": "markdown",
   "id": "2738d888",
   "metadata": {},
   "source": [
    "###### Predictions"
   ]
  },
  {
   "cell_type": "code",
   "execution_count": null,
   "id": "6e6c8c3d",
   "metadata": {},
   "outputs": [],
   "source": [
    "test_df_id = test_df[['ppg_name','unique_poc_id','year','month','quarter']]"
   ]
  },
  {
   "cell_type": "code",
   "execution_count": null,
   "id": "ab60fc33",
   "metadata": {},
   "outputs": [],
   "source": [
    "y_pred_test = predictor.predict(test_df)"
   ]
  },
  {
   "cell_type": "code",
   "execution_count": null,
   "id": "bd7fdaeb",
   "metadata": {},
   "outputs": [],
   "source": [
    "test_df_id['quarterly_sales_hl'] = y_pred_test"
   ]
  },
  {
   "cell_type": "code",
   "execution_count": null,
   "id": "697616f2",
   "metadata": {},
   "outputs": [],
   "source": [
    "test_df_id['quarterly_sales_hl'].mean()"
   ]
  },
  {
   "cell_type": "code",
   "execution_count": null,
   "id": "ba8d4955",
   "metadata": {},
   "outputs": [],
   "source": [
    "test_df_id.head()"
   ]
  },
  {
   "cell_type": "code",
   "execution_count": null,
   "id": "3ef5999a",
   "metadata": {},
   "outputs": [],
   "source": [
    "test_df_id = test_df_id.groupby(['ppg_name','unique_poc_id','year','quarter','month'],as_index=False).agg({\"quarterly_sales_hl\":\"mean\"})"
   ]
  },
  {
   "cell_type": "code",
   "execution_count": null,
   "id": "2084d580",
   "metadata": {},
   "outputs": [],
   "source": [
    "test_df_id['quarterly_sales_hl'].mean()"
   ]
  },
  {
   "cell_type": "code",
   "execution_count": null,
   "id": "4ec0ab7c",
   "metadata": {},
   "outputs": [],
   "source": [
    "test_df_id_qrtr = test_df_id.groupby(['ppg_name','unique_poc_id','year','quarter'],\n",
    "                                     as_index=False).agg({\"quarterly_sales_hl\":\"sum\"})"
   ]
  },
  {
   "cell_type": "code",
   "execution_count": null,
   "id": "ddc0f36c",
   "metadata": {},
   "outputs": [],
   "source": [
    "test_df_id_qrtr.shape"
   ]
  },
  {
   "cell_type": "code",
   "execution_count": null,
   "id": "27d831cc",
   "metadata": {},
   "outputs": [],
   "source": [
    "# submission_df = submission_df.drop(['quarterly_sales_hl'],axis=1) "
   ]
  },
  {
   "cell_type": "code",
   "execution_count": null,
   "id": "e927c4c8",
   "metadata": {},
   "outputs": [],
   "source": [
    "submission_df_merge = pd.merge(submission_df,test_df_id_qrtr,\n",
    "                               on=[\"ppg_name\",\"unique_poc_id\",\"year\",\"quarter\"],\n",
    "                              how='left')"
   ]
  },
  {
   "cell_type": "code",
   "execution_count": null,
   "id": "21e71ff9",
   "metadata": {},
   "outputs": [],
   "source": [
    "submission_df_merge.isnull().sum()"
   ]
  },
  {
   "cell_type": "code",
   "execution_count": null,
   "id": "fd7544ba",
   "metadata": {},
   "outputs": [],
   "source": [
    "submission_df_merge['quarterly_sales_hl'].sum()"
   ]
  },
  {
   "cell_type": "code",
   "execution_count": 59,
   "id": "89bbcba2",
   "metadata": {},
   "outputs": [],
   "source": [
    "iter_name = 2\n",
    "os.makedirs(os.path.join(os.getcwd(),\"sample_submissions\"))\n",
    "submission_df_merge.to_csv(os.path.join(os.getcwd(),\"sample_submissions\",f'Submission_{iter_name}.csv'),index=False)"
   ]
  },
  {
   "cell_type": "code",
   "execution_count": null,
   "id": "9db5408e",
   "metadata": {},
   "outputs": [],
   "source": []
  }
 ],
 "metadata": {
  "kernelspec": {
   "display_name": "torch_env",
   "language": "python",
   "name": "torch_env"
  },
  "language_info": {
   "codemirror_mode": {
    "name": "ipython",
    "version": 3
   },
   "file_extension": ".py",
   "mimetype": "text/x-python",
   "name": "python",
   "nbconvert_exporter": "python",
   "pygments_lexer": "ipython3",
   "version": "3.10.14"
  }
 },
 "nbformat": 4,
 "nbformat_minor": 5
}
