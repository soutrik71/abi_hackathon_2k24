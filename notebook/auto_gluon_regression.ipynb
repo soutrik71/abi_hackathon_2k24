{
 "cells": [
  {
   "cell_type": "code",
   "execution_count": 1,
   "id": "1b8deae0",
   "metadata": {},
   "outputs": [
    {
     "data": {
      "application/javascript": [
       "IPython.notebook.set_autosave_interval(300000)"
      ]
     },
     "metadata": {},
     "output_type": "display_data"
    },
    {
     "name": "stdout",
     "output_type": "stream",
     "text": [
      "Autosaving every 300 seconds\n"
     ]
    }
   ],
   "source": [
    "%autosave 300\n",
    "%reload_ext autoreload\n",
    "%autoreload 2\n",
    "%config Completer.use_jedi = False"
   ]
  },
  {
   "cell_type": "code",
   "execution_count": 2,
   "id": "d7cb2666",
   "metadata": {},
   "outputs": [
    {
     "name": "stdout",
     "output_type": "stream",
     "text": [
      "/mnt/batch/tasks/shared/LS_root/mounts/clusters/copilot-model-run/code/Users/Soutrik.Chowdhury/abi_hackathon_2k24\n"
     ]
    }
   ],
   "source": [
    "import os\n",
    "\n",
    "os.chdir(\n",
    "    r\"/mnt/batch/tasks/shared/LS_root/mounts/clusters/copilot-model-run/code/Users/Soutrik.Chowdhury/abi_hackathon_2k24\"\n",
    ")\n",
    "print(os.getcwd())"
   ]
  },
  {
   "cell_type": "code",
   "execution_count": 3,
   "id": "6964d59b",
   "metadata": {},
   "outputs": [],
   "source": [
    "import pandas as pd\n",
    "import numpy as np\n",
    "import matplotlib.pyplot as plt\n",
    "import seaborn as sns\n",
    "\n",
    "pd.set_option(\"display.max_columns\", None)\n",
    "pd.set_option(\"display.max_rows\", None)\n",
    "pd.set_option(\"display.max_colwidth\", None)\n",
    "pd.set_option(\"display.width\", None)\n",
    "from pandarallel import pandarallel\n",
    "import re\n",
    "from datetime import datetime\n",
    "import gc\n",
    "from sklearn.preprocessing import FunctionTransformer\n",
    "\n",
    "# from helpers.compress import reduce_mem_usage\n",
    "import pickle\n",
    "import warnings\n",
    "from autogluon.timeseries import TimeSeriesDataFrame, TimeSeriesPredictor\n",
    "warnings.filterwarnings(\"ignore\")"
   ]
  },
  {
   "cell_type": "code",
   "execution_count": 4,
   "id": "9b14ff8c",
   "metadata": {},
   "outputs": [],
   "source": [
    "data_folder = \"data\"\n",
    "macro_data_folder = \"macro_data\"\n",
    "processed_data_folder = \"processed_data_S2\"\n",
    "processed_macro = \"macro_processed\"\n",
    "fe_data = \"feature_engineered_data\""
   ]
  },
  {
   "cell_type": "code",
   "execution_count": 5,
   "id": "a8a92bbb",
   "metadata": {},
   "outputs": [],
   "source": [
    "volume_monthly_df_best = pd.read_pickle(\n",
    "    os.path.join(\n",
    "        os.getcwd(), processed_data_folder, \"submission_id_vol_cluster_monthly_df_all_feats.pkl\"\n",
    "    )\n",
    ")"
   ]
  },
  {
   "cell_type": "code",
   "execution_count": 6,
   "id": "9bea9cd0",
   "metadata": {},
   "outputs": [],
   "source": [
    "submission_df = pd.read_csv(\n",
    "    os.path.join(\n",
    "        os.getcwd(), data_folder, \"sample_submission_file.csv\"\n",
    "    )\n",
    ")"
   ]
  },
  {
   "cell_type": "code",
   "execution_count": 7,
   "id": "3a511b36",
   "metadata": {},
   "outputs": [],
   "source": [
    "# best_feats_by_last_run = ['sales_roll_mean_9',\n",
    "#  'sales_roll_mean_3',\n",
    "#  'sales_roll_mean_6',\n",
    "#  'sales_ewm_alpha_08_lag_14',\n",
    "#  'sales_ewm_alpha_08_lag_13',\n",
    "#  'sales_ewm_alpha_08_lag_12',\n",
    "#  'sales_ewm_alpha_095_lag_14',\n",
    "#  'sales_ewm_alpha_095_lag_13',\n",
    "#  'sales_lag_15',\n",
    "#  'sales_ewm_alpha_09_lag_12',\n",
    "#  'sales_ewm_alpha_09_lag_13',\n",
    "#  'id_life_flag',\n",
    "#  'sales_ewm_alpha_095_lag_12',\n",
    "#  'sales_ewm_alpha_09_lag_14',\n",
    "#  'segment',\n",
    "#  'sales_lag_14',\n",
    "#  'ppg_name',\n",
    "#  'sales_lag_13',\n",
    "#  'sales_lag_12',\n",
    "#  'subchannel',\n",
    "#  'sales_lag_13_diff',\n",
    "#  'channel_type',\n",
    "#  'unique_poc_id',\n",
    "#  'sales_lag_15_diff',\n",
    "#  'poc_ppg_cluster',\n",
    "#  'sales_lag_14_diff',\n",
    "#  'poc_ppg_id',\n",
    "#  'nr_hl',\n",
    "#  'maco_hl',\n",
    "#  'poc_seasonality_index',\n",
    "#  'brand',\n",
    "#  'ppg_seasonality_index',\n",
    "#  'price_segment']+[\"year_month_start_date\",\"sales_volume_hl_agg\"]"
   ]
  },
  {
   "cell_type": "code",
   "execution_count": 8,
   "id": "63c94d9c",
   "metadata": {},
   "outputs": [],
   "source": [
    "test_cut_date = \"2023-01-01\"\n",
    "full_train_df = volume_monthly_df_best.loc[volume_monthly_df_best['year_month_start_date']<test_cut_date,].reset_index(drop=True)\n",
    "test_df =  volume_monthly_df_best.loc[volume_monthly_df_best['year_month_start_date']>=test_cut_date,].reset_index(drop=True)"
   ]
  },
  {
   "cell_type": "code",
   "execution_count": 9,
   "id": "8319dd3c",
   "metadata": {},
   "outputs": [
    {
     "data": {
      "text/plain": [
       "(1973838, 67)"
      ]
     },
     "execution_count": 9,
     "metadata": {},
     "output_type": "execute_result"
    }
   ],
   "source": [
    "full_train_df.shape"
   ]
  },
  {
   "cell_type": "code",
   "execution_count": 10,
   "id": "84c428e7",
   "metadata": {},
   "outputs": [
    {
     "data": {
      "text/plain": [
       "(592044, 67)"
      ]
     },
     "execution_count": 10,
     "metadata": {},
     "output_type": "execute_result"
    }
   ],
   "source": [
    "test_df.shape"
   ]
  },
  {
   "cell_type": "code",
   "execution_count": 11,
   "id": "dff9d282",
   "metadata": {},
   "outputs": [],
   "source": [
    "# test_df['poc_ppg_id'].nunique() *12"
   ]
  },
  {
   "cell_type": "code",
   "execution_count": 12,
   "id": "5f4b037b",
   "metadata": {},
   "outputs": [],
   "source": [
    "val_date = \"2022-07-01\"\n",
    "train_df = full_train_df.loc[full_train_df['year_month_start_date']<val_date].reset_index(drop=True)\n",
    "val_df = full_train_df.loc[full_train_df['year_month_start_date']>=val_date].reset_index(drop=True)"
   ]
  },
  {
   "cell_type": "code",
   "execution_count": 13,
   "id": "dad6fd3e",
   "metadata": {},
   "outputs": [],
   "source": [
    "train_df[\"sales_volume_hl_agg\"] = np.log1p(train_df[\"sales_volume_hl_agg\"])\n",
    "val_df['sales_volume_hl_agg'] = np.log1p(val_df['sales_volume_hl_agg'])"
   ]
  },
  {
   "cell_type": "code",
   "execution_count": 14,
   "id": "184f2aad",
   "metadata": {},
   "outputs": [],
   "source": [
    "from autogluon.tabular import TabularDataset, TabularPredictor\n",
    "from autogluon.common import space"
   ]
  },
  {
   "cell_type": "code",
   "execution_count": 15,
   "id": "efc1d067",
   "metadata": {},
   "outputs": [],
   "source": [
    "label = 'sales_volume_hl_agg'"
   ]
  },
  {
   "cell_type": "code",
   "execution_count": 16,
   "id": "aac1a98b",
   "metadata": {},
   "outputs": [],
   "source": [
    "y_val = val_df[label]\n",
    "val_df_nolabel = val_df.drop(columns=[label])"
   ]
  },
  {
   "cell_type": "code",
   "execution_count": 17,
   "id": "b6c6e5b3",
   "metadata": {},
   "outputs": [],
   "source": [
    "metric='mape'"
   ]
  },
  {
   "cell_type": "code",
   "execution_count": 18,
   "id": "925217fc",
   "metadata": {},
   "outputs": [],
   "source": [
    "# GBM,XGB"
   ]
  },
  {
   "cell_type": "code",
   "execution_count": 19,
   "id": "372ce617",
   "metadata": {},
   "outputs": [],
   "source": [
    "gbm_options = {  # specifies non-default hyperparameter values for lightGBM gradient boosted trees\n",
    "    'num_boost_round': space.Int(lower=100, upper=1000, default=200), \n",
    "    'num_leaves': space.Int(lower=26, upper=66, default=36),\n",
    "    'learning_rate' : space.Real(0.001, 0.1, log=True)\n",
    "\n",
    "}\n",
    "xgb_options = {  # specifies non-default hyperparameter values for lightGBM gradient boosted trees\n",
    "    'max_depth': space.Int(lower=6, upper=15, default=10),\n",
    "    'eta' : space.Real(0.001, 0.1, log=True)\n",
    "}\n",
    "cb_options = {  # specifies non-default hyperparameter values for neural network models\n",
    "    \"depth\": space.Int(lower=1, upper=12, default=5), \n",
    "    'learning_rate' : space.Real(0.001, 0.1, log=True),\n",
    "}"
   ]
  },
  {
   "cell_type": "code",
   "execution_count": null,
   "id": "c95fa80b",
   "metadata": {},
   "outputs": [
    {
     "name": "stderr",
     "output_type": "stream",
     "text": [
      "No path specified. Models will be saved in: \"AutogluonModels/ag-20240719_182724\"\n",
      "Verbosity: 2 (Standard Logging)\n",
      "=================== System Info ===================\n",
      "AutoGluon Version:  1.1.1\n",
      "Python Version:     3.10.14\n",
      "Operating System:   Linux\n",
      "Platform Machine:   x86_64\n",
      "Platform Version:   #73~20.04.1-Ubuntu SMP Mon May 6 09:43:44 UTC 2024\n",
      "CPU Count:          16\n",
      "Memory Avail:       99.23 GB / 108.07 GB (91.8%)\n",
      "Disk Space Avail:   5026.75 GB / 5120.00 GB (98.2%)\n",
      "===================================================\n",
      "No presets specified! To achieve strong results with AutoGluon, it is recommended to use the available presets.\n",
      "\tRecommended Presets (For more details refer to https://auto.gluon.ai/stable/tutorials/tabular/tabular-essentials.html#presets):\n",
      "\tpresets='best_quality'   : Maximize accuracy. Default time_limit=3600.\n",
      "\tpresets='high_quality'   : Strong accuracy with fast inference speed. Default time_limit=3600.\n",
      "\tpresets='good_quality'   : Good accuracy with very fast inference speed. Default time_limit=3600.\n",
      "\tpresets='medium_quality' : Fast training time, ideal for initial prototyping.\n",
      "Warning: hyperparameter tuning is currently experimental and may cause the process to hang.\n",
      "Warning: Training may take a very long time because `time_limit` was not specified and `train_data` is large (1682426 samples, 2118.78 MB).\n",
      "\tConsider setting `time_limit` to ensure training finishes within an expected duration or experiment with a small portion of `train_data` to identify an ideal `presets` and `hyperparameters` configuration.\n",
      "Beginning AutoGluon training ...\n",
      "AutoGluon will save models to \"AutogluonModels/ag-20240719_182724\"\n",
      "Train Data Rows:    1682426\n",
      "Train Data Columns: 66\n",
      "Label Column:       sales_volume_hl_agg\n",
      "AutoGluon infers your prediction problem is: 'regression' (because dtype of label-column == float and many unique label-values observed).\n",
      "\tLabel info (max, min, mean, stddev): (8.060552647643163, 0.0, 1.1158, 1.23757)\n",
      "\tIf 'regression' is not the correct problem_type, please manually specify the problem_type parameter during Predictor init (You may specify problem_type as one of: ['binary', 'multiclass', 'regression', 'quantile'])\n",
      "Problem Type:       regression\n",
      "Preprocessing data ...\n",
      "Using Feature Generators to preprocess the data ...\n",
      "Fitting AutoMLPipelineFeatureGenerator...\n",
      "\tAvailable Memory:                    102681.67 MB\n",
      "\tTrain Data (Original)  Memory Usage: 2007.79 MB (2.0% of available memory)\n",
      "\tInferring data type of each feature based on column values. Set feature_metadata_in to manually specify special dtypes of the features.\n",
      "\tStage 1 Generators:\n",
      "\t\tFitting AsTypeFeatureGenerator...\n",
      "\t\t\tNote: Converting 3 features to boolean dtype as they only contain 2 unique values.\n",
      "\tStage 2 Generators:\n",
      "\t\tFitting FillNaFeatureGenerator...\n",
      "\tStage 3 Generators:\n",
      "\t\tFitting IdentityFeatureGenerator...\n",
      "\t\tFitting CategoryFeatureGenerator...\n",
      "\t\t\tFitting CategoryMemoryMinimizeFeatureGenerator...\n",
      "\t\tFitting DatetimeFeatureGenerator...\n",
      "\tStage 4 Generators:\n",
      "\t\tFitting DropUniqueFeatureGenerator...\n",
      "\tStage 5 Generators:\n",
      "\t\tFitting DropDuplicatesFeatureGenerator...\n",
      "\tTypes of features in original data (raw dtype, special dtypes):\n",
      "\t\t('datetime', []) :  1 | ['year_month_start_date']\n",
      "\t\t('float', [])    : 49 | ['sample_submission_flag', 'id_life_flag', 'ppg_seasonality_index', 'poc_seasonality_index', 'sales_lag_12', ...]\n",
      "\t\t('int', [])      :  3 | ['year', 'month', 'quarter']\n",
      "\t\t('object', [])   : 13 | ['poc_ppg_id', 'ppg_name', 'unique_poc_id', 'poc_ppg_cluster', 'category_name', ...]\n",
      "\tTypes of features in processed data (raw dtype, special dtypes):\n",
      "\t\t('category', [])             : 12 | ['poc_ppg_id', 'ppg_name', 'unique_poc_id', 'poc_ppg_cluster', 'price_segment', ...]\n",
      "\t\t('float', [])                : 47 | ['ppg_seasonality_index', 'poc_seasonality_index', 'sales_lag_12', 'sales_lag_13', 'sales_lag_14', ...]\n",
      "\t\t('int', [])                  :  3 | ['year', 'month', 'quarter']\n",
      "\t\t('int', ['bool'])            :  3 | ['sample_submission_flag', 'id_life_flag', 'category_name']\n",
      "\t\t('int', ['datetime_as_int']) :  2 | ['year_month_start_date', 'year_month_start_date.dayofweek']\n",
      "\t14.6s = Fit runtime\n",
      "\t66 features in original data used to generate 67 features in processed data.\n",
      "\tTrain Data (Processed) Memory Usage: 697.96 MB (0.7% of available memory)\n",
      "Data preprocessing and feature engineering runtime = 15.42s ...\n",
      "AutoGluon will gauge predictive performance using evaluation metric: 'mean_absolute_percentage_error'\n",
      "\tThis metric's sign has been flipped to adhere to being higher_is_better. The metric score can be multiplied by -1 to get the metric value.\n",
      "\tTo change this, specify the eval_metric parameter of Predictor()\n",
      "Automatically generating train/validation split with holdout_frac=0.02, Train Rows: 1648777, Val Rows: 33649\n",
      "User-specified model hyperparameters to be fit:\n",
      "{\n",
      "\t'GBM': {'num_boost_round': Int: lower=100, upper=1000, 'num_leaves': Int: lower=26, upper=66, 'learning_rate': Real: lower=0.001, upper=0.1},\n",
      "\t'XGB': {'max_depth': Int: lower=6, upper=15, 'eta': Real: lower=0.001, upper=0.1},\n",
      "}\n",
      "Fitting 2 L1 models ...\n",
      "Hyperparameter tuning model: LightGBM ...\n"
     ]
    },
    {
     "data": {
      "application/vnd.jupyter.widget-view+json": {
       "model_id": "dadc14c153e5481881fc1efd1a2903c5",
       "version_major": 2,
       "version_minor": 0
      },
      "text/plain": [
       "  0%|          | 0/15 [00:00<?, ?it/s]"
      ]
     },
     "metadata": {},
     "output_type": "display_data"
    },
    {
     "name": "stderr",
     "output_type": "stream",
     "text": [
      "Fitted model: LightGBM/T1 ...\n",
      "\t-1325306063470020.8\t = Validation score   (-mean_absolute_percentage_error)\n",
      "\t34.49s\t = Training   runtime\n",
      "\t0.03s\t = Validation runtime\n",
      "Fitted model: LightGBM/T2 ...\n",
      "\t-560627246766489.6\t = Validation score   (-mean_absolute_percentage_error)\n",
      "\t160.0s\t = Training   runtime\n",
      "\t0.99s\t = Validation runtime\n",
      "Fitted model: LightGBM/T3 ...\n",
      "\t-548138762298945.3\t = Validation score   (-mean_absolute_percentage_error)\n",
      "\t234.09s\t = Training   runtime\n",
      "\t1.39s\t = Validation runtime\n",
      "Fitted model: LightGBM/T4 ...\n",
      "\t-516494500450484.25\t = Validation score   (-mean_absolute_percentage_error)\n",
      "\t217.04s\t = Training   runtime\n",
      "\t1.19s\t = Validation runtime\n",
      "Fitted model: LightGBM/T5 ...\n",
      "\t-567126306902170.4\t = Validation score   (-mean_absolute_percentage_error)\n",
      "\t175.35s\t = Training   runtime\n",
      "\t0.62s\t = Validation runtime\n",
      "Fitted model: LightGBM/T6 ...\n",
      "\t-876385165537601.0\t = Validation score   (-mean_absolute_percentage_error)\n",
      "\t124.13s\t = Training   runtime\n",
      "\t0.14s\t = Validation runtime\n",
      "Fitted model: LightGBM/T7 ...\n",
      "\t-555910038028877.6\t = Validation score   (-mean_absolute_percentage_error)\n",
      "\t52.54s\t = Training   runtime\n",
      "\t0.14s\t = Validation runtime\n",
      "Fitted model: LightGBM/T8 ...\n",
      "\t-572666415866513.4\t = Validation score   (-mean_absolute_percentage_error)\n",
      "\t119.19s\t = Training   runtime\n",
      "\t0.34s\t = Validation runtime\n",
      "Fitted model: LightGBM/T9 ...\n",
      "\t-576782748503575.9\t = Validation score   (-mean_absolute_percentage_error)\n",
      "\t120.31s\t = Training   runtime\n",
      "\t0.4s\t = Validation runtime\n",
      "Fitted model: LightGBM/T10 ...\n",
      "\t-631508924673273.8\t = Validation score   (-mean_absolute_percentage_error)\n",
      "\t170.32s\t = Training   runtime\n",
      "\t0.34s\t = Validation runtime\n",
      "Fitted model: LightGBM/T11 ...\n",
      "\t-1041733135695403.2\t = Validation score   (-mean_absolute_percentage_error)\n",
      "\t138.35s\t = Training   runtime\n",
      "\t0.15s\t = Validation runtime\n",
      "Fitted model: LightGBM/T12 ...\n",
      "\t-551955650104387.2\t = Validation score   (-mean_absolute_percentage_error)\n",
      "\t40.98s\t = Training   runtime\n",
      "\t0.09s\t = Validation runtime\n",
      "Fitted model: LightGBM/T13 ...\n",
      "\t-605854897018337.6\t = Validation score   (-mean_absolute_percentage_error)\n",
      "\t33.14s\t = Training   runtime\n",
      "\t0.06s\t = Validation runtime\n",
      "Fitted model: LightGBM/T14 ...\n",
      "\t-1196721202820721.5\t = Validation score   (-mean_absolute_percentage_error)\n",
      "\t27.5s\t = Training   runtime\n",
      "\t0.03s\t = Validation runtime\n",
      "Fitted model: LightGBM/T15 ...\n",
      "\t-952998265571767.1\t = Validation score   (-mean_absolute_percentage_error)\n",
      "\t29.24s\t = Training   runtime\n",
      "\t0.04s\t = Validation runtime\n",
      "Hyperparameter tuning model: XGBoost ...\n"
     ]
    }
   ],
   "source": [
    "hyperparameters = {  # hyperparameters of each model type\n",
    "                   'GBM': gbm_options,\n",
    "                   'XGB': xgb_options, \n",
    "#                     \"CAT\":{},\n",
    "                  }  \n",
    "num_trials = 15  # try at most 5 different hyperparameter configurations for each type of model\n",
    "search_strategy = 'auto'  # to tune hyperparameters using random search routine with a local scheduler\n",
    "\n",
    "hyperparameter_tune_kwargs = {  # HPO is not performed unless hyperparameter_tune_kwargs is specified\n",
    "    'num_trials': num_trials,\n",
    "    'scheduler' : 'local',\n",
    "    'searcher': search_strategy,\n",
    "}  # Refer to TabularPredictor.fit docstring for all valid values\n",
    "\n",
    "predictor = TabularPredictor(label=label, eval_metric=metric).fit(\n",
    "    train_df,\n",
    "    hyperparameters=hyperparameters,\n",
    "    hyperparameter_tune_kwargs=hyperparameter_tune_kwargs, \n",
    "#     presets=\"high_quality\",\n",
    "#     refit_full=True\n",
    "\n",
    ")"
   ]
  },
  {
   "cell_type": "code",
   "execution_count": 20,
   "id": "a6388dfd",
   "metadata": {},
   "outputs": [],
   "source": [
    "# predictor = TabularPredictor.load('AutogluonModels/ag-20240719_140049')"
   ]
  },
  {
   "cell_type": "code",
   "execution_count": 23,
   "id": "a05c5e46",
   "metadata": {},
   "outputs": [
    {
     "name": "stdout",
     "output_type": "stream",
     "text": [
      "Predictions:   [3.4282121658325195, 3.8710477352142334, 3.722357749938965, 3.482429265975952, 5.536045551300049]\n"
     ]
    }
   ],
   "source": [
    "y_pred = predictor.predict(val_df_nolabel)\n",
    "print(\"Predictions:  \", list(y_pred)[:5])\n",
    "perf = predictor.evaluate(val_df, auxiliary_metrics=False)"
   ]
  },
  {
   "cell_type": "code",
   "execution_count": 24,
   "id": "58fe3d92",
   "metadata": {},
   "outputs": [
    {
     "data": {
      "text/html": [
       "<div>\n",
       "<style scoped>\n",
       "    .dataframe tbody tr th:only-of-type {\n",
       "        vertical-align: middle;\n",
       "    }\n",
       "\n",
       "    .dataframe tbody tr th {\n",
       "        vertical-align: top;\n",
       "    }\n",
       "\n",
       "    .dataframe thead th {\n",
       "        text-align: right;\n",
       "    }\n",
       "</style>\n",
       "<table border=\"1\" class=\"dataframe\">\n",
       "  <thead>\n",
       "    <tr style=\"text-align: right;\">\n",
       "      <th></th>\n",
       "      <th>model</th>\n",
       "      <th>score_test</th>\n",
       "      <th>score_val</th>\n",
       "      <th>eval_metric</th>\n",
       "      <th>pred_time_test</th>\n",
       "      <th>pred_time_val</th>\n",
       "      <th>fit_time</th>\n",
       "      <th>pred_time_test_marginal</th>\n",
       "      <th>pred_time_val_marginal</th>\n",
       "      <th>fit_time_marginal</th>\n",
       "      <th>stack_level</th>\n",
       "      <th>can_infer</th>\n",
       "      <th>fit_order</th>\n",
       "    </tr>\n",
       "  </thead>\n",
       "  <tbody>\n",
       "    <tr>\n",
       "      <th>0</th>\n",
       "      <td>LightGBM/T4</td>\n",
       "      <td>-0.478273</td>\n",
       "      <td>-0.498304</td>\n",
       "      <td>symmetric_mean_absolute_percentage_error</td>\n",
       "      <td>2.063852</td>\n",
       "      <td>0.676666</td>\n",
       "      <td>118.621577</td>\n",
       "      <td>2.063852</td>\n",
       "      <td>0.676666</td>\n",
       "      <td>118.621577</td>\n",
       "      <td>1</td>\n",
       "      <td>True</td>\n",
       "      <td>4</td>\n",
       "    </tr>\n",
       "    <tr>\n",
       "      <th>1</th>\n",
       "      <td>WeightedEnsemble_L2</td>\n",
       "      <td>-0.479375</td>\n",
       "      <td>-0.484791</td>\n",
       "      <td>symmetric_mean_absolute_percentage_error</td>\n",
       "      <td>13.329825</td>\n",
       "      <td>59.059402</td>\n",
       "      <td>855.353684</td>\n",
       "      <td>0.019987</td>\n",
       "      <td>0.000866</td>\n",
       "      <td>0.069898</td>\n",
       "      <td>2</td>\n",
       "      <td>True</td>\n",
       "      <td>32</td>\n",
       "    </tr>\n",
       "    <tr>\n",
       "      <th>2</th>\n",
       "      <td>XGBoost/T3</td>\n",
       "      <td>-0.480110</td>\n",
       "      <td>-0.485160</td>\n",
       "      <td>symmetric_mean_absolute_percentage_error</td>\n",
       "      <td>4.322467</td>\n",
       "      <td>0.454958</td>\n",
       "      <td>141.157547</td>\n",
       "      <td>4.322467</td>\n",
       "      <td>0.454958</td>\n",
       "      <td>141.157547</td>\n",
       "      <td>1</td>\n",
       "      <td>True</td>\n",
       "      <td>19</td>\n",
       "    </tr>\n",
       "    <tr>\n",
       "      <th>3</th>\n",
       "      <td>XGBoost/T4</td>\n",
       "      <td>-0.480552</td>\n",
       "      <td>-0.486348</td>\n",
       "      <td>symmetric_mean_absolute_percentage_error</td>\n",
       "      <td>1.767745</td>\n",
       "      <td>0.204395</td>\n",
       "      <td>38.535929</td>\n",
       "      <td>1.767745</td>\n",
       "      <td>0.204395</td>\n",
       "      <td>38.535929</td>\n",
       "      <td>1</td>\n",
       "      <td>True</td>\n",
       "      <td>20</td>\n",
       "    </tr>\n",
       "    <tr>\n",
       "      <th>4</th>\n",
       "      <td>XGBoost/T7</td>\n",
       "      <td>-0.483502</td>\n",
       "      <td>-0.488049</td>\n",
       "      <td>symmetric_mean_absolute_percentage_error</td>\n",
       "      <td>1.872818</td>\n",
       "      <td>0.215923</td>\n",
       "      <td>40.328414</td>\n",
       "      <td>1.872818</td>\n",
       "      <td>0.215923</td>\n",
       "      <td>40.328414</td>\n",
       "      <td>1</td>\n",
       "      <td>True</td>\n",
       "      <td>23</td>\n",
       "    </tr>\n",
       "    <tr>\n",
       "      <th>5</th>\n",
       "      <td>LightGBM/T3</td>\n",
       "      <td>-0.483976</td>\n",
       "      <td>-0.501908</td>\n",
       "      <td>symmetric_mean_absolute_percentage_error</td>\n",
       "      <td>1.925297</td>\n",
       "      <td>0.759296</td>\n",
       "      <td>117.827363</td>\n",
       "      <td>1.925297</td>\n",
       "      <td>0.759296</td>\n",
       "      <td>117.827363</td>\n",
       "      <td>1</td>\n",
       "      <td>True</td>\n",
       "      <td>3</td>\n",
       "    </tr>\n",
       "    <tr>\n",
       "      <th>6</th>\n",
       "      <td>ExtraTrees</td>\n",
       "      <td>-0.486731</td>\n",
       "      <td>-0.501386</td>\n",
       "      <td>symmetric_mean_absolute_percentage_error</td>\n",
       "      <td>5.155774</td>\n",
       "      <td>57.722517</td>\n",
       "      <td>556.968734</td>\n",
       "      <td>5.155774</td>\n",
       "      <td>57.722517</td>\n",
       "      <td>556.968734</td>\n",
       "      <td>1</td>\n",
       "      <td>True</td>\n",
       "      <td>16</td>\n",
       "    </tr>\n",
       "    <tr>\n",
       "      <th>7</th>\n",
       "      <td>LightGBM/T5</td>\n",
       "      <td>-0.487586</td>\n",
       "      <td>-0.505807</td>\n",
       "      <td>symmetric_mean_absolute_percentage_error</td>\n",
       "      <td>1.567196</td>\n",
       "      <td>0.491575</td>\n",
       "      <td>104.306359</td>\n",
       "      <td>1.567196</td>\n",
       "      <td>0.491575</td>\n",
       "      <td>104.306359</td>\n",
       "      <td>1</td>\n",
       "      <td>True</td>\n",
       "      <td>5</td>\n",
       "    </tr>\n",
       "    <tr>\n",
       "      <th>8</th>\n",
       "      <td>LightGBM/T8</td>\n",
       "      <td>-0.488001</td>\n",
       "      <td>-0.504241</td>\n",
       "      <td>symmetric_mean_absolute_percentage_error</td>\n",
       "      <td>1.277880</td>\n",
       "      <td>0.281002</td>\n",
       "      <td>75.258482</td>\n",
       "      <td>1.277880</td>\n",
       "      <td>0.281002</td>\n",
       "      <td>75.258482</td>\n",
       "      <td>1</td>\n",
       "      <td>True</td>\n",
       "      <td>8</td>\n",
       "    </tr>\n",
       "    <tr>\n",
       "      <th>9</th>\n",
       "      <td>LightGBM/T10</td>\n",
       "      <td>-0.488111</td>\n",
       "      <td>-0.504939</td>\n",
       "      <td>symmetric_mean_absolute_percentage_error</td>\n",
       "      <td>2.045429</td>\n",
       "      <td>0.570171</td>\n",
       "      <td>126.875598</td>\n",
       "      <td>2.045429</td>\n",
       "      <td>0.570171</td>\n",
       "      <td>126.875598</td>\n",
       "      <td>1</td>\n",
       "      <td>True</td>\n",
       "      <td>10</td>\n",
       "    </tr>\n",
       "    <tr>\n",
       "      <th>10</th>\n",
       "      <td>XGBoost/T13</td>\n",
       "      <td>-0.488519</td>\n",
       "      <td>-0.494237</td>\n",
       "      <td>symmetric_mean_absolute_percentage_error</td>\n",
       "      <td>2.270423</td>\n",
       "      <td>0.289570</td>\n",
       "      <td>87.000931</td>\n",
       "      <td>2.270423</td>\n",
       "      <td>0.289570</td>\n",
       "      <td>87.000931</td>\n",
       "      <td>1</td>\n",
       "      <td>True</td>\n",
       "      <td>29</td>\n",
       "    </tr>\n",
       "    <tr>\n",
       "      <th>11</th>\n",
       "      <td>LightGBM/T9</td>\n",
       "      <td>-0.488957</td>\n",
       "      <td>-0.507466</td>\n",
       "      <td>symmetric_mean_absolute_percentage_error</td>\n",
       "      <td>1.279839</td>\n",
       "      <td>0.278456</td>\n",
       "      <td>74.112851</td>\n",
       "      <td>1.279839</td>\n",
       "      <td>0.278456</td>\n",
       "      <td>74.112851</td>\n",
       "      <td>1</td>\n",
       "      <td>True</td>\n",
       "      <td>9</td>\n",
       "    </tr>\n",
       "    <tr>\n",
       "      <th>12</th>\n",
       "      <td>XGBoost/T8</td>\n",
       "      <td>-0.489542</td>\n",
       "      <td>-0.494546</td>\n",
       "      <td>symmetric_mean_absolute_percentage_error</td>\n",
       "      <td>1.613194</td>\n",
       "      <td>0.233359</td>\n",
       "      <td>34.837351</td>\n",
       "      <td>1.613194</td>\n",
       "      <td>0.233359</td>\n",
       "      <td>34.837351</td>\n",
       "      <td>1</td>\n",
       "      <td>True</td>\n",
       "      <td>24</td>\n",
       "    </tr>\n",
       "    <tr>\n",
       "      <th>13</th>\n",
       "      <td>XGBoost/T1</td>\n",
       "      <td>-0.489545</td>\n",
       "      <td>-0.495574</td>\n",
       "      <td>symmetric_mean_absolute_percentage_error</td>\n",
       "      <td>1.506739</td>\n",
       "      <td>0.193625</td>\n",
       "      <td>32.666425</td>\n",
       "      <td>1.506739</td>\n",
       "      <td>0.193625</td>\n",
       "      <td>32.666425</td>\n",
       "      <td>1</td>\n",
       "      <td>True</td>\n",
       "      <td>17</td>\n",
       "    </tr>\n",
       "    <tr>\n",
       "      <th>14</th>\n",
       "      <td>LightGBM/T7</td>\n",
       "      <td>-0.489707</td>\n",
       "      <td>-0.506477</td>\n",
       "      <td>symmetric_mean_absolute_percentage_error</td>\n",
       "      <td>0.446687</td>\n",
       "      <td>0.094461</td>\n",
       "      <td>30.094986</td>\n",
       "      <td>0.446687</td>\n",
       "      <td>0.094461</td>\n",
       "      <td>30.094986</td>\n",
       "      <td>1</td>\n",
       "      <td>True</td>\n",
       "      <td>7</td>\n",
       "    </tr>\n",
       "    <tr>\n",
       "      <th>15</th>\n",
       "      <td>LightGBM/T12</td>\n",
       "      <td>-0.489867</td>\n",
       "      <td>-0.504955</td>\n",
       "      <td>symmetric_mean_absolute_percentage_error</td>\n",
       "      <td>0.408483</td>\n",
       "      <td>0.069391</td>\n",
       "      <td>23.980463</td>\n",
       "      <td>0.408483</td>\n",
       "      <td>0.069391</td>\n",
       "      <td>23.980463</td>\n",
       "      <td>1</td>\n",
       "      <td>True</td>\n",
       "      <td>12</td>\n",
       "    </tr>\n",
       "    <tr>\n",
       "      <th>16</th>\n",
       "      <td>XGBoost/T15</td>\n",
       "      <td>-0.490603</td>\n",
       "      <td>-0.498099</td>\n",
       "      <td>symmetric_mean_absolute_percentage_error</td>\n",
       "      <td>1.800196</td>\n",
       "      <td>0.220207</td>\n",
       "      <td>58.982645</td>\n",
       "      <td>1.800196</td>\n",
       "      <td>0.220207</td>\n",
       "      <td>58.982645</td>\n",
       "      <td>1</td>\n",
       "      <td>True</td>\n",
       "      <td>31</td>\n",
       "    </tr>\n",
       "    <tr>\n",
       "      <th>17</th>\n",
       "      <td>LightGBM/T11</td>\n",
       "      <td>-0.490689</td>\n",
       "      <td>-0.505192</td>\n",
       "      <td>symmetric_mean_absolute_percentage_error</td>\n",
       "      <td>1.695097</td>\n",
       "      <td>0.467020</td>\n",
       "      <td>105.662593</td>\n",
       "      <td>1.695097</td>\n",
       "      <td>0.467020</td>\n",
       "      <td>105.662593</td>\n",
       "      <td>1</td>\n",
       "      <td>True</td>\n",
       "      <td>11</td>\n",
       "    </tr>\n",
       "    <tr>\n",
       "      <th>18</th>\n",
       "      <td>XGBoost/T5</td>\n",
       "      <td>-0.490711</td>\n",
       "      <td>-0.498291</td>\n",
       "      <td>symmetric_mean_absolute_percentage_error</td>\n",
       "      <td>3.440530</td>\n",
       "      <td>0.398901</td>\n",
       "      <td>166.149760</td>\n",
       "      <td>3.440530</td>\n",
       "      <td>0.398901</td>\n",
       "      <td>166.149760</td>\n",
       "      <td>1</td>\n",
       "      <td>True</td>\n",
       "      <td>21</td>\n",
       "    </tr>\n",
       "    <tr>\n",
       "      <th>19</th>\n",
       "      <td>XGBoost/T2</td>\n",
       "      <td>-0.490809</td>\n",
       "      <td>-0.498300</td>\n",
       "      <td>symmetric_mean_absolute_percentage_error</td>\n",
       "      <td>1.800871</td>\n",
       "      <td>0.199805</td>\n",
       "      <td>42.166895</td>\n",
       "      <td>1.800871</td>\n",
       "      <td>0.199805</td>\n",
       "      <td>42.166895</td>\n",
       "      <td>1</td>\n",
       "      <td>True</td>\n",
       "      <td>18</td>\n",
       "    </tr>\n",
       "    <tr>\n",
       "      <th>20</th>\n",
       "      <td>XGBoost/T14</td>\n",
       "      <td>-0.490968</td>\n",
       "      <td>-0.498441</td>\n",
       "      <td>symmetric_mean_absolute_percentage_error</td>\n",
       "      <td>2.628563</td>\n",
       "      <td>0.315053</td>\n",
       "      <td>112.762335</td>\n",
       "      <td>2.628563</td>\n",
       "      <td>0.315053</td>\n",
       "      <td>112.762335</td>\n",
       "      <td>1</td>\n",
       "      <td>True</td>\n",
       "      <td>30</td>\n",
       "    </tr>\n",
       "    <tr>\n",
       "      <th>21</th>\n",
       "      <td>LightGBM/T13</td>\n",
       "      <td>-0.491474</td>\n",
       "      <td>-0.505829</td>\n",
       "      <td>symmetric_mean_absolute_percentage_error</td>\n",
       "      <td>0.397467</td>\n",
       "      <td>0.058643</td>\n",
       "      <td>27.876313</td>\n",
       "      <td>0.397467</td>\n",
       "      <td>0.058643</td>\n",
       "      <td>27.876313</td>\n",
       "      <td>1</td>\n",
       "      <td>True</td>\n",
       "      <td>13</td>\n",
       "    </tr>\n",
       "    <tr>\n",
       "      <th>22</th>\n",
       "      <td>LightGBM/T2</td>\n",
       "      <td>-0.491921</td>\n",
       "      <td>-0.509886</td>\n",
       "      <td>symmetric_mean_absolute_percentage_error</td>\n",
       "      <td>0.622057</td>\n",
       "      <td>0.112260</td>\n",
       "      <td>45.796524</td>\n",
       "      <td>0.622057</td>\n",
       "      <td>0.112260</td>\n",
       "      <td>45.796524</td>\n",
       "      <td>1</td>\n",
       "      <td>True</td>\n",
       "      <td>2</td>\n",
       "    </tr>\n",
       "    <tr>\n",
       "      <th>23</th>\n",
       "      <td>XGBoost/T6</td>\n",
       "      <td>-0.492469</td>\n",
       "      <td>-0.503071</td>\n",
       "      <td>symmetric_mean_absolute_percentage_error</td>\n",
       "      <td>1.580797</td>\n",
       "      <td>0.290780</td>\n",
       "      <td>30.144639</td>\n",
       "      <td>1.580797</td>\n",
       "      <td>0.290780</td>\n",
       "      <td>30.144639</td>\n",
       "      <td>1</td>\n",
       "      <td>True</td>\n",
       "      <td>22</td>\n",
       "    </tr>\n",
       "    <tr>\n",
       "      <th>24</th>\n",
       "      <td>XGBoost/T12</td>\n",
       "      <td>-0.492756</td>\n",
       "      <td>-0.503341</td>\n",
       "      <td>symmetric_mean_absolute_percentage_error</td>\n",
       "      <td>2.463032</td>\n",
       "      <td>0.298770</td>\n",
       "      <td>116.189578</td>\n",
       "      <td>2.463032</td>\n",
       "      <td>0.298770</td>\n",
       "      <td>116.189578</td>\n",
       "      <td>1</td>\n",
       "      <td>True</td>\n",
       "      <td>28</td>\n",
       "    </tr>\n",
       "    <tr>\n",
       "      <th>25</th>\n",
       "      <td>LightGBM/T6</td>\n",
       "      <td>-0.493793</td>\n",
       "      <td>-0.510042</td>\n",
       "      <td>symmetric_mean_absolute_percentage_error</td>\n",
       "      <td>1.309065</td>\n",
       "      <td>0.471177</td>\n",
       "      <td>92.076979</td>\n",
       "      <td>1.309065</td>\n",
       "      <td>0.471177</td>\n",
       "      <td>92.076979</td>\n",
       "      <td>1</td>\n",
       "      <td>True</td>\n",
       "      <td>6</td>\n",
       "    </tr>\n",
       "    <tr>\n",
       "      <th>26</th>\n",
       "      <td>XGBoost/T11</td>\n",
       "      <td>-0.494088</td>\n",
       "      <td>-0.509347</td>\n",
       "      <td>symmetric_mean_absolute_percentage_error</td>\n",
       "      <td>1.756009</td>\n",
       "      <td>0.253901</td>\n",
       "      <td>63.915213</td>\n",
       "      <td>1.756009</td>\n",
       "      <td>0.253901</td>\n",
       "      <td>63.915213</td>\n",
       "      <td>1</td>\n",
       "      <td>True</td>\n",
       "      <td>27</td>\n",
       "    </tr>\n",
       "    <tr>\n",
       "      <th>27</th>\n",
       "      <td>XGBoost/T10</td>\n",
       "      <td>-0.494116</td>\n",
       "      <td>-0.508860</td>\n",
       "      <td>symmetric_mean_absolute_percentage_error</td>\n",
       "      <td>2.236966</td>\n",
       "      <td>0.271281</td>\n",
       "      <td>101.047618</td>\n",
       "      <td>2.236966</td>\n",
       "      <td>0.271281</td>\n",
       "      <td>101.047618</td>\n",
       "      <td>1</td>\n",
       "      <td>True</td>\n",
       "      <td>26</td>\n",
       "    </tr>\n",
       "    <tr>\n",
       "      <th>28</th>\n",
       "      <td>XGBoost/T9</td>\n",
       "      <td>-0.494720</td>\n",
       "      <td>-0.512914</td>\n",
       "      <td>symmetric_mean_absolute_percentage_error</td>\n",
       "      <td>2.487514</td>\n",
       "      <td>0.309644</td>\n",
       "      <td>151.594709</td>\n",
       "      <td>2.487514</td>\n",
       "      <td>0.309644</td>\n",
       "      <td>151.594709</td>\n",
       "      <td>1</td>\n",
       "      <td>True</td>\n",
       "      <td>25</td>\n",
       "    </tr>\n",
       "    <tr>\n",
       "      <th>29</th>\n",
       "      <td>LightGBM/T15</td>\n",
       "      <td>-0.498003</td>\n",
       "      <td>-0.522880</td>\n",
       "      <td>symmetric_mean_absolute_percentage_error</td>\n",
       "      <td>0.349114</td>\n",
       "      <td>0.042442</td>\n",
       "      <td>23.531527</td>\n",
       "      <td>0.349114</td>\n",
       "      <td>0.042442</td>\n",
       "      <td>23.531527</td>\n",
       "      <td>1</td>\n",
       "      <td>True</td>\n",
       "      <td>15</td>\n",
       "    </tr>\n",
       "    <tr>\n",
       "      <th>30</th>\n",
       "      <td>LightGBM/T14</td>\n",
       "      <td>-0.506135</td>\n",
       "      <td>-0.542386</td>\n",
       "      <td>symmetric_mean_absolute_percentage_error</td>\n",
       "      <td>0.260064</td>\n",
       "      <td>0.031475</td>\n",
       "      <td>19.584887</td>\n",
       "      <td>0.260064</td>\n",
       "      <td>0.031475</td>\n",
       "      <td>19.584887</td>\n",
       "      <td>1</td>\n",
       "      <td>True</td>\n",
       "      <td>14</td>\n",
       "    </tr>\n",
       "    <tr>\n",
       "      <th>31</th>\n",
       "      <td>LightGBM/T1</td>\n",
       "      <td>-0.515204</td>\n",
       "      <td>-0.557804</td>\n",
       "      <td>symmetric_mean_absolute_percentage_error</td>\n",
       "      <td>0.281912</td>\n",
       "      <td>0.044951</td>\n",
       "      <td>24.020249</td>\n",
       "      <td>0.281912</td>\n",
       "      <td>0.044951</td>\n",
       "      <td>24.020249</td>\n",
       "      <td>1</td>\n",
       "      <td>True</td>\n",
       "      <td>1</td>\n",
       "    </tr>\n",
       "  </tbody>\n",
       "</table>\n",
       "</div>"
      ],
      "text/plain": [
       "                  model  score_test  score_val  \\\n",
       "0           LightGBM/T4   -0.478273  -0.498304   \n",
       "1   WeightedEnsemble_L2   -0.479375  -0.484791   \n",
       "2            XGBoost/T3   -0.480110  -0.485160   \n",
       "3            XGBoost/T4   -0.480552  -0.486348   \n",
       "4            XGBoost/T7   -0.483502  -0.488049   \n",
       "5           LightGBM/T3   -0.483976  -0.501908   \n",
       "6            ExtraTrees   -0.486731  -0.501386   \n",
       "7           LightGBM/T5   -0.487586  -0.505807   \n",
       "8           LightGBM/T8   -0.488001  -0.504241   \n",
       "9          LightGBM/T10   -0.488111  -0.504939   \n",
       "10          XGBoost/T13   -0.488519  -0.494237   \n",
       "11          LightGBM/T9   -0.488957  -0.507466   \n",
       "12           XGBoost/T8   -0.489542  -0.494546   \n",
       "13           XGBoost/T1   -0.489545  -0.495574   \n",
       "14          LightGBM/T7   -0.489707  -0.506477   \n",
       "15         LightGBM/T12   -0.489867  -0.504955   \n",
       "16          XGBoost/T15   -0.490603  -0.498099   \n",
       "17         LightGBM/T11   -0.490689  -0.505192   \n",
       "18           XGBoost/T5   -0.490711  -0.498291   \n",
       "19           XGBoost/T2   -0.490809  -0.498300   \n",
       "20          XGBoost/T14   -0.490968  -0.498441   \n",
       "21         LightGBM/T13   -0.491474  -0.505829   \n",
       "22          LightGBM/T2   -0.491921  -0.509886   \n",
       "23           XGBoost/T6   -0.492469  -0.503071   \n",
       "24          XGBoost/T12   -0.492756  -0.503341   \n",
       "25          LightGBM/T6   -0.493793  -0.510042   \n",
       "26          XGBoost/T11   -0.494088  -0.509347   \n",
       "27          XGBoost/T10   -0.494116  -0.508860   \n",
       "28           XGBoost/T9   -0.494720  -0.512914   \n",
       "29         LightGBM/T15   -0.498003  -0.522880   \n",
       "30         LightGBM/T14   -0.506135  -0.542386   \n",
       "31          LightGBM/T1   -0.515204  -0.557804   \n",
       "\n",
       "                                 eval_metric  pred_time_test  pred_time_val  \\\n",
       "0   symmetric_mean_absolute_percentage_error        2.063852       0.676666   \n",
       "1   symmetric_mean_absolute_percentage_error       13.329825      59.059402   \n",
       "2   symmetric_mean_absolute_percentage_error        4.322467       0.454958   \n",
       "3   symmetric_mean_absolute_percentage_error        1.767745       0.204395   \n",
       "4   symmetric_mean_absolute_percentage_error        1.872818       0.215923   \n",
       "5   symmetric_mean_absolute_percentage_error        1.925297       0.759296   \n",
       "6   symmetric_mean_absolute_percentage_error        5.155774      57.722517   \n",
       "7   symmetric_mean_absolute_percentage_error        1.567196       0.491575   \n",
       "8   symmetric_mean_absolute_percentage_error        1.277880       0.281002   \n",
       "9   symmetric_mean_absolute_percentage_error        2.045429       0.570171   \n",
       "10  symmetric_mean_absolute_percentage_error        2.270423       0.289570   \n",
       "11  symmetric_mean_absolute_percentage_error        1.279839       0.278456   \n",
       "12  symmetric_mean_absolute_percentage_error        1.613194       0.233359   \n",
       "13  symmetric_mean_absolute_percentage_error        1.506739       0.193625   \n",
       "14  symmetric_mean_absolute_percentage_error        0.446687       0.094461   \n",
       "15  symmetric_mean_absolute_percentage_error        0.408483       0.069391   \n",
       "16  symmetric_mean_absolute_percentage_error        1.800196       0.220207   \n",
       "17  symmetric_mean_absolute_percentage_error        1.695097       0.467020   \n",
       "18  symmetric_mean_absolute_percentage_error        3.440530       0.398901   \n",
       "19  symmetric_mean_absolute_percentage_error        1.800871       0.199805   \n",
       "20  symmetric_mean_absolute_percentage_error        2.628563       0.315053   \n",
       "21  symmetric_mean_absolute_percentage_error        0.397467       0.058643   \n",
       "22  symmetric_mean_absolute_percentage_error        0.622057       0.112260   \n",
       "23  symmetric_mean_absolute_percentage_error        1.580797       0.290780   \n",
       "24  symmetric_mean_absolute_percentage_error        2.463032       0.298770   \n",
       "25  symmetric_mean_absolute_percentage_error        1.309065       0.471177   \n",
       "26  symmetric_mean_absolute_percentage_error        1.756009       0.253901   \n",
       "27  symmetric_mean_absolute_percentage_error        2.236966       0.271281   \n",
       "28  symmetric_mean_absolute_percentage_error        2.487514       0.309644   \n",
       "29  symmetric_mean_absolute_percentage_error        0.349114       0.042442   \n",
       "30  symmetric_mean_absolute_percentage_error        0.260064       0.031475   \n",
       "31  symmetric_mean_absolute_percentage_error        0.281912       0.044951   \n",
       "\n",
       "      fit_time  pred_time_test_marginal  pred_time_val_marginal  \\\n",
       "0   118.621577                 2.063852                0.676666   \n",
       "1   855.353684                 0.019987                0.000866   \n",
       "2   141.157547                 4.322467                0.454958   \n",
       "3    38.535929                 1.767745                0.204395   \n",
       "4    40.328414                 1.872818                0.215923   \n",
       "5   117.827363                 1.925297                0.759296   \n",
       "6   556.968734                 5.155774               57.722517   \n",
       "7   104.306359                 1.567196                0.491575   \n",
       "8    75.258482                 1.277880                0.281002   \n",
       "9   126.875598                 2.045429                0.570171   \n",
       "10   87.000931                 2.270423                0.289570   \n",
       "11   74.112851                 1.279839                0.278456   \n",
       "12   34.837351                 1.613194                0.233359   \n",
       "13   32.666425                 1.506739                0.193625   \n",
       "14   30.094986                 0.446687                0.094461   \n",
       "15   23.980463                 0.408483                0.069391   \n",
       "16   58.982645                 1.800196                0.220207   \n",
       "17  105.662593                 1.695097                0.467020   \n",
       "18  166.149760                 3.440530                0.398901   \n",
       "19   42.166895                 1.800871                0.199805   \n",
       "20  112.762335                 2.628563                0.315053   \n",
       "21   27.876313                 0.397467                0.058643   \n",
       "22   45.796524                 0.622057                0.112260   \n",
       "23   30.144639                 1.580797                0.290780   \n",
       "24  116.189578                 2.463032                0.298770   \n",
       "25   92.076979                 1.309065                0.471177   \n",
       "26   63.915213                 1.756009                0.253901   \n",
       "27  101.047618                 2.236966                0.271281   \n",
       "28  151.594709                 2.487514                0.309644   \n",
       "29   23.531527                 0.349114                0.042442   \n",
       "30   19.584887                 0.260064                0.031475   \n",
       "31   24.020249                 0.281912                0.044951   \n",
       "\n",
       "    fit_time_marginal  stack_level  can_infer  fit_order  \n",
       "0          118.621577            1       True          4  \n",
       "1            0.069898            2       True         32  \n",
       "2          141.157547            1       True         19  \n",
       "3           38.535929            1       True         20  \n",
       "4           40.328414            1       True         23  \n",
       "5          117.827363            1       True          3  \n",
       "6          556.968734            1       True         16  \n",
       "7          104.306359            1       True          5  \n",
       "8           75.258482            1       True          8  \n",
       "9          126.875598            1       True         10  \n",
       "10          87.000931            1       True         29  \n",
       "11          74.112851            1       True          9  \n",
       "12          34.837351            1       True         24  \n",
       "13          32.666425            1       True         17  \n",
       "14          30.094986            1       True          7  \n",
       "15          23.980463            1       True         12  \n",
       "16          58.982645            1       True         31  \n",
       "17         105.662593            1       True         11  \n",
       "18         166.149760            1       True         21  \n",
       "19          42.166895            1       True         18  \n",
       "20         112.762335            1       True         30  \n",
       "21          27.876313            1       True         13  \n",
       "22          45.796524            1       True          2  \n",
       "23          30.144639            1       True         22  \n",
       "24         116.189578            1       True         28  \n",
       "25          92.076979            1       True          6  \n",
       "26          63.915213            1       True         27  \n",
       "27         101.047618            1       True         26  \n",
       "28         151.594709            1       True         25  \n",
       "29          23.531527            1       True         15  \n",
       "30          19.584887            1       True         14  \n",
       "31          24.020249            1       True          1  "
      ]
     },
     "execution_count": 24,
     "metadata": {},
     "output_type": "execute_result"
    }
   ],
   "source": [
    "predictor.leaderboard(val_df)"
   ]
  },
  {
   "cell_type": "code",
   "execution_count": 25,
   "id": "1cbca8cd",
   "metadata": {},
   "outputs": [
    {
     "name": "stdout",
     "output_type": "stream",
     "text": [
      "*** Summary of fit() ***\n",
      "Estimated performance of each model:\n",
      "                  model  score_val                               eval_metric  pred_time_val    fit_time  pred_time_val_marginal  fit_time_marginal  stack_level  can_infer  fit_order\n",
      "0   WeightedEnsemble_L2  -0.484791  symmetric_mean_absolute_percentage_error      59.059402  855.353684                0.000866           0.069898            2       True         32\n",
      "1            XGBoost/T3  -0.485160  symmetric_mean_absolute_percentage_error       0.454958  141.157547                0.454958         141.157547            1       True         19\n",
      "2            XGBoost/T4  -0.486348  symmetric_mean_absolute_percentage_error       0.204395   38.535929                0.204395          38.535929            1       True         20\n",
      "3            XGBoost/T7  -0.488049  symmetric_mean_absolute_percentage_error       0.215923   40.328414                0.215923          40.328414            1       True         23\n",
      "4           XGBoost/T13  -0.494237  symmetric_mean_absolute_percentage_error       0.289570   87.000931                0.289570          87.000931            1       True         29\n",
      "5            XGBoost/T8  -0.494546  symmetric_mean_absolute_percentage_error       0.233359   34.837351                0.233359          34.837351            1       True         24\n",
      "6            XGBoost/T1  -0.495574  symmetric_mean_absolute_percentage_error       0.193625   32.666425                0.193625          32.666425            1       True         17\n",
      "7           XGBoost/T15  -0.498099  symmetric_mean_absolute_percentage_error       0.220207   58.982645                0.220207          58.982645            1       True         31\n",
      "8            XGBoost/T5  -0.498291  symmetric_mean_absolute_percentage_error       0.398901  166.149760                0.398901         166.149760            1       True         21\n",
      "9            XGBoost/T2  -0.498300  symmetric_mean_absolute_percentage_error       0.199805   42.166895                0.199805          42.166895            1       True         18\n",
      "10          LightGBM/T4  -0.498304  symmetric_mean_absolute_percentage_error       0.676666  118.621577                0.676666         118.621577            1       True          4\n",
      "11          XGBoost/T14  -0.498441  symmetric_mean_absolute_percentage_error       0.315053  112.762335                0.315053         112.762335            1       True         30\n",
      "12           ExtraTrees  -0.501386  symmetric_mean_absolute_percentage_error      57.722517  556.968734               57.722517         556.968734            1       True         16\n",
      "13          LightGBM/T3  -0.501908  symmetric_mean_absolute_percentage_error       0.759296  117.827363                0.759296         117.827363            1       True          3\n",
      "14           XGBoost/T6  -0.503071  symmetric_mean_absolute_percentage_error       0.290780   30.144639                0.290780          30.144639            1       True         22\n",
      "15          XGBoost/T12  -0.503341  symmetric_mean_absolute_percentage_error       0.298770  116.189578                0.298770         116.189578            1       True         28\n",
      "16          LightGBM/T8  -0.504241  symmetric_mean_absolute_percentage_error       0.281002   75.258482                0.281002          75.258482            1       True          8\n",
      "17         LightGBM/T10  -0.504939  symmetric_mean_absolute_percentage_error       0.570171  126.875598                0.570171         126.875598            1       True         10\n",
      "18         LightGBM/T12  -0.504955  symmetric_mean_absolute_percentage_error       0.069391   23.980463                0.069391          23.980463            1       True         12\n",
      "19         LightGBM/T11  -0.505192  symmetric_mean_absolute_percentage_error       0.467020  105.662593                0.467020         105.662593            1       True         11\n",
      "20          LightGBM/T5  -0.505807  symmetric_mean_absolute_percentage_error       0.491575  104.306359                0.491575         104.306359            1       True          5\n",
      "21         LightGBM/T13  -0.505829  symmetric_mean_absolute_percentage_error       0.058643   27.876313                0.058643          27.876313            1       True         13\n",
      "22          LightGBM/T7  -0.506477  symmetric_mean_absolute_percentage_error       0.094461   30.094986                0.094461          30.094986            1       True          7\n",
      "23          LightGBM/T9  -0.507466  symmetric_mean_absolute_percentage_error       0.278456   74.112851                0.278456          74.112851            1       True          9\n",
      "24          XGBoost/T10  -0.508860  symmetric_mean_absolute_percentage_error       0.271281  101.047618                0.271281         101.047618            1       True         26\n",
      "25          XGBoost/T11  -0.509347  symmetric_mean_absolute_percentage_error       0.253901   63.915213                0.253901          63.915213            1       True         27\n",
      "26          LightGBM/T2  -0.509886  symmetric_mean_absolute_percentage_error       0.112260   45.796524                0.112260          45.796524            1       True          2\n",
      "27          LightGBM/T6  -0.510042  symmetric_mean_absolute_percentage_error       0.471177   92.076979                0.471177          92.076979            1       True          6\n",
      "28           XGBoost/T9  -0.512914  symmetric_mean_absolute_percentage_error       0.309644  151.594709                0.309644         151.594709            1       True         25\n",
      "29         LightGBM/T15  -0.522880  symmetric_mean_absolute_percentage_error       0.042442   23.531527                0.042442          23.531527            1       True         15\n",
      "30         LightGBM/T14  -0.542386  symmetric_mean_absolute_percentage_error       0.031475   19.584887                0.031475          19.584887            1       True         14\n",
      "31          LightGBM/T1  -0.557804  symmetric_mean_absolute_percentage_error       0.044951   24.020249                0.044951          24.020249            1       True          1\n",
      "Number of models trained: 32\n",
      "Types of models trained:\n",
      "{'XGBoostModel', 'WeightedEnsembleModel', 'LGBModel', 'XTModel'}\n",
      "Bagging used: False \n",
      "Multi-layer stack-ensembling used: False \n",
      "Feature Metadata (Processed):\n",
      "(raw dtype, special dtypes):\n",
      "('category', [])             : 12 | ['poc_ppg_id', 'ppg_name', 'unique_poc_id', 'poc_ppg_cluster', 'price_segment', ...]\n",
      "('float', [])                : 47 | ['ppg_seasonality_index', 'poc_seasonality_index', 'sales_lag_12', 'sales_lag_13', 'sales_lag_14', ...]\n",
      "('int', [])                  :  3 | ['year', 'month', 'quarter']\n",
      "('int', ['bool'])            :  3 | ['sample_submission_flag', 'id_life_flag', 'category_name']\n",
      "('int', ['datetime_as_int']) :  2 | ['year_month_start_date', 'year_month_start_date.dayofweek']\n",
      "Plot summary of models saved to file: AutogluonModels/ag-20240719_140049SummaryOfModels.html\n",
      "*** End of fit() summary ***\n"
     ]
    }
   ],
   "source": [
    "results = predictor.fit_summary()"
   ]
  },
  {
   "cell_type": "code",
   "execution_count": 26,
   "id": "66af84c3",
   "metadata": {},
   "outputs": [
    {
     "data": {
      "text/plain": [
       "{'symmetric_mean_absolute_percentage_error': -0.47937503475118065,\n",
       " 'root_mean_squared_error': -17.401617912758425,\n",
       " 'mean_squared_error': -302.81630598163486,\n",
       " 'mean_absolute_error': -5.1891825199249535,\n",
       " 'r2': 0.9151017091440898,\n",
       " 'pearsonr': 0.9578939504012386,\n",
       " 'median_absolute_error': -1.6064415602813082}"
      ]
     },
     "execution_count": 26,
     "metadata": {},
     "output_type": "execute_result"
    }
   ],
   "source": [
    "predictor.evaluate(val_df)"
   ]
  },
  {
   "cell_type": "code",
   "execution_count": 49,
   "id": "cde148a4",
   "metadata": {},
   "outputs": [
    {
     "name": "stderr",
     "output_type": "stream",
     "text": [
      "Computing feature importance via permutation shuffling for 66 features using 97137 rows with 3 shuffle sets...\n",
      "\t2333.86s\t= Expected runtime (777.95s per shuffle set)\n",
      "\t782.16s\t= Actual runtime (Completed 3 of 3 shuffle sets)\n"
     ]
    }
   ],
   "source": [
    "feats_df = predictor.feature_importance(val_df,subsample_size=int(len(val_df)/3),num_shuffle_sets=3)"
   ]
  },
  {
   "cell_type": "code",
   "execution_count": 55,
   "id": "156c43d3",
   "metadata": {},
   "outputs": [],
   "source": [
    "feats_df.to_pickle(os.path.join(os.getcwd(),\"sample_submissions\",'feat_imp_all_feats.pkl'))"
   ]
  },
  {
   "cell_type": "code",
   "execution_count": 135,
   "id": "47aaf712",
   "metadata": {},
   "outputs": [
    {
     "data": {
      "text/plain": [
       "['sales_roll_mean_9',\n",
       " 'sales_roll_mean_3',\n",
       " 'sales_roll_mean_6',\n",
       " 'sales_ewm_alpha_08_lag_14',\n",
       " 'sales_ewm_alpha_08_lag_13',\n",
       " 'sales_ewm_alpha_08_lag_12',\n",
       " 'sales_ewm_alpha_095_lag_14',\n",
       " 'sales_ewm_alpha_095_lag_13',\n",
       " 'sales_lag_15',\n",
       " 'sales_ewm_alpha_09_lag_12',\n",
       " 'sales_ewm_alpha_09_lag_13',\n",
       " 'id_life_flag',\n",
       " 'sales_ewm_alpha_095_lag_12',\n",
       " 'sales_ewm_alpha_09_lag_14',\n",
       " 'segment',\n",
       " 'sales_lag_14',\n",
       " 'ppg_name',\n",
       " 'sales_lag_13',\n",
       " 'sales_lag_12',\n",
       " 'subchannel',\n",
       " 'sales_lag_13_diff',\n",
       " 'channel_type',\n",
       " 'unique_poc_id',\n",
       " 'sales_lag_15_diff',\n",
       " 'poc_ppg_cluster',\n",
       " 'sales_lag_14_diff',\n",
       " 'poc_ppg_id',\n",
       " 'nr_hl',\n",
       " 'maco_hl',\n",
       " 'poc_seasonality_index',\n",
       " 'brand',\n",
       " 'ppg_seasonality_index',\n",
       " 'price_segment']"
      ]
     },
     "execution_count": 135,
     "metadata": {},
     "output_type": "execute_result"
    }
   ],
   "source": [
    "feats_df.head(33).index.tolist()"
   ]
  },
  {
   "cell_type": "markdown",
   "id": "2738d888",
   "metadata": {},
   "source": [
    "###### Predictions"
   ]
  },
  {
   "cell_type": "code",
   "execution_count": 57,
   "id": "b4278587",
   "metadata": {},
   "outputs": [],
   "source": [
    "id_month_vol_bands = pd.read_pickle(\n",
    "    os.path.join(\n",
    "        os.getcwd(), processed_data_folder, \"id_month_vol_bands.pkl\"\n",
    "    )\n",
    ")"
   ]
  },
  {
   "cell_type": "code",
   "execution_count": 58,
   "id": "79ab9810",
   "metadata": {},
   "outputs": [
    {
     "data": {
      "text/html": [
       "<div>\n",
       "<style scoped>\n",
       "    .dataframe tbody tr th:only-of-type {\n",
       "        vertical-align: middle;\n",
       "    }\n",
       "\n",
       "    .dataframe tbody tr th {\n",
       "        vertical-align: top;\n",
       "    }\n",
       "\n",
       "    .dataframe thead th {\n",
       "        text-align: right;\n",
       "    }\n",
       "</style>\n",
       "<table border=\"1\" class=\"dataframe\">\n",
       "  <thead>\n",
       "    <tr style=\"text-align: right;\">\n",
       "      <th></th>\n",
       "      <th>poc_ppg_id</th>\n",
       "      <th>month</th>\n",
       "      <th>low_band</th>\n",
       "      <th>high_band</th>\n",
       "      <th>max_band</th>\n",
       "    </tr>\n",
       "  </thead>\n",
       "  <tbody>\n",
       "    <tr>\n",
       "      <th>0</th>\n",
       "      <td>AAAC__CJ_C_FN_M</td>\n",
       "      <td>1</td>\n",
       "      <td>0.030658</td>\n",
       "      <td>0.610095</td>\n",
       "      <td>0.612547</td>\n",
       "    </tr>\n",
       "    <tr>\n",
       "      <th>1</th>\n",
       "      <td>AAAC__CJ_C_FN_M</td>\n",
       "      <td>2</td>\n",
       "      <td>0.000000</td>\n",
       "      <td>0.000000</td>\n",
       "      <td>0.000000</td>\n",
       "    </tr>\n",
       "    <tr>\n",
       "      <th>2</th>\n",
       "      <td>AAAC__CJ_C_FN_M</td>\n",
       "      <td>3</td>\n",
       "      <td>0.061316</td>\n",
       "      <td>1.220190</td>\n",
       "      <td>1.225095</td>\n",
       "    </tr>\n",
       "    <tr>\n",
       "      <th>3</th>\n",
       "      <td>AAAC__CJ_C_FN_M</td>\n",
       "      <td>4</td>\n",
       "      <td>0.022483</td>\n",
       "      <td>0.447403</td>\n",
       "      <td>0.449201</td>\n",
       "    </tr>\n",
       "    <tr>\n",
       "      <th>4</th>\n",
       "      <td>AAAC__CJ_C_FN_M</td>\n",
       "      <td>5</td>\n",
       "      <td>0.265703</td>\n",
       "      <td>5.287488</td>\n",
       "      <td>5.308745</td>\n",
       "    </tr>\n",
       "  </tbody>\n",
       "</table>\n",
       "</div>"
      ],
      "text/plain": [
       "        poc_ppg_id  month  low_band  high_band  max_band\n",
       "0  AAAC__CJ_C_FN_M      1  0.030658   0.610095  0.612547\n",
       "1  AAAC__CJ_C_FN_M      2  0.000000   0.000000  0.000000\n",
       "2  AAAC__CJ_C_FN_M      3  0.061316   1.220190  1.225095\n",
       "3  AAAC__CJ_C_FN_M      4  0.022483   0.447403  0.449201\n",
       "4  AAAC__CJ_C_FN_M      5  0.265703   5.287488  5.308745"
      ]
     },
     "execution_count": 58,
     "metadata": {},
     "output_type": "execute_result"
    }
   ],
   "source": [
    "id_month_vol_bands.head()"
   ]
  },
  {
   "cell_type": "code",
   "execution_count": 88,
   "id": "6e6c8c3d",
   "metadata": {},
   "outputs": [],
   "source": [
    "test_df_id = test_df[['poc_ppg_id','ppg_name','unique_poc_id','year','month','quarter']]"
   ]
  },
  {
   "cell_type": "code",
   "execution_count": 74,
   "id": "ab60fc33",
   "metadata": {},
   "outputs": [],
   "source": [
    "y_pred_test = predictor.predict(test_df)"
   ]
  },
  {
   "cell_type": "code",
   "execution_count": 89,
   "id": "bd7fdaeb",
   "metadata": {},
   "outputs": [],
   "source": [
    "test_df_id['quarterly_sales_hl'] = y_pred_test"
   ]
  },
  {
   "cell_type": "code",
   "execution_count": 90,
   "id": "697616f2",
   "metadata": {},
   "outputs": [
    {
     "data": {
      "text/plain": [
       "13.372055"
      ]
     },
     "execution_count": 90,
     "metadata": {},
     "output_type": "execute_result"
    }
   ],
   "source": [
    "test_df_id['quarterly_sales_hl'].mean()"
   ]
  },
  {
   "cell_type": "code",
   "execution_count": 91,
   "id": "ba8d4955",
   "metadata": {},
   "outputs": [
    {
     "data": {
      "text/plain": [
       "Index(['poc_ppg_id', 'ppg_name', 'unique_poc_id', 'year', 'month', 'quarter',\n",
       "       'quarterly_sales_hl'],\n",
       "      dtype='object')"
      ]
     },
     "execution_count": 91,
     "metadata": {},
     "output_type": "execute_result"
    }
   ],
   "source": [
    "test_df_id.columns"
   ]
  },
  {
   "cell_type": "code",
   "execution_count": 92,
   "id": "6c1afc9d",
   "metadata": {},
   "outputs": [
    {
     "data": {
      "text/plain": [
       "(592044, 7)"
      ]
     },
     "execution_count": 92,
     "metadata": {},
     "output_type": "execute_result"
    }
   ],
   "source": [
    "test_df_id.shape"
   ]
  },
  {
   "cell_type": "code",
   "execution_count": 93,
   "id": "0920563d",
   "metadata": {},
   "outputs": [
    {
     "data": {
      "text/plain": [
       "(592044, 7)"
      ]
     },
     "execution_count": 93,
     "metadata": {},
     "output_type": "execute_result"
    }
   ],
   "source": [
    "test_df_id.drop_duplicates(['ppg_name','unique_poc_id','year','month']).shape"
   ]
  },
  {
   "cell_type": "code",
   "execution_count": 94,
   "id": "3ef5999a",
   "metadata": {},
   "outputs": [],
   "source": [
    "test_df_id = test_df_id.groupby(['poc_ppg_id','ppg_name','unique_poc_id','year','quarter','month'],as_index=False).agg({\"quarterly_sales_hl\":\"mean\"})"
   ]
  },
  {
   "cell_type": "code",
   "execution_count": 95,
   "id": "2084d580",
   "metadata": {},
   "outputs": [
    {
     "data": {
      "text/plain": [
       "13.372055"
      ]
     },
     "execution_count": 95,
     "metadata": {},
     "output_type": "execute_result"
    }
   ],
   "source": [
    "test_df_id['quarterly_sales_hl'].mean()"
   ]
  },
  {
   "cell_type": "code",
   "execution_count": 97,
   "id": "0410aeec",
   "metadata": {},
   "outputs": [
    {
     "data": {
      "text/plain": [
       "(592044, 7)"
      ]
     },
     "execution_count": 97,
     "metadata": {},
     "output_type": "execute_result"
    }
   ],
   "source": [
    "test_df_id.shape"
   ]
  },
  {
   "cell_type": "code",
   "execution_count": 83,
   "id": "c2e1e529",
   "metadata": {},
   "outputs": [
    {
     "data": {
      "text/html": [
       "<div>\n",
       "<style scoped>\n",
       "    .dataframe tbody tr th:only-of-type {\n",
       "        vertical-align: middle;\n",
       "    }\n",
       "\n",
       "    .dataframe tbody tr th {\n",
       "        vertical-align: top;\n",
       "    }\n",
       "\n",
       "    .dataframe thead th {\n",
       "        text-align: right;\n",
       "    }\n",
       "</style>\n",
       "<table border=\"1\" class=\"dataframe\">\n",
       "  <thead>\n",
       "    <tr style=\"text-align: right;\">\n",
       "      <th></th>\n",
       "      <th>poc_ppg_id</th>\n",
       "      <th>month</th>\n",
       "      <th>low_band</th>\n",
       "      <th>high_band</th>\n",
       "      <th>max_band</th>\n",
       "    </tr>\n",
       "  </thead>\n",
       "  <tbody>\n",
       "    <tr>\n",
       "      <th>0</th>\n",
       "      <td>AAAC__CJ_C_FN_M</td>\n",
       "      <td>1</td>\n",
       "      <td>0.030658</td>\n",
       "      <td>0.610095</td>\n",
       "      <td>0.612547</td>\n",
       "    </tr>\n",
       "    <tr>\n",
       "      <th>1</th>\n",
       "      <td>AAAC__CJ_C_FN_M</td>\n",
       "      <td>2</td>\n",
       "      <td>0.000000</td>\n",
       "      <td>0.000000</td>\n",
       "      <td>0.000000</td>\n",
       "    </tr>\n",
       "    <tr>\n",
       "      <th>2</th>\n",
       "      <td>AAAC__CJ_C_FN_M</td>\n",
       "      <td>3</td>\n",
       "      <td>0.061316</td>\n",
       "      <td>1.220190</td>\n",
       "      <td>1.225095</td>\n",
       "    </tr>\n",
       "    <tr>\n",
       "      <th>3</th>\n",
       "      <td>AAAC__CJ_C_FN_M</td>\n",
       "      <td>4</td>\n",
       "      <td>0.022483</td>\n",
       "      <td>0.447403</td>\n",
       "      <td>0.449201</td>\n",
       "    </tr>\n",
       "    <tr>\n",
       "      <th>4</th>\n",
       "      <td>AAAC__CJ_C_FN_M</td>\n",
       "      <td>5</td>\n",
       "      <td>0.265703</td>\n",
       "      <td>5.287488</td>\n",
       "      <td>5.308745</td>\n",
       "    </tr>\n",
       "  </tbody>\n",
       "</table>\n",
       "</div>"
      ],
      "text/plain": [
       "        poc_ppg_id  month  low_band  high_band  max_band\n",
       "0  AAAC__CJ_C_FN_M      1  0.030658   0.610095  0.612547\n",
       "1  AAAC__CJ_C_FN_M      2  0.000000   0.000000  0.000000\n",
       "2  AAAC__CJ_C_FN_M      3  0.061316   1.220190  1.225095\n",
       "3  AAAC__CJ_C_FN_M      4  0.022483   0.447403  0.449201\n",
       "4  AAAC__CJ_C_FN_M      5  0.265703   5.287488  5.308745"
      ]
     },
     "execution_count": 83,
     "metadata": {},
     "output_type": "execute_result"
    }
   ],
   "source": [
    "id_month_vol_bands.head()"
   ]
  },
  {
   "cell_type": "code",
   "execution_count": 99,
   "id": "4dbf61b6",
   "metadata": {},
   "outputs": [],
   "source": [
    "test_df_id = pd.merge(test_df_id,id_month_vol_bands, on =['poc_ppg_id','month'], how='left')"
   ]
  },
  {
   "cell_type": "code",
   "execution_count": 102,
   "id": "6fe290d1",
   "metadata": {},
   "outputs": [
    {
     "data": {
      "text/plain": [
       "poc_ppg_id            0\n",
       "ppg_name              0\n",
       "unique_poc_id         0\n",
       "year                  0\n",
       "quarter               0\n",
       "month                 0\n",
       "quarterly_sales_hl    0\n",
       "low_band              0\n",
       "high_band             0\n",
       "max_band              0\n",
       "dtype: int64"
      ]
     },
     "execution_count": 102,
     "metadata": {},
     "output_type": "execute_result"
    }
   ],
   "source": [
    "test_df_id.isnull().sum()"
   ]
  },
  {
   "cell_type": "code",
   "execution_count": 118,
   "id": "38beffbb",
   "metadata": {},
   "outputs": [],
   "source": [
    "def adjusted(x):\n",
    "    if x['quarterly_sales_hl'] <= x['low_band']:\n",
    "        return x['low_band']\n",
    "    elif x['quarterly_sales_hl'] >= 1.5 * x['max_band']:\n",
    "        return x['max_band']\n",
    "    else:\n",
    "        return x['quarterly_sales_hl']"
   ]
  },
  {
   "cell_type": "code",
   "execution_count": 119,
   "id": "05569e45",
   "metadata": {},
   "outputs": [],
   "source": [
    "test_df_id['quarterly_sales_hl_adjusted'] = test_df_id.apply(lambda x: adjusted(x) , axis=1)"
   ]
  },
  {
   "cell_type": "code",
   "execution_count": 120,
   "id": "3aad97f4",
   "metadata": {},
   "outputs": [
    {
     "data": {
      "text/plain": [
       "(13.372055, 3.397965)"
      ]
     },
     "execution_count": 120,
     "metadata": {},
     "output_type": "execute_result"
    }
   ],
   "source": [
    "test_df_id['quarterly_sales_hl'].mean() ,test_df_id['quarterly_sales_hl'].median()"
   ]
  },
  {
   "cell_type": "code",
   "execution_count": 121,
   "id": "e09c89b9",
   "metadata": {},
   "outputs": [
    {
     "data": {
      "text/plain": [
       "(11.990251300011572, 2.6435776948928833)"
      ]
     },
     "execution_count": 121,
     "metadata": {},
     "output_type": "execute_result"
    }
   ],
   "source": [
    "test_df_id['quarterly_sales_hl_adjusted'].mean(),test_df_id['quarterly_sales_hl_adjusted'].median()"
   ]
  },
  {
   "cell_type": "code",
   "execution_count": 122,
   "id": "4ec0ab7c",
   "metadata": {},
   "outputs": [],
   "source": [
    "test_df_id_qrtr = test_df_id.groupby(['ppg_name','unique_poc_id','year','quarter'],\n",
    "                                     as_index=False).agg({\"quarterly_sales_hl\":\"sum\",\n",
    "                                        'quarterly_sales_hl_adjusted':'sum'})"
   ]
  },
  {
   "cell_type": "code",
   "execution_count": 123,
   "id": "ddc0f36c",
   "metadata": {},
   "outputs": [
    {
     "data": {
      "text/plain": [
       "(197348, 6)"
      ]
     },
     "execution_count": 123,
     "metadata": {},
     "output_type": "execute_result"
    }
   ],
   "source": [
    "test_df_id_qrtr.shape"
   ]
  },
  {
   "cell_type": "code",
   "execution_count": 124,
   "id": "27d831cc",
   "metadata": {},
   "outputs": [],
   "source": [
    "submission_df = submission_df.drop(['quarterly_sales_hl'],axis=1) "
   ]
  },
  {
   "cell_type": "code",
   "execution_count": 125,
   "id": "e927c4c8",
   "metadata": {},
   "outputs": [],
   "source": [
    "submission_df_merge = pd.merge(submission_df,test_df_id_qrtr,\n",
    "                               on=[\"ppg_name\",\"unique_poc_id\",\"year\",\"quarter\"],\n",
    "                              how='left')"
   ]
  },
  {
   "cell_type": "code",
   "execution_count": 126,
   "id": "21e71ff9",
   "metadata": {},
   "outputs": [
    {
     "data": {
      "text/plain": [
       "year                           0\n",
       "quarter                        0\n",
       "ppg_name                       0\n",
       "unique_poc_id                  0\n",
       "quarterly_sales_hl             0\n",
       "quarterly_sales_hl_adjusted    0\n",
       "dtype: int64"
      ]
     },
     "execution_count": 126,
     "metadata": {},
     "output_type": "execute_result"
    }
   ],
   "source": [
    "submission_df_merge.isnull().sum()"
   ]
  },
  {
   "cell_type": "code",
   "execution_count": 129,
   "id": "89bbcba2",
   "metadata": {},
   "outputs": [],
   "source": [
    "iter_name = 2\n",
    "os.makedirs(os.path.join(os.getcwd(),\"sample_submissions\"), exist_ok=True)\n",
    "submission_df_merge.to_csv(os.path.join(os.getcwd(),\"sample_submissions\",f'Submission_{iter_name}.csv'),index=False)"
   ]
  },
  {
   "cell_type": "code",
   "execution_count": null,
   "id": "9db5408e",
   "metadata": {},
   "outputs": [],
   "source": []
  }
 ],
 "metadata": {
  "kernelspec": {
   "display_name": "torch_env",
   "language": "python",
   "name": "torch_env"
  },
  "language_info": {
   "codemirror_mode": {
    "name": "ipython",
    "version": 3
   },
   "file_extension": ".py",
   "mimetype": "text/x-python",
   "name": "python",
   "nbconvert_exporter": "python",
   "pygments_lexer": "ipython3",
   "version": "3.10.14"
  }
 },
 "nbformat": 4,
 "nbformat_minor": 5
}
