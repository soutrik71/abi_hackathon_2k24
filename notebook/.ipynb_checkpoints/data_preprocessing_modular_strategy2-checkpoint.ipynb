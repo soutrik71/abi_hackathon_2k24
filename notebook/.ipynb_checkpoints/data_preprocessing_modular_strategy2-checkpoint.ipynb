{
 "cells": [
  {
   "cell_type": "markdown",
   "id": "bf20f94b",
   "metadata": {},
   "source": [
    "* Volume Preprocessing both monthly and weekly\n",
    "* data prep for clustering\n",
    "* data prep for delisting"
   ]
  },
  {
   "cell_type": "code",
   "execution_count": 1,
   "id": "0faaa90a",
   "metadata": {},
   "outputs": [
    {
     "data": {
      "application/javascript": [
       "IPython.notebook.set_autosave_interval(300000)"
      ]
     },
     "metadata": {},
     "output_type": "display_data"
    },
    {
     "name": "stdout",
     "output_type": "stream",
     "text": [
      "Autosaving every 300 seconds\n"
     ]
    }
   ],
   "source": [
    "%autosave 300\n",
    "%reload_ext autoreload\n",
    "%autoreload 2\n",
    "%config Completer.use_jedi = False"
   ]
  },
  {
   "cell_type": "code",
   "execution_count": 2,
   "id": "00d477b6",
   "metadata": {},
   "outputs": [],
   "source": [
    "# import jupyter_black\n",
    "\n",
    "# jupyter_black.load()"
   ]
  },
  {
   "cell_type": "code",
   "execution_count": 3,
   "id": "85059acb",
   "metadata": {},
   "outputs": [
    {
     "name": "stdout",
     "output_type": "stream",
     "text": [
      "/mnt/batch/tasks/shared/LS_root/mounts/clusters/copilot-model-run/code/Users/Soutrik.Chowdhury/abi_hackathon_2k24\n"
     ]
    }
   ],
   "source": [
    "import os\n",
    "\n",
    "os.chdir(\n",
    "    r\"/mnt/batch/tasks/shared/LS_root/mounts/clusters/copilot-model-run/code/Users/Soutrik.Chowdhury/abi_hackathon_2k24\"\n",
    ")\n",
    "print(os.getcwd())"
   ]
  },
  {
   "cell_type": "code",
   "execution_count": 4,
   "id": "1f480c38",
   "metadata": {},
   "outputs": [],
   "source": [
    "import pandas as pd\n",
    "import numpy as np\n",
    "import matplotlib.pyplot as plt\n",
    "import seaborn as sns\n",
    "\n",
    "pd.set_option(\"display.max_columns\", None)\n",
    "pd.set_option(\"display.max_rows\", None)\n",
    "pd.set_option(\"display.max_colwidth\", None)\n",
    "pd.set_option(\"display.width\", None)\n",
    "from pandarallel import pandarallel\n",
    "import re\n",
    "from datetime import datetime\n",
    "import gc\n",
    "from sklearn.preprocessing import FunctionTransformer\n",
    "# from helpers.compress import reduce_mem_usage\n",
    "import pickle\n",
    "import warnings\n",
    "\n",
    "warnings.filterwarnings(\"ignore\")"
   ]
  },
  {
   "cell_type": "code",
   "execution_count": 5,
   "id": "29206564",
   "metadata": {},
   "outputs": [
    {
     "name": "stdout",
     "output_type": "stream",
     "text": [
      "INFO: Pandarallel will run on 14 workers.\n",
      "INFO: Pandarallel will use Memory file system to transfer data between the main process and workers.\n"
     ]
    }
   ],
   "source": [
    "pandarallel.initialize(progress_bar=True, nb_workers=os.cpu_count() - 2)"
   ]
  },
  {
   "cell_type": "code",
   "execution_count": 6,
   "id": "1db782f2",
   "metadata": {},
   "outputs": [],
   "source": [
    "data_folder = \"data\"\n",
    "processed_data_folder = \"processed_data_S2\""
   ]
  },
  {
   "cell_type": "markdown",
   "id": "e1c9d33a",
   "metadata": {},
   "source": [
    "##### Analysis"
   ]
  },
  {
   "cell_type": "code",
   "execution_count": 7,
   "id": "0e1312cb",
   "metadata": {},
   "outputs": [],
   "source": [
    "volume_df = pd.read_csv(f\"{data_folder}/hackathon_training_data_csv_file.csv\")"
   ]
  },
  {
   "cell_type": "code",
   "execution_count": 8,
   "id": "6882981f",
   "metadata": {},
   "outputs": [
    {
     "data": {
      "text/plain": [
       "year                 0\n",
       "month                0\n",
       "day                  0\n",
       "sales_volume_hl      0\n",
       "ppg_name             0\n",
       "unique_poc_id      130\n",
       "dtype: int64"
      ]
     },
     "execution_count": 8,
     "metadata": {},
     "output_type": "execute_result"
    }
   ],
   "source": [
    "volume_df = volume_df.drop([\"Unnamed: 0\"], axis=1)\n",
    "volume_df.isnull().sum()"
   ]
  },
  {
   "cell_type": "code",
   "execution_count": 9,
   "id": "ccff9419",
   "metadata": {},
   "outputs": [
    {
     "data": {
      "text/plain": [
       "(39825098, 6)"
      ]
     },
     "execution_count": 9,
     "metadata": {},
     "output_type": "execute_result"
    }
   ],
   "source": [
    "volume_df.shape"
   ]
  },
  {
   "cell_type": "code",
   "execution_count": 10,
   "id": "10030a23",
   "metadata": {},
   "outputs": [],
   "source": [
    "def basic_preprocessing(df):\n",
    "    # removing nulls\n",
    "#     df = df.loc[\n",
    "#         (df[\"unique_poc_id\"].notnull()) & (df[\"ppg_name\"].notnull())\n",
    "#     ].reset_index(drop=True)\n",
    "\n",
    "    df['unique_poc_id'] = df[\"unique_poc_id\"].fillna(\"NA1\")\n",
    "    # clean name\n",
    "    df[\"ppg_name_clean\"] = df[\"ppg_name\"].parallel_apply(\n",
    "        lambda x: re.sub(r\"\\s+\", \"_\", x)\n",
    "    )\n",
    "    # poc-Ppg id\n",
    "    df[\"poc_ppg_id\"] = df.parallel_apply(\n",
    "        lambda x: str(x[\"unique_poc_id\"]) + \"__\" + str(x[\"ppg_name_clean\"]), axis=1\n",
    "    )\n",
    "\n",
    "    # date column\n",
    "    df[\"date\"] = pd.to_datetime(df[[\"year\", \"month\", \"day\"]])\n",
    "\n",
    "    df = (\n",
    "        df.groupby([\"poc_ppg_id\", \"date\", \"ppg_name\", \"unique_poc_id\"])\n",
    "        .agg(sales_volume_hl=(\"sales_volume_hl\", \"mean\"))\n",
    "        .reset_index()\n",
    "    )\n",
    "    df[\"sales_volume_hl\"] = df[\"sales_volume_hl\"].clip(lower=0.0)\n",
    "\n",
    "    return df"
   ]
  },
  {
   "cell_type": "code",
   "execution_count": 11,
   "id": "5cd5d34b",
   "metadata": {},
   "outputs": [
    {
     "data": {
      "application/vnd.jupyter.widget-view+json": {
       "model_id": "6c656246386245b2ac602bed0295a076",
       "version_major": 2,
       "version_minor": 0
      },
      "text/plain": [
       "VBox(children=(HBox(children=(IntProgress(value=0, description='0.00%', max=2844650), Label(value='0 / 2844650…"
      ]
     },
     "metadata": {},
     "output_type": "display_data"
    },
    {
     "data": {
      "application/vnd.jupyter.widget-view+json": {
       "model_id": "c3d5d592dd3c48f69f92b4a71c7d33d3",
       "version_major": 2,
       "version_minor": 0
      },
      "text/plain": [
       "VBox(children=(HBox(children=(IntProgress(value=0, description='0.00%', max=2844650), Label(value='0 / 2844650…"
      ]
     },
     "metadata": {},
     "output_type": "display_data"
    }
   ],
   "source": [
    "volume_df = basic_preprocessing(volume_df)"
   ]
  },
  {
   "cell_type": "code",
   "execution_count": 12,
   "id": "a78cdd4a",
   "metadata": {},
   "outputs": [
    {
     "data": {
      "text/html": [
       "<div>\n",
       "<style scoped>\n",
       "    .dataframe tbody tr th:only-of-type {\n",
       "        vertical-align: middle;\n",
       "    }\n",
       "\n",
       "    .dataframe tbody tr th {\n",
       "        vertical-align: top;\n",
       "    }\n",
       "\n",
       "    .dataframe thead th {\n",
       "        text-align: right;\n",
       "    }\n",
       "</style>\n",
       "<table border=\"1\" class=\"dataframe\">\n",
       "  <thead>\n",
       "    <tr style=\"text-align: right;\">\n",
       "      <th></th>\n",
       "      <th>poc_ppg_id</th>\n",
       "      <th>date</th>\n",
       "      <th>ppg_name</th>\n",
       "      <th>unique_poc_id</th>\n",
       "      <th>sales_volume_hl</th>\n",
       "    </tr>\n",
       "  </thead>\n",
       "  <tbody>\n",
       "    <tr>\n",
       "      <th>0</th>\n",
       "      <td>AAAA__AK_AB_CG_T</td>\n",
       "      <td>2019-04-20</td>\n",
       "      <td>AK AB CG T</td>\n",
       "      <td>AAAA</td>\n",
       "      <td>0.065803</td>\n",
       "    </tr>\n",
       "    <tr>\n",
       "      <th>1</th>\n",
       "      <td>AAAA__AK_AB_CG_T</td>\n",
       "      <td>2019-05-25</td>\n",
       "      <td>AK AB CG T</td>\n",
       "      <td>AAAA</td>\n",
       "      <td>0.131605</td>\n",
       "    </tr>\n",
       "    <tr>\n",
       "      <th>2</th>\n",
       "      <td>AAAA__AK_CW_FM_CG_T</td>\n",
       "      <td>2020-06-13</td>\n",
       "      <td>AK CW FM CG T</td>\n",
       "      <td>AAAA</td>\n",
       "      <td>0.098704</td>\n",
       "    </tr>\n",
       "    <tr>\n",
       "      <th>3</th>\n",
       "      <td>AAAA__AR_EW_N_DS_CG_T</td>\n",
       "      <td>2019-02-11</td>\n",
       "      <td>AR EW N DS CG T</td>\n",
       "      <td>AAAA</td>\n",
       "      <td>0.000000</td>\n",
       "    </tr>\n",
       "    <tr>\n",
       "      <th>4</th>\n",
       "      <td>AAAA__AR_EW_N_DS_CG_T</td>\n",
       "      <td>2019-02-15</td>\n",
       "      <td>AR EW N DS CG T</td>\n",
       "      <td>AAAA</td>\n",
       "      <td>0.164507</td>\n",
       "    </tr>\n",
       "  </tbody>\n",
       "</table>\n",
       "</div>"
      ],
      "text/plain": [
       "              poc_ppg_id       date         ppg_name unique_poc_id  \\\n",
       "0       AAAA__AK_AB_CG_T 2019-04-20       AK AB CG T          AAAA   \n",
       "1       AAAA__AK_AB_CG_T 2019-05-25       AK AB CG T          AAAA   \n",
       "2    AAAA__AK_CW_FM_CG_T 2020-06-13    AK CW FM CG T          AAAA   \n",
       "3  AAAA__AR_EW_N_DS_CG_T 2019-02-11  AR EW N DS CG T          AAAA   \n",
       "4  AAAA__AR_EW_N_DS_CG_T 2019-02-15  AR EW N DS CG T          AAAA   \n",
       "\n",
       "   sales_volume_hl  \n",
       "0         0.065803  \n",
       "1         0.131605  \n",
       "2         0.098704  \n",
       "3         0.000000  \n",
       "4         0.164507  "
      ]
     },
     "execution_count": 12,
     "metadata": {},
     "output_type": "execute_result"
    }
   ],
   "source": [
    "volume_df.head()"
   ]
  },
  {
   "cell_type": "code",
   "execution_count": 13,
   "id": "400c38a9",
   "metadata": {},
   "outputs": [
    {
     "name": "stdout",
     "output_type": "stream",
     "text": [
      "(39779370, 5)\n",
      "poc_ppg_id         0\n",
      "date               0\n",
      "ppg_name           0\n",
      "unique_poc_id      0\n",
      "sales_volume_hl    0\n",
      "dtype: int64\n"
     ]
    }
   ],
   "source": [
    "# volume_df = reduce_mem_usage(volume_df)\n",
    "print(volume_df.shape)\n",
    "print(volume_df.isnull().sum())"
   ]
  },
  {
   "cell_type": "code",
   "execution_count": 14,
   "id": "63f5ad4c",
   "metadata": {},
   "outputs": [
    {
     "data": {
      "text/plain": [
       "0.0"
      ]
     },
     "execution_count": 14,
     "metadata": {},
     "output_type": "execute_result"
    }
   ],
   "source": [
    "np.percentile(volume_df[\"sales_volume_hl\"], 2)"
   ]
  },
  {
   "cell_type": "markdown",
   "id": "85ca4dba",
   "metadata": {},
   "source": [
    "##### calendar"
   ]
  },
  {
   "cell_type": "code",
   "execution_count": 15,
   "id": "fb7b55a8",
   "metadata": {},
   "outputs": [],
   "source": [
    "holidays_df = pd.read_csv(\n",
    "    os.path.join(data_folder, \"South_Africa_Holidays_2019_2022.csv\")\n",
    ")\n",
    "\n",
    "calendar_df = pd.read_csv(\n",
    "    os.path.join(data_folder, \"Calendar_skeleton.csv\")\n",
    ")\n",
    "\n",
    "def sin_transformer(period):\n",
    "    return lambda x: np.sin(x / period * 2 * np.pi)\n",
    "\n",
    "\n",
    "def cos_transformer(period):\n",
    "    return lambda x: np.cos(x / period * 2 * np.pi)"
   ]
  },
  {
   "cell_type": "code",
   "execution_count": 16,
   "id": "990a99ca",
   "metadata": {},
   "outputs": [
    {
     "data": {
      "text/html": [
       "<div>\n",
       "<style scoped>\n",
       "    .dataframe tbody tr th:only-of-type {\n",
       "        vertical-align: middle;\n",
       "    }\n",
       "\n",
       "    .dataframe tbody tr th {\n",
       "        vertical-align: top;\n",
       "    }\n",
       "\n",
       "    .dataframe thead th {\n",
       "        text-align: right;\n",
       "    }\n",
       "</style>\n",
       "<table border=\"1\" class=\"dataframe\">\n",
       "  <thead>\n",
       "    <tr style=\"text-align: right;\">\n",
       "      <th></th>\n",
       "      <th>date</th>\n",
       "      <th>year</th>\n",
       "      <th>month</th>\n",
       "      <th>week</th>\n",
       "      <th>adjusted_year</th>\n",
       "      <th>adjusted_month</th>\n",
       "      <th>year_week_start_date</th>\n",
       "    </tr>\n",
       "  </thead>\n",
       "  <tbody>\n",
       "    <tr>\n",
       "      <th>0</th>\n",
       "      <td>1/1/2019</td>\n",
       "      <td>2019</td>\n",
       "      <td>1</td>\n",
       "      <td>1</td>\n",
       "      <td>2019</td>\n",
       "      <td>1</td>\n",
       "      <td>1/1/2019</td>\n",
       "    </tr>\n",
       "    <tr>\n",
       "      <th>1</th>\n",
       "      <td>1/2/2019</td>\n",
       "      <td>2019</td>\n",
       "      <td>1</td>\n",
       "      <td>1</td>\n",
       "      <td>2019</td>\n",
       "      <td>1</td>\n",
       "      <td>1/1/2019</td>\n",
       "    </tr>\n",
       "    <tr>\n",
       "      <th>2</th>\n",
       "      <td>1/3/2019</td>\n",
       "      <td>2019</td>\n",
       "      <td>1</td>\n",
       "      <td>1</td>\n",
       "      <td>2019</td>\n",
       "      <td>1</td>\n",
       "      <td>1/1/2019</td>\n",
       "    </tr>\n",
       "    <tr>\n",
       "      <th>3</th>\n",
       "      <td>1/4/2019</td>\n",
       "      <td>2019</td>\n",
       "      <td>1</td>\n",
       "      <td>1</td>\n",
       "      <td>2019</td>\n",
       "      <td>1</td>\n",
       "      <td>1/1/2019</td>\n",
       "    </tr>\n",
       "    <tr>\n",
       "      <th>4</th>\n",
       "      <td>1/5/2019</td>\n",
       "      <td>2019</td>\n",
       "      <td>1</td>\n",
       "      <td>1</td>\n",
       "      <td>2019</td>\n",
       "      <td>1</td>\n",
       "      <td>1/1/2019</td>\n",
       "    </tr>\n",
       "  </tbody>\n",
       "</table>\n",
       "</div>"
      ],
      "text/plain": [
       "       date  year  month  week  adjusted_year  adjusted_month  \\\n",
       "0  1/1/2019  2019      1     1           2019               1   \n",
       "1  1/2/2019  2019      1     1           2019               1   \n",
       "2  1/3/2019  2019      1     1           2019               1   \n",
       "3  1/4/2019  2019      1     1           2019               1   \n",
       "4  1/5/2019  2019      1     1           2019               1   \n",
       "\n",
       "  year_week_start_date  \n",
       "0             1/1/2019  \n",
       "1             1/1/2019  \n",
       "2             1/1/2019  \n",
       "3             1/1/2019  \n",
       "4             1/1/2019  "
      ]
     },
     "execution_count": 16,
     "metadata": {},
     "output_type": "execute_result"
    }
   ],
   "source": [
    "calendar_df.head()"
   ]
  },
  {
   "cell_type": "code",
   "execution_count": 17,
   "id": "9d817aa0",
   "metadata": {},
   "outputs": [],
   "source": [
    "def get_calendar_df(holidays_df, calendar_df):\n",
    "    # holidays df\n",
    "    holidays_df[\"Date\"] = pd.to_datetime(holidays_df[\"Date\"])\n",
    "    holidays_df.columns = [col.lower() for col in holidays_df.columns]\n",
    "\n",
    "    # calendar at daily from date1 to date2\n",
    "    calendar_df['date'] = pd.to_datetime(calendar_df['date'], format=\"%m/%d/%Y\")\n",
    "    calendar_df['year_week_start_date'] = pd.to_datetime(calendar_df['year_week_start_date'], format=\"%m/%d/%Y\")\n",
    "\n",
    "    # features\n",
    "    calendar_df[\"day_of_the_week\"] = calendar_df[\"date\"].dt.dayofweek\n",
    "    # 0-Monday and so on\n",
    "    calendar_df[\"is_weekend\"] = calendar_df[\"date\"].dt.dayofweek // 4\n",
    "    calendar_df[\"is_month_start\"] = calendar_df[\"date\"].dt.is_month_start.astype(int)\n",
    "    calendar_df[\"is_month_end\"] = calendar_df[\"date\"].dt.is_month_end.astype(int)\n",
    "    calendar_df[\"quarter\"] = calendar_df[\"date\"].dt.quarter\n",
    "\n",
    "    calendar_df[\"key\"] = 1  # key for merging with unique combinations of id\n",
    "\n",
    "    # merging the calendar records\n",
    "    calendar_df = pd.merge(\n",
    "        calendar_df, holidays_df[[\"date\", \"holiday\"]], how=\"left\", on=\"date\"\n",
    "    )\n",
    "\n",
    "    # holiday marker\n",
    "    calendar_df[\"holiday\"] = calendar_df[\"holiday\"].parallel_apply(\n",
    "        lambda x: 1 if not pd.isnull(x) else 0.0\n",
    "    )\n",
    "    \n",
    "    # cyclical\n",
    "    calendar_df[\"month_sin_adj\"] = calendar_df[\"adjusted_month\"].apply(sin_transformer(12))\n",
    "    calendar_df[\"month_cos_adj\"] = calendar_df[\"adjusted_month\"].apply(cos_transformer(12))\n",
    "    \n",
    "    calendar_df[\"month_sin\"] = calendar_df[\"month\"].apply(sin_transformer(12))\n",
    "    calendar_df[\"month_cos\"] = calendar_df[\"month\"].apply(cos_transformer(12))\n",
    "\n",
    "    calendar_df[\"week_sin\"] = calendar_df[\"week\"].apply(sin_transformer(52))\n",
    "    calendar_df[\"week_cos\"] = calendar_df[\"week\"].apply(cos_transformer(52))\n",
    "\n",
    "    calendar_df[\"quarter_sin\"] = calendar_df[\"quarter\"].apply(sin_transformer(4))\n",
    "    calendar_df[\"quarter_cos\"] = calendar_df[\"quarter\"].apply(cos_transformer(4))\n",
    "\n",
    "    # month start date\n",
    "    calendar_df[\"year_month_start_date\"] = calendar_df.groupby(\n",
    "        [\"year\", \"month\"]\n",
    "    )[\"date\"].transform(lambda x: x.min())\n",
    "\n",
    "    return calendar_df"
   ]
  },
  {
   "cell_type": "code",
   "execution_count": 18,
   "id": "9d032fc6",
   "metadata": {},
   "outputs": [
    {
     "data": {
      "application/vnd.jupyter.widget-view+json": {
       "model_id": "63b77ff7766e4366a93f9015ae81cc52",
       "version_major": 2,
       "version_minor": 0
      },
      "text/plain": [
       "VBox(children=(HBox(children=(IntProgress(value=0, description='0.00%', max=131), Label(value='0 / 131'))), HB…"
      ]
     },
     "metadata": {},
     "output_type": "display_data"
    }
   ],
   "source": [
    "calendar_df = get_calendar_df(holidays_df,calendar_df)"
   ]
  },
  {
   "cell_type": "code",
   "execution_count": 19,
   "id": "267a15d6",
   "metadata": {},
   "outputs": [
    {
     "name": "stdout",
     "output_type": "stream",
     "text": [
      "(1826, 23)\n",
      "date                     0\n",
      "year                     0\n",
      "month                    0\n",
      "week                     0\n",
      "adjusted_year            0\n",
      "adjusted_month           0\n",
      "year_week_start_date     0\n",
      "day_of_the_week          0\n",
      "is_weekend               0\n",
      "is_month_start           0\n",
      "is_month_end             0\n",
      "quarter                  0\n",
      "key                      0\n",
      "holiday                  0\n",
      "month_sin_adj            0\n",
      "month_cos_adj            0\n",
      "month_sin                0\n",
      "month_cos                0\n",
      "week_sin                 0\n",
      "week_cos                 0\n",
      "quarter_sin              0\n",
      "quarter_cos              0\n",
      "year_month_start_date    0\n",
      "dtype: int64\n"
     ]
    },
    {
     "data": {
      "text/html": [
       "<div>\n",
       "<style scoped>\n",
       "    .dataframe tbody tr th:only-of-type {\n",
       "        vertical-align: middle;\n",
       "    }\n",
       "\n",
       "    .dataframe tbody tr th {\n",
       "        vertical-align: top;\n",
       "    }\n",
       "\n",
       "    .dataframe thead th {\n",
       "        text-align: right;\n",
       "    }\n",
       "</style>\n",
       "<table border=\"1\" class=\"dataframe\">\n",
       "  <thead>\n",
       "    <tr style=\"text-align: right;\">\n",
       "      <th></th>\n",
       "      <th>date</th>\n",
       "      <th>year</th>\n",
       "      <th>month</th>\n",
       "      <th>week</th>\n",
       "      <th>adjusted_year</th>\n",
       "      <th>adjusted_month</th>\n",
       "      <th>year_week_start_date</th>\n",
       "      <th>day_of_the_week</th>\n",
       "      <th>is_weekend</th>\n",
       "      <th>is_month_start</th>\n",
       "      <th>is_month_end</th>\n",
       "      <th>quarter</th>\n",
       "      <th>key</th>\n",
       "      <th>holiday</th>\n",
       "      <th>month_sin_adj</th>\n",
       "      <th>month_cos_adj</th>\n",
       "      <th>month_sin</th>\n",
       "      <th>month_cos</th>\n",
       "      <th>week_sin</th>\n",
       "      <th>week_cos</th>\n",
       "      <th>quarter_sin</th>\n",
       "      <th>quarter_cos</th>\n",
       "      <th>year_month_start_date</th>\n",
       "    </tr>\n",
       "  </thead>\n",
       "  <tbody>\n",
       "    <tr>\n",
       "      <th>0</th>\n",
       "      <td>2019-01-01</td>\n",
       "      <td>2019</td>\n",
       "      <td>1</td>\n",
       "      <td>1</td>\n",
       "      <td>2019</td>\n",
       "      <td>1</td>\n",
       "      <td>2019-01-01</td>\n",
       "      <td>1</td>\n",
       "      <td>0</td>\n",
       "      <td>1</td>\n",
       "      <td>0</td>\n",
       "      <td>1</td>\n",
       "      <td>1</td>\n",
       "      <td>1.0</td>\n",
       "      <td>0.5</td>\n",
       "      <td>0.866025</td>\n",
       "      <td>0.5</td>\n",
       "      <td>0.866025</td>\n",
       "      <td>0.120537</td>\n",
       "      <td>0.992709</td>\n",
       "      <td>1.0</td>\n",
       "      <td>6.123234e-17</td>\n",
       "      <td>2019-01-01</td>\n",
       "    </tr>\n",
       "    <tr>\n",
       "      <th>1</th>\n",
       "      <td>2019-01-02</td>\n",
       "      <td>2019</td>\n",
       "      <td>1</td>\n",
       "      <td>1</td>\n",
       "      <td>2019</td>\n",
       "      <td>1</td>\n",
       "      <td>2019-01-01</td>\n",
       "      <td>2</td>\n",
       "      <td>0</td>\n",
       "      <td>0</td>\n",
       "      <td>0</td>\n",
       "      <td>1</td>\n",
       "      <td>1</td>\n",
       "      <td>0.0</td>\n",
       "      <td>0.5</td>\n",
       "      <td>0.866025</td>\n",
       "      <td>0.5</td>\n",
       "      <td>0.866025</td>\n",
       "      <td>0.120537</td>\n",
       "      <td>0.992709</td>\n",
       "      <td>1.0</td>\n",
       "      <td>6.123234e-17</td>\n",
       "      <td>2019-01-01</td>\n",
       "    </tr>\n",
       "    <tr>\n",
       "      <th>2</th>\n",
       "      <td>2019-01-03</td>\n",
       "      <td>2019</td>\n",
       "      <td>1</td>\n",
       "      <td>1</td>\n",
       "      <td>2019</td>\n",
       "      <td>1</td>\n",
       "      <td>2019-01-01</td>\n",
       "      <td>3</td>\n",
       "      <td>0</td>\n",
       "      <td>0</td>\n",
       "      <td>0</td>\n",
       "      <td>1</td>\n",
       "      <td>1</td>\n",
       "      <td>0.0</td>\n",
       "      <td>0.5</td>\n",
       "      <td>0.866025</td>\n",
       "      <td>0.5</td>\n",
       "      <td>0.866025</td>\n",
       "      <td>0.120537</td>\n",
       "      <td>0.992709</td>\n",
       "      <td>1.0</td>\n",
       "      <td>6.123234e-17</td>\n",
       "      <td>2019-01-01</td>\n",
       "    </tr>\n",
       "    <tr>\n",
       "      <th>3</th>\n",
       "      <td>2019-01-04</td>\n",
       "      <td>2019</td>\n",
       "      <td>1</td>\n",
       "      <td>1</td>\n",
       "      <td>2019</td>\n",
       "      <td>1</td>\n",
       "      <td>2019-01-01</td>\n",
       "      <td>4</td>\n",
       "      <td>1</td>\n",
       "      <td>0</td>\n",
       "      <td>0</td>\n",
       "      <td>1</td>\n",
       "      <td>1</td>\n",
       "      <td>0.0</td>\n",
       "      <td>0.5</td>\n",
       "      <td>0.866025</td>\n",
       "      <td>0.5</td>\n",
       "      <td>0.866025</td>\n",
       "      <td>0.120537</td>\n",
       "      <td>0.992709</td>\n",
       "      <td>1.0</td>\n",
       "      <td>6.123234e-17</td>\n",
       "      <td>2019-01-01</td>\n",
       "    </tr>\n",
       "    <tr>\n",
       "      <th>4</th>\n",
       "      <td>2019-01-05</td>\n",
       "      <td>2019</td>\n",
       "      <td>1</td>\n",
       "      <td>1</td>\n",
       "      <td>2019</td>\n",
       "      <td>1</td>\n",
       "      <td>2019-01-01</td>\n",
       "      <td>5</td>\n",
       "      <td>1</td>\n",
       "      <td>0</td>\n",
       "      <td>0</td>\n",
       "      <td>1</td>\n",
       "      <td>1</td>\n",
       "      <td>0.0</td>\n",
       "      <td>0.5</td>\n",
       "      <td>0.866025</td>\n",
       "      <td>0.5</td>\n",
       "      <td>0.866025</td>\n",
       "      <td>0.120537</td>\n",
       "      <td>0.992709</td>\n",
       "      <td>1.0</td>\n",
       "      <td>6.123234e-17</td>\n",
       "      <td>2019-01-01</td>\n",
       "    </tr>\n",
       "  </tbody>\n",
       "</table>\n",
       "</div>"
      ],
      "text/plain": [
       "        date  year  month  week  adjusted_year  adjusted_month  \\\n",
       "0 2019-01-01  2019      1     1           2019               1   \n",
       "1 2019-01-02  2019      1     1           2019               1   \n",
       "2 2019-01-03  2019      1     1           2019               1   \n",
       "3 2019-01-04  2019      1     1           2019               1   \n",
       "4 2019-01-05  2019      1     1           2019               1   \n",
       "\n",
       "  year_week_start_date  day_of_the_week  is_weekend  is_month_start  \\\n",
       "0           2019-01-01                1           0               1   \n",
       "1           2019-01-01                2           0               0   \n",
       "2           2019-01-01                3           0               0   \n",
       "3           2019-01-01                4           1               0   \n",
       "4           2019-01-01                5           1               0   \n",
       "\n",
       "   is_month_end  quarter  key  holiday  month_sin_adj  month_cos_adj  \\\n",
       "0             0        1    1      1.0            0.5       0.866025   \n",
       "1             0        1    1      0.0            0.5       0.866025   \n",
       "2             0        1    1      0.0            0.5       0.866025   \n",
       "3             0        1    1      0.0            0.5       0.866025   \n",
       "4             0        1    1      0.0            0.5       0.866025   \n",
       "\n",
       "   month_sin  month_cos  week_sin  week_cos  quarter_sin   quarter_cos  \\\n",
       "0        0.5   0.866025  0.120537  0.992709          1.0  6.123234e-17   \n",
       "1        0.5   0.866025  0.120537  0.992709          1.0  6.123234e-17   \n",
       "2        0.5   0.866025  0.120537  0.992709          1.0  6.123234e-17   \n",
       "3        0.5   0.866025  0.120537  0.992709          1.0  6.123234e-17   \n",
       "4        0.5   0.866025  0.120537  0.992709          1.0  6.123234e-17   \n",
       "\n",
       "  year_month_start_date  \n",
       "0            2019-01-01  \n",
       "1            2019-01-01  \n",
       "2            2019-01-01  \n",
       "3            2019-01-01  \n",
       "4            2019-01-01  "
      ]
     },
     "execution_count": 19,
     "metadata": {},
     "output_type": "execute_result"
    }
   ],
   "source": [
    "print(calendar_df.shape)\n",
    "print(calendar_df.isnull().sum())\n",
    "calendar_df.head()"
   ]
  },
  {
   "cell_type": "markdown",
   "id": "e7539e5d",
   "metadata": {},
   "source": [
    "#### Next todos\n",
    "- get the year week information in volume data from calendar\n",
    "- get store level sales information with contribution yoy and start_date and last_date\n",
    "- get ppg level sales information with contribution yoy and start_date and last_date\n",
    "- get id level information for start of sales and last sales and derivatives\n",
    "- aggregate the data at weekly level for all ids combined\n",
    "- then we take a call of which sku to delist and which ppg ones\n",
    "- Make the volume continous at weekly/monthly level\n",
    "\n"
   ]
  },
  {
   "cell_type": "code",
   "execution_count": 20,
   "id": "1863cbcc",
   "metadata": {},
   "outputs": [
    {
     "data": {
      "text/html": [
       "<div>\n",
       "<style scoped>\n",
       "    .dataframe tbody tr th:only-of-type {\n",
       "        vertical-align: middle;\n",
       "    }\n",
       "\n",
       "    .dataframe tbody tr th {\n",
       "        vertical-align: top;\n",
       "    }\n",
       "\n",
       "    .dataframe thead th {\n",
       "        text-align: right;\n",
       "    }\n",
       "</style>\n",
       "<table border=\"1\" class=\"dataframe\">\n",
       "  <thead>\n",
       "    <tr style=\"text-align: right;\">\n",
       "      <th></th>\n",
       "      <th>poc_ppg_id</th>\n",
       "      <th>date</th>\n",
       "      <th>ppg_name</th>\n",
       "      <th>unique_poc_id</th>\n",
       "      <th>sales_volume_hl</th>\n",
       "    </tr>\n",
       "  </thead>\n",
       "  <tbody>\n",
       "    <tr>\n",
       "      <th>0</th>\n",
       "      <td>AAAA__AK_AB_CG_T</td>\n",
       "      <td>2019-04-20</td>\n",
       "      <td>AK AB CG T</td>\n",
       "      <td>AAAA</td>\n",
       "      <td>0.065803</td>\n",
       "    </tr>\n",
       "    <tr>\n",
       "      <th>1</th>\n",
       "      <td>AAAA__AK_AB_CG_T</td>\n",
       "      <td>2019-05-25</td>\n",
       "      <td>AK AB CG T</td>\n",
       "      <td>AAAA</td>\n",
       "      <td>0.131605</td>\n",
       "    </tr>\n",
       "    <tr>\n",
       "      <th>2</th>\n",
       "      <td>AAAA__AK_CW_FM_CG_T</td>\n",
       "      <td>2020-06-13</td>\n",
       "      <td>AK CW FM CG T</td>\n",
       "      <td>AAAA</td>\n",
       "      <td>0.098704</td>\n",
       "    </tr>\n",
       "    <tr>\n",
       "      <th>3</th>\n",
       "      <td>AAAA__AR_EW_N_DS_CG_T</td>\n",
       "      <td>2019-02-11</td>\n",
       "      <td>AR EW N DS CG T</td>\n",
       "      <td>AAAA</td>\n",
       "      <td>0.000000</td>\n",
       "    </tr>\n",
       "    <tr>\n",
       "      <th>4</th>\n",
       "      <td>AAAA__AR_EW_N_DS_CG_T</td>\n",
       "      <td>2019-02-15</td>\n",
       "      <td>AR EW N DS CG T</td>\n",
       "      <td>AAAA</td>\n",
       "      <td>0.164507</td>\n",
       "    </tr>\n",
       "  </tbody>\n",
       "</table>\n",
       "</div>"
      ],
      "text/plain": [
       "              poc_ppg_id       date         ppg_name unique_poc_id  \\\n",
       "0       AAAA__AK_AB_CG_T 2019-04-20       AK AB CG T          AAAA   \n",
       "1       AAAA__AK_AB_CG_T 2019-05-25       AK AB CG T          AAAA   \n",
       "2    AAAA__AK_CW_FM_CG_T 2020-06-13    AK CW FM CG T          AAAA   \n",
       "3  AAAA__AR_EW_N_DS_CG_T 2019-02-11  AR EW N DS CG T          AAAA   \n",
       "4  AAAA__AR_EW_N_DS_CG_T 2019-02-15  AR EW N DS CG T          AAAA   \n",
       "\n",
       "   sales_volume_hl  \n",
       "0         0.065803  \n",
       "1         0.131605  \n",
       "2         0.098704  \n",
       "3         0.000000  \n",
       "4         0.164507  "
      ]
     },
     "execution_count": 20,
     "metadata": {},
     "output_type": "execute_result"
    }
   ],
   "source": [
    "volume_df.head()"
   ]
  },
  {
   "cell_type": "code",
   "execution_count": 21,
   "id": "1310859a",
   "metadata": {},
   "outputs": [
    {
     "data": {
      "text/html": [
       "<div>\n",
       "<style scoped>\n",
       "    .dataframe tbody tr th:only-of-type {\n",
       "        vertical-align: middle;\n",
       "    }\n",
       "\n",
       "    .dataframe tbody tr th {\n",
       "        vertical-align: top;\n",
       "    }\n",
       "\n",
       "    .dataframe thead th {\n",
       "        text-align: right;\n",
       "    }\n",
       "</style>\n",
       "<table border=\"1\" class=\"dataframe\">\n",
       "  <thead>\n",
       "    <tr style=\"text-align: right;\">\n",
       "      <th></th>\n",
       "      <th>date</th>\n",
       "      <th>year</th>\n",
       "      <th>month</th>\n",
       "      <th>week</th>\n",
       "      <th>adjusted_year</th>\n",
       "      <th>adjusted_month</th>\n",
       "      <th>year_week_start_date</th>\n",
       "      <th>day_of_the_week</th>\n",
       "      <th>is_weekend</th>\n",
       "      <th>is_month_start</th>\n",
       "      <th>is_month_end</th>\n",
       "      <th>quarter</th>\n",
       "      <th>key</th>\n",
       "      <th>holiday</th>\n",
       "      <th>month_sin_adj</th>\n",
       "      <th>month_cos_adj</th>\n",
       "      <th>month_sin</th>\n",
       "      <th>month_cos</th>\n",
       "      <th>week_sin</th>\n",
       "      <th>week_cos</th>\n",
       "      <th>quarter_sin</th>\n",
       "      <th>quarter_cos</th>\n",
       "      <th>year_month_start_date</th>\n",
       "    </tr>\n",
       "  </thead>\n",
       "  <tbody>\n",
       "    <tr>\n",
       "      <th>0</th>\n",
       "      <td>2019-01-01</td>\n",
       "      <td>2019</td>\n",
       "      <td>1</td>\n",
       "      <td>1</td>\n",
       "      <td>2019</td>\n",
       "      <td>1</td>\n",
       "      <td>2019-01-01</td>\n",
       "      <td>1</td>\n",
       "      <td>0</td>\n",
       "      <td>1</td>\n",
       "      <td>0</td>\n",
       "      <td>1</td>\n",
       "      <td>1</td>\n",
       "      <td>1.0</td>\n",
       "      <td>0.5</td>\n",
       "      <td>0.866025</td>\n",
       "      <td>0.5</td>\n",
       "      <td>0.866025</td>\n",
       "      <td>0.120537</td>\n",
       "      <td>0.992709</td>\n",
       "      <td>1.0</td>\n",
       "      <td>6.123234e-17</td>\n",
       "      <td>2019-01-01</td>\n",
       "    </tr>\n",
       "    <tr>\n",
       "      <th>1</th>\n",
       "      <td>2019-01-02</td>\n",
       "      <td>2019</td>\n",
       "      <td>1</td>\n",
       "      <td>1</td>\n",
       "      <td>2019</td>\n",
       "      <td>1</td>\n",
       "      <td>2019-01-01</td>\n",
       "      <td>2</td>\n",
       "      <td>0</td>\n",
       "      <td>0</td>\n",
       "      <td>0</td>\n",
       "      <td>1</td>\n",
       "      <td>1</td>\n",
       "      <td>0.0</td>\n",
       "      <td>0.5</td>\n",
       "      <td>0.866025</td>\n",
       "      <td>0.5</td>\n",
       "      <td>0.866025</td>\n",
       "      <td>0.120537</td>\n",
       "      <td>0.992709</td>\n",
       "      <td>1.0</td>\n",
       "      <td>6.123234e-17</td>\n",
       "      <td>2019-01-01</td>\n",
       "    </tr>\n",
       "    <tr>\n",
       "      <th>2</th>\n",
       "      <td>2019-01-03</td>\n",
       "      <td>2019</td>\n",
       "      <td>1</td>\n",
       "      <td>1</td>\n",
       "      <td>2019</td>\n",
       "      <td>1</td>\n",
       "      <td>2019-01-01</td>\n",
       "      <td>3</td>\n",
       "      <td>0</td>\n",
       "      <td>0</td>\n",
       "      <td>0</td>\n",
       "      <td>1</td>\n",
       "      <td>1</td>\n",
       "      <td>0.0</td>\n",
       "      <td>0.5</td>\n",
       "      <td>0.866025</td>\n",
       "      <td>0.5</td>\n",
       "      <td>0.866025</td>\n",
       "      <td>0.120537</td>\n",
       "      <td>0.992709</td>\n",
       "      <td>1.0</td>\n",
       "      <td>6.123234e-17</td>\n",
       "      <td>2019-01-01</td>\n",
       "    </tr>\n",
       "  </tbody>\n",
       "</table>\n",
       "</div>"
      ],
      "text/plain": [
       "        date  year  month  week  adjusted_year  adjusted_month  \\\n",
       "0 2019-01-01  2019      1     1           2019               1   \n",
       "1 2019-01-02  2019      1     1           2019               1   \n",
       "2 2019-01-03  2019      1     1           2019               1   \n",
       "\n",
       "  year_week_start_date  day_of_the_week  is_weekend  is_month_start  \\\n",
       "0           2019-01-01                1           0               1   \n",
       "1           2019-01-01                2           0               0   \n",
       "2           2019-01-01                3           0               0   \n",
       "\n",
       "   is_month_end  quarter  key  holiday  month_sin_adj  month_cos_adj  \\\n",
       "0             0        1    1      1.0            0.5       0.866025   \n",
       "1             0        1    1      0.0            0.5       0.866025   \n",
       "2             0        1    1      0.0            0.5       0.866025   \n",
       "\n",
       "   month_sin  month_cos  week_sin  week_cos  quarter_sin   quarter_cos  \\\n",
       "0        0.5   0.866025  0.120537  0.992709          1.0  6.123234e-17   \n",
       "1        0.5   0.866025  0.120537  0.992709          1.0  6.123234e-17   \n",
       "2        0.5   0.866025  0.120537  0.992709          1.0  6.123234e-17   \n",
       "\n",
       "  year_month_start_date  \n",
       "0            2019-01-01  \n",
       "1            2019-01-01  \n",
       "2            2019-01-01  "
      ]
     },
     "execution_count": 21,
     "metadata": {},
     "output_type": "execute_result"
    }
   ],
   "source": [
    "calendar_df.head(3)"
   ]
  },
  {
   "cell_type": "code",
   "execution_count": 22,
   "id": "c53e2d16",
   "metadata": {},
   "outputs": [],
   "source": [
    "volume_df = pd.merge(\n",
    "    volume_df,\n",
    "    calendar_df[[\"date\", \"adjusted_year\", \"adjusted_month\", \"week\",'year',\"month\"]],\n",
    "    how=\"left\",\n",
    "    on=\"date\",\n",
    ")"
   ]
  },
  {
   "cell_type": "code",
   "execution_count": 23,
   "id": "c54453c6",
   "metadata": {},
   "outputs": [
    {
     "data": {
      "text/html": [
       "<div>\n",
       "<style scoped>\n",
       "    .dataframe tbody tr th:only-of-type {\n",
       "        vertical-align: middle;\n",
       "    }\n",
       "\n",
       "    .dataframe tbody tr th {\n",
       "        vertical-align: top;\n",
       "    }\n",
       "\n",
       "    .dataframe thead th {\n",
       "        text-align: right;\n",
       "    }\n",
       "</style>\n",
       "<table border=\"1\" class=\"dataframe\">\n",
       "  <thead>\n",
       "    <tr style=\"text-align: right;\">\n",
       "      <th></th>\n",
       "      <th>poc_ppg_id</th>\n",
       "      <th>date</th>\n",
       "      <th>ppg_name</th>\n",
       "      <th>unique_poc_id</th>\n",
       "      <th>sales_volume_hl</th>\n",
       "      <th>adjusted_year</th>\n",
       "      <th>adjusted_month</th>\n",
       "      <th>week</th>\n",
       "      <th>year</th>\n",
       "      <th>month</th>\n",
       "    </tr>\n",
       "  </thead>\n",
       "  <tbody>\n",
       "    <tr>\n",
       "      <th>0</th>\n",
       "      <td>AAAA__AK_AB_CG_T</td>\n",
       "      <td>2019-04-20</td>\n",
       "      <td>AK AB CG T</td>\n",
       "      <td>AAAA</td>\n",
       "      <td>0.065803</td>\n",
       "      <td>2019</td>\n",
       "      <td>4</td>\n",
       "      <td>16</td>\n",
       "      <td>2019</td>\n",
       "      <td>4</td>\n",
       "    </tr>\n",
       "    <tr>\n",
       "      <th>1</th>\n",
       "      <td>AAAA__AK_AB_CG_T</td>\n",
       "      <td>2019-05-25</td>\n",
       "      <td>AK AB CG T</td>\n",
       "      <td>AAAA</td>\n",
       "      <td>0.131605</td>\n",
       "      <td>2019</td>\n",
       "      <td>5</td>\n",
       "      <td>21</td>\n",
       "      <td>2019</td>\n",
       "      <td>5</td>\n",
       "    </tr>\n",
       "    <tr>\n",
       "      <th>2</th>\n",
       "      <td>AAAA__AK_CW_FM_CG_T</td>\n",
       "      <td>2020-06-13</td>\n",
       "      <td>AK CW FM CG T</td>\n",
       "      <td>AAAA</td>\n",
       "      <td>0.098704</td>\n",
       "      <td>2020</td>\n",
       "      <td>6</td>\n",
       "      <td>24</td>\n",
       "      <td>2020</td>\n",
       "      <td>6</td>\n",
       "    </tr>\n",
       "    <tr>\n",
       "      <th>3</th>\n",
       "      <td>AAAA__AR_EW_N_DS_CG_T</td>\n",
       "      <td>2019-02-11</td>\n",
       "      <td>AR EW N DS CG T</td>\n",
       "      <td>AAAA</td>\n",
       "      <td>0.000000</td>\n",
       "      <td>2019</td>\n",
       "      <td>2</td>\n",
       "      <td>7</td>\n",
       "      <td>2019</td>\n",
       "      <td>2</td>\n",
       "    </tr>\n",
       "    <tr>\n",
       "      <th>4</th>\n",
       "      <td>AAAA__AR_EW_N_DS_CG_T</td>\n",
       "      <td>2019-02-15</td>\n",
       "      <td>AR EW N DS CG T</td>\n",
       "      <td>AAAA</td>\n",
       "      <td>0.164507</td>\n",
       "      <td>2019</td>\n",
       "      <td>2</td>\n",
       "      <td>7</td>\n",
       "      <td>2019</td>\n",
       "      <td>2</td>\n",
       "    </tr>\n",
       "  </tbody>\n",
       "</table>\n",
       "</div>"
      ],
      "text/plain": [
       "              poc_ppg_id       date         ppg_name unique_poc_id  \\\n",
       "0       AAAA__AK_AB_CG_T 2019-04-20       AK AB CG T          AAAA   \n",
       "1       AAAA__AK_AB_CG_T 2019-05-25       AK AB CG T          AAAA   \n",
       "2    AAAA__AK_CW_FM_CG_T 2020-06-13    AK CW FM CG T          AAAA   \n",
       "3  AAAA__AR_EW_N_DS_CG_T 2019-02-11  AR EW N DS CG T          AAAA   \n",
       "4  AAAA__AR_EW_N_DS_CG_T 2019-02-15  AR EW N DS CG T          AAAA   \n",
       "\n",
       "   sales_volume_hl  adjusted_year  adjusted_month  week  year  month  \n",
       "0         0.065803           2019               4    16  2019      4  \n",
       "1         0.131605           2019               5    21  2019      5  \n",
       "2         0.098704           2020               6    24  2020      6  \n",
       "3         0.000000           2019               2     7  2019      2  \n",
       "4         0.164507           2019               2     7  2019      2  "
      ]
     },
     "execution_count": 23,
     "metadata": {},
     "output_type": "execute_result"
    }
   ],
   "source": [
    "volume_df.head()"
   ]
  },
  {
   "cell_type": "code",
   "execution_count": 24,
   "id": "e71e6ba5",
   "metadata": {},
   "outputs": [
    {
     "name": "stdout",
     "output_type": "stream",
     "text": [
      "poc_ppg_id         0\n",
      "date               0\n",
      "ppg_name           0\n",
      "unique_poc_id      0\n",
      "sales_volume_hl    0\n",
      "adjusted_year      0\n",
      "adjusted_month     0\n",
      "week               0\n",
      "year               0\n",
      "month              0\n",
      "dtype: int64\n"
     ]
    }
   ],
   "source": [
    "print(volume_df.isnull().sum())"
   ]
  },
  {
   "cell_type": "markdown",
   "id": "1f86db35",
   "metadata": {},
   "source": [
    "##### id-store-ppg dates"
   ]
  },
  {
   "cell_type": "code",
   "execution_count": 25,
   "id": "fa31466c",
   "metadata": {},
   "outputs": [],
   "source": [
    "max_date = volume_df[\"date\"].dt.date.max()"
   ]
  },
  {
   "cell_type": "code",
   "execution_count": 26,
   "id": "d2da3c08",
   "metadata": {},
   "outputs": [],
   "source": [
    "def id_stores_ppg_datesdf(df, calendar_df, max_date):\n",
    "\n",
    "    # id wise min max dates\n",
    "    id_life_df = df.groupby(\n",
    "        [\"poc_ppg_id\", \"unique_poc_id\", \"ppg_name\"], as_index=False\n",
    "    ).agg(\n",
    "        start_date_vol=(\"date\", \"min\"),\n",
    "        end_date_vol=(\"date\", \"max\"),\n",
    "        unique_selling_days=(\"date\", \"count\"),\n",
    "    )\n",
    "\n",
    "    id_life_df = pd.merge(\n",
    "        id_life_df,\n",
    "        calendar_df[[\"year_week_start_date\", \"year_month_start_date\", \"date\"]],\n",
    "        left_on=\"start_date_vol\",\n",
    "        right_on=\"date\",\n",
    "    )\n",
    "\n",
    "    # life of the id\n",
    "    id_life_df[\"life_from_start_months\"] = (\n",
    "        max_date.year - id_life_df[\"start_date_vol\"].dt.year\n",
    "    ) * 12 + (max_date.month - id_life_df[\"start_date_vol\"].dt.month)\n",
    "\n",
    "    # last when sold id\n",
    "    id_life_df[\"last_selling_record_months\"] = (\n",
    "        max_date.year - id_life_df[\"end_date_vol\"].dt.year\n",
    "    ) * 12 + (max_date.month - id_life_df[\"end_date_vol\"].dt.month)\n",
    "\n",
    "    id_life_df[\"inactive_life\"] = round(\n",
    "        id_life_df[\"last_selling_record_months\"] / id_life_df[\"life_from_start_months\"],\n",
    "        2,\n",
    "    ).fillna(0.0)\n",
    "\n",
    "    # store last recorded date\n",
    "    id_life_df[\"poc_last_sell_date\"] = id_life_df.groupby([\"unique_poc_id\"])[\n",
    "        \"end_date_vol\"\n",
    "    ].transform(lambda x: x.max())\n",
    "\n",
    "    # ppg last recorded date\n",
    "    id_life_df[\"ppg_last_sell_date\"] = id_life_df.groupby([\"ppg_name\"])[\n",
    "        \"end_date_vol\"\n",
    "    ].transform(lambda x: x.max())\n",
    "\n",
    "    # store gap from current\n",
    "    id_life_df[\"poc_last_sell_months\"] = (\n",
    "        max_date.year - id_life_df[\"poc_last_sell_date\"].dt.year\n",
    "    ) * 12 + (max_date.month - id_life_df[\"poc_last_sell_date\"].dt.month)\n",
    "\n",
    "    # ppg gap from current\n",
    "    id_life_df[\"ppg_last_sell_months\"] = (\n",
    "        max_date.year - id_life_df[\"ppg_last_sell_date\"].dt.year\n",
    "    ) * 12 + (max_date.month - id_life_df[\"ppg_last_sell_date\"].dt.month)\n",
    "\n",
    "    # col re-name\n",
    "    id_life_df = id_life_df.rename(\n",
    "        columns={\n",
    "            \"year_week_start_date\": \"year_week_start_date_id\",\n",
    "            \"year_month_start_date\": \"year_month_start_date_id\",\n",
    "        }\n",
    "    )\n",
    "\n",
    "    return id_life_df"
   ]
  },
  {
   "cell_type": "code",
   "execution_count": 27,
   "id": "880223cd",
   "metadata": {},
   "outputs": [],
   "source": [
    "id_life_df = id_stores_ppg_datesdf(volume_df, calendar_df, max_date)"
   ]
  },
  {
   "cell_type": "code",
   "execution_count": 28,
   "id": "32046184",
   "metadata": {},
   "outputs": [],
   "source": [
    "# id_life_df = reduce_mem_usage(id_life_df)"
   ]
  },
  {
   "cell_type": "code",
   "execution_count": 29,
   "id": "1b2b08d1",
   "metadata": {},
   "outputs": [],
   "source": [
    "# id_life_df.loc[id_life_df['inactive_life'].isnull()].head()"
   ]
  },
  {
   "cell_type": "code",
   "execution_count": 30,
   "id": "b4c620ac",
   "metadata": {},
   "outputs": [
    {
     "data": {
      "text/plain": [
       "poc_ppg_id                    0\n",
       "unique_poc_id                 0\n",
       "ppg_name                      0\n",
       "start_date_vol                0\n",
       "end_date_vol                  0\n",
       "unique_selling_days           0\n",
       "year_week_start_date_id       0\n",
       "year_month_start_date_id      0\n",
       "date                          0\n",
       "life_from_start_months        0\n",
       "last_selling_record_months    0\n",
       "inactive_life                 0\n",
       "poc_last_sell_date            0\n",
       "ppg_last_sell_date            0\n",
       "poc_last_sell_months          0\n",
       "ppg_last_sell_months          0\n",
       "dtype: int64"
      ]
     },
     "execution_count": 30,
     "metadata": {},
     "output_type": "execute_result"
    }
   ],
   "source": [
    "id_life_df.isnull().sum()"
   ]
  },
  {
   "cell_type": "code",
   "execution_count": 31,
   "id": "855953ab",
   "metadata": {},
   "outputs": [
    {
     "data": {
      "text/html": [
       "<div>\n",
       "<style scoped>\n",
       "    .dataframe tbody tr th:only-of-type {\n",
       "        vertical-align: middle;\n",
       "    }\n",
       "\n",
       "    .dataframe tbody tr th {\n",
       "        vertical-align: top;\n",
       "    }\n",
       "\n",
       "    .dataframe thead th {\n",
       "        text-align: right;\n",
       "    }\n",
       "</style>\n",
       "<table border=\"1\" class=\"dataframe\">\n",
       "  <thead>\n",
       "    <tr style=\"text-align: right;\">\n",
       "      <th></th>\n",
       "      <th>poc_ppg_id</th>\n",
       "      <th>unique_poc_id</th>\n",
       "      <th>ppg_name</th>\n",
       "      <th>start_date_vol</th>\n",
       "      <th>end_date_vol</th>\n",
       "      <th>unique_selling_days</th>\n",
       "      <th>year_week_start_date_id</th>\n",
       "      <th>year_month_start_date_id</th>\n",
       "      <th>date</th>\n",
       "      <th>life_from_start_months</th>\n",
       "      <th>last_selling_record_months</th>\n",
       "      <th>inactive_life</th>\n",
       "      <th>poc_last_sell_date</th>\n",
       "      <th>ppg_last_sell_date</th>\n",
       "      <th>poc_last_sell_months</th>\n",
       "      <th>ppg_last_sell_months</th>\n",
       "    </tr>\n",
       "  </thead>\n",
       "  <tbody>\n",
       "    <tr>\n",
       "      <th>0</th>\n",
       "      <td>AAAA__AK_AB_CG_T</td>\n",
       "      <td>AAAA</td>\n",
       "      <td>AK AB CG T</td>\n",
       "      <td>2019-04-20</td>\n",
       "      <td>2019-05-25</td>\n",
       "      <td>2</td>\n",
       "      <td>2019-04-15</td>\n",
       "      <td>2019-04-01</td>\n",
       "      <td>2019-04-20</td>\n",
       "      <td>44</td>\n",
       "      <td>43</td>\n",
       "      <td>0.98</td>\n",
       "      <td>2020-06-13</td>\n",
       "      <td>2022-12-31</td>\n",
       "      <td>30</td>\n",
       "      <td>0</td>\n",
       "    </tr>\n",
       "    <tr>\n",
       "      <th>1</th>\n",
       "      <td>AAAA__CJ_CZ_CG_EH</td>\n",
       "      <td>AAAA</td>\n",
       "      <td>CJ CZ CG EH</td>\n",
       "      <td>2019-04-20</td>\n",
       "      <td>2019-07-24</td>\n",
       "      <td>2</td>\n",
       "      <td>2019-04-15</td>\n",
       "      <td>2019-04-01</td>\n",
       "      <td>2019-04-20</td>\n",
       "      <td>44</td>\n",
       "      <td>41</td>\n",
       "      <td>0.93</td>\n",
       "      <td>2020-06-13</td>\n",
       "      <td>2022-12-31</td>\n",
       "      <td>30</td>\n",
       "      <td>0</td>\n",
       "    </tr>\n",
       "    <tr>\n",
       "      <th>2</th>\n",
       "      <td>AAAA__CM_CG_T</td>\n",
       "      <td>AAAA</td>\n",
       "      <td>CM CG T</td>\n",
       "      <td>2019-04-20</td>\n",
       "      <td>2019-04-20</td>\n",
       "      <td>1</td>\n",
       "      <td>2019-04-15</td>\n",
       "      <td>2019-04-01</td>\n",
       "      <td>2019-04-20</td>\n",
       "      <td>44</td>\n",
       "      <td>44</td>\n",
       "      <td>1.00</td>\n",
       "      <td>2020-06-13</td>\n",
       "      <td>2022-11-30</td>\n",
       "      <td>30</td>\n",
       "      <td>1</td>\n",
       "    </tr>\n",
       "    <tr>\n",
       "      <th>3</th>\n",
       "      <td>AACL__CJ_CZ_ES_ER</td>\n",
       "      <td>AACL</td>\n",
       "      <td>CJ CZ ES ER</td>\n",
       "      <td>2019-04-20</td>\n",
       "      <td>2019-04-20</td>\n",
       "      <td>1</td>\n",
       "      <td>2019-04-15</td>\n",
       "      <td>2019-04-01</td>\n",
       "      <td>2019-04-20</td>\n",
       "      <td>44</td>\n",
       "      <td>44</td>\n",
       "      <td>1.00</td>\n",
       "      <td>2022-12-24</td>\n",
       "      <td>2022-12-31</td>\n",
       "      <td>0</td>\n",
       "      <td>0</td>\n",
       "    </tr>\n",
       "    <tr>\n",
       "      <th>4</th>\n",
       "      <td>AACL__CJ_C_ES_ER</td>\n",
       "      <td>AACL</td>\n",
       "      <td>CJ C ES ER</td>\n",
       "      <td>2019-04-20</td>\n",
       "      <td>2019-04-20</td>\n",
       "      <td>1</td>\n",
       "      <td>2019-04-15</td>\n",
       "      <td>2019-04-01</td>\n",
       "      <td>2019-04-20</td>\n",
       "      <td>44</td>\n",
       "      <td>44</td>\n",
       "      <td>1.00</td>\n",
       "      <td>2022-12-24</td>\n",
       "      <td>2022-12-31</td>\n",
       "      <td>0</td>\n",
       "      <td>0</td>\n",
       "    </tr>\n",
       "  </tbody>\n",
       "</table>\n",
       "</div>"
      ],
      "text/plain": [
       "          poc_ppg_id unique_poc_id     ppg_name start_date_vol end_date_vol  \\\n",
       "0   AAAA__AK_AB_CG_T          AAAA   AK AB CG T     2019-04-20   2019-05-25   \n",
       "1  AAAA__CJ_CZ_CG_EH          AAAA  CJ CZ CG EH     2019-04-20   2019-07-24   \n",
       "2      AAAA__CM_CG_T          AAAA      CM CG T     2019-04-20   2019-04-20   \n",
       "3  AACL__CJ_CZ_ES_ER          AACL  CJ CZ ES ER     2019-04-20   2019-04-20   \n",
       "4   AACL__CJ_C_ES_ER          AACL   CJ C ES ER     2019-04-20   2019-04-20   \n",
       "\n",
       "   unique_selling_days year_week_start_date_id year_month_start_date_id  \\\n",
       "0                    2              2019-04-15               2019-04-01   \n",
       "1                    2              2019-04-15               2019-04-01   \n",
       "2                    1              2019-04-15               2019-04-01   \n",
       "3                    1              2019-04-15               2019-04-01   \n",
       "4                    1              2019-04-15               2019-04-01   \n",
       "\n",
       "        date  life_from_start_months  last_selling_record_months  \\\n",
       "0 2019-04-20                      44                          43   \n",
       "1 2019-04-20                      44                          41   \n",
       "2 2019-04-20                      44                          44   \n",
       "3 2019-04-20                      44                          44   \n",
       "4 2019-04-20                      44                          44   \n",
       "\n",
       "   inactive_life poc_last_sell_date ppg_last_sell_date  poc_last_sell_months  \\\n",
       "0           0.98         2020-06-13         2022-12-31                    30   \n",
       "1           0.93         2020-06-13         2022-12-31                    30   \n",
       "2           1.00         2020-06-13         2022-11-30                    30   \n",
       "3           1.00         2022-12-24         2022-12-31                     0   \n",
       "4           1.00         2022-12-24         2022-12-31                     0   \n",
       "\n",
       "   ppg_last_sell_months  \n",
       "0                     0  \n",
       "1                     0  \n",
       "2                     1  \n",
       "3                     0  \n",
       "4                     0  "
      ]
     },
     "execution_count": 31,
     "metadata": {},
     "output_type": "execute_result"
    }
   ],
   "source": [
    "id_life_df.head()"
   ]
  },
  {
   "cell_type": "code",
   "execution_count": 32,
   "id": "ad499b89",
   "metadata": {},
   "outputs": [
    {
     "data": {
      "application/vnd.jupyter.widget-view+json": {
       "model_id": "75e0f99b56624cfeb911367de5658b13",
       "version_major": 2,
       "version_minor": 0
      },
      "text/plain": [
       "VBox(children=(HBox(children=(IntProgress(value=0, description='0.00%', max=2899), Label(value='0 / 2899'))), …"
      ]
     },
     "metadata": {},
     "output_type": "display_data"
    }
   ],
   "source": [
    "poc_life_df = id_life_df.groupby([\"unique_poc_id\"], as_index=False).parallel_apply(\n",
    "    lambda x: (x[\"end_date_vol\"].max() - x[\"start_date_vol\"].min())\n",
    "    / np.timedelta64(1, \"M\")\n",
    ")"
   ]
  },
  {
   "cell_type": "code",
   "execution_count": 33,
   "id": "c96d6a6b",
   "metadata": {},
   "outputs": [],
   "source": [
    "poc_life_df.columns = [\"unique_poc_id\", \"poc_life\"]"
   ]
  },
  {
   "cell_type": "code",
   "execution_count": 34,
   "id": "0254dd0e",
   "metadata": {},
   "outputs": [
    {
     "data": {
      "text/html": [
       "<div>\n",
       "<style scoped>\n",
       "    .dataframe tbody tr th:only-of-type {\n",
       "        vertical-align: middle;\n",
       "    }\n",
       "\n",
       "    .dataframe tbody tr th {\n",
       "        vertical-align: top;\n",
       "    }\n",
       "\n",
       "    .dataframe thead th {\n",
       "        text-align: right;\n",
       "    }\n",
       "</style>\n",
       "<table border=\"1\" class=\"dataframe\">\n",
       "  <thead>\n",
       "    <tr style=\"text-align: right;\">\n",
       "      <th></th>\n",
       "      <th>unique_poc_id</th>\n",
       "      <th>poc_life</th>\n",
       "    </tr>\n",
       "  </thead>\n",
       "  <tbody>\n",
       "    <tr>\n",
       "      <th>0</th>\n",
       "      <td>AA</td>\n",
       "      <td>45.241175</td>\n",
       "    </tr>\n",
       "    <tr>\n",
       "      <th>1</th>\n",
       "      <td>AAA</td>\n",
       "      <td>47.902421</td>\n",
       "    </tr>\n",
       "    <tr>\n",
       "      <th>2</th>\n",
       "      <td>AAAA</td>\n",
       "      <td>16.657426</td>\n",
       "    </tr>\n",
       "    <tr>\n",
       "      <th>3</th>\n",
       "      <td>AAAC</td>\n",
       "      <td>47.639582</td>\n",
       "    </tr>\n",
       "    <tr>\n",
       "      <th>4</th>\n",
       "      <td>AAAD</td>\n",
       "      <td>47.836711</td>\n",
       "    </tr>\n",
       "  </tbody>\n",
       "</table>\n",
       "</div>"
      ],
      "text/plain": [
       "  unique_poc_id   poc_life\n",
       "0            AA  45.241175\n",
       "1           AAA  47.902421\n",
       "2          AAAA  16.657426\n",
       "3          AAAC  47.639582\n",
       "4          AAAD  47.836711"
      ]
     },
     "execution_count": 34,
     "metadata": {},
     "output_type": "execute_result"
    }
   ],
   "source": [
    "poc_life_df.head()"
   ]
  },
  {
   "cell_type": "code",
   "execution_count": 35,
   "id": "0fbfcafd",
   "metadata": {},
   "outputs": [
    {
     "data": {
      "application/vnd.jupyter.widget-view+json": {
       "model_id": "4133860ecc4b4cb28a759ffcc6bc79ec",
       "version_major": 2,
       "version_minor": 0
      },
      "text/plain": [
       "VBox(children=(HBox(children=(IntProgress(value=0, description='0.00%', max=16), Label(value='0 / 16'))), HBox…"
      ]
     },
     "metadata": {},
     "output_type": "display_data"
    }
   ],
   "source": [
    "ppg_life_df = id_life_df.groupby([\"ppg_name\"], as_index=False).parallel_apply(\n",
    "    lambda x: (x[\"end_date_vol\"].max() - x[\"start_date_vol\"].min())\n",
    "    / np.timedelta64(1, \"M\")\n",
    ")"
   ]
  },
  {
   "cell_type": "code",
   "execution_count": 36,
   "id": "a1083ac3",
   "metadata": {},
   "outputs": [],
   "source": [
    "ppg_life_df.columns = [\"ppg_name\", \"ppg_life\"]"
   ]
  },
  {
   "cell_type": "code",
   "execution_count": 37,
   "id": "fc0da7c1",
   "metadata": {},
   "outputs": [
    {
     "data": {
      "text/html": [
       "<div>\n",
       "<style scoped>\n",
       "    .dataframe tbody tr th:only-of-type {\n",
       "        vertical-align: middle;\n",
       "    }\n",
       "\n",
       "    .dataframe tbody tr th {\n",
       "        vertical-align: top;\n",
       "    }\n",
       "\n",
       "    .dataframe thead th {\n",
       "        text-align: right;\n",
       "    }\n",
       "</style>\n",
       "<table border=\"1\" class=\"dataframe\">\n",
       "  <thead>\n",
       "    <tr style=\"text-align: right;\">\n",
       "      <th></th>\n",
       "      <th>ppg_name</th>\n",
       "      <th>ppg_life</th>\n",
       "    </tr>\n",
       "  </thead>\n",
       "  <tbody>\n",
       "    <tr>\n",
       "      <th>0</th>\n",
       "      <td>AG FC EN CK</td>\n",
       "      <td>47.902421</td>\n",
       "    </tr>\n",
       "    <tr>\n",
       "      <th>1</th>\n",
       "      <td>AG FC ES DX</td>\n",
       "      <td>47.935276</td>\n",
       "    </tr>\n",
       "    <tr>\n",
       "      <th>2</th>\n",
       "      <td>AK AB CG T</td>\n",
       "      <td>47.968131</td>\n",
       "    </tr>\n",
       "    <tr>\n",
       "      <th>3</th>\n",
       "      <td>AK AB ES AN</td>\n",
       "      <td>47.376743</td>\n",
       "    </tr>\n",
       "    <tr>\n",
       "      <th>4</th>\n",
       "      <td>AK AB FN DY</td>\n",
       "      <td>46.949629</td>\n",
       "    </tr>\n",
       "  </tbody>\n",
       "</table>\n",
       "</div>"
      ],
      "text/plain": [
       "      ppg_name   ppg_life\n",
       "0  AG FC EN CK  47.902421\n",
       "1  AG FC ES DX  47.935276\n",
       "2   AK AB CG T  47.968131\n",
       "3  AK AB ES AN  47.376743\n",
       "4  AK AB FN DY  46.949629"
      ]
     },
     "execution_count": 37,
     "metadata": {},
     "output_type": "execute_result"
    }
   ],
   "source": [
    "ppg_life_df.head()"
   ]
  },
  {
   "cell_type": "code",
   "execution_count": 38,
   "id": "3ada1db1",
   "metadata": {},
   "outputs": [],
   "source": [
    "# merge back"
   ]
  },
  {
   "cell_type": "code",
   "execution_count": 39,
   "id": "81aa8ace",
   "metadata": {},
   "outputs": [],
   "source": [
    "id_life_df = pd.merge(id_life_df, poc_life_df, how=\"left\", on=\"unique_poc_id\")\n",
    "id_life_df = pd.merge(id_life_df, ppg_life_df, how=\"left\", on=\"ppg_name\")"
   ]
  },
  {
   "cell_type": "code",
   "execution_count": 40,
   "id": "4272c97c",
   "metadata": {},
   "outputs": [
    {
     "data": {
      "text/html": [
       "<div>\n",
       "<style scoped>\n",
       "    .dataframe tbody tr th:only-of-type {\n",
       "        vertical-align: middle;\n",
       "    }\n",
       "\n",
       "    .dataframe tbody tr th {\n",
       "        vertical-align: top;\n",
       "    }\n",
       "\n",
       "    .dataframe thead th {\n",
       "        text-align: right;\n",
       "    }\n",
       "</style>\n",
       "<table border=\"1\" class=\"dataframe\">\n",
       "  <thead>\n",
       "    <tr style=\"text-align: right;\">\n",
       "      <th></th>\n",
       "      <th>poc_ppg_id</th>\n",
       "      <th>unique_poc_id</th>\n",
       "      <th>ppg_name</th>\n",
       "      <th>start_date_vol</th>\n",
       "      <th>end_date_vol</th>\n",
       "      <th>unique_selling_days</th>\n",
       "      <th>year_week_start_date_id</th>\n",
       "      <th>year_month_start_date_id</th>\n",
       "      <th>date</th>\n",
       "      <th>life_from_start_months</th>\n",
       "      <th>last_selling_record_months</th>\n",
       "      <th>inactive_life</th>\n",
       "      <th>poc_last_sell_date</th>\n",
       "      <th>ppg_last_sell_date</th>\n",
       "      <th>poc_last_sell_months</th>\n",
       "      <th>ppg_last_sell_months</th>\n",
       "      <th>poc_life</th>\n",
       "      <th>ppg_life</th>\n",
       "    </tr>\n",
       "  </thead>\n",
       "  <tbody>\n",
       "    <tr>\n",
       "      <th>0</th>\n",
       "      <td>AAAA__AK_AB_CG_T</td>\n",
       "      <td>AAAA</td>\n",
       "      <td>AK AB CG T</td>\n",
       "      <td>2019-04-20</td>\n",
       "      <td>2019-05-25</td>\n",
       "      <td>2</td>\n",
       "      <td>2019-04-15</td>\n",
       "      <td>2019-04-01</td>\n",
       "      <td>2019-04-20</td>\n",
       "      <td>44</td>\n",
       "      <td>43</td>\n",
       "      <td>0.98</td>\n",
       "      <td>2020-06-13</td>\n",
       "      <td>2022-12-31</td>\n",
       "      <td>30</td>\n",
       "      <td>0</td>\n",
       "      <td>16.657426</td>\n",
       "      <td>47.968131</td>\n",
       "    </tr>\n",
       "    <tr>\n",
       "      <th>1</th>\n",
       "      <td>AAAA__CJ_CZ_CG_EH</td>\n",
       "      <td>AAAA</td>\n",
       "      <td>CJ CZ CG EH</td>\n",
       "      <td>2019-04-20</td>\n",
       "      <td>2019-07-24</td>\n",
       "      <td>2</td>\n",
       "      <td>2019-04-15</td>\n",
       "      <td>2019-04-01</td>\n",
       "      <td>2019-04-20</td>\n",
       "      <td>44</td>\n",
       "      <td>41</td>\n",
       "      <td>0.93</td>\n",
       "      <td>2020-06-13</td>\n",
       "      <td>2022-12-31</td>\n",
       "      <td>30</td>\n",
       "      <td>0</td>\n",
       "      <td>16.657426</td>\n",
       "      <td>47.968131</td>\n",
       "    </tr>\n",
       "    <tr>\n",
       "      <th>2</th>\n",
       "      <td>AAAA__CM_CG_T</td>\n",
       "      <td>AAAA</td>\n",
       "      <td>CM CG T</td>\n",
       "      <td>2019-04-20</td>\n",
       "      <td>2019-04-20</td>\n",
       "      <td>1</td>\n",
       "      <td>2019-04-15</td>\n",
       "      <td>2019-04-01</td>\n",
       "      <td>2019-04-20</td>\n",
       "      <td>44</td>\n",
       "      <td>44</td>\n",
       "      <td>1.00</td>\n",
       "      <td>2020-06-13</td>\n",
       "      <td>2022-11-30</td>\n",
       "      <td>30</td>\n",
       "      <td>1</td>\n",
       "      <td>16.657426</td>\n",
       "      <td>46.949629</td>\n",
       "    </tr>\n",
       "    <tr>\n",
       "      <th>3</th>\n",
       "      <td>AACL__CJ_CZ_ES_ER</td>\n",
       "      <td>AACL</td>\n",
       "      <td>CJ CZ ES ER</td>\n",
       "      <td>2019-04-20</td>\n",
       "      <td>2019-04-20</td>\n",
       "      <td>1</td>\n",
       "      <td>2019-04-15</td>\n",
       "      <td>2019-04-01</td>\n",
       "      <td>2019-04-20</td>\n",
       "      <td>44</td>\n",
       "      <td>44</td>\n",
       "      <td>1.00</td>\n",
       "      <td>2022-12-24</td>\n",
       "      <td>2022-12-31</td>\n",
       "      <td>0</td>\n",
       "      <td>0</td>\n",
       "      <td>45.372595</td>\n",
       "      <td>47.968131</td>\n",
       "    </tr>\n",
       "    <tr>\n",
       "      <th>4</th>\n",
       "      <td>AACL__CJ_C_ES_ER</td>\n",
       "      <td>AACL</td>\n",
       "      <td>CJ C ES ER</td>\n",
       "      <td>2019-04-20</td>\n",
       "      <td>2019-04-20</td>\n",
       "      <td>1</td>\n",
       "      <td>2019-04-15</td>\n",
       "      <td>2019-04-01</td>\n",
       "      <td>2019-04-20</td>\n",
       "      <td>44</td>\n",
       "      <td>44</td>\n",
       "      <td>1.00</td>\n",
       "      <td>2022-12-24</td>\n",
       "      <td>2022-12-31</td>\n",
       "      <td>0</td>\n",
       "      <td>0</td>\n",
       "      <td>45.372595</td>\n",
       "      <td>47.968131</td>\n",
       "    </tr>\n",
       "  </tbody>\n",
       "</table>\n",
       "</div>"
      ],
      "text/plain": [
       "          poc_ppg_id unique_poc_id     ppg_name start_date_vol end_date_vol  \\\n",
       "0   AAAA__AK_AB_CG_T          AAAA   AK AB CG T     2019-04-20   2019-05-25   \n",
       "1  AAAA__CJ_CZ_CG_EH          AAAA  CJ CZ CG EH     2019-04-20   2019-07-24   \n",
       "2      AAAA__CM_CG_T          AAAA      CM CG T     2019-04-20   2019-04-20   \n",
       "3  AACL__CJ_CZ_ES_ER          AACL  CJ CZ ES ER     2019-04-20   2019-04-20   \n",
       "4   AACL__CJ_C_ES_ER          AACL   CJ C ES ER     2019-04-20   2019-04-20   \n",
       "\n",
       "   unique_selling_days year_week_start_date_id year_month_start_date_id  \\\n",
       "0                    2              2019-04-15               2019-04-01   \n",
       "1                    2              2019-04-15               2019-04-01   \n",
       "2                    1              2019-04-15               2019-04-01   \n",
       "3                    1              2019-04-15               2019-04-01   \n",
       "4                    1              2019-04-15               2019-04-01   \n",
       "\n",
       "        date  life_from_start_months  last_selling_record_months  \\\n",
       "0 2019-04-20                      44                          43   \n",
       "1 2019-04-20                      44                          41   \n",
       "2 2019-04-20                      44                          44   \n",
       "3 2019-04-20                      44                          44   \n",
       "4 2019-04-20                      44                          44   \n",
       "\n",
       "   inactive_life poc_last_sell_date ppg_last_sell_date  poc_last_sell_months  \\\n",
       "0           0.98         2020-06-13         2022-12-31                    30   \n",
       "1           0.93         2020-06-13         2022-12-31                    30   \n",
       "2           1.00         2020-06-13         2022-11-30                    30   \n",
       "3           1.00         2022-12-24         2022-12-31                     0   \n",
       "4           1.00         2022-12-24         2022-12-31                     0   \n",
       "\n",
       "   ppg_last_sell_months   poc_life   ppg_life  \n",
       "0                     0  16.657426  47.968131  \n",
       "1                     0  16.657426  47.968131  \n",
       "2                     1  16.657426  46.949629  \n",
       "3                     0  45.372595  47.968131  \n",
       "4                     0  45.372595  47.968131  "
      ]
     },
     "execution_count": 40,
     "metadata": {},
     "output_type": "execute_result"
    }
   ],
   "source": [
    "id_life_df.head()"
   ]
  },
  {
   "cell_type": "code",
   "execution_count": 41,
   "id": "1882fd8a",
   "metadata": {},
   "outputs": [
    {
     "data": {
      "text/plain": [
       "poc_ppg_id                    0\n",
       "unique_poc_id                 0\n",
       "ppg_name                      0\n",
       "start_date_vol                0\n",
       "end_date_vol                  0\n",
       "unique_selling_days           0\n",
       "year_week_start_date_id       0\n",
       "year_month_start_date_id      0\n",
       "date                          0\n",
       "life_from_start_months        0\n",
       "last_selling_record_months    0\n",
       "inactive_life                 0\n",
       "poc_last_sell_date            0\n",
       "ppg_last_sell_date            0\n",
       "poc_last_sell_months          0\n",
       "ppg_last_sell_months          0\n",
       "poc_life                      0\n",
       "ppg_life                      0\n",
       "dtype: int64"
      ]
     },
     "execution_count": 41,
     "metadata": {},
     "output_type": "execute_result"
    }
   ],
   "source": [
    "id_life_df.isnull().sum()"
   ]
  },
  {
   "cell_type": "markdown",
   "id": "e781055c",
   "metadata": {},
   "source": [
    "###### store level analysis"
   ]
  },
  {
   "cell_type": "code",
   "execution_count": 42,
   "id": "529bf71b",
   "metadata": {},
   "outputs": [],
   "source": [
    "store_yoy_df = volume_df.groupby(\n",
    "    [\"unique_poc_id\", \"adjusted_year\"], as_index=False\n",
    ").agg(agg_sales_stores=(\"sales_volume_hl\", \"sum\"), agg_sales_record=(\"date\", \"count\"))\n",
    "\n",
    "# weighted\n",
    "store_yoy_df[\"agg_sales_stores\"] = (\n",
    "    store_yoy_df[\"agg_sales_stores\"] / store_yoy_df[\"agg_sales_record\"]\n",
    ")\n",
    "\n",
    "# rank by year\n",
    "store_yoy_df[\"store_rank\"] = store_yoy_df.groupby([\"adjusted_year\"])[\n",
    "    \"agg_sales_stores\"\n",
    "].transform(lambda x: x.rank(method=\"dense\", ascending=False))\n",
    "\n",
    "# pct changes by store\n",
    "store_yoy_df[\"store_pct_changes\"] = store_yoy_df.groupby([\"unique_poc_id\"])[\n",
    "    \"agg_sales_stores\"\n",
    "].transform(lambda x: x.pct_change())\n",
    "\n",
    "# store_yoy_df.sort_values([\"adjusted_year\", \"store_rank\"], ascending=[True, True]).head(\n",
    "#     50\n",
    "# )\n",
    "\n",
    "# Pivot the DataFrame to get the desired format\n",
    "store_yoy_pivot_df = store_yoy_df.pivot_table(\n",
    "    index=\"unique_poc_id\",\n",
    "    columns=\"adjusted_year\",\n",
    "    values=[\"agg_sales_stores\", \"store_rank\", \"store_pct_changes\"],\n",
    "    aggfunc=\"first\",\n",
    ")\n",
    "\n",
    "# Flatten the MultiIndex columns\n",
    "store_yoy_pivot_df.columns = [\n",
    "    f\"{year}_{metric}\" for metric, year in store_yoy_pivot_df.columns\n",
    "]\n",
    "\n",
    "# Reset the index to turn 'unique_poc_id' back into a column\n",
    "store_yoy_pivot_df = store_yoy_pivot_df.reset_index()"
   ]
  },
  {
   "cell_type": "code",
   "execution_count": 43,
   "id": "159160d7",
   "metadata": {},
   "outputs": [
    {
     "data": {
      "text/html": [
       "<div>\n",
       "<style scoped>\n",
       "    .dataframe tbody tr th:only-of-type {\n",
       "        vertical-align: middle;\n",
       "    }\n",
       "\n",
       "    .dataframe tbody tr th {\n",
       "        vertical-align: top;\n",
       "    }\n",
       "\n",
       "    .dataframe thead th {\n",
       "        text-align: right;\n",
       "    }\n",
       "</style>\n",
       "<table border=\"1\" class=\"dataframe\">\n",
       "  <thead>\n",
       "    <tr style=\"text-align: right;\">\n",
       "      <th></th>\n",
       "      <th>unique_poc_id</th>\n",
       "      <th>2019_agg_sales_stores</th>\n",
       "      <th>2020_agg_sales_stores</th>\n",
       "      <th>2021_agg_sales_stores</th>\n",
       "      <th>2022_agg_sales_stores</th>\n",
       "      <th>2020_store_pct_changes</th>\n",
       "      <th>2021_store_pct_changes</th>\n",
       "      <th>2022_store_pct_changes</th>\n",
       "      <th>2019_store_rank</th>\n",
       "      <th>2020_store_rank</th>\n",
       "      <th>2021_store_rank</th>\n",
       "      <th>2022_store_rank</th>\n",
       "    </tr>\n",
       "  </thead>\n",
       "  <tbody>\n",
       "    <tr>\n",
       "      <th>0</th>\n",
       "      <td>AA</td>\n",
       "      <td>0.068596</td>\n",
       "      <td>0.128300</td>\n",
       "      <td>0.111659</td>\n",
       "      <td>0.084263</td>\n",
       "      <td>0.870388</td>\n",
       "      <td>-0.129709</td>\n",
       "      <td>-0.245348</td>\n",
       "      <td>33389.0</td>\n",
       "      <td>29891.0</td>\n",
       "      <td>30825.0</td>\n",
       "      <td>30798.0</td>\n",
       "    </tr>\n",
       "    <tr>\n",
       "      <th>1</th>\n",
       "      <td>AAA</td>\n",
       "      <td>1.274841</td>\n",
       "      <td>4.055424</td>\n",
       "      <td>7.613236</td>\n",
       "      <td>3.550105</td>\n",
       "      <td>2.181121</td>\n",
       "      <td>0.877297</td>\n",
       "      <td>-0.533693</td>\n",
       "      <td>3021.0</td>\n",
       "      <td>1120.0</td>\n",
       "      <td>651.0</td>\n",
       "      <td>1622.0</td>\n",
       "    </tr>\n",
       "    <tr>\n",
       "      <th>2</th>\n",
       "      <td>AAAA</td>\n",
       "      <td>0.143902</td>\n",
       "      <td>0.184197</td>\n",
       "      <td>NaN</td>\n",
       "      <td>NaN</td>\n",
       "      <td>0.280023</td>\n",
       "      <td>NaN</td>\n",
       "      <td>NaN</td>\n",
       "      <td>27908.0</td>\n",
       "      <td>25765.0</td>\n",
       "      <td>NaN</td>\n",
       "      <td>NaN</td>\n",
       "    </tr>\n",
       "    <tr>\n",
       "      <th>3</th>\n",
       "      <td>AAAC</td>\n",
       "      <td>0.384567</td>\n",
       "      <td>0.350626</td>\n",
       "      <td>0.432555</td>\n",
       "      <td>0.579081</td>\n",
       "      <td>-0.088258</td>\n",
       "      <td>0.233663</td>\n",
       "      <td>0.338747</td>\n",
       "      <td>12113.0</td>\n",
       "      <td>15670.0</td>\n",
       "      <td>14179.0</td>\n",
       "      <td>11091.0</td>\n",
       "    </tr>\n",
       "    <tr>\n",
       "      <th>4</th>\n",
       "      <td>AAAD</td>\n",
       "      <td>0.413035</td>\n",
       "      <td>0.321357</td>\n",
       "      <td>0.465599</td>\n",
       "      <td>0.450399</td>\n",
       "      <td>-0.221961</td>\n",
       "      <td>0.448851</td>\n",
       "      <td>-0.032645</td>\n",
       "      <td>11177.0</td>\n",
       "      <td>17022.0</td>\n",
       "      <td>13156.0</td>\n",
       "      <td>14208.0</td>\n",
       "    </tr>\n",
       "  </tbody>\n",
       "</table>\n",
       "</div>"
      ],
      "text/plain": [
       "  unique_poc_id  2019_agg_sales_stores  2020_agg_sales_stores  \\\n",
       "0            AA               0.068596               0.128300   \n",
       "1           AAA               1.274841               4.055424   \n",
       "2          AAAA               0.143902               0.184197   \n",
       "3          AAAC               0.384567               0.350626   \n",
       "4          AAAD               0.413035               0.321357   \n",
       "\n",
       "   2021_agg_sales_stores  2022_agg_sales_stores  2020_store_pct_changes  \\\n",
       "0               0.111659               0.084263                0.870388   \n",
       "1               7.613236               3.550105                2.181121   \n",
       "2                    NaN                    NaN                0.280023   \n",
       "3               0.432555               0.579081               -0.088258   \n",
       "4               0.465599               0.450399               -0.221961   \n",
       "\n",
       "   2021_store_pct_changes  2022_store_pct_changes  2019_store_rank  \\\n",
       "0               -0.129709               -0.245348          33389.0   \n",
       "1                0.877297               -0.533693           3021.0   \n",
       "2                     NaN                     NaN          27908.0   \n",
       "3                0.233663                0.338747          12113.0   \n",
       "4                0.448851               -0.032645          11177.0   \n",
       "\n",
       "   2020_store_rank  2021_store_rank  2022_store_rank  \n",
       "0          29891.0          30825.0          30798.0  \n",
       "1           1120.0            651.0           1622.0  \n",
       "2          25765.0              NaN              NaN  \n",
       "3          15670.0          14179.0          11091.0  \n",
       "4          17022.0          13156.0          14208.0  "
      ]
     },
     "execution_count": 43,
     "metadata": {},
     "output_type": "execute_result"
    }
   ],
   "source": [
    "store_yoy_pivot_df.head()"
   ]
  },
  {
   "cell_type": "code",
   "execution_count": 44,
   "id": "a3a49c37",
   "metadata": {},
   "outputs": [],
   "source": [
    "sales_cols = store_yoy_pivot_df.filter(regex=\"sales_stores\").columns.tolist()\n",
    "rank_cols = store_yoy_pivot_df.filter(regex=\"store_rank\").columns.tolist()\n",
    "pct_changes_cols = store_yoy_pivot_df.filter(regex=\"store_pct_changes\").columns.tolist()\n",
    "\n",
    "store_yoy_pivot_df[sales_cols] = store_yoy_pivot_df[sales_cols].fillna(0.0)\n",
    "store_yoy_pivot_df[pct_changes_cols] = store_yoy_pivot_df[pct_changes_cols].fillna(0.0)\n",
    "store_yoy_pivot_df[rank_cols] = store_yoy_pivot_df[rank_cols].fillna(\n",
    "    len(store_yoy_pivot_df) + 1\n",
    ")"
   ]
  },
  {
   "cell_type": "code",
   "execution_count": 45,
   "id": "da07de55",
   "metadata": {},
   "outputs": [],
   "source": [
    "store_yoy_pivot_df[\"median_rank\"] = store_yoy_pivot_df[rank_cols].median(axis=1)\n",
    "\n",
    "store_yoy_pivot_df = store_yoy_pivot_df.sort_values(\n",
    "    [\"median_rank\"], ascending=True\n",
    ").reset_index(drop=True)"
   ]
  },
  {
   "cell_type": "code",
   "execution_count": 46,
   "id": "73cfa82b",
   "metadata": {},
   "outputs": [],
   "source": [
    "def classify_tier(rank, df):\n",
    "    if rank <= np.percentile(df[\"median_rank\"], 20):\n",
    "        return \"Top\"\n",
    "    elif rank <= np.percentile(df[\"median_rank\"], 50):\n",
    "        return \"Middle\"\n",
    "    else:\n",
    "        return \"Bottom\""
   ]
  },
  {
   "cell_type": "code",
   "execution_count": 47,
   "id": "6e07e7ee",
   "metadata": {},
   "outputs": [
    {
     "data": {
      "application/vnd.jupyter.widget-view+json": {
       "model_id": "bb7fed4496b547009c658d6e93161296",
       "version_major": 2,
       "version_minor": 0
      },
      "text/plain": [
       "VBox(children=(HBox(children=(IntProgress(value=0, description='0.00%', max=2899), Label(value='0 / 2899'))), …"
      ]
     },
     "metadata": {},
     "output_type": "display_data"
    }
   ],
   "source": [
    "# Apply the classification function to create a tier column\n",
    "store_yoy_pivot_df[\"class_tier\"] = store_yoy_pivot_df[\"median_rank\"].parallel_apply(\n",
    "    lambda x: classify_tier(x, store_yoy_pivot_df)\n",
    ")"
   ]
  },
  {
   "cell_type": "code",
   "execution_count": 48,
   "id": "27251faf",
   "metadata": {},
   "outputs": [
    {
     "data": {
      "text/plain": [
       "unique_poc_id             0\n",
       "2019_agg_sales_stores     0\n",
       "2020_agg_sales_stores     0\n",
       "2021_agg_sales_stores     0\n",
       "2022_agg_sales_stores     0\n",
       "2020_store_pct_changes    0\n",
       "2021_store_pct_changes    0\n",
       "2022_store_pct_changes    0\n",
       "2019_store_rank           0\n",
       "2020_store_rank           0\n",
       "2021_store_rank           0\n",
       "2022_store_rank           0\n",
       "median_rank               0\n",
       "class_tier                0\n",
       "dtype: int64"
      ]
     },
     "execution_count": 48,
     "metadata": {},
     "output_type": "execute_result"
    }
   ],
   "source": [
    "store_yoy_pivot_df.isnull().sum()"
   ]
  },
  {
   "cell_type": "code",
   "execution_count": 49,
   "id": "aceb21ea",
   "metadata": {},
   "outputs": [],
   "source": [
    "# getting information of last sales\n",
    "store_last_sold = id_life_df.drop_duplicates([\"unique_poc_id\"])[\n",
    "    [\"unique_poc_id\", \"poc_last_sell_months\", \"poc_life\"]\n",
    "].reset_index(drop=True)"
   ]
  },
  {
   "cell_type": "code",
   "execution_count": 50,
   "id": "88b3f2c4",
   "metadata": {},
   "outputs": [],
   "source": [
    "store_yoy_pivot_df = pd.merge(\n",
    "    store_yoy_pivot_df, store_last_sold, how=\"left\", on=\"unique_poc_id\"\n",
    ")"
   ]
  },
  {
   "cell_type": "code",
   "execution_count": 51,
   "id": "655d45da",
   "metadata": {},
   "outputs": [],
   "source": [
    "# store_yoy_pivot_df = reduce_mem_usage(store_yoy_pivot_df)"
   ]
  },
  {
   "cell_type": "code",
   "execution_count": 52,
   "id": "bec928f9",
   "metadata": {},
   "outputs": [
    {
     "data": {
      "text/plain": [
       "unique_poc_id             0\n",
       "2019_agg_sales_stores     0\n",
       "2020_agg_sales_stores     0\n",
       "2021_agg_sales_stores     0\n",
       "2022_agg_sales_stores     0\n",
       "2020_store_pct_changes    0\n",
       "2021_store_pct_changes    0\n",
       "2022_store_pct_changes    0\n",
       "2019_store_rank           0\n",
       "2020_store_rank           0\n",
       "2021_store_rank           0\n",
       "2022_store_rank           0\n",
       "median_rank               0\n",
       "class_tier                0\n",
       "poc_last_sell_months      0\n",
       "poc_life                  0\n",
       "dtype: int64"
      ]
     },
     "execution_count": 52,
     "metadata": {},
     "output_type": "execute_result"
    }
   ],
   "source": [
    "store_yoy_pivot_df.isnull().sum()"
   ]
  },
  {
   "cell_type": "code",
   "execution_count": 53,
   "id": "14360452",
   "metadata": {},
   "outputs": [
    {
     "data": {
      "text/plain": [
       "<Axes: >"
      ]
     },
     "execution_count": 53,
     "metadata": {},
     "output_type": "execute_result"
    },
    {
     "data": {
      "image/png": "[encoded data removed]",
      "text/plain": [
       "<Figure size 576x360 with 1 Axes>"
      ]
     },
     "metadata": {
      "needs_background": "light"
     },
     "output_type": "display_data"
    }
   ],
   "source": [
    "plt.figure(figsize=(8, 5))\n",
    "store_yoy_pivot_df[\"poc_last_sell_months\"].hist()"
   ]
  },
  {
   "cell_type": "code",
   "execution_count": 54,
   "id": "cec1a340",
   "metadata": {},
   "outputs": [
    {
     "data": {
      "text/plain": [
       "<Axes: >"
      ]
     },
     "execution_count": 54,
     "metadata": {},
     "output_type": "execute_result"
    },
    {
     "data": {
      "image/png": "[encoded data removed]",
      "text/plain": [
       "<Figure size 576x360 with 1 Axes>"
      ]
     },
     "metadata": {
      "needs_background": "light"
     },
     "output_type": "display_data"
    }
   ],
   "source": [
    "plt.figure(figsize=(8, 5))\n",
    "store_yoy_pivot_df[\"poc_life\"].hist()"
   ]
  },
  {
   "cell_type": "markdown",
   "id": "4dab8d7e",
   "metadata": {},
   "source": [
    "##### ppg level analysis"
   ]
  },
  {
   "cell_type": "code",
   "execution_count": 55,
   "id": "e34c6ae9",
   "metadata": {},
   "outputs": [],
   "source": [
    "ppg_yoy_df = volume_df.groupby([\"ppg_name\", \"adjusted_year\"], as_index=False).agg(\n",
    "    agg_sales_ppg=(\"sales_volume_hl\", \"sum\"), agg_sales_record=(\"date\", \"count\")\n",
    ")\n",
    "\n",
    "# weighted\n",
    "ppg_yoy_df[\"agg_sales_ppg\"] = (\n",
    "    ppg_yoy_df[\"agg_sales_ppg\"] / ppg_yoy_df[\"agg_sales_record\"]\n",
    ")\n",
    "\n",
    "# rank\n",
    "ppg_yoy_df[\"ppg_rank\"] = ppg_yoy_df.groupby([\"adjusted_year\"])[\n",
    "    \"agg_sales_ppg\"\n",
    "].transform(lambda x: x.rank(method=\"dense\", ascending=False))\n",
    "\n",
    "# pct changes by ppg\n",
    "ppg_yoy_df[\"ppg_pct_changes\"] = ppg_yoy_df.groupby([\"ppg_name\"])[\n",
    "    \"agg_sales_ppg\"\n",
    "].transform(lambda x: x.pct_change())\n",
    "\n",
    "# ppg_yoy_df.sort_values([\"adjusted_year\", \"ppg_rank\"], ascending=[True, True]).head(50)\n",
    "\n",
    "# Pivot the DataFrame to get the desired format\n",
    "ppg_yoy_pivot_df = ppg_yoy_df.pivot_table(\n",
    "    index=\"ppg_name\",\n",
    "    columns=\"adjusted_year\",\n",
    "    values=[\"agg_sales_ppg\", \"ppg_rank\", \"ppg_pct_changes\"],\n",
    "    aggfunc=\"first\",\n",
    ")\n",
    "\n",
    "# Flatten the MultiIndex columns\n",
    "ppg_yoy_pivot_df.columns = [\n",
    "    f\"{year}_{metric}\" for metric, year in ppg_yoy_pivot_df.columns\n",
    "]\n",
    "\n",
    "# Reset the index to turn 'unique_poc_id' back into a column\n",
    "ppg_yoy_pivot_df = ppg_yoy_pivot_df.reset_index()"
   ]
  },
  {
   "cell_type": "code",
   "execution_count": 56,
   "id": "b409369d",
   "metadata": {},
   "outputs": [
    {
     "data": {
      "text/html": [
       "<div>\n",
       "<style scoped>\n",
       "    .dataframe tbody tr th:only-of-type {\n",
       "        vertical-align: middle;\n",
       "    }\n",
       "\n",
       "    .dataframe tbody tr th {\n",
       "        vertical-align: top;\n",
       "    }\n",
       "\n",
       "    .dataframe thead th {\n",
       "        text-align: right;\n",
       "    }\n",
       "</style>\n",
       "<table border=\"1\" class=\"dataframe\">\n",
       "  <thead>\n",
       "    <tr style=\"text-align: right;\">\n",
       "      <th></th>\n",
       "      <th>ppg_name</th>\n",
       "      <th>2019_agg_sales_ppg</th>\n",
       "      <th>2020_agg_sales_ppg</th>\n",
       "      <th>2021_agg_sales_ppg</th>\n",
       "      <th>2022_agg_sales_ppg</th>\n",
       "      <th>2020_ppg_pct_changes</th>\n",
       "      <th>2021_ppg_pct_changes</th>\n",
       "      <th>2022_ppg_pct_changes</th>\n",
       "      <th>2019_ppg_rank</th>\n",
       "      <th>2020_ppg_rank</th>\n",
       "      <th>2021_ppg_rank</th>\n",
       "      <th>2022_ppg_rank</th>\n",
       "    </tr>\n",
       "  </thead>\n",
       "  <tbody>\n",
       "    <tr>\n",
       "      <th>0</th>\n",
       "      <td>AG FC EN CK</td>\n",
       "      <td>0.457956</td>\n",
       "      <td>0.379377</td>\n",
       "      <td>0.366196</td>\n",
       "      <td>0.515512</td>\n",
       "      <td>-0.171588</td>\n",
       "      <td>-0.034743</td>\n",
       "      <td>0.407750</td>\n",
       "      <td>34.0</td>\n",
       "      <td>47.0</td>\n",
       "      <td>49.0</td>\n",
       "      <td>49.0</td>\n",
       "    </tr>\n",
       "    <tr>\n",
       "      <th>1</th>\n",
       "      <td>AG FC ES DX</td>\n",
       "      <td>0.055895</td>\n",
       "      <td>0.065314</td>\n",
       "      <td>0.070734</td>\n",
       "      <td>0.083199</td>\n",
       "      <td>0.168514</td>\n",
       "      <td>0.082984</td>\n",
       "      <td>0.176219</td>\n",
       "      <td>115.0</td>\n",
       "      <td>112.0</td>\n",
       "      <td>105.0</td>\n",
       "      <td>120.0</td>\n",
       "    </tr>\n",
       "    <tr>\n",
       "      <th>2</th>\n",
       "      <td>AK AB CG T</td>\n",
       "      <td>0.300243</td>\n",
       "      <td>0.330513</td>\n",
       "      <td>0.387252</td>\n",
       "      <td>0.459321</td>\n",
       "      <td>0.100816</td>\n",
       "      <td>0.171670</td>\n",
       "      <td>0.186105</td>\n",
       "      <td>53.0</td>\n",
       "      <td>54.0</td>\n",
       "      <td>47.0</td>\n",
       "      <td>55.0</td>\n",
       "    </tr>\n",
       "    <tr>\n",
       "      <th>3</th>\n",
       "      <td>AK AB ES AN</td>\n",
       "      <td>0.097894</td>\n",
       "      <td>0.067923</td>\n",
       "      <td>0.065178</td>\n",
       "      <td>0.000000</td>\n",
       "      <td>-0.306152</td>\n",
       "      <td>-0.040425</td>\n",
       "      <td>-1.000000</td>\n",
       "      <td>102.0</td>\n",
       "      <td>108.0</td>\n",
       "      <td>110.0</td>\n",
       "      <td>166.0</td>\n",
       "    </tr>\n",
       "    <tr>\n",
       "      <th>4</th>\n",
       "      <td>AK AB FN DY</td>\n",
       "      <td>0.116568</td>\n",
       "      <td>0.097090</td>\n",
       "      <td>0.068680</td>\n",
       "      <td>0.000000</td>\n",
       "      <td>-0.167099</td>\n",
       "      <td>-0.292611</td>\n",
       "      <td>-1.000000</td>\n",
       "      <td>96.0</td>\n",
       "      <td>98.0</td>\n",
       "      <td>107.0</td>\n",
       "      <td>166.0</td>\n",
       "    </tr>\n",
       "  </tbody>\n",
       "</table>\n",
       "</div>"
      ],
      "text/plain": [
       "      ppg_name  2019_agg_sales_ppg  2020_agg_sales_ppg  2021_agg_sales_ppg  \\\n",
       "0  AG FC EN CK            0.457956            0.379377            0.366196   \n",
       "1  AG FC ES DX            0.055895            0.065314            0.070734   \n",
       "2   AK AB CG T            0.300243            0.330513            0.387252   \n",
       "3  AK AB ES AN            0.097894            0.067923            0.065178   \n",
       "4  AK AB FN DY            0.116568            0.097090            0.068680   \n",
       "\n",
       "   2022_agg_sales_ppg  2020_ppg_pct_changes  2021_ppg_pct_changes  \\\n",
       "0            0.515512             -0.171588             -0.034743   \n",
       "1            0.083199              0.168514              0.082984   \n",
       "2            0.459321              0.100816              0.171670   \n",
       "3            0.000000             -0.306152             -0.040425   \n",
       "4            0.000000             -0.167099             -0.292611   \n",
       "\n",
       "   2022_ppg_pct_changes  2019_ppg_rank  2020_ppg_rank  2021_ppg_rank  \\\n",
       "0              0.407750           34.0           47.0           49.0   \n",
       "1              0.176219          115.0          112.0          105.0   \n",
       "2              0.186105           53.0           54.0           47.0   \n",
       "3             -1.000000          102.0          108.0          110.0   \n",
       "4             -1.000000           96.0           98.0          107.0   \n",
       "\n",
       "   2022_ppg_rank  \n",
       "0           49.0  \n",
       "1          120.0  \n",
       "2           55.0  \n",
       "3          166.0  \n",
       "4          166.0  "
      ]
     },
     "execution_count": 56,
     "metadata": {},
     "output_type": "execute_result"
    }
   ],
   "source": [
    "ppg_yoy_pivot_df.head()"
   ]
  },
  {
   "cell_type": "code",
   "execution_count": 57,
   "id": "cb2ca4d0",
   "metadata": {},
   "outputs": [],
   "source": [
    "sales_cols = ppg_yoy_pivot_df.filter(regex=\"sales_ppg\").columns.tolist()\n",
    "rank_cols = ppg_yoy_pivot_df.filter(regex=\"ppg_rank\").columns.tolist()\n",
    "pct_changes_cols = ppg_yoy_pivot_df.filter(regex=\"ppg_pct_changes\").columns.tolist()\n",
    "\n",
    "ppg_yoy_pivot_df[sales_cols] = ppg_yoy_pivot_df[sales_cols].fillna(0.0)\n",
    "ppg_yoy_pivot_df[pct_changes_cols] = ppg_yoy_pivot_df[pct_changes_cols].fillna(0.0)\n",
    "ppg_yoy_pivot_df[rank_cols] = ppg_yoy_pivot_df[rank_cols].fillna(\n",
    "    len(ppg_yoy_pivot_df) + 1\n",
    ")"
   ]
  },
  {
   "cell_type": "code",
   "execution_count": 58,
   "id": "30c6d399",
   "metadata": {},
   "outputs": [],
   "source": [
    "ppg_yoy_pivot_df[\"median_rank\"] = ppg_yoy_pivot_df[rank_cols].median(axis=1)\n",
    "\n",
    "ppg_yoy_pivot_df = ppg_yoy_pivot_df.sort_values(\n",
    "    [\"median_rank\"], ascending=True\n",
    ").reset_index(drop=True)"
   ]
  },
  {
   "cell_type": "code",
   "execution_count": 59,
   "id": "48298937",
   "metadata": {},
   "outputs": [
    {
     "data": {
      "application/vnd.jupyter.widget-view+json": {
       "model_id": "6428545a4b7b46d697bdd1c5007d38ec",
       "version_major": 2,
       "version_minor": 0
      },
      "text/plain": [
       "VBox(children=(HBox(children=(IntProgress(value=0, description='0.00%', max=16), Label(value='0 / 16'))), HBox…"
      ]
     },
     "metadata": {},
     "output_type": "display_data"
    }
   ],
   "source": [
    "# Apply the classification function to create a tier column\n",
    "ppg_yoy_pivot_df[\"class_tier\"] = ppg_yoy_pivot_df[\"median_rank\"].parallel_apply(\n",
    "    lambda x: classify_tier(x, ppg_yoy_pivot_df)\n",
    ")"
   ]
  },
  {
   "cell_type": "code",
   "execution_count": 60,
   "id": "d0c92b37",
   "metadata": {},
   "outputs": [
    {
     "data": {
      "text/plain": [
       "ppg_name                0\n",
       "2019_agg_sales_ppg      0\n",
       "2020_agg_sales_ppg      0\n",
       "2021_agg_sales_ppg      0\n",
       "2022_agg_sales_ppg      0\n",
       "2020_ppg_pct_changes    0\n",
       "2021_ppg_pct_changes    0\n",
       "2022_ppg_pct_changes    0\n",
       "2019_ppg_rank           0\n",
       "2020_ppg_rank           0\n",
       "2021_ppg_rank           0\n",
       "2022_ppg_rank           0\n",
       "median_rank             0\n",
       "class_tier              0\n",
       "dtype: int64"
      ]
     },
     "execution_count": 60,
     "metadata": {},
     "output_type": "execute_result"
    }
   ],
   "source": [
    "ppg_yoy_pivot_df.isnull().sum()"
   ]
  },
  {
   "cell_type": "code",
   "execution_count": 61,
   "id": "b48e889a",
   "metadata": {},
   "outputs": [],
   "source": [
    "# getting information of last sales\n",
    "ppg_last_sold = id_life_df.drop_duplicates([\"ppg_name\"])[\n",
    "    [\"ppg_name\", \"ppg_last_sell_months\", \"ppg_life\"]\n",
    "].reset_index(drop=True)"
   ]
  },
  {
   "cell_type": "code",
   "execution_count": 62,
   "id": "bab47996",
   "metadata": {},
   "outputs": [],
   "source": [
    "ppg_yoy_pivot_df = pd.merge(ppg_yoy_pivot_df, ppg_last_sold, how=\"left\", on=\"ppg_name\")"
   ]
  },
  {
   "cell_type": "code",
   "execution_count": 63,
   "id": "76d1ad9f",
   "metadata": {},
   "outputs": [],
   "source": [
    "# ppg_yoy_pivot_df = reduce_mem_usage(ppg_yoy_pivot_df)"
   ]
  },
  {
   "cell_type": "code",
   "execution_count": 64,
   "id": "f0cbbff6",
   "metadata": {},
   "outputs": [
    {
     "data": {
      "text/plain": [
       "ppg_name                0\n",
       "2019_agg_sales_ppg      0\n",
       "2020_agg_sales_ppg      0\n",
       "2021_agg_sales_ppg      0\n",
       "2022_agg_sales_ppg      0\n",
       "2020_ppg_pct_changes    0\n",
       "2021_ppg_pct_changes    0\n",
       "2022_ppg_pct_changes    0\n",
       "2019_ppg_rank           0\n",
       "2020_ppg_rank           0\n",
       "2021_ppg_rank           0\n",
       "2022_ppg_rank           0\n",
       "median_rank             0\n",
       "class_tier              0\n",
       "ppg_last_sell_months    0\n",
       "ppg_life                0\n",
       "dtype: int64"
      ]
     },
     "execution_count": 64,
     "metadata": {},
     "output_type": "execute_result"
    }
   ],
   "source": [
    "ppg_yoy_pivot_df.isnull().sum()"
   ]
  },
  {
   "cell_type": "code",
   "execution_count": 65,
   "id": "00c5ba99",
   "metadata": {},
   "outputs": [
    {
     "data": {
      "text/plain": [
       "<Axes: >"
      ]
     },
     "execution_count": 65,
     "metadata": {},
     "output_type": "execute_result"
    },
    {
     "data": {
      "image/png": "[encoded data removed]",
      "text/plain": [
       "<Figure size 576x360 with 1 Axes>"
      ]
     },
     "metadata": {
      "needs_background": "light"
     },
     "output_type": "display_data"
    }
   ],
   "source": [
    "plt.figure(figsize=(8, 5))\n",
    "ppg_yoy_pivot_df[\"ppg_last_sell_months\"].hist()"
   ]
  },
  {
   "cell_type": "code",
   "execution_count": 66,
   "id": "82f7e0f3",
   "metadata": {},
   "outputs": [
    {
     "data": {
      "text/plain": [
       "<Axes: >"
      ]
     },
     "execution_count": 66,
     "metadata": {},
     "output_type": "execute_result"
    },
    {
     "data": {
      "image/png": "[encoded data removed]",
      "text/plain": [
       "<Figure size 576x360 with 1 Axes>"
      ]
     },
     "metadata": {
      "needs_background": "light"
     },
     "output_type": "display_data"
    }
   ],
   "source": [
    "plt.figure(figsize=(8, 5))\n",
    "ppg_yoy_pivot_df[\"ppg_life\"].hist()"
   ]
  },
  {
   "cell_type": "markdown",
   "id": "92fa4ddf",
   "metadata": {},
   "source": [
    "#### Lets write all these files in pickle"
   ]
  },
  {
   "cell_type": "code",
   "execution_count": 67,
   "id": "05e4715c",
   "metadata": {},
   "outputs": [],
   "source": [
    "# volume_df,calendar_df,id_life_df,store_yoy_pivot_df,ppg_yoy_pivot_df"
   ]
  },
  {
   "cell_type": "code",
   "execution_count": 68,
   "id": "51271ccb",
   "metadata": {},
   "outputs": [],
   "source": [
    "os.makedirs(os.path.join(os.getcwd(), processed_data_folder), exist_ok=True)"
   ]
  },
  {
   "cell_type": "code",
   "execution_count": 69,
   "id": "025bb34c",
   "metadata": {},
   "outputs": [],
   "source": [
    "volume_df.to_pickle(\n",
    "    os.path.join(os.getcwd(), processed_data_folder, \"volume_clean_daily.pkl\")\n",
    ")\n",
    "calendar_df.to_pickle(os.path.join(os.getcwd(), processed_data_folder, \"calendar.pkl\"))\n",
    "id_life_df.to_pickle(\n",
    "    os.path.join(os.getcwd(), processed_data_folder, \"id_date_life.pkl\")\n",
    ")\n",
    "store_yoy_pivot_df.to_pickle(\n",
    "    os.path.join(os.getcwd(), processed_data_folder, \"poc_ranking.pkl\")\n",
    ")\n",
    "ppg_yoy_pivot_df.to_pickle(\n",
    "    os.path.join(os.getcwd(), processed_data_folder, \"ppg_ranking.pkl\")\n",
    ")"
   ]
  },
  {
   "cell_type": "code",
   "execution_count": 70,
   "id": "dea71f8e",
   "metadata": {},
   "outputs": [
    {
     "name": "stdout",
     "output_type": "stream",
     "text": [
      "(39779370, 10)\n",
      "(1826, 23)\n",
      "(1745002, 18)\n",
      "(40574, 16)\n",
      "(211, 16)\n"
     ]
    }
   ],
   "source": [
    "print(volume_df.shape)\n",
    "print(calendar_df.shape)\n",
    "print(id_life_df.shape)\n",
    "print(store_yoy_pivot_df.shape)\n",
    "print(ppg_yoy_pivot_df.shape)"
   ]
  },
  {
   "cell_type": "markdown",
   "id": "af9e1887",
   "metadata": {},
   "source": [
    "##### read the files for new cases"
   ]
  },
  {
   "cell_type": "code",
   "execution_count": 7,
   "id": "dae9ec2b",
   "metadata": {},
   "outputs": [],
   "source": [
    "volume_df = pd.read_pickle(\n",
    "    os.path.join(os.getcwd(), processed_data_folder, \"volume_clean_daily.pkl\")\n",
    ")\n",
    "calendar_df = pd.read_pickle(\n",
    "    os.path.join(os.getcwd(), processed_data_folder, \"calendar.pkl\")\n",
    ")\n",
    "id_life_df = pd.read_pickle(\n",
    "    os.path.join(os.getcwd(), processed_data_folder, \"id_date_life.pkl\")\n",
    ")\n",
    "store_yoy_pivot_df = pd.read_pickle(\n",
    "    os.path.join(os.getcwd(), processed_data_folder, \"poc_ranking.pkl\")\n",
    ")\n",
    "ppg_yoy_pivot_df = pd.read_pickle(\n",
    "    os.path.join(os.getcwd(), processed_data_folder, \"ppg_ranking.pkl\")\n",
    ")"
   ]
  },
  {
   "cell_type": "code",
   "execution_count": 8,
   "id": "99a6cbca",
   "metadata": {},
   "outputs": [
    {
     "name": "stdout",
     "output_type": "stream",
     "text": [
      "(39779370, 10)\n",
      "(1826, 23)\n",
      "(1745002, 18)\n",
      "(40574, 16)\n",
      "(211, 16)\n"
     ]
    }
   ],
   "source": [
    "print(volume_df.shape)\n",
    "print(calendar_df.shape)\n",
    "print(id_life_df.shape)\n",
    "print(store_yoy_pivot_df.shape)\n",
    "print(ppg_yoy_pivot_df.shape)"
   ]
  },
  {
   "cell_type": "code",
   "execution_count": 9,
   "id": "450799f0",
   "metadata": {},
   "outputs": [
    {
     "data": {
      "text/html": [
       "<div>\n",
       "<style scoped>\n",
       "    .dataframe tbody tr th:only-of-type {\n",
       "        vertical-align: middle;\n",
       "    }\n",
       "\n",
       "    .dataframe tbody tr th {\n",
       "        vertical-align: top;\n",
       "    }\n",
       "\n",
       "    .dataframe thead th {\n",
       "        text-align: right;\n",
       "    }\n",
       "</style>\n",
       "<table border=\"1\" class=\"dataframe\">\n",
       "  <thead>\n",
       "    <tr style=\"text-align: right;\">\n",
       "      <th></th>\n",
       "      <th>poc_ppg_id</th>\n",
       "      <th>date</th>\n",
       "      <th>ppg_name</th>\n",
       "      <th>unique_poc_id</th>\n",
       "      <th>sales_volume_hl</th>\n",
       "      <th>adjusted_year</th>\n",
       "      <th>adjusted_month</th>\n",
       "      <th>week</th>\n",
       "      <th>year</th>\n",
       "      <th>month</th>\n",
       "    </tr>\n",
       "  </thead>\n",
       "  <tbody>\n",
       "    <tr>\n",
       "      <th>0</th>\n",
       "      <td>AAAA__AK_AB_CG_T</td>\n",
       "      <td>2019-04-20</td>\n",
       "      <td>AK AB CG T</td>\n",
       "      <td>AAAA</td>\n",
       "      <td>0.065803</td>\n",
       "      <td>2019</td>\n",
       "      <td>4</td>\n",
       "      <td>16</td>\n",
       "      <td>2019</td>\n",
       "      <td>4</td>\n",
       "    </tr>\n",
       "    <tr>\n",
       "      <th>1</th>\n",
       "      <td>AAAA__AK_AB_CG_T</td>\n",
       "      <td>2019-05-25</td>\n",
       "      <td>AK AB CG T</td>\n",
       "      <td>AAAA</td>\n",
       "      <td>0.131605</td>\n",
       "      <td>2019</td>\n",
       "      <td>5</td>\n",
       "      <td>21</td>\n",
       "      <td>2019</td>\n",
       "      <td>5</td>\n",
       "    </tr>\n",
       "    <tr>\n",
       "      <th>2</th>\n",
       "      <td>AAAA__AK_CW_FM_CG_T</td>\n",
       "      <td>2020-06-13</td>\n",
       "      <td>AK CW FM CG T</td>\n",
       "      <td>AAAA</td>\n",
       "      <td>0.098704</td>\n",
       "      <td>2020</td>\n",
       "      <td>6</td>\n",
       "      <td>24</td>\n",
       "      <td>2020</td>\n",
       "      <td>6</td>\n",
       "    </tr>\n",
       "    <tr>\n",
       "      <th>3</th>\n",
       "      <td>AAAA__AR_EW_N_DS_CG_T</td>\n",
       "      <td>2019-02-11</td>\n",
       "      <td>AR EW N DS CG T</td>\n",
       "      <td>AAAA</td>\n",
       "      <td>0.000000</td>\n",
       "      <td>2019</td>\n",
       "      <td>2</td>\n",
       "      <td>7</td>\n",
       "      <td>2019</td>\n",
       "      <td>2</td>\n",
       "    </tr>\n",
       "    <tr>\n",
       "      <th>4</th>\n",
       "      <td>AAAA__AR_EW_N_DS_CG_T</td>\n",
       "      <td>2019-02-15</td>\n",
       "      <td>AR EW N DS CG T</td>\n",
       "      <td>AAAA</td>\n",
       "      <td>0.164507</td>\n",
       "      <td>2019</td>\n",
       "      <td>2</td>\n",
       "      <td>7</td>\n",
       "      <td>2019</td>\n",
       "      <td>2</td>\n",
       "    </tr>\n",
       "  </tbody>\n",
       "</table>\n",
       "</div>"
      ],
      "text/plain": [
       "              poc_ppg_id       date         ppg_name unique_poc_id  \\\n",
       "0       AAAA__AK_AB_CG_T 2019-04-20       AK AB CG T          AAAA   \n",
       "1       AAAA__AK_AB_CG_T 2019-05-25       AK AB CG T          AAAA   \n",
       "2    AAAA__AK_CW_FM_CG_T 2020-06-13    AK CW FM CG T          AAAA   \n",
       "3  AAAA__AR_EW_N_DS_CG_T 2019-02-11  AR EW N DS CG T          AAAA   \n",
       "4  AAAA__AR_EW_N_DS_CG_T 2019-02-15  AR EW N DS CG T          AAAA   \n",
       "\n",
       "   sales_volume_hl  adjusted_year  adjusted_month  week  year  month  \n",
       "0         0.065803           2019               4    16  2019      4  \n",
       "1         0.131605           2019               5    21  2019      5  \n",
       "2         0.098704           2020               6    24  2020      6  \n",
       "3         0.000000           2019               2     7  2019      2  \n",
       "4         0.164507           2019               2     7  2019      2  "
      ]
     },
     "execution_count": 9,
     "metadata": {},
     "output_type": "execute_result"
    }
   ],
   "source": [
    "volume_df.head()"
   ]
  },
  {
   "cell_type": "code",
   "execution_count": 10,
   "id": "8503b38f",
   "metadata": {
    "scrolled": true
   },
   "outputs": [
    {
     "data": {
      "text/html": [
       "<div>\n",
       "<style scoped>\n",
       "    .dataframe tbody tr th:only-of-type {\n",
       "        vertical-align: middle;\n",
       "    }\n",
       "\n",
       "    .dataframe tbody tr th {\n",
       "        vertical-align: top;\n",
       "    }\n",
       "\n",
       "    .dataframe thead th {\n",
       "        text-align: right;\n",
       "    }\n",
       "</style>\n",
       "<table border=\"1\" class=\"dataframe\">\n",
       "  <thead>\n",
       "    <tr style=\"text-align: right;\">\n",
       "      <th></th>\n",
       "      <th>date</th>\n",
       "      <th>year</th>\n",
       "      <th>month</th>\n",
       "      <th>week</th>\n",
       "      <th>adjusted_year</th>\n",
       "      <th>adjusted_month</th>\n",
       "      <th>year_week_start_date</th>\n",
       "      <th>day_of_the_week</th>\n",
       "      <th>is_weekend</th>\n",
       "      <th>is_month_start</th>\n",
       "      <th>is_month_end</th>\n",
       "      <th>quarter</th>\n",
       "      <th>key</th>\n",
       "      <th>holiday</th>\n",
       "      <th>month_sin_adj</th>\n",
       "      <th>month_cos_adj</th>\n",
       "      <th>month_sin</th>\n",
       "      <th>month_cos</th>\n",
       "      <th>week_sin</th>\n",
       "      <th>week_cos</th>\n",
       "      <th>quarter_sin</th>\n",
       "      <th>quarter_cos</th>\n",
       "      <th>year_month_start_date</th>\n",
       "    </tr>\n",
       "  </thead>\n",
       "  <tbody>\n",
       "    <tr>\n",
       "      <th>0</th>\n",
       "      <td>2019-01-01</td>\n",
       "      <td>2019</td>\n",
       "      <td>1</td>\n",
       "      <td>1</td>\n",
       "      <td>2019</td>\n",
       "      <td>1</td>\n",
       "      <td>2019-01-01</td>\n",
       "      <td>1</td>\n",
       "      <td>0</td>\n",
       "      <td>1</td>\n",
       "      <td>0</td>\n",
       "      <td>1</td>\n",
       "      <td>1</td>\n",
       "      <td>1.0</td>\n",
       "      <td>0.5</td>\n",
       "      <td>0.866025</td>\n",
       "      <td>0.5</td>\n",
       "      <td>0.866025</td>\n",
       "      <td>0.120537</td>\n",
       "      <td>0.992709</td>\n",
       "      <td>1.0</td>\n",
       "      <td>6.123234e-17</td>\n",
       "      <td>2019-01-01</td>\n",
       "    </tr>\n",
       "    <tr>\n",
       "      <th>1</th>\n",
       "      <td>2019-01-02</td>\n",
       "      <td>2019</td>\n",
       "      <td>1</td>\n",
       "      <td>1</td>\n",
       "      <td>2019</td>\n",
       "      <td>1</td>\n",
       "      <td>2019-01-01</td>\n",
       "      <td>2</td>\n",
       "      <td>0</td>\n",
       "      <td>0</td>\n",
       "      <td>0</td>\n",
       "      <td>1</td>\n",
       "      <td>1</td>\n",
       "      <td>0.0</td>\n",
       "      <td>0.5</td>\n",
       "      <td>0.866025</td>\n",
       "      <td>0.5</td>\n",
       "      <td>0.866025</td>\n",
       "      <td>0.120537</td>\n",
       "      <td>0.992709</td>\n",
       "      <td>1.0</td>\n",
       "      <td>6.123234e-17</td>\n",
       "      <td>2019-01-01</td>\n",
       "    </tr>\n",
       "    <tr>\n",
       "      <th>2</th>\n",
       "      <td>2019-01-03</td>\n",
       "      <td>2019</td>\n",
       "      <td>1</td>\n",
       "      <td>1</td>\n",
       "      <td>2019</td>\n",
       "      <td>1</td>\n",
       "      <td>2019-01-01</td>\n",
       "      <td>3</td>\n",
       "      <td>0</td>\n",
       "      <td>0</td>\n",
       "      <td>0</td>\n",
       "      <td>1</td>\n",
       "      <td>1</td>\n",
       "      <td>0.0</td>\n",
       "      <td>0.5</td>\n",
       "      <td>0.866025</td>\n",
       "      <td>0.5</td>\n",
       "      <td>0.866025</td>\n",
       "      <td>0.120537</td>\n",
       "      <td>0.992709</td>\n",
       "      <td>1.0</td>\n",
       "      <td>6.123234e-17</td>\n",
       "      <td>2019-01-01</td>\n",
       "    </tr>\n",
       "    <tr>\n",
       "      <th>3</th>\n",
       "      <td>2019-01-04</td>\n",
       "      <td>2019</td>\n",
       "      <td>1</td>\n",
       "      <td>1</td>\n",
       "      <td>2019</td>\n",
       "      <td>1</td>\n",
       "      <td>2019-01-01</td>\n",
       "      <td>4</td>\n",
       "      <td>1</td>\n",
       "      <td>0</td>\n",
       "      <td>0</td>\n",
       "      <td>1</td>\n",
       "      <td>1</td>\n",
       "      <td>0.0</td>\n",
       "      <td>0.5</td>\n",
       "      <td>0.866025</td>\n",
       "      <td>0.5</td>\n",
       "      <td>0.866025</td>\n",
       "      <td>0.120537</td>\n",
       "      <td>0.992709</td>\n",
       "      <td>1.0</td>\n",
       "      <td>6.123234e-17</td>\n",
       "      <td>2019-01-01</td>\n",
       "    </tr>\n",
       "    <tr>\n",
       "      <th>4</th>\n",
       "      <td>2019-01-05</td>\n",
       "      <td>2019</td>\n",
       "      <td>1</td>\n",
       "      <td>1</td>\n",
       "      <td>2019</td>\n",
       "      <td>1</td>\n",
       "      <td>2019-01-01</td>\n",
       "      <td>5</td>\n",
       "      <td>1</td>\n",
       "      <td>0</td>\n",
       "      <td>0</td>\n",
       "      <td>1</td>\n",
       "      <td>1</td>\n",
       "      <td>0.0</td>\n",
       "      <td>0.5</td>\n",
       "      <td>0.866025</td>\n",
       "      <td>0.5</td>\n",
       "      <td>0.866025</td>\n",
       "      <td>0.120537</td>\n",
       "      <td>0.992709</td>\n",
       "      <td>1.0</td>\n",
       "      <td>6.123234e-17</td>\n",
       "      <td>2019-01-01</td>\n",
       "    </tr>\n",
       "  </tbody>\n",
       "</table>\n",
       "</div>"
      ],
      "text/plain": [
       "        date  year  month  week  adjusted_year  adjusted_month  \\\n",
       "0 2019-01-01  2019      1     1           2019               1   \n",
       "1 2019-01-02  2019      1     1           2019               1   \n",
       "2 2019-01-03  2019      1     1           2019               1   \n",
       "3 2019-01-04  2019      1     1           2019               1   \n",
       "4 2019-01-05  2019      1     1           2019               1   \n",
       "\n",
       "  year_week_start_date  day_of_the_week  is_weekend  is_month_start  \\\n",
       "0           2019-01-01                1           0               1   \n",
       "1           2019-01-01                2           0               0   \n",
       "2           2019-01-01                3           0               0   \n",
       "3           2019-01-01                4           1               0   \n",
       "4           2019-01-01                5           1               0   \n",
       "\n",
       "   is_month_end  quarter  key  holiday  month_sin_adj  month_cos_adj  \\\n",
       "0             0        1    1      1.0            0.5       0.866025   \n",
       "1             0        1    1      0.0            0.5       0.866025   \n",
       "2             0        1    1      0.0            0.5       0.866025   \n",
       "3             0        1    1      0.0            0.5       0.866025   \n",
       "4             0        1    1      0.0            0.5       0.866025   \n",
       "\n",
       "   month_sin  month_cos  week_sin  week_cos  quarter_sin   quarter_cos  \\\n",
       "0        0.5   0.866025  0.120537  0.992709          1.0  6.123234e-17   \n",
       "1        0.5   0.866025  0.120537  0.992709          1.0  6.123234e-17   \n",
       "2        0.5   0.866025  0.120537  0.992709          1.0  6.123234e-17   \n",
       "3        0.5   0.866025  0.120537  0.992709          1.0  6.123234e-17   \n",
       "4        0.5   0.866025  0.120537  0.992709          1.0  6.123234e-17   \n",
       "\n",
       "  year_month_start_date  \n",
       "0            2019-01-01  \n",
       "1            2019-01-01  \n",
       "2            2019-01-01  \n",
       "3            2019-01-01  \n",
       "4            2019-01-01  "
      ]
     },
     "execution_count": 10,
     "metadata": {},
     "output_type": "execute_result"
    }
   ],
   "source": [
    "calendar_df.head()"
   ]
  },
  {
   "cell_type": "code",
   "execution_count": 11,
   "id": "d6f8311a",
   "metadata": {},
   "outputs": [
    {
     "data": {
      "text/html": [
       "<div>\n",
       "<style scoped>\n",
       "    .dataframe tbody tr th:only-of-type {\n",
       "        vertical-align: middle;\n",
       "    }\n",
       "\n",
       "    .dataframe tbody tr th {\n",
       "        vertical-align: top;\n",
       "    }\n",
       "\n",
       "    .dataframe thead th {\n",
       "        text-align: right;\n",
       "    }\n",
       "</style>\n",
       "<table border=\"1\" class=\"dataframe\">\n",
       "  <thead>\n",
       "    <tr style=\"text-align: right;\">\n",
       "      <th></th>\n",
       "      <th>poc_ppg_id</th>\n",
       "      <th>unique_poc_id</th>\n",
       "      <th>ppg_name</th>\n",
       "      <th>start_date_vol</th>\n",
       "      <th>end_date_vol</th>\n",
       "      <th>unique_selling_days</th>\n",
       "      <th>year_week_start_date_id</th>\n",
       "      <th>year_month_start_date_id</th>\n",
       "      <th>date</th>\n",
       "      <th>life_from_start_months</th>\n",
       "      <th>last_selling_record_months</th>\n",
       "      <th>inactive_life</th>\n",
       "      <th>poc_last_sell_date</th>\n",
       "      <th>ppg_last_sell_date</th>\n",
       "      <th>poc_last_sell_months</th>\n",
       "      <th>ppg_last_sell_months</th>\n",
       "      <th>poc_life</th>\n",
       "      <th>ppg_life</th>\n",
       "    </tr>\n",
       "  </thead>\n",
       "  <tbody>\n",
       "    <tr>\n",
       "      <th>0</th>\n",
       "      <td>AAAA__AK_AB_CG_T</td>\n",
       "      <td>AAAA</td>\n",
       "      <td>AK AB CG T</td>\n",
       "      <td>2019-04-20</td>\n",
       "      <td>2019-05-25</td>\n",
       "      <td>2</td>\n",
       "      <td>2019-04-15</td>\n",
       "      <td>2019-04-01</td>\n",
       "      <td>2019-04-20</td>\n",
       "      <td>44</td>\n",
       "      <td>43</td>\n",
       "      <td>0.98</td>\n",
       "      <td>2020-06-13</td>\n",
       "      <td>2022-12-31</td>\n",
       "      <td>30</td>\n",
       "      <td>0</td>\n",
       "      <td>16.657426</td>\n",
       "      <td>47.968131</td>\n",
       "    </tr>\n",
       "    <tr>\n",
       "      <th>1</th>\n",
       "      <td>AAAA__CJ_CZ_CG_EH</td>\n",
       "      <td>AAAA</td>\n",
       "      <td>CJ CZ CG EH</td>\n",
       "      <td>2019-04-20</td>\n",
       "      <td>2019-07-24</td>\n",
       "      <td>2</td>\n",
       "      <td>2019-04-15</td>\n",
       "      <td>2019-04-01</td>\n",
       "      <td>2019-04-20</td>\n",
       "      <td>44</td>\n",
       "      <td>41</td>\n",
       "      <td>0.93</td>\n",
       "      <td>2020-06-13</td>\n",
       "      <td>2022-12-31</td>\n",
       "      <td>30</td>\n",
       "      <td>0</td>\n",
       "      <td>16.657426</td>\n",
       "      <td>47.968131</td>\n",
       "    </tr>\n",
       "    <tr>\n",
       "      <th>2</th>\n",
       "      <td>AAAA__CM_CG_T</td>\n",
       "      <td>AAAA</td>\n",
       "      <td>CM CG T</td>\n",
       "      <td>2019-04-20</td>\n",
       "      <td>2019-04-20</td>\n",
       "      <td>1</td>\n",
       "      <td>2019-04-15</td>\n",
       "      <td>2019-04-01</td>\n",
       "      <td>2019-04-20</td>\n",
       "      <td>44</td>\n",
       "      <td>44</td>\n",
       "      <td>1.00</td>\n",
       "      <td>2020-06-13</td>\n",
       "      <td>2022-11-30</td>\n",
       "      <td>30</td>\n",
       "      <td>1</td>\n",
       "      <td>16.657426</td>\n",
       "      <td>46.949629</td>\n",
       "    </tr>\n",
       "    <tr>\n",
       "      <th>3</th>\n",
       "      <td>AACL__CJ_CZ_ES_ER</td>\n",
       "      <td>AACL</td>\n",
       "      <td>CJ CZ ES ER</td>\n",
       "      <td>2019-04-20</td>\n",
       "      <td>2019-04-20</td>\n",
       "      <td>1</td>\n",
       "      <td>2019-04-15</td>\n",
       "      <td>2019-04-01</td>\n",
       "      <td>2019-04-20</td>\n",
       "      <td>44</td>\n",
       "      <td>44</td>\n",
       "      <td>1.00</td>\n",
       "      <td>2022-12-24</td>\n",
       "      <td>2022-12-31</td>\n",
       "      <td>0</td>\n",
       "      <td>0</td>\n",
       "      <td>45.372595</td>\n",
       "      <td>47.968131</td>\n",
       "    </tr>\n",
       "    <tr>\n",
       "      <th>4</th>\n",
       "      <td>AACL__CJ_C_ES_ER</td>\n",
       "      <td>AACL</td>\n",
       "      <td>CJ C ES ER</td>\n",
       "      <td>2019-04-20</td>\n",
       "      <td>2019-04-20</td>\n",
       "      <td>1</td>\n",
       "      <td>2019-04-15</td>\n",
       "      <td>2019-04-01</td>\n",
       "      <td>2019-04-20</td>\n",
       "      <td>44</td>\n",
       "      <td>44</td>\n",
       "      <td>1.00</td>\n",
       "      <td>2022-12-24</td>\n",
       "      <td>2022-12-31</td>\n",
       "      <td>0</td>\n",
       "      <td>0</td>\n",
       "      <td>45.372595</td>\n",
       "      <td>47.968131</td>\n",
       "    </tr>\n",
       "  </tbody>\n",
       "</table>\n",
       "</div>"
      ],
      "text/plain": [
       "          poc_ppg_id unique_poc_id     ppg_name start_date_vol end_date_vol  \\\n",
       "0   AAAA__AK_AB_CG_T          AAAA   AK AB CG T     2019-04-20   2019-05-25   \n",
       "1  AAAA__CJ_CZ_CG_EH          AAAA  CJ CZ CG EH     2019-04-20   2019-07-24   \n",
       "2      AAAA__CM_CG_T          AAAA      CM CG T     2019-04-20   2019-04-20   \n",
       "3  AACL__CJ_CZ_ES_ER          AACL  CJ CZ ES ER     2019-04-20   2019-04-20   \n",
       "4   AACL__CJ_C_ES_ER          AACL   CJ C ES ER     2019-04-20   2019-04-20   \n",
       "\n",
       "   unique_selling_days year_week_start_date_id year_month_start_date_id  \\\n",
       "0                    2              2019-04-15               2019-04-01   \n",
       "1                    2              2019-04-15               2019-04-01   \n",
       "2                    1              2019-04-15               2019-04-01   \n",
       "3                    1              2019-04-15               2019-04-01   \n",
       "4                    1              2019-04-15               2019-04-01   \n",
       "\n",
       "        date  life_from_start_months  last_selling_record_months  \\\n",
       "0 2019-04-20                      44                          43   \n",
       "1 2019-04-20                      44                          41   \n",
       "2 2019-04-20                      44                          44   \n",
       "3 2019-04-20                      44                          44   \n",
       "4 2019-04-20                      44                          44   \n",
       "\n",
       "   inactive_life poc_last_sell_date ppg_last_sell_date  poc_last_sell_months  \\\n",
       "0           0.98         2020-06-13         2022-12-31                    30   \n",
       "1           0.93         2020-06-13         2022-12-31                    30   \n",
       "2           1.00         2020-06-13         2022-11-30                    30   \n",
       "3           1.00         2022-12-24         2022-12-31                     0   \n",
       "4           1.00         2022-12-24         2022-12-31                     0   \n",
       "\n",
       "   ppg_last_sell_months   poc_life   ppg_life  \n",
       "0                     0  16.657426  47.968131  \n",
       "1                     0  16.657426  47.968131  \n",
       "2                     1  16.657426  46.949629  \n",
       "3                     0  45.372595  47.968131  \n",
       "4                     0  45.372595  47.968131  "
      ]
     },
     "execution_count": 11,
     "metadata": {},
     "output_type": "execute_result"
    }
   ],
   "source": [
    "id_life_df.head()"
   ]
  },
  {
   "cell_type": "code",
   "execution_count": 12,
   "id": "edade512",
   "metadata": {},
   "outputs": [
    {
     "data": {
      "text/html": [
       "<div>\n",
       "<style scoped>\n",
       "    .dataframe tbody tr th:only-of-type {\n",
       "        vertical-align: middle;\n",
       "    }\n",
       "\n",
       "    .dataframe tbody tr th {\n",
       "        vertical-align: top;\n",
       "    }\n",
       "\n",
       "    .dataframe thead th {\n",
       "        text-align: right;\n",
       "    }\n",
       "</style>\n",
       "<table border=\"1\" class=\"dataframe\">\n",
       "  <thead>\n",
       "    <tr style=\"text-align: right;\">\n",
       "      <th></th>\n",
       "      <th>unique_poc_id</th>\n",
       "      <th>2019_agg_sales_stores</th>\n",
       "      <th>2020_agg_sales_stores</th>\n",
       "      <th>2021_agg_sales_stores</th>\n",
       "      <th>2022_agg_sales_stores</th>\n",
       "      <th>2020_store_pct_changes</th>\n",
       "      <th>2021_store_pct_changes</th>\n",
       "      <th>2022_store_pct_changes</th>\n",
       "      <th>2019_store_rank</th>\n",
       "      <th>2020_store_rank</th>\n",
       "      <th>2021_store_rank</th>\n",
       "      <th>2022_store_rank</th>\n",
       "      <th>median_rank</th>\n",
       "      <th>class_tier</th>\n",
       "      <th>poc_last_sell_months</th>\n",
       "      <th>poc_life</th>\n",
       "    </tr>\n",
       "  </thead>\n",
       "  <tbody>\n",
       "    <tr>\n",
       "      <th>0</th>\n",
       "      <td>ATFX</td>\n",
       "      <td>143.105930</td>\n",
       "      <td>66.536801</td>\n",
       "      <td>223.515128</td>\n",
       "      <td>0.000000</td>\n",
       "      <td>-0.535052</td>\n",
       "      <td>2.359271</td>\n",
       "      <td>0.000000</td>\n",
       "      <td>4.0</td>\n",
       "      <td>6.0</td>\n",
       "      <td>1.0</td>\n",
       "      <td>40575.0</td>\n",
       "      <td>5.0</td>\n",
       "      <td>Top</td>\n",
       "      <td>20</td>\n",
       "      <td>26.809585</td>\n",
       "    </tr>\n",
       "    <tr>\n",
       "      <th>1</th>\n",
       "      <td>ADLZ</td>\n",
       "      <td>141.027655</td>\n",
       "      <td>57.514290</td>\n",
       "      <td>26.522603</td>\n",
       "      <td>77.540154</td>\n",
       "      <td>-0.592177</td>\n",
       "      <td>-0.538852</td>\n",
       "      <td>1.923550</td>\n",
       "      <td>5.0</td>\n",
       "      <td>8.0</td>\n",
       "      <td>84.0</td>\n",
       "      <td>5.0</td>\n",
       "      <td>6.5</td>\n",
       "      <td>Top</td>\n",
       "      <td>0</td>\n",
       "      <td>36.830325</td>\n",
       "    </tr>\n",
       "    <tr>\n",
       "      <th>2</th>\n",
       "      <td>ZE</td>\n",
       "      <td>77.938895</td>\n",
       "      <td>37.332118</td>\n",
       "      <td>62.715697</td>\n",
       "      <td>66.699363</td>\n",
       "      <td>-0.521008</td>\n",
       "      <td>0.679939</td>\n",
       "      <td>0.063519</td>\n",
       "      <td>7.0</td>\n",
       "      <td>23.0</td>\n",
       "      <td>10.0</td>\n",
       "      <td>9.0</td>\n",
       "      <td>9.5</td>\n",
       "      <td>Top</td>\n",
       "      <td>0</td>\n",
       "      <td>46.752500</td>\n",
       "    </tr>\n",
       "    <tr>\n",
       "      <th>3</th>\n",
       "      <td>ARSH</td>\n",
       "      <td>62.304890</td>\n",
       "      <td>54.196494</td>\n",
       "      <td>54.058244</td>\n",
       "      <td>49.117994</td>\n",
       "      <td>-0.130141</td>\n",
       "      <td>-0.002551</td>\n",
       "      <td>-0.091388</td>\n",
       "      <td>10.0</td>\n",
       "      <td>9.0</td>\n",
       "      <td>15.0</td>\n",
       "      <td>15.0</td>\n",
       "      <td>12.5</td>\n",
       "      <td>Top</td>\n",
       "      <td>0</td>\n",
       "      <td>47.836711</td>\n",
       "    </tr>\n",
       "    <tr>\n",
       "      <th>4</th>\n",
       "      <td>YUM</td>\n",
       "      <td>0.000000</td>\n",
       "      <td>80.608189</td>\n",
       "      <td>56.644129</td>\n",
       "      <td>56.663920</td>\n",
       "      <td>0.000000</td>\n",
       "      <td>-0.297291</td>\n",
       "      <td>0.000349</td>\n",
       "      <td>40575.0</td>\n",
       "      <td>4.0</td>\n",
       "      <td>14.0</td>\n",
       "      <td>11.0</td>\n",
       "      <td>12.5</td>\n",
       "      <td>Top</td>\n",
       "      <td>0</td>\n",
       "      <td>26.053923</td>\n",
       "    </tr>\n",
       "  </tbody>\n",
       "</table>\n",
       "</div>"
      ],
      "text/plain": [
       "  unique_poc_id  2019_agg_sales_stores  2020_agg_sales_stores  \\\n",
       "0          ATFX             143.105930              66.536801   \n",
       "1          ADLZ             141.027655              57.514290   \n",
       "2            ZE              77.938895              37.332118   \n",
       "3          ARSH              62.304890              54.196494   \n",
       "4           YUM               0.000000              80.608189   \n",
       "\n",
       "   2021_agg_sales_stores  2022_agg_sales_stores  2020_store_pct_changes  \\\n",
       "0             223.515128               0.000000               -0.535052   \n",
       "1              26.522603              77.540154               -0.592177   \n",
       "2              62.715697              66.699363               -0.521008   \n",
       "3              54.058244              49.117994               -0.130141   \n",
       "4              56.644129              56.663920                0.000000   \n",
       "\n",
       "   2021_store_pct_changes  2022_store_pct_changes  2019_store_rank  \\\n",
       "0                2.359271                0.000000              4.0   \n",
       "1               -0.538852                1.923550              5.0   \n",
       "2                0.679939                0.063519              7.0   \n",
       "3               -0.002551               -0.091388             10.0   \n",
       "4               -0.297291                0.000349          40575.0   \n",
       "\n",
       "   2020_store_rank  2021_store_rank  2022_store_rank  median_rank class_tier  \\\n",
       "0              6.0              1.0          40575.0          5.0        Top   \n",
       "1              8.0             84.0              5.0          6.5        Top   \n",
       "2             23.0             10.0              9.0          9.5        Top   \n",
       "3              9.0             15.0             15.0         12.5        Top   \n",
       "4              4.0             14.0             11.0         12.5        Top   \n",
       "\n",
       "   poc_last_sell_months   poc_life  \n",
       "0                    20  26.809585  \n",
       "1                     0  36.830325  \n",
       "2                     0  46.752500  \n",
       "3                     0  47.836711  \n",
       "4                     0  26.053923  "
      ]
     },
     "execution_count": 12,
     "metadata": {},
     "output_type": "execute_result"
    }
   ],
   "source": [
    "store_yoy_pivot_df.head()"
   ]
  },
  {
   "cell_type": "code",
   "execution_count": 13,
   "id": "08ce1dfc",
   "metadata": {},
   "outputs": [
    {
     "data": {
      "text/html": [
       "<div>\n",
       "<style scoped>\n",
       "    .dataframe tbody tr th:only-of-type {\n",
       "        vertical-align: middle;\n",
       "    }\n",
       "\n",
       "    .dataframe tbody tr th {\n",
       "        vertical-align: top;\n",
       "    }\n",
       "\n",
       "    .dataframe thead th {\n",
       "        text-align: right;\n",
       "    }\n",
       "</style>\n",
       "<table border=\"1\" class=\"dataframe\">\n",
       "  <thead>\n",
       "    <tr style=\"text-align: right;\">\n",
       "      <th></th>\n",
       "      <th>ppg_name</th>\n",
       "      <th>2019_agg_sales_ppg</th>\n",
       "      <th>2020_agg_sales_ppg</th>\n",
       "      <th>2021_agg_sales_ppg</th>\n",
       "      <th>2022_agg_sales_ppg</th>\n",
       "      <th>2020_ppg_pct_changes</th>\n",
       "      <th>2021_ppg_pct_changes</th>\n",
       "      <th>2022_ppg_pct_changes</th>\n",
       "      <th>2019_ppg_rank</th>\n",
       "      <th>2020_ppg_rank</th>\n",
       "      <th>2021_ppg_rank</th>\n",
       "      <th>2022_ppg_rank</th>\n",
       "      <th>median_rank</th>\n",
       "      <th>class_tier</th>\n",
       "      <th>ppg_last_sell_months</th>\n",
       "      <th>ppg_life</th>\n",
       "    </tr>\n",
       "  </thead>\n",
       "  <tbody>\n",
       "    <tr>\n",
       "      <th>0</th>\n",
       "      <td>DG CF AF CG EH</td>\n",
       "      <td>2.587642</td>\n",
       "      <td>4.594932</td>\n",
       "      <td>6.689961</td>\n",
       "      <td>6.652614</td>\n",
       "      <td>0.775722</td>\n",
       "      <td>0.455943</td>\n",
       "      <td>-0.005583</td>\n",
       "      <td>3.0</td>\n",
       "      <td>1.0</td>\n",
       "      <td>1.0</td>\n",
       "      <td>2.0</td>\n",
       "      <td>1.5</td>\n",
       "      <td>Top</td>\n",
       "      <td>0</td>\n",
       "      <td>47.968131</td>\n",
       "    </tr>\n",
       "    <tr>\n",
       "      <th>1</th>\n",
       "      <td>CJ CZ CG EH</td>\n",
       "      <td>2.156779</td>\n",
       "      <td>2.927878</td>\n",
       "      <td>3.791629</td>\n",
       "      <td>3.940741</td>\n",
       "      <td>0.357524</td>\n",
       "      <td>0.295009</td>\n",
       "      <td>0.039327</td>\n",
       "      <td>4.0</td>\n",
       "      <td>2.0</td>\n",
       "      <td>2.0</td>\n",
       "      <td>3.0</td>\n",
       "      <td>2.5</td>\n",
       "      <td>Top</td>\n",
       "      <td>0</td>\n",
       "      <td>47.968131</td>\n",
       "    </tr>\n",
       "    <tr>\n",
       "      <th>2</th>\n",
       "      <td>CJ C EN FE</td>\n",
       "      <td>1.847728</td>\n",
       "      <td>2.057525</td>\n",
       "      <td>2.254863</td>\n",
       "      <td>2.622337</td>\n",
       "      <td>0.113543</td>\n",
       "      <td>0.095911</td>\n",
       "      <td>0.162970</td>\n",
       "      <td>5.0</td>\n",
       "      <td>3.0</td>\n",
       "      <td>3.0</td>\n",
       "      <td>4.0</td>\n",
       "      <td>3.5</td>\n",
       "      <td>Top</td>\n",
       "      <td>0</td>\n",
       "      <td>47.968131</td>\n",
       "    </tr>\n",
       "    <tr>\n",
       "      <th>3</th>\n",
       "      <td>DG CF AF CG G</td>\n",
       "      <td>1.001200</td>\n",
       "      <td>1.383643</td>\n",
       "      <td>1.809349</td>\n",
       "      <td>2.473723</td>\n",
       "      <td>0.381985</td>\n",
       "      <td>0.307671</td>\n",
       "      <td>0.367190</td>\n",
       "      <td>13.0</td>\n",
       "      <td>6.0</td>\n",
       "      <td>4.0</td>\n",
       "      <td>5.0</td>\n",
       "      <td>5.5</td>\n",
       "      <td>Top</td>\n",
       "      <td>0</td>\n",
       "      <td>47.968131</td>\n",
       "    </tr>\n",
       "    <tr>\n",
       "      <th>4</th>\n",
       "      <td>CJ C CG T</td>\n",
       "      <td>1.130590</td>\n",
       "      <td>1.446797</td>\n",
       "      <td>1.589437</td>\n",
       "      <td>1.724798</td>\n",
       "      <td>0.279683</td>\n",
       "      <td>0.098591</td>\n",
       "      <td>0.085163</td>\n",
       "      <td>6.0</td>\n",
       "      <td>5.0</td>\n",
       "      <td>7.0</td>\n",
       "      <td>8.0</td>\n",
       "      <td>6.5</td>\n",
       "      <td>Top</td>\n",
       "      <td>0</td>\n",
       "      <td>47.968131</td>\n",
       "    </tr>\n",
       "  </tbody>\n",
       "</table>\n",
       "</div>"
      ],
      "text/plain": [
       "         ppg_name  2019_agg_sales_ppg  2020_agg_sales_ppg  2021_agg_sales_ppg  \\\n",
       "0  DG CF AF CG EH            2.587642            4.594932            6.689961   \n",
       "1     CJ CZ CG EH            2.156779            2.927878            3.791629   \n",
       "2      CJ C EN FE            1.847728            2.057525            2.254863   \n",
       "3   DG CF AF CG G            1.001200            1.383643            1.809349   \n",
       "4       CJ C CG T            1.130590            1.446797            1.589437   \n",
       "\n",
       "   2022_agg_sales_ppg  2020_ppg_pct_changes  2021_ppg_pct_changes  \\\n",
       "0            6.652614              0.775722              0.455943   \n",
       "1            3.940741              0.357524              0.295009   \n",
       "2            2.622337              0.113543              0.095911   \n",
       "3            2.473723              0.381985              0.307671   \n",
       "4            1.724798              0.279683              0.098591   \n",
       "\n",
       "   2022_ppg_pct_changes  2019_ppg_rank  2020_ppg_rank  2021_ppg_rank  \\\n",
       "0             -0.005583            3.0            1.0            1.0   \n",
       "1              0.039327            4.0            2.0            2.0   \n",
       "2              0.162970            5.0            3.0            3.0   \n",
       "3              0.367190           13.0            6.0            4.0   \n",
       "4              0.085163            6.0            5.0            7.0   \n",
       "\n",
       "   2022_ppg_rank  median_rank class_tier  ppg_last_sell_months   ppg_life  \n",
       "0            2.0          1.5        Top                     0  47.968131  \n",
       "1            3.0          2.5        Top                     0  47.968131  \n",
       "2            4.0          3.5        Top                     0  47.968131  \n",
       "3            5.0          5.5        Top                     0  47.968131  \n",
       "4            8.0          6.5        Top                     0  47.968131  "
      ]
     },
     "execution_count": 13,
     "metadata": {},
     "output_type": "execute_result"
    }
   ],
   "source": [
    "ppg_yoy_pivot_df.head()"
   ]
  },
  {
   "cell_type": "markdown",
   "id": "8f7c54b7",
   "metadata": {},
   "source": [
    "##### Volume aggregation at weekly"
   ]
  },
  {
   "cell_type": "code",
   "execution_count": 14,
   "id": "6c9a61ae",
   "metadata": {},
   "outputs": [],
   "source": [
    "# this is to be used for continuity\n",
    "volume_df_week_agg = volume_df.groupby(\n",
    "    [\n",
    "        \"poc_ppg_id\",\n",
    "        \"ppg_name\",\n",
    "        \"unique_poc_id\",\n",
    "        \"adjusted_year\",\n",
    "        \"week\",\n",
    "    ],\n",
    "    as_index=False,\n",
    ").agg(sales_volume_hl_agg=(\"sales_volume_hl\", \"sum\"))"
   ]
  },
  {
   "cell_type": "code",
   "execution_count": 15,
   "id": "865bb6dc",
   "metadata": {},
   "outputs": [],
   "source": [
    "volume_df_week_agg = volume_df_week_agg.sort_values(\n",
    "    [\"poc_ppg_id\", \"adjusted_year\", \"week\"]\n",
    ").reset_index(drop=True)"
   ]
  },
  {
   "cell_type": "code",
   "execution_count": 16,
   "id": "193c6c9d",
   "metadata": {},
   "outputs": [
    {
     "data": {
      "text/html": [
       "<div>\n",
       "<style scoped>\n",
       "    .dataframe tbody tr th:only-of-type {\n",
       "        vertical-align: middle;\n",
       "    }\n",
       "\n",
       "    .dataframe tbody tr th {\n",
       "        vertical-align: top;\n",
       "    }\n",
       "\n",
       "    .dataframe thead th {\n",
       "        text-align: right;\n",
       "    }\n",
       "</style>\n",
       "<table border=\"1\" class=\"dataframe\">\n",
       "  <thead>\n",
       "    <tr style=\"text-align: right;\">\n",
       "      <th></th>\n",
       "      <th>poc_ppg_id</th>\n",
       "      <th>ppg_name</th>\n",
       "      <th>unique_poc_id</th>\n",
       "      <th>adjusted_year</th>\n",
       "      <th>week</th>\n",
       "      <th>sales_volume_hl_agg</th>\n",
       "    </tr>\n",
       "  </thead>\n",
       "  <tbody>\n",
       "    <tr>\n",
       "      <th>0</th>\n",
       "      <td>AAAA__AK_AB_CG_T</td>\n",
       "      <td>AK AB CG T</td>\n",
       "      <td>AAAA</td>\n",
       "      <td>2019</td>\n",
       "      <td>16</td>\n",
       "      <td>0.065803</td>\n",
       "    </tr>\n",
       "    <tr>\n",
       "      <th>1</th>\n",
       "      <td>AAAA__AK_AB_CG_T</td>\n",
       "      <td>AK AB CG T</td>\n",
       "      <td>AAAA</td>\n",
       "      <td>2019</td>\n",
       "      <td>21</td>\n",
       "      <td>0.131605</td>\n",
       "    </tr>\n",
       "    <tr>\n",
       "      <th>2</th>\n",
       "      <td>AAAA__AK_CW_FM_CG_T</td>\n",
       "      <td>AK CW FM CG T</td>\n",
       "      <td>AAAA</td>\n",
       "      <td>2020</td>\n",
       "      <td>24</td>\n",
       "      <td>0.098704</td>\n",
       "    </tr>\n",
       "    <tr>\n",
       "      <th>3</th>\n",
       "      <td>AAAA__AR_EW_N_DS_CG_T</td>\n",
       "      <td>AR EW N DS CG T</td>\n",
       "      <td>AAAA</td>\n",
       "      <td>2019</td>\n",
       "      <td>7</td>\n",
       "      <td>0.164507</td>\n",
       "    </tr>\n",
       "    <tr>\n",
       "      <th>4</th>\n",
       "      <td>AAAA__AR_EW_N_DS_CG_T</td>\n",
       "      <td>AR EW N DS CG T</td>\n",
       "      <td>AAAA</td>\n",
       "      <td>2019</td>\n",
       "      <td>16</td>\n",
       "      <td>0.098704</td>\n",
       "    </tr>\n",
       "  </tbody>\n",
       "</table>\n",
       "</div>"
      ],
      "text/plain": [
       "              poc_ppg_id         ppg_name unique_poc_id  adjusted_year  week  \\\n",
       "0       AAAA__AK_AB_CG_T       AK AB CG T          AAAA           2019    16   \n",
       "1       AAAA__AK_AB_CG_T       AK AB CG T          AAAA           2019    21   \n",
       "2    AAAA__AK_CW_FM_CG_T    AK CW FM CG T          AAAA           2020    24   \n",
       "3  AAAA__AR_EW_N_DS_CG_T  AR EW N DS CG T          AAAA           2019     7   \n",
       "4  AAAA__AR_EW_N_DS_CG_T  AR EW N DS CG T          AAAA           2019    16   \n",
       "\n",
       "   sales_volume_hl_agg  \n",
       "0             0.065803  \n",
       "1             0.131605  \n",
       "2             0.098704  \n",
       "3             0.164507  \n",
       "4             0.098704  "
      ]
     },
     "execution_count": 16,
     "metadata": {},
     "output_type": "execute_result"
    }
   ],
   "source": [
    "volume_df_week_agg.head()"
   ]
  },
  {
   "cell_type": "code",
   "execution_count": 17,
   "id": "fd0b285b",
   "metadata": {},
   "outputs": [],
   "source": [
    "# volume_df_week_agg = reduce_mem_usage(volume_df_week_agg)"
   ]
  },
  {
   "cell_type": "code",
   "execution_count": 18,
   "id": "b5db7c9f",
   "metadata": {},
   "outputs": [
    {
     "name": "stdout",
     "output_type": "stream",
     "text": [
      "(37511978, 6)\n",
      "poc_ppg_id             0\n",
      "ppg_name               0\n",
      "unique_poc_id          0\n",
      "adjusted_year          0\n",
      "week                   0\n",
      "sales_volume_hl_agg    0\n",
      "dtype: int64\n"
     ]
    }
   ],
   "source": [
    "print(volume_df_week_agg.shape)\n",
    "print(volume_df_week_agg.isnull().sum())"
   ]
  },
  {
   "cell_type": "code",
   "execution_count": 19,
   "id": "128d1b1a",
   "metadata": {},
   "outputs": [],
   "source": [
    "# next we make the data continous at week level only"
   ]
  },
  {
   "cell_type": "code",
   "execution_count": 20,
   "id": "e18ae0d0",
   "metadata": {},
   "outputs": [],
   "source": [
    "weekly_calendar_df = calendar_df.drop_duplicates([\"week\", \"adjusted_year\"])[\n",
    "    [\"week\", \"adjusted_year\", \"adjusted_month\", \"year_week_start_date\", \"key\"]\n",
    "].reset_index(drop=True)"
   ]
  },
  {
   "cell_type": "code",
   "execution_count": 21,
   "id": "d4f72813",
   "metadata": {},
   "outputs": [
    {
     "data": {
      "text/html": [
       "<div>\n",
       "<style scoped>\n",
       "    .dataframe tbody tr th:only-of-type {\n",
       "        vertical-align: middle;\n",
       "    }\n",
       "\n",
       "    .dataframe tbody tr th {\n",
       "        vertical-align: top;\n",
       "    }\n",
       "\n",
       "    .dataframe thead th {\n",
       "        text-align: right;\n",
       "    }\n",
       "</style>\n",
       "<table border=\"1\" class=\"dataframe\">\n",
       "  <thead>\n",
       "    <tr style=\"text-align: right;\">\n",
       "      <th></th>\n",
       "      <th>week</th>\n",
       "      <th>adjusted_year</th>\n",
       "      <th>adjusted_month</th>\n",
       "      <th>year_week_start_date</th>\n",
       "      <th>key</th>\n",
       "    </tr>\n",
       "  </thead>\n",
       "  <tbody>\n",
       "    <tr>\n",
       "      <th>0</th>\n",
       "      <td>1</td>\n",
       "      <td>2019</td>\n",
       "      <td>1</td>\n",
       "      <td>2019-01-01</td>\n",
       "      <td>1</td>\n",
       "    </tr>\n",
       "    <tr>\n",
       "      <th>1</th>\n",
       "      <td>2</td>\n",
       "      <td>2019</td>\n",
       "      <td>1</td>\n",
       "      <td>2019-01-07</td>\n",
       "      <td>1</td>\n",
       "    </tr>\n",
       "    <tr>\n",
       "      <th>2</th>\n",
       "      <td>3</td>\n",
       "      <td>2019</td>\n",
       "      <td>1</td>\n",
       "      <td>2019-01-14</td>\n",
       "      <td>1</td>\n",
       "    </tr>\n",
       "    <tr>\n",
       "      <th>3</th>\n",
       "      <td>4</td>\n",
       "      <td>2019</td>\n",
       "      <td>1</td>\n",
       "      <td>2019-01-21</td>\n",
       "      <td>1</td>\n",
       "    </tr>\n",
       "    <tr>\n",
       "      <th>4</th>\n",
       "      <td>5</td>\n",
       "      <td>2019</td>\n",
       "      <td>1</td>\n",
       "      <td>2019-01-28</td>\n",
       "      <td>1</td>\n",
       "    </tr>\n",
       "  </tbody>\n",
       "</table>\n",
       "</div>"
      ],
      "text/plain": [
       "   week  adjusted_year  adjusted_month year_week_start_date  key\n",
       "0     1           2019               1           2019-01-01    1\n",
       "1     2           2019               1           2019-01-07    1\n",
       "2     3           2019               1           2019-01-14    1\n",
       "3     4           2019               1           2019-01-21    1\n",
       "4     5           2019               1           2019-01-28    1"
      ]
     },
     "execution_count": 21,
     "metadata": {},
     "output_type": "execute_result"
    }
   ],
   "source": [
    "weekly_calendar_df.head()"
   ]
  },
  {
   "cell_type": "code",
   "execution_count": 22,
   "id": "3b2e6a4d",
   "metadata": {},
   "outputs": [
    {
     "data": {
      "text/plain": [
       "(261, 5)"
      ]
     },
     "execution_count": 22,
     "metadata": {},
     "output_type": "execute_result"
    }
   ],
   "source": [
    "weekly_calendar_df.shape"
   ]
  },
  {
   "cell_type": "code",
   "execution_count": 23,
   "id": "86ae6f62",
   "metadata": {},
   "outputs": [],
   "source": [
    "id_life_df[\"key\"] = 1"
   ]
  },
  {
   "cell_type": "markdown",
   "id": "0885723a",
   "metadata": {},
   "source": [
    "* we should put store and ppg filter delisting conditions over here\n",
    "* Get the delisting lists from store and ppg \n",
    "* filter out those combinations from id_life_df"
   ]
  },
  {
   "cell_type": "code",
   "execution_count": 24,
   "id": "0ed9ce9b",
   "metadata": {},
   "outputs": [],
   "source": [
    "id_life_weekly_df = pd.merge(\n",
    "    id_life_df[[\"poc_ppg_id\", \"year_week_start_date_id\", \"key\"]].drop_duplicates(),\n",
    "    weekly_calendar_df,\n",
    "    on=\"key\",\n",
    ")"
   ]
  },
  {
   "cell_type": "code",
   "execution_count": 25,
   "id": "ef18fa3b",
   "metadata": {},
   "outputs": [
    {
     "data": {
      "text/plain": [
       "(455445522, 7)"
      ]
     },
     "execution_count": 25,
     "metadata": {},
     "output_type": "execute_result"
    }
   ],
   "source": [
    "id_life_weekly_df.shape"
   ]
  },
  {
   "cell_type": "code",
   "execution_count": 26,
   "id": "22bf7932",
   "metadata": {},
   "outputs": [
    {
     "data": {
      "text/plain": [
       "poc_ppg_id                 0\n",
       "year_week_start_date_id    0\n",
       "key                        0\n",
       "week                       0\n",
       "adjusted_year              0\n",
       "adjusted_month             0\n",
       "year_week_start_date       0\n",
       "dtype: int64"
      ]
     },
     "execution_count": 26,
     "metadata": {},
     "output_type": "execute_result"
    }
   ],
   "source": [
    "id_life_weekly_df.isnull().sum()"
   ]
  },
  {
   "cell_type": "code",
   "execution_count": 27,
   "id": "268ddf85",
   "metadata": {},
   "outputs": [],
   "source": [
    "# id_life_weekly_df.loc[id_life_weekly_df[\"poc_ppg_id\"] == \"AAAA__AK_AB_CG_T\"]"
   ]
  },
  {
   "cell_type": "code",
   "execution_count": 28,
   "id": "1f97f8c1",
   "metadata": {},
   "outputs": [],
   "source": [
    "# start from the actual starting date for each combinations\n",
    "id_life_weekly_df = id_life_weekly_df.loc[\n",
    "    id_life_weekly_df[\"year_week_start_date\"]\n",
    "    >= id_life_weekly_df[\"year_week_start_date_id\"]\n",
    "].reset_index(drop=True)"
   ]
  },
  {
   "cell_type": "code",
   "execution_count": 29,
   "id": "b1dd4146",
   "metadata": {},
   "outputs": [],
   "source": [
    "id_life_weekly_df = id_life_weekly_df.drop([\"year_week_start_date_id\", \"key\"], axis=1)"
   ]
  },
  {
   "cell_type": "code",
   "execution_count": 30,
   "id": "20b6ddcf",
   "metadata": {},
   "outputs": [
    {
     "data": {
      "text/html": [
       "<div>\n",
       "<style scoped>\n",
       "    .dataframe tbody tr th:only-of-type {\n",
       "        vertical-align: middle;\n",
       "    }\n",
       "\n",
       "    .dataframe tbody tr th {\n",
       "        vertical-align: top;\n",
       "    }\n",
       "\n",
       "    .dataframe thead th {\n",
       "        text-align: right;\n",
       "    }\n",
       "</style>\n",
       "<table border=\"1\" class=\"dataframe\">\n",
       "  <thead>\n",
       "    <tr style=\"text-align: right;\">\n",
       "      <th></th>\n",
       "      <th>poc_ppg_id</th>\n",
       "      <th>week</th>\n",
       "      <th>adjusted_year</th>\n",
       "      <th>adjusted_month</th>\n",
       "      <th>year_week_start_date</th>\n",
       "    </tr>\n",
       "  </thead>\n",
       "  <tbody>\n",
       "    <tr>\n",
       "      <th>0</th>\n",
       "      <td>AAAA__AK_AB_CG_T</td>\n",
       "      <td>16</td>\n",
       "      <td>2019</td>\n",
       "      <td>4</td>\n",
       "      <td>2019-04-15</td>\n",
       "    </tr>\n",
       "    <tr>\n",
       "      <th>1</th>\n",
       "      <td>AAAA__AK_AB_CG_T</td>\n",
       "      <td>17</td>\n",
       "      <td>2019</td>\n",
       "      <td>4</td>\n",
       "      <td>2019-04-22</td>\n",
       "    </tr>\n",
       "    <tr>\n",
       "      <th>2</th>\n",
       "      <td>AAAA__AK_AB_CG_T</td>\n",
       "      <td>18</td>\n",
       "      <td>2019</td>\n",
       "      <td>4</td>\n",
       "      <td>2019-04-29</td>\n",
       "    </tr>\n",
       "    <tr>\n",
       "      <th>3</th>\n",
       "      <td>AAAA__AK_AB_CG_T</td>\n",
       "      <td>19</td>\n",
       "      <td>2019</td>\n",
       "      <td>5</td>\n",
       "      <td>2019-05-06</td>\n",
       "    </tr>\n",
       "    <tr>\n",
       "      <th>4</th>\n",
       "      <td>AAAA__AK_AB_CG_T</td>\n",
       "      <td>20</td>\n",
       "      <td>2019</td>\n",
       "      <td>5</td>\n",
       "      <td>2019-05-13</td>\n",
       "    </tr>\n",
       "  </tbody>\n",
       "</table>\n",
       "</div>"
      ],
      "text/plain": [
       "         poc_ppg_id  week  adjusted_year  adjusted_month year_week_start_date\n",
       "0  AAAA__AK_AB_CG_T    16           2019               4           2019-04-15\n",
       "1  AAAA__AK_AB_CG_T    17           2019               4           2019-04-22\n",
       "2  AAAA__AK_AB_CG_T    18           2019               4           2019-04-29\n",
       "3  AAAA__AK_AB_CG_T    19           2019               5           2019-05-06\n",
       "4  AAAA__AK_AB_CG_T    20           2019               5           2019-05-13"
      ]
     },
     "execution_count": 30,
     "metadata": {},
     "output_type": "execute_result"
    }
   ],
   "source": [
    "id_life_weekly_df.head()"
   ]
  },
  {
   "cell_type": "code",
   "execution_count": 31,
   "id": "6c0b5e5e",
   "metadata": {},
   "outputs": [],
   "source": [
    "# id_life_weekly_df.loc[id_life_weekly_df[\"poc_ppg_id\"] == \"AAAA__AK_AB_CG_T\"]"
   ]
  },
  {
   "cell_type": "code",
   "execution_count": 32,
   "id": "3f9d3976",
   "metadata": {},
   "outputs": [
    {
     "data": {
      "text/plain": [
       "(340950155, 5)"
      ]
     },
     "execution_count": 32,
     "metadata": {},
     "output_type": "execute_result"
    }
   ],
   "source": [
    "id_life_weekly_df.shape"
   ]
  },
  {
   "cell_type": "code",
   "execution_count": 33,
   "id": "4e65b649",
   "metadata": {},
   "outputs": [],
   "source": [
    "# we merge this back to actual agg_volume df on the basis of poc_ppg_id week adjusted_year adjusted_month"
   ]
  },
  {
   "cell_type": "code",
   "execution_count": 34,
   "id": "e1a0e210",
   "metadata": {},
   "outputs": [],
   "source": [
    "volume_df_week_agg = pd.merge(\n",
    "    volume_df_week_agg,\n",
    "    id_life_weekly_df,\n",
    "    on=[\"poc_ppg_id\", \"week\", \"adjusted_year\"],\n",
    "    how=\"outer\",\n",
    ")"
   ]
  },
  {
   "cell_type": "code",
   "execution_count": 35,
   "id": "fb58b6f8",
   "metadata": {},
   "outputs": [
    {
     "data": {
      "text/html": [
       "<div>\n",
       "<style scoped>\n",
       "    .dataframe tbody tr th:only-of-type {\n",
       "        vertical-align: middle;\n",
       "    }\n",
       "\n",
       "    .dataframe tbody tr th {\n",
       "        vertical-align: top;\n",
       "    }\n",
       "\n",
       "    .dataframe thead th {\n",
       "        text-align: right;\n",
       "    }\n",
       "</style>\n",
       "<table border=\"1\" class=\"dataframe\">\n",
       "  <thead>\n",
       "    <tr style=\"text-align: right;\">\n",
       "      <th></th>\n",
       "      <th>poc_ppg_id</th>\n",
       "      <th>ppg_name</th>\n",
       "      <th>unique_poc_id</th>\n",
       "      <th>adjusted_year</th>\n",
       "      <th>week</th>\n",
       "      <th>sales_volume_hl_agg</th>\n",
       "      <th>adjusted_month</th>\n",
       "      <th>year_week_start_date</th>\n",
       "    </tr>\n",
       "  </thead>\n",
       "  <tbody>\n",
       "    <tr>\n",
       "      <th>0</th>\n",
       "      <td>AAAA__AK_AB_CG_T</td>\n",
       "      <td>AK AB CG T</td>\n",
       "      <td>AAAA</td>\n",
       "      <td>2019</td>\n",
       "      <td>16</td>\n",
       "      <td>0.065803</td>\n",
       "      <td>4</td>\n",
       "      <td>2019-04-15</td>\n",
       "    </tr>\n",
       "    <tr>\n",
       "      <th>1</th>\n",
       "      <td>AAAA__AK_AB_CG_T</td>\n",
       "      <td>AK AB CG T</td>\n",
       "      <td>AAAA</td>\n",
       "      <td>2019</td>\n",
       "      <td>21</td>\n",
       "      <td>0.131605</td>\n",
       "      <td>5</td>\n",
       "      <td>2019-05-20</td>\n",
       "    </tr>\n",
       "    <tr>\n",
       "      <th>2</th>\n",
       "      <td>AAAA__AK_CW_FM_CG_T</td>\n",
       "      <td>AK CW FM CG T</td>\n",
       "      <td>AAAA</td>\n",
       "      <td>2020</td>\n",
       "      <td>24</td>\n",
       "      <td>0.098704</td>\n",
       "      <td>6</td>\n",
       "      <td>2020-06-08</td>\n",
       "    </tr>\n",
       "    <tr>\n",
       "      <th>3</th>\n",
       "      <td>AAAA__AR_EW_N_DS_CG_T</td>\n",
       "      <td>AR EW N DS CG T</td>\n",
       "      <td>AAAA</td>\n",
       "      <td>2019</td>\n",
       "      <td>7</td>\n",
       "      <td>0.164507</td>\n",
       "      <td>2</td>\n",
       "      <td>2019-02-11</td>\n",
       "    </tr>\n",
       "    <tr>\n",
       "      <th>4</th>\n",
       "      <td>AAAA__AR_EW_N_DS_CG_T</td>\n",
       "      <td>AR EW N DS CG T</td>\n",
       "      <td>AAAA</td>\n",
       "      <td>2019</td>\n",
       "      <td>16</td>\n",
       "      <td>0.098704</td>\n",
       "      <td>4</td>\n",
       "      <td>2019-04-15</td>\n",
       "    </tr>\n",
       "  </tbody>\n",
       "</table>\n",
       "</div>"
      ],
      "text/plain": [
       "              poc_ppg_id         ppg_name unique_poc_id  adjusted_year  week  \\\n",
       "0       AAAA__AK_AB_CG_T       AK AB CG T          AAAA           2019    16   \n",
       "1       AAAA__AK_AB_CG_T       AK AB CG T          AAAA           2019    21   \n",
       "2    AAAA__AK_CW_FM_CG_T    AK CW FM CG T          AAAA           2020    24   \n",
       "3  AAAA__AR_EW_N_DS_CG_T  AR EW N DS CG T          AAAA           2019     7   \n",
       "4  AAAA__AR_EW_N_DS_CG_T  AR EW N DS CG T          AAAA           2019    16   \n",
       "\n",
       "   sales_volume_hl_agg  adjusted_month year_week_start_date  \n",
       "0             0.065803               4           2019-04-15  \n",
       "1             0.131605               5           2019-05-20  \n",
       "2             0.098704               6           2020-06-08  \n",
       "3             0.164507               2           2019-02-11  \n",
       "4             0.098704               4           2019-04-15  "
      ]
     },
     "execution_count": 35,
     "metadata": {},
     "output_type": "execute_result"
    }
   ],
   "source": [
    "volume_df_week_agg.head()"
   ]
  },
  {
   "cell_type": "code",
   "execution_count": 36,
   "id": "4d129361",
   "metadata": {},
   "outputs": [
    {
     "data": {
      "text/plain": [
       "poc_ppg_id                      0\n",
       "ppg_name                303438177\n",
       "unique_poc_id           303438177\n",
       "adjusted_year                   0\n",
       "week                            0\n",
       "sales_volume_hl_agg     303438177\n",
       "adjusted_month                  0\n",
       "year_week_start_date            0\n",
       "dtype: int64"
      ]
     },
     "execution_count": 36,
     "metadata": {},
     "output_type": "execute_result"
    }
   ],
   "source": [
    "volume_df_week_agg.isnull().sum()"
   ]
  },
  {
   "cell_type": "code",
   "execution_count": 37,
   "id": "79ee3575",
   "metadata": {},
   "outputs": [],
   "source": [
    "volume_df_week_agg[\"sales_volume_hl_agg\"] = volume_df_week_agg[\n",
    "    \"sales_volume_hl_agg\"\n",
    "].fillna(0.0)"
   ]
  },
  {
   "cell_type": "code",
   "execution_count": 38,
   "id": "2feb5d28",
   "metadata": {},
   "outputs": [],
   "source": [
    "# temp1 = (\n",
    "#     volume_df_week_agg.groupby([\"poc_ppg_id\"], as_index=False)[\"sales_volume_hl_agg\"]\n",
    "#     .sum()\n",
    "#     .sort_values([\"sales_volume_hl_agg\"], ascending=False)\n",
    "# )"
   ]
  },
  {
   "cell_type": "code",
   "execution_count": 39,
   "id": "e10ed4a2",
   "metadata": {},
   "outputs": [],
   "source": [
    "# temp_df = volume_df_week_agg.loc[\n",
    "#     volume_df_week_agg[\"poc_ppg_id\"].isin(\n",
    "#         [\"BJFR__DG_CF_AF_CG_EH\", \"AGEA__DG_CF_AF_CG_EH\"]\n",
    "#     )\n",
    "# ].reset_index(drop=True)"
   ]
  },
  {
   "cell_type": "code",
   "execution_count": 40,
   "id": "75df4873",
   "metadata": {},
   "outputs": [],
   "source": [
    "# temp_df = temp_df.sort_values([\"poc_ppg_id\", \"adjusted_year\", \"week\"]).reset_index(\n",
    "#     drop=True\n",
    "# )"
   ]
  },
  {
   "cell_type": "code",
   "execution_count": 41,
   "id": "9775087f",
   "metadata": {},
   "outputs": [],
   "source": [
    "# temp_df[[\"ppg_name\",\"unique_poc_id\"]]= (temp_df.groupby(['poc_ppg_id'])[[\"ppg_name\",\"unique_poc_id\"]].\n",
    "#                                         transform(lambda x: x.fillna(method='bfill').fillna(method='ffill'))\n",
    "#                                        )"
   ]
  },
  {
   "cell_type": "code",
   "execution_count": 42,
   "id": "6c339ce4",
   "metadata": {},
   "outputs": [],
   "source": [
    "# temp_df.isnull().sum()"
   ]
  },
  {
   "cell_type": "code",
   "execution_count": 43,
   "id": "2746dad6",
   "metadata": {},
   "outputs": [],
   "source": [
    "volume_df_week_agg[[\"ppg_name\",\"unique_poc_id\"]] = (volume_df_week_agg.groupby(['poc_ppg_id'])[[\"ppg_name\",\"unique_poc_id\"]].\n",
    "                                        transform(lambda x: x.fillna(method='bfill').fillna(method='ffill'))\n",
    "                                       )"
   ]
  },
  {
   "cell_type": "code",
   "execution_count": 44,
   "id": "8dc96ca7",
   "metadata": {},
   "outputs": [],
   "source": [
    "# try with parallel apply faster "
   ]
  },
  {
   "cell_type": "code",
   "execution_count": 45,
   "id": "d7d0e41e",
   "metadata": {},
   "outputs": [
    {
     "data": {
      "text/plain": [
       "poc_ppg_id              0\n",
       "ppg_name                0\n",
       "unique_poc_id           0\n",
       "adjusted_year           0\n",
       "week                    0\n",
       "sales_volume_hl_agg     0\n",
       "adjusted_month          0\n",
       "year_week_start_date    0\n",
       "dtype: int64"
      ]
     },
     "execution_count": 45,
     "metadata": {},
     "output_type": "execute_result"
    }
   ],
   "source": [
    "volume_df_week_agg.isnull().sum()"
   ]
  },
  {
   "cell_type": "code",
   "execution_count": 46,
   "id": "3ee63461",
   "metadata": {},
   "outputs": [],
   "source": [
    "volume_df_week_agg.to_pickle(os.path.join(os.getcwd(), processed_data_folder,'volume_df_week_agg.pkl'))"
   ]
  },
  {
   "cell_type": "markdown",
   "id": "9352fcf2",
   "metadata": {},
   "source": [
    "##### Month Volume aggregates"
   ]
  },
  {
   "cell_type": "code",
   "execution_count": 47,
   "id": "8fce5513",
   "metadata": {},
   "outputs": [],
   "source": [
    "# this is to be used for continuity\n",
    "volume_df_month_agg = volume_df.groupby(\n",
    "    [\n",
    "        \"poc_ppg_id\",\n",
    "        \"ppg_name\",\n",
    "        \"unique_poc_id\",\n",
    "        \"year\",\n",
    "        \"month\",\n",
    "    ],\n",
    "    as_index=False,\n",
    ").agg(sales_volume_hl_agg=(\"sales_volume_hl\", \"sum\"))"
   ]
  },
  {
   "cell_type": "code",
   "execution_count": 48,
   "id": "57a0d57b",
   "metadata": {},
   "outputs": [],
   "source": [
    "volume_df_month_agg = volume_df_month_agg.sort_values(\n",
    "    [\"poc_ppg_id\", \"year\", \"month\"]\n",
    ").reset_index(drop=True)"
   ]
  },
  {
   "cell_type": "code",
   "execution_count": 49,
   "id": "e22fd15b",
   "metadata": {},
   "outputs": [
    {
     "data": {
      "text/html": [
       "<div>\n",
       "<style scoped>\n",
       "    .dataframe tbody tr th:only-of-type {\n",
       "        vertical-align: middle;\n",
       "    }\n",
       "\n",
       "    .dataframe tbody tr th {\n",
       "        vertical-align: top;\n",
       "    }\n",
       "\n",
       "    .dataframe thead th {\n",
       "        text-align: right;\n",
       "    }\n",
       "</style>\n",
       "<table border=\"1\" class=\"dataframe\">\n",
       "  <thead>\n",
       "    <tr style=\"text-align: right;\">\n",
       "      <th></th>\n",
       "      <th>poc_ppg_id</th>\n",
       "      <th>ppg_name</th>\n",
       "      <th>unique_poc_id</th>\n",
       "      <th>year</th>\n",
       "      <th>month</th>\n",
       "      <th>sales_volume_hl_agg</th>\n",
       "    </tr>\n",
       "  </thead>\n",
       "  <tbody>\n",
       "    <tr>\n",
       "      <th>0</th>\n",
       "      <td>AAAA__AK_AB_CG_T</td>\n",
       "      <td>AK AB CG T</td>\n",
       "      <td>AAAA</td>\n",
       "      <td>2019</td>\n",
       "      <td>4</td>\n",
       "      <td>0.065803</td>\n",
       "    </tr>\n",
       "    <tr>\n",
       "      <th>1</th>\n",
       "      <td>AAAA__AK_AB_CG_T</td>\n",
       "      <td>AK AB CG T</td>\n",
       "      <td>AAAA</td>\n",
       "      <td>2019</td>\n",
       "      <td>5</td>\n",
       "      <td>0.131605</td>\n",
       "    </tr>\n",
       "    <tr>\n",
       "      <th>2</th>\n",
       "      <td>AAAA__AK_CW_FM_CG_T</td>\n",
       "      <td>AK CW FM CG T</td>\n",
       "      <td>AAAA</td>\n",
       "      <td>2020</td>\n",
       "      <td>6</td>\n",
       "      <td>0.098704</td>\n",
       "    </tr>\n",
       "    <tr>\n",
       "      <th>3</th>\n",
       "      <td>AAAA__AR_EW_N_DS_CG_T</td>\n",
       "      <td>AR EW N DS CG T</td>\n",
       "      <td>AAAA</td>\n",
       "      <td>2019</td>\n",
       "      <td>2</td>\n",
       "      <td>0.164507</td>\n",
       "    </tr>\n",
       "    <tr>\n",
       "      <th>4</th>\n",
       "      <td>AAAA__AR_EW_N_DS_CG_T</td>\n",
       "      <td>AR EW N DS CG T</td>\n",
       "      <td>AAAA</td>\n",
       "      <td>2019</td>\n",
       "      <td>4</td>\n",
       "      <td>0.098704</td>\n",
       "    </tr>\n",
       "  </tbody>\n",
       "</table>\n",
       "</div>"
      ],
      "text/plain": [
       "              poc_ppg_id         ppg_name unique_poc_id  year  month  \\\n",
       "0       AAAA__AK_AB_CG_T       AK AB CG T          AAAA  2019      4   \n",
       "1       AAAA__AK_AB_CG_T       AK AB CG T          AAAA  2019      5   \n",
       "2    AAAA__AK_CW_FM_CG_T    AK CW FM CG T          AAAA  2020      6   \n",
       "3  AAAA__AR_EW_N_DS_CG_T  AR EW N DS CG T          AAAA  2019      2   \n",
       "4  AAAA__AR_EW_N_DS_CG_T  AR EW N DS CG T          AAAA  2019      4   \n",
       "\n",
       "   sales_volume_hl_agg  \n",
       "0             0.065803  \n",
       "1             0.131605  \n",
       "2             0.098704  \n",
       "3             0.164507  \n",
       "4             0.098704  "
      ]
     },
     "execution_count": 49,
     "metadata": {},
     "output_type": "execute_result"
    }
   ],
   "source": [
    "volume_df_month_agg.head()"
   ]
  },
  {
   "cell_type": "code",
   "execution_count": 50,
   "id": "9ff89ba2",
   "metadata": {},
   "outputs": [
    {
     "name": "stdout",
     "output_type": "stream",
     "text": [
      "(19888426, 6)\n",
      "poc_ppg_id             0\n",
      "ppg_name               0\n",
      "unique_poc_id          0\n",
      "year                   0\n",
      "month                  0\n",
      "sales_volume_hl_agg    0\n",
      "dtype: int64\n"
     ]
    }
   ],
   "source": [
    "# volume_df_month_agg = reduce_mem_usage(volume_df_month_agg)\n",
    "\n",
    "print(volume_df_month_agg.shape)\n",
    "print(volume_df_month_agg.isnull().sum())"
   ]
  },
  {
   "cell_type": "code",
   "execution_count": 51,
   "id": "dbf803c3",
   "metadata": {},
   "outputs": [],
   "source": [
    "# next we make the data continous at week level only\n",
    "monthly_calendar_df = calendar_df.drop_duplicates([\"month\", \"year\"])[\n",
    "    [\"month\", \"year\", \"year_month_start_date\", \"key\"]\n",
    "].reset_index(drop=True)"
   ]
  },
  {
   "cell_type": "code",
   "execution_count": 52,
   "id": "cb5c0ec3",
   "metadata": {},
   "outputs": [
    {
     "data": {
      "text/html": [
       "<div>\n",
       "<style scoped>\n",
       "    .dataframe tbody tr th:only-of-type {\n",
       "        vertical-align: middle;\n",
       "    }\n",
       "\n",
       "    .dataframe tbody tr th {\n",
       "        vertical-align: top;\n",
       "    }\n",
       "\n",
       "    .dataframe thead th {\n",
       "        text-align: right;\n",
       "    }\n",
       "</style>\n",
       "<table border=\"1\" class=\"dataframe\">\n",
       "  <thead>\n",
       "    <tr style=\"text-align: right;\">\n",
       "      <th></th>\n",
       "      <th>month</th>\n",
       "      <th>year</th>\n",
       "      <th>year_month_start_date</th>\n",
       "      <th>key</th>\n",
       "    </tr>\n",
       "  </thead>\n",
       "  <tbody>\n",
       "    <tr>\n",
       "      <th>0</th>\n",
       "      <td>1</td>\n",
       "      <td>2019</td>\n",
       "      <td>2019-01-01</td>\n",
       "      <td>1</td>\n",
       "    </tr>\n",
       "    <tr>\n",
       "      <th>1</th>\n",
       "      <td>2</td>\n",
       "      <td>2019</td>\n",
       "      <td>2019-02-01</td>\n",
       "      <td>1</td>\n",
       "    </tr>\n",
       "    <tr>\n",
       "      <th>2</th>\n",
       "      <td>3</td>\n",
       "      <td>2019</td>\n",
       "      <td>2019-03-01</td>\n",
       "      <td>1</td>\n",
       "    </tr>\n",
       "    <tr>\n",
       "      <th>3</th>\n",
       "      <td>4</td>\n",
       "      <td>2019</td>\n",
       "      <td>2019-04-01</td>\n",
       "      <td>1</td>\n",
       "    </tr>\n",
       "    <tr>\n",
       "      <th>4</th>\n",
       "      <td>5</td>\n",
       "      <td>2019</td>\n",
       "      <td>2019-05-01</td>\n",
       "      <td>1</td>\n",
       "    </tr>\n",
       "  </tbody>\n",
       "</table>\n",
       "</div>"
      ],
      "text/plain": [
       "   month  year year_month_start_date  key\n",
       "0      1  2019            2019-01-01    1\n",
       "1      2  2019            2019-02-01    1\n",
       "2      3  2019            2019-03-01    1\n",
       "3      4  2019            2019-04-01    1\n",
       "4      5  2019            2019-05-01    1"
      ]
     },
     "execution_count": 52,
     "metadata": {},
     "output_type": "execute_result"
    }
   ],
   "source": [
    "monthly_calendar_df.head()"
   ]
  },
  {
   "cell_type": "code",
   "execution_count": 53,
   "id": "503ce4d6",
   "metadata": {},
   "outputs": [
    {
     "data": {
      "text/plain": [
       "(60, 4)"
      ]
     },
     "execution_count": 53,
     "metadata": {},
     "output_type": "execute_result"
    }
   ],
   "source": [
    "monthly_calendar_df.shape"
   ]
  },
  {
   "cell_type": "code",
   "execution_count": 54,
   "id": "dd6d6b6f",
   "metadata": {},
   "outputs": [],
   "source": [
    "id_life_df[\"key\"] = 1"
   ]
  },
  {
   "cell_type": "code",
   "execution_count": 55,
   "id": "b5eafeb8",
   "metadata": {},
   "outputs": [],
   "source": [
    "# * we should put store and ppg filter delisting conditions over here\n",
    "# * Get the delisting lists from store and ppg \n",
    "# * filter out those combinations from id_life_df"
   ]
  },
  {
   "cell_type": "code",
   "execution_count": 56,
   "id": "a1d4830b",
   "metadata": {},
   "outputs": [],
   "source": [
    "id_life_monthly_df = pd.merge(\n",
    "    id_life_df[[\"poc_ppg_id\", \"year_month_start_date_id\", \"key\"]].drop_duplicates(),\n",
    "    monthly_calendar_df,\n",
    "    on=\"key\",\n",
    ")"
   ]
  },
  {
   "cell_type": "code",
   "execution_count": 57,
   "id": "5486c857",
   "metadata": {},
   "outputs": [
    {
     "data": {
      "text/plain": [
       "(104700120, 6)"
      ]
     },
     "execution_count": 57,
     "metadata": {},
     "output_type": "execute_result"
    }
   ],
   "source": [
    "id_life_monthly_df.shape"
   ]
  },
  {
   "cell_type": "code",
   "execution_count": 58,
   "id": "69a21cb5",
   "metadata": {},
   "outputs": [
    {
     "data": {
      "text/plain": [
       "poc_ppg_id                  0\n",
       "year_month_start_date_id    0\n",
       "key                         0\n",
       "month                       0\n",
       "year                        0\n",
       "year_month_start_date       0\n",
       "dtype: int64"
      ]
     },
     "execution_count": 58,
     "metadata": {},
     "output_type": "execute_result"
    }
   ],
   "source": [
    "id_life_monthly_df.isnull().sum()"
   ]
  },
  {
   "cell_type": "code",
   "execution_count": 59,
   "id": "bebe224b",
   "metadata": {},
   "outputs": [],
   "source": [
    "# id_life_weekly_df.loc[id_life_weekly_df[\"poc_ppg_id\"] == \"AAAA__AK_AB_CG_T\"]\n",
    "\n",
    "# start from the actual starting date for each combinations\n",
    "id_life_monthly_df = id_life_monthly_df.loc[\n",
    "    id_life_monthly_df[\"year_month_start_date\"]\n",
    "    >= id_life_monthly_df[\"year_month_start_date_id\"]\n",
    "].reset_index(drop=True)"
   ]
  },
  {
   "cell_type": "code",
   "execution_count": 60,
   "id": "694eb4b8",
   "metadata": {},
   "outputs": [],
   "source": [
    "id_life_monthly_df = id_life_monthly_df.drop([\"year_month_start_date_id\", \"key\"], axis=1)"
   ]
  },
  {
   "cell_type": "code",
   "execution_count": 61,
   "id": "09ec5a17",
   "metadata": {},
   "outputs": [
    {
     "data": {
      "text/html": [
       "<div>\n",
       "<style scoped>\n",
       "    .dataframe tbody tr th:only-of-type {\n",
       "        vertical-align: middle;\n",
       "    }\n",
       "\n",
       "    .dataframe tbody tr th {\n",
       "        vertical-align: top;\n",
       "    }\n",
       "\n",
       "    .dataframe thead th {\n",
       "        text-align: right;\n",
       "    }\n",
       "</style>\n",
       "<table border=\"1\" class=\"dataframe\">\n",
       "  <thead>\n",
       "    <tr style=\"text-align: right;\">\n",
       "      <th></th>\n",
       "      <th>poc_ppg_id</th>\n",
       "      <th>month</th>\n",
       "      <th>year</th>\n",
       "      <th>year_month_start_date</th>\n",
       "    </tr>\n",
       "  </thead>\n",
       "  <tbody>\n",
       "    <tr>\n",
       "      <th>0</th>\n",
       "      <td>AAAA__AK_AB_CG_T</td>\n",
       "      <td>4</td>\n",
       "      <td>2019</td>\n",
       "      <td>2019-04-01</td>\n",
       "    </tr>\n",
       "    <tr>\n",
       "      <th>1</th>\n",
       "      <td>AAAA__AK_AB_CG_T</td>\n",
       "      <td>5</td>\n",
       "      <td>2019</td>\n",
       "      <td>2019-05-01</td>\n",
       "    </tr>\n",
       "    <tr>\n",
       "      <th>2</th>\n",
       "      <td>AAAA__AK_AB_CG_T</td>\n",
       "      <td>6</td>\n",
       "      <td>2019</td>\n",
       "      <td>2019-06-01</td>\n",
       "    </tr>\n",
       "    <tr>\n",
       "      <th>3</th>\n",
       "      <td>AAAA__AK_AB_CG_T</td>\n",
       "      <td>7</td>\n",
       "      <td>2019</td>\n",
       "      <td>2019-07-01</td>\n",
       "    </tr>\n",
       "    <tr>\n",
       "      <th>4</th>\n",
       "      <td>AAAA__AK_AB_CG_T</td>\n",
       "      <td>8</td>\n",
       "      <td>2019</td>\n",
       "      <td>2019-08-01</td>\n",
       "    </tr>\n",
       "  </tbody>\n",
       "</table>\n",
       "</div>"
      ],
      "text/plain": [
       "         poc_ppg_id  month  year year_month_start_date\n",
       "0  AAAA__AK_AB_CG_T      4  2019            2019-04-01\n",
       "1  AAAA__AK_AB_CG_T      5  2019            2019-05-01\n",
       "2  AAAA__AK_AB_CG_T      6  2019            2019-06-01\n",
       "3  AAAA__AK_AB_CG_T      7  2019            2019-07-01\n",
       "4  AAAA__AK_AB_CG_T      8  2019            2019-08-01"
      ]
     },
     "execution_count": 61,
     "metadata": {},
     "output_type": "execute_result"
    }
   ],
   "source": [
    "id_life_monthly_df.head()"
   ]
  },
  {
   "cell_type": "code",
   "execution_count": 62,
   "id": "d5414d17",
   "metadata": {},
   "outputs": [
    {
     "data": {
      "text/plain": [
       "(79049668, 4)"
      ]
     },
     "execution_count": 62,
     "metadata": {},
     "output_type": "execute_result"
    }
   ],
   "source": [
    "# id_life_weekly_df.loc[id_life_weekly_df[\"poc_ppg_id\"] == \"AAAA__AK_AB_CG_T\"]\n",
    "\n",
    "id_life_monthly_df.shape"
   ]
  },
  {
   "cell_type": "code",
   "execution_count": 63,
   "id": "4c5782ad",
   "metadata": {},
   "outputs": [],
   "source": [
    "# we merge this back to actual agg_volume df on the basis of poc_ppg_id week adjusted_year adjusted_month\n",
    "\n",
    "volume_df_month_agg = pd.merge(\n",
    "    volume_df_month_agg,\n",
    "    id_life_monthly_df,\n",
    "    on=[\"poc_ppg_id\", \"month\", \"year\"],\n",
    "    how=\"outer\",\n",
    ")"
   ]
  },
  {
   "cell_type": "code",
   "execution_count": 64,
   "id": "014871d7",
   "metadata": {},
   "outputs": [
    {
     "data": {
      "text/html": [
       "<div>\n",
       "<style scoped>\n",
       "    .dataframe tbody tr th:only-of-type {\n",
       "        vertical-align: middle;\n",
       "    }\n",
       "\n",
       "    .dataframe tbody tr th {\n",
       "        vertical-align: top;\n",
       "    }\n",
       "\n",
       "    .dataframe thead th {\n",
       "        text-align: right;\n",
       "    }\n",
       "</style>\n",
       "<table border=\"1\" class=\"dataframe\">\n",
       "  <thead>\n",
       "    <tr style=\"text-align: right;\">\n",
       "      <th></th>\n",
       "      <th>poc_ppg_id</th>\n",
       "      <th>ppg_name</th>\n",
       "      <th>unique_poc_id</th>\n",
       "      <th>year</th>\n",
       "      <th>month</th>\n",
       "      <th>sales_volume_hl_agg</th>\n",
       "      <th>year_month_start_date</th>\n",
       "    </tr>\n",
       "  </thead>\n",
       "  <tbody>\n",
       "    <tr>\n",
       "      <th>0</th>\n",
       "      <td>AAAA__AK_AB_CG_T</td>\n",
       "      <td>AK AB CG T</td>\n",
       "      <td>AAAA</td>\n",
       "      <td>2019</td>\n",
       "      <td>4</td>\n",
       "      <td>0.065803</td>\n",
       "      <td>2019-04-01</td>\n",
       "    </tr>\n",
       "    <tr>\n",
       "      <th>1</th>\n",
       "      <td>AAAA__AK_AB_CG_T</td>\n",
       "      <td>AK AB CG T</td>\n",
       "      <td>AAAA</td>\n",
       "      <td>2019</td>\n",
       "      <td>5</td>\n",
       "      <td>0.131605</td>\n",
       "      <td>2019-05-01</td>\n",
       "    </tr>\n",
       "    <tr>\n",
       "      <th>2</th>\n",
       "      <td>AAAA__AK_CW_FM_CG_T</td>\n",
       "      <td>AK CW FM CG T</td>\n",
       "      <td>AAAA</td>\n",
       "      <td>2020</td>\n",
       "      <td>6</td>\n",
       "      <td>0.098704</td>\n",
       "      <td>2020-06-01</td>\n",
       "    </tr>\n",
       "    <tr>\n",
       "      <th>3</th>\n",
       "      <td>AAAA__AR_EW_N_DS_CG_T</td>\n",
       "      <td>AR EW N DS CG T</td>\n",
       "      <td>AAAA</td>\n",
       "      <td>2019</td>\n",
       "      <td>2</td>\n",
       "      <td>0.164507</td>\n",
       "      <td>2019-02-01</td>\n",
       "    </tr>\n",
       "    <tr>\n",
       "      <th>4</th>\n",
       "      <td>AAAA__AR_EW_N_DS_CG_T</td>\n",
       "      <td>AR EW N DS CG T</td>\n",
       "      <td>AAAA</td>\n",
       "      <td>2019</td>\n",
       "      <td>4</td>\n",
       "      <td>0.098704</td>\n",
       "      <td>2019-04-01</td>\n",
       "    </tr>\n",
       "  </tbody>\n",
       "</table>\n",
       "</div>"
      ],
      "text/plain": [
       "              poc_ppg_id         ppg_name unique_poc_id  year  month  \\\n",
       "0       AAAA__AK_AB_CG_T       AK AB CG T          AAAA  2019      4   \n",
       "1       AAAA__AK_AB_CG_T       AK AB CG T          AAAA  2019      5   \n",
       "2    AAAA__AK_CW_FM_CG_T    AK CW FM CG T          AAAA  2020      6   \n",
       "3  AAAA__AR_EW_N_DS_CG_T  AR EW N DS CG T          AAAA  2019      2   \n",
       "4  AAAA__AR_EW_N_DS_CG_T  AR EW N DS CG T          AAAA  2019      4   \n",
       "\n",
       "   sales_volume_hl_agg year_month_start_date  \n",
       "0             0.065803            2019-04-01  \n",
       "1             0.131605            2019-05-01  \n",
       "2             0.098704            2020-06-01  \n",
       "3             0.164507            2019-02-01  \n",
       "4             0.098704            2019-04-01  "
      ]
     },
     "execution_count": 64,
     "metadata": {},
     "output_type": "execute_result"
    }
   ],
   "source": [
    "volume_df_month_agg.head()"
   ]
  },
  {
   "cell_type": "code",
   "execution_count": 65,
   "id": "79b7e582",
   "metadata": {},
   "outputs": [
    {
     "data": {
      "text/plain": [
       "(79049668, 7)"
      ]
     },
     "execution_count": 65,
     "metadata": {},
     "output_type": "execute_result"
    }
   ],
   "source": [
    "volume_df_month_agg.shape"
   ]
  },
  {
   "cell_type": "code",
   "execution_count": 66,
   "id": "e326ed64",
   "metadata": {},
   "outputs": [
    {
     "data": {
      "text/plain": [
       "poc_ppg_id                      0\n",
       "ppg_name                 59161242\n",
       "unique_poc_id            59161242\n",
       "year                            0\n",
       "month                           0\n",
       "sales_volume_hl_agg      59161242\n",
       "year_month_start_date           0\n",
       "dtype: int64"
      ]
     },
     "execution_count": 66,
     "metadata": {},
     "output_type": "execute_result"
    }
   ],
   "source": [
    "volume_df_month_agg.isnull().sum()"
   ]
  },
  {
   "cell_type": "code",
   "execution_count": 67,
   "id": "622bd345",
   "metadata": {},
   "outputs": [],
   "source": [
    "volume_df_month_agg[\"sales_volume_hl_agg\"] = volume_df_month_agg[\n",
    "    \"sales_volume_hl_agg\"\n",
    "].fillna(0.0)"
   ]
  },
  {
   "cell_type": "code",
   "execution_count": 68,
   "id": "7ad32692",
   "metadata": {},
   "outputs": [],
   "source": [
    "volume_df_month_agg[[\"ppg_name\",\"unique_poc_id\"]] = (volume_df_month_agg.groupby(['poc_ppg_id'])[[\"ppg_name\",\"unique_poc_id\"]].\n",
    "                                        transform(lambda x: x.fillna(method='bfill').fillna(method='ffill'))\n",
    "                                       )"
   ]
  },
  {
   "cell_type": "code",
   "execution_count": 69,
   "id": "14969e15",
   "metadata": {},
   "outputs": [
    {
     "data": {
      "text/plain": [
       "poc_ppg_id               0\n",
       "ppg_name                 0\n",
       "unique_poc_id            0\n",
       "year                     0\n",
       "month                    0\n",
       "sales_volume_hl_agg      0\n",
       "year_month_start_date    0\n",
       "dtype: int64"
      ]
     },
     "execution_count": 69,
     "metadata": {},
     "output_type": "execute_result"
    }
   ],
   "source": [
    "# try by splitting with parallel apply faster \n",
    "volume_df_month_agg.isnull().sum()"
   ]
  },
  {
   "cell_type": "code",
   "execution_count": 70,
   "id": "e8e1b482",
   "metadata": {},
   "outputs": [],
   "source": [
    "volume_df_month_agg.to_pickle(os.path.join(os.getcwd(), processed_data_folder,'volume_df_month_agg.pkl'))"
   ]
  },
  {
   "cell_type": "code",
   "execution_count": 71,
   "id": "657b1c64",
   "metadata": {},
   "outputs": [],
   "source": [
    "ls_m = volume_df_month_agg[\"sales_volume_hl_agg\"].tolist()"
   ]
  },
  {
   "cell_type": "code",
   "execution_count": 72,
   "id": "5c77c368",
   "metadata": {},
   "outputs": [],
   "source": [
    "ls_w = volume_df_week_agg[\"sales_volume_hl_agg\"].tolist()"
   ]
  },
  {
   "cell_type": "code",
   "execution_count": 73,
   "id": "640f8940",
   "metadata": {},
   "outputs": [],
   "source": [
    "ls1 = volume_df[\"sales_volume_hl\"].tolist()"
   ]
  },
  {
   "cell_type": "code",
   "execution_count": 74,
   "id": "62e091a5",
   "metadata": {},
   "outputs": [
    {
     "data": {
      "text/plain": [
       "45147700.85486216"
      ]
     },
     "execution_count": 74,
     "metadata": {},
     "output_type": "execute_result"
    }
   ],
   "source": [
    "sum(ls_m)"
   ]
  },
  {
   "cell_type": "code",
   "execution_count": 75,
   "id": "a3e30677",
   "metadata": {},
   "outputs": [
    {
     "data": {
      "text/plain": [
       "45147700.854487136"
      ]
     },
     "execution_count": 75,
     "metadata": {},
     "output_type": "execute_result"
    }
   ],
   "source": [
    "sum(ls_w)"
   ]
  },
  {
   "cell_type": "code",
   "execution_count": 76,
   "id": "45bb40be",
   "metadata": {},
   "outputs": [
    {
     "data": {
      "text/plain": [
       "45147700.85447763"
      ]
     },
     "execution_count": 76,
     "metadata": {},
     "output_type": "execute_result"
    }
   ],
   "source": [
    "sum(ls1)"
   ]
  },
  {
   "cell_type": "markdown",
   "id": "6d9b3e0c",
   "metadata": {},
   "source": [
    "#### Next todo -in this script\n",
    "fill miising poc id with NA1"
   ]
  },
  {
   "cell_type": "markdown",
   "id": "60399c01",
   "metadata": {},
   "source": [
    "#### Suraj\n",
    "- Identify Delisted poc -> poc_ranking\n",
    "- Identify Delisted ppg -> ppg_ranking\n",
    "- Clean and remove dups POC attribute and PPG attributes\n",
    "- poc_ranking -> remove delisted poc and add poc feats\n",
    "- ppg ranking -> remove delisted ppg and add ppg feats\n",
    "- save the delisted list for both as pickle"
   ]
  }
 ],
 "metadata": {
  "kernelspec": {
   "display_name": "torch_env",
   "language": "python",
   "name": "torch_env"
  },
  "language_info": {
   "codemirror_mode": {
    "name": "ipython",
    "version": 3
   },
   "file_extension": ".py",
   "mimetype": "text/x-python",
   "name": "python",
   "nbconvert_exporter": "python",
   "pygments_lexer": "ipython3",
   "version": "3.10.14"
  }
 },
 "nbformat": 4,
 "nbformat_minor": 5
}
