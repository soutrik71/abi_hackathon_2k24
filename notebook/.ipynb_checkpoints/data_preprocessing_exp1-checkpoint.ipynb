{
 "cells": [
  {
   "cell_type": "code",
   "execution_count": 1,
   "metadata": {},
   "outputs": [
    {
     "data": {
      "application/javascript": [
       "IPython.notebook.set_autosave_interval(300000)"
      ]
     },
     "metadata": {},
     "output_type": "display_data"
    },
    {
     "name": "stdout",
     "output_type": "stream",
     "text": [
      "Autosaving every 300 seconds\n"
     ]
    }
   ],
   "source": [
    "%autosave 300\n",
    "%reload_ext autoreload\n",
    "%autoreload 2\n",
    "%config Completer.use_jedi = False"
   ]
  },
  {
   "cell_type": "code",
   "execution_count": 2,
   "metadata": {},
   "outputs": [
    {
     "data": {
      "text/html": [
       "\n",
       "                <script type=\"application/javascript\" id=\"jupyter_black\">\n",
       "                (function() {\n",
       "                    if (window.IPython === undefined) {\n",
       "                        return\n",
       "                    }\n",
       "                    var msg = \"WARNING: it looks like you might have loaded \" +\n",
       "                        \"jupyter_black in a non-lab notebook with \" +\n",
       "                        \"`is_lab=True`. Please double check, and if \" +\n",
       "                        \"loading with `%load_ext` please review the README!\"\n",
       "                    console.log(msg)\n",
       "                    alert(msg)\n",
       "                })()\n",
       "                </script>\n",
       "                "
      ],
      "text/plain": [
       "<IPython.core.display.HTML object>"
      ]
     },
     "metadata": {},
     "output_type": "display_data"
    }
   ],
   "source": [
    "import jupyter_black\n",
    "\n",
    "jupyter_black.load()"
   ]
  },
  {
   "cell_type": "code",
   "execution_count": 3,
   "metadata": {},
   "outputs": [
    {
     "name": "stdout",
     "output_type": "stream",
     "text": [
      "/mnt/batch/tasks/shared/LS_root/mounts/clusters/copilot-model-run/code/Users/Soutrik.Chowdhury/abi_hackathon_2k24\n"
     ]
    }
   ],
   "source": [
    "import os\n",
    "\n",
    "os.chdir(\n",
    "    r\"/mnt/batch/tasks/shared/LS_root/mounts/clusters/copilot-model-run/code/Users/Soutrik.Chowdhury/abi_hackathon_2k24\"\n",
    ")\n",
    "print(os.getcwd())"
   ]
  },
  {
   "cell_type": "code",
   "execution_count": 4,
   "metadata": {},
   "outputs": [],
   "source": [
    "import pandas as pd\n",
    "import numpy as np\n",
    "import matplotlib.pyplot as plt\n",
    "import seaborn as sns\n",
    "\n",
    "pd.set_option(\"display.max_columns\", None)\n",
    "pd.set_option(\"display.max_rows\", None)\n",
    "pd.set_option(\"display.max_colwidth\", None)\n",
    "pd.set_option(\"display.width\", None)\n",
    "from pandarallel import pandarallel\n",
    "import re\n",
    "from datetime import datetime\n",
    "import gc\n",
    "from sklearn.preprocessing import FunctionTransformer"
   ]
  },
  {
   "cell_type": "code",
   "execution_count": 5,
   "metadata": {},
   "outputs": [
    {
     "name": "stdout",
     "output_type": "stream",
     "text": [
      "INFO: Pandarallel will run on 12 workers.\n",
      "INFO: Pandarallel will use Memory file system to transfer data between the main process and workers.\n"
     ]
    }
   ],
   "source": [
    "pandarallel.initialize(progress_bar=True, nb_workers=os.cpu_count() - 4)"
   ]
  },
  {
   "cell_type": "code",
   "execution_count": 6,
   "metadata": {},
   "outputs": [
    {
     "name": "stdout",
     "output_type": "stream",
     "text": [
      "16\n"
     ]
    }
   ],
   "source": [
    "data_folder = \"data\"\n",
    "print(os.cpu_count())"
   ]
  },
  {
   "cell_type": "code",
   "execution_count": null,
   "metadata": {},
   "outputs": [],
   "source": [
    "volume_df = pd.read_csv(f\"{data_folder}/hackathon_training_data_csv_file.csv\")"
   ]
  },
  {
   "cell_type": "code",
   "execution_count": null,
   "metadata": {},
   "outputs": [],
   "source": [
    "volume_df = volume_df.drop([\"Unnamed: 0\"], axis=1)"
   ]
  },
  {
   "cell_type": "code",
   "execution_count": null,
   "metadata": {},
   "outputs": [],
   "source": [
    "volume_df.head()"
   ]
  },
  {
   "cell_type": "code",
   "execution_count": null,
   "metadata": {},
   "outputs": [],
   "source": [
    "volume_df.isnull().sum()"
   ]
  },
  {
   "cell_type": "code",
   "execution_count": null,
   "metadata": {},
   "outputs": [],
   "source": [
    "volume_df = volume_df.loc[volume_df[\"unique_poc_id\"].notnull()].reset_index(drop=True)"
   ]
  },
  {
   "cell_type": "code",
   "execution_count": null,
   "metadata": {},
   "outputs": [],
   "source": [
    "volume_df.shape"
   ]
  },
  {
   "cell_type": "code",
   "execution_count": null,
   "metadata": {},
   "outputs": [],
   "source": [
    "# sampling the data to 33 percent for quick analysis"
   ]
  },
  {
   "cell_type": "code",
   "execution_count": null,
   "metadata": {},
   "outputs": [],
   "source": [
    "volume_df_sample = volume_df.sample(frac=0.33, random_state=42).reset_index(drop=True)"
   ]
  },
  {
   "cell_type": "code",
   "execution_count": null,
   "metadata": {},
   "outputs": [],
   "source": [
    "volume_df_sample.head()"
   ]
  },
  {
   "cell_type": "code",
   "execution_count": null,
   "metadata": {},
   "outputs": [],
   "source": [
    "volume_df[\"year\"].min(), volume_df[\"year\"].max()"
   ]
  },
  {
   "cell_type": "code",
   "execution_count": null,
   "metadata": {},
   "outputs": [],
   "source": [
    "# volume_df_sample[\"ppg_name_clean\"] = volume_df_sample[\"ppg_name\"].apply(\n",
    "#     lambda x: re.sub(r\"\\s+\", \"_\", x)\n",
    "# )"
   ]
  },
  {
   "cell_type": "code",
   "execution_count": null,
   "metadata": {},
   "outputs": [],
   "source": [
    "# clean name\n",
    "volume_df_sample[\"ppg_name_clean\"] = volume_df_sample[\"ppg_name\"].parallel_apply(\n",
    "    lambda x: re.sub(r\"\\s+\", \"_\", x)\n",
    ")"
   ]
  },
  {
   "cell_type": "code",
   "execution_count": null,
   "metadata": {},
   "outputs": [],
   "source": [
    "# poc-Ppg id\n",
    "volume_df_sample[\"poc_ppg_id\"] = volume_df_sample.parallel_apply(\n",
    "    lambda x: str(x[\"unique_poc_id\"]) + \"__\" + str(x[\"ppg_name_clean\"]), axis=1\n",
    ")"
   ]
  },
  {
   "cell_type": "code",
   "execution_count": null,
   "metadata": {},
   "outputs": [],
   "source": [
    "volume_df_sample.head()"
   ]
  },
  {
   "cell_type": "code",
   "execution_count": null,
   "metadata": {},
   "outputs": [],
   "source": [
    "# date column\n",
    "volume_df_sample[\"date\"] = pd.to_datetime(volume_df_sample[[\"year\", \"month\", \"day\"]])"
   ]
  },
  {
   "cell_type": "code",
   "execution_count": 22,
   "metadata": {},
   "outputs": [
    {
     "data": {
      "text/plain": [
       "year               0\n",
       "month              0\n",
       "day                0\n",
       "sales_volume_hl    0\n",
       "ppg_name           0\n",
       "unique_poc_id      0\n",
       "ppg_name_clean     0\n",
       "poc_ppg_id         0\n",
       "date               0\n",
       "dtype: int64"
      ]
     },
     "execution_count": 22,
     "metadata": {},
     "output_type": "execute_result"
    }
   ],
   "source": [
    "volume_df_sample.isnull().sum()"
   ]
  },
  {
   "cell_type": "code",
   "execution_count": 23,
   "metadata": {},
   "outputs": [],
   "source": [
    "# check for duplicates rows based on poc_ppg_id and date and avg them\n",
    "id_count = (\n",
    "    volume_df_sample.groupby([\"poc_ppg_id\", \"date\", \"ppg_name\", \"unique_poc_id\"])\n",
    "    .size()\n",
    "    .reset_index(name=\"count\")\n",
    "    .sort_values(by=\"count\", ascending=False)\n",
    ")"
   ]
  },
  {
   "cell_type": "code",
   "execution_count": 24,
   "metadata": {},
   "outputs": [],
   "source": [
    "id_count = id_count.reset_index(drop=True)\n",
    "id_count = id_count.loc[id_count[\"count\"] > 1].reset_index(drop=True)"
   ]
  },
  {
   "cell_type": "code",
   "execution_count": 25,
   "metadata": {},
   "outputs": [
    {
     "data": {
      "text/plain": [
       "(2, 2)"
      ]
     },
     "execution_count": 25,
     "metadata": {},
     "output_type": "execute_result"
    }
   ],
   "source": [
    "id_count[\"count\"].max(), id_count[\"count\"].min()"
   ]
  },
  {
   "cell_type": "code",
   "execution_count": 26,
   "metadata": {},
   "outputs": [
    {
     "data": {
      "text/plain": [
       "(4919, 5)"
      ]
     },
     "execution_count": 26,
     "metadata": {},
     "output_type": "execute_result"
    }
   ],
   "source": [
    "id_count.shape"
   ]
  },
  {
   "cell_type": "code",
   "execution_count": 27,
   "metadata": {},
   "outputs": [
    {
     "data": {
      "text/html": [
       "<div>\n",
       "<style scoped>\n",
       "    .dataframe tbody tr th:only-of-type {\n",
       "        vertical-align: middle;\n",
       "    }\n",
       "\n",
       "    .dataframe tbody tr th {\n",
       "        vertical-align: top;\n",
       "    }\n",
       "\n",
       "    .dataframe thead th {\n",
       "        text-align: right;\n",
       "    }\n",
       "</style>\n",
       "<table border=\"1\" class=\"dataframe\">\n",
       "  <thead>\n",
       "    <tr style=\"text-align: right;\">\n",
       "      <th></th>\n",
       "      <th>poc_ppg_id</th>\n",
       "      <th>date</th>\n",
       "      <th>ppg_name</th>\n",
       "      <th>unique_poc_id</th>\n",
       "      <th>count</th>\n",
       "    </tr>\n",
       "  </thead>\n",
       "  <tbody>\n",
       "    <tr>\n",
       "      <th>100</th>\n",
       "      <td>AZXQ__FA_ES_AN</td>\n",
       "      <td>2020-09-30</td>\n",
       "      <td>FA ES AN</td>\n",
       "      <td>AZXQ</td>\n",
       "      <td>2</td>\n",
       "    </tr>\n",
       "  </tbody>\n",
       "</table>\n",
       "</div>"
      ],
      "text/plain": [
       "         poc_ppg_id       date  ppg_name unique_poc_id  count\n",
       "100  AZXQ__FA_ES_AN 2020-09-30  FA ES AN          AZXQ      2"
      ]
     },
     "execution_count": 27,
     "metadata": {},
     "output_type": "execute_result"
    }
   ],
   "source": [
    "id_count.loc[[100]]"
   ]
  },
  {
   "cell_type": "code",
   "execution_count": 28,
   "metadata": {},
   "outputs": [],
   "source": [
    "# volume_df.loc[\n",
    "#     (volume_df[\"unique_poc_id\"] == \"AZXQ\")\n",
    "#     & (volume_df[\"ppg_name\"] == \"AZXQ__FA_ES_AN\")\n",
    "#     & (volume_df[\"year\"] == 2021)\n",
    "#     & (volume_df[\"month\"] == 6)\n",
    "# ]"
   ]
  },
  {
   "cell_type": "code",
   "execution_count": 29,
   "metadata": {},
   "outputs": [],
   "source": [
    "volume_df_sample = (\n",
    "    volume_df_sample.groupby([\"poc_ppg_id\", \"date\", \"ppg_name\", \"unique_poc_id\"])\n",
    "    .agg(sales_volume_hl=(\"sales_volume_hl\", \"mean\"))\n",
    "    .reset_index()\n",
    ")"
   ]
  },
  {
   "cell_type": "code",
   "execution_count": 30,
   "metadata": {},
   "outputs": [
    {
     "data": {
      "text/html": [
       "<div>\n",
       "<style scoped>\n",
       "    .dataframe tbody tr th:only-of-type {\n",
       "        vertical-align: middle;\n",
       "    }\n",
       "\n",
       "    .dataframe tbody tr th {\n",
       "        vertical-align: top;\n",
       "    }\n",
       "\n",
       "    .dataframe thead th {\n",
       "        text-align: right;\n",
       "    }\n",
       "</style>\n",
       "<table border=\"1\" class=\"dataframe\">\n",
       "  <thead>\n",
       "    <tr style=\"text-align: right;\">\n",
       "      <th></th>\n",
       "      <th>poc_ppg_id</th>\n",
       "      <th>date</th>\n",
       "      <th>ppg_name</th>\n",
       "      <th>unique_poc_id</th>\n",
       "      <th>sales_volume_hl</th>\n",
       "    </tr>\n",
       "  </thead>\n",
       "  <tbody>\n",
       "    <tr>\n",
       "      <th>0</th>\n",
       "      <td>AAAA__AK_AB_CG_T</td>\n",
       "      <td>2019-05-25</td>\n",
       "      <td>AK AB CG T</td>\n",
       "      <td>AAAA</td>\n",
       "      <td>0.131605</td>\n",
       "    </tr>\n",
       "    <tr>\n",
       "      <th>1</th>\n",
       "      <td>AAAA__AR_EW_N_DS_CG_T</td>\n",
       "      <td>2019-04-20</td>\n",
       "      <td>AR EW N DS CG T</td>\n",
       "      <td>AAAA</td>\n",
       "      <td>0.098704</td>\n",
       "    </tr>\n",
       "    <tr>\n",
       "      <th>2</th>\n",
       "      <td>AAAA__AR_EW_N_DS_CG_T</td>\n",
       "      <td>2019-07-24</td>\n",
       "      <td>AR EW N DS CG T</td>\n",
       "      <td>AAAA</td>\n",
       "      <td>0.263210</td>\n",
       "    </tr>\n",
       "    <tr>\n",
       "      <th>3</th>\n",
       "      <td>AAAA__BP_BJ_CG_EH</td>\n",
       "      <td>2019-07-24</td>\n",
       "      <td>BP BJ CG EH</td>\n",
       "      <td>AAAA</td>\n",
       "      <td>0.074776</td>\n",
       "    </tr>\n",
       "    <tr>\n",
       "      <th>4</th>\n",
       "      <td>AAAA__BP_BJ_CG_EH</td>\n",
       "      <td>2020-06-13</td>\n",
       "      <td>BP BJ CG EH</td>\n",
       "      <td>AAAA</td>\n",
       "      <td>0.074776</td>\n",
       "    </tr>\n",
       "  </tbody>\n",
       "</table>\n",
       "</div>"
      ],
      "text/plain": [
       "              poc_ppg_id       date         ppg_name unique_poc_id  \\\n",
       "0       AAAA__AK_AB_CG_T 2019-05-25       AK AB CG T          AAAA   \n",
       "1  AAAA__AR_EW_N_DS_CG_T 2019-04-20  AR EW N DS CG T          AAAA   \n",
       "2  AAAA__AR_EW_N_DS_CG_T 2019-07-24  AR EW N DS CG T          AAAA   \n",
       "3      AAAA__BP_BJ_CG_EH 2019-07-24      BP BJ CG EH          AAAA   \n",
       "4      AAAA__BP_BJ_CG_EH 2020-06-13      BP BJ CG EH          AAAA   \n",
       "\n",
       "   sales_volume_hl  \n",
       "0         0.131605  \n",
       "1         0.098704  \n",
       "2         0.263210  \n",
       "3         0.074776  \n",
       "4         0.074776  "
      ]
     },
     "execution_count": 30,
     "metadata": {},
     "output_type": "execute_result"
    }
   ],
   "source": [
    "volume_df_sample.head()"
   ]
  },
  {
   "cell_type": "code",
   "execution_count": 31,
   "metadata": {},
   "outputs": [],
   "source": [
    "# create a df having id wise start and last date"
   ]
  },
  {
   "cell_type": "code",
   "execution_count": 32,
   "metadata": {},
   "outputs": [],
   "source": [
    "id_life_df = volume_df_sample.groupby(\n",
    "    [\"poc_ppg_id\", \"unique_poc_id\", \"ppg_name\"], as_index=False\n",
    ").agg(\n",
    "    start_date_vol=(\"date\", \"min\"),\n",
    "    end_date_vol=(\"date\", \"max\"),\n",
    "    unique_selling_days=(\"date\", \"count\"),\n",
    ")"
   ]
  },
  {
   "cell_type": "code",
   "execution_count": 33,
   "metadata": {},
   "outputs": [],
   "source": [
    "id_life_df[\"life_from_start_months\"] = (\n",
    "    datetime.now().year - id_life_df[\"start_date_vol\"].dt.year\n",
    ") * 12 + (datetime.now().month - id_life_df[\"start_date_vol\"].dt.month)"
   ]
  },
  {
   "cell_type": "code",
   "execution_count": 34,
   "metadata": {},
   "outputs": [],
   "source": [
    "id_life_df[\"last_selling_record_months\"] = (\n",
    "    datetime.now().year - id_life_df[\"end_date_vol\"].dt.year\n",
    ") * 12 + (datetime.now().month - id_life_df[\"end_date_vol\"].dt.month)"
   ]
  },
  {
   "cell_type": "code",
   "execution_count": 35,
   "metadata": {},
   "outputs": [],
   "source": [
    "id_life_df[\"inactive_life\"] = round(\n",
    "    id_life_df[\"last_selling_record_months\"] / id_life_df[\"life_from_start_months\"], 2\n",
    ")"
   ]
  },
  {
   "cell_type": "code",
   "execution_count": 36,
   "metadata": {},
   "outputs": [
    {
     "data": {
      "text/plain": [
       "(1358847, 9)"
      ]
     },
     "execution_count": 36,
     "metadata": {},
     "output_type": "execute_result"
    }
   ],
   "source": [
    "id_life_df.shape"
   ]
  },
  {
   "cell_type": "code",
   "execution_count": 37,
   "metadata": {},
   "outputs": [
    {
     "data": {
      "text/plain": [
       "<Axes: >"
      ]
     },
     "execution_count": 37,
     "metadata": {},
     "output_type": "execute_result"
    },
    {
     "data": {
      "image/png": "[encoded data removed]",
      "text/plain": [
       "<Figure size 504x360 with 1 Axes>"
      ]
     },
     "metadata": {
      "needs_background": "light"
     },
     "output_type": "display_data"
    }
   ],
   "source": [
    "plt.figure(figsize=(7, 5))\n",
    "id_life_df[\"inactive_life\"].hist()"
   ]
  },
  {
   "cell_type": "code",
   "execution_count": 38,
   "metadata": {},
   "outputs": [],
   "source": [
    "id_life_df[\"poc_last_sell_date\"] = id_life_df.groupby([\"unique_poc_id\"])[\n",
    "    \"end_date_vol\"\n",
    "].transform(lambda x: x.max())\n",
    "\n",
    "id_life_df[\"ppg_last_sell_date\"] = id_life_df.groupby([\"ppg_name\"])[\n",
    "    \"end_date_vol\"\n",
    "].transform(lambda x: x.max())"
   ]
  },
  {
   "cell_type": "code",
   "execution_count": 39,
   "metadata": {},
   "outputs": [],
   "source": [
    "id_life_df[\"poc_last_sell_months\"] = (\n",
    "    datetime.now().year - id_life_df[\"poc_last_sell_date\"].dt.year\n",
    ") * 12 + (datetime.now().month - id_life_df[\"poc_last_sell_date\"].dt.month)\n",
    "\n",
    "id_life_df[\"ppg_last_sell_months\"] = (\n",
    "    datetime.now().year - id_life_df[\"poc_last_sell_date\"].dt.year\n",
    ") * 12 + (datetime.now().month - id_life_df[\"poc_last_sell_date\"].dt.month)"
   ]
  },
  {
   "cell_type": "code",
   "execution_count": 40,
   "metadata": {},
   "outputs": [
    {
     "data": {
      "text/html": [
       "<div>\n",
       "<style scoped>\n",
       "    .dataframe tbody tr th:only-of-type {\n",
       "        vertical-align: middle;\n",
       "    }\n",
       "\n",
       "    .dataframe tbody tr th {\n",
       "        vertical-align: top;\n",
       "    }\n",
       "\n",
       "    .dataframe thead th {\n",
       "        text-align: right;\n",
       "    }\n",
       "</style>\n",
       "<table border=\"1\" class=\"dataframe\">\n",
       "  <thead>\n",
       "    <tr style=\"text-align: right;\">\n",
       "      <th></th>\n",
       "      <th>poc_ppg_id</th>\n",
       "      <th>unique_poc_id</th>\n",
       "      <th>ppg_name</th>\n",
       "      <th>start_date_vol</th>\n",
       "      <th>end_date_vol</th>\n",
       "      <th>unique_selling_days</th>\n",
       "      <th>life_from_start_months</th>\n",
       "      <th>last_selling_record_months</th>\n",
       "      <th>inactive_life</th>\n",
       "      <th>poc_last_sell_date</th>\n",
       "      <th>ppg_last_sell_date</th>\n",
       "      <th>poc_last_sell_months</th>\n",
       "      <th>ppg_last_sell_months</th>\n",
       "    </tr>\n",
       "  </thead>\n",
       "  <tbody>\n",
       "    <tr>\n",
       "      <th>0</th>\n",
       "      <td>AAAA__AK_AB_CG_T</td>\n",
       "      <td>AAAA</td>\n",
       "      <td>AK AB CG T</td>\n",
       "      <td>2019-05-25</td>\n",
       "      <td>2019-05-25</td>\n",
       "      <td>1</td>\n",
       "      <td>62</td>\n",
       "      <td>62</td>\n",
       "      <td>1.00</td>\n",
       "      <td>2020-06-13</td>\n",
       "      <td>2022-12-31</td>\n",
       "      <td>49</td>\n",
       "      <td>49</td>\n",
       "    </tr>\n",
       "    <tr>\n",
       "      <th>1</th>\n",
       "      <td>AAAA__AR_EW_N_DS_CG_T</td>\n",
       "      <td>AAAA</td>\n",
       "      <td>AR EW N DS CG T</td>\n",
       "      <td>2019-04-20</td>\n",
       "      <td>2019-07-24</td>\n",
       "      <td>2</td>\n",
       "      <td>63</td>\n",
       "      <td>60</td>\n",
       "      <td>0.95</td>\n",
       "      <td>2020-06-13</td>\n",
       "      <td>2022-12-31</td>\n",
       "      <td>49</td>\n",
       "      <td>49</td>\n",
       "    </tr>\n",
       "    <tr>\n",
       "      <th>2</th>\n",
       "      <td>AAAA__BP_BJ_CG_EH</td>\n",
       "      <td>AAAA</td>\n",
       "      <td>BP BJ CG EH</td>\n",
       "      <td>2019-07-24</td>\n",
       "      <td>2020-06-13</td>\n",
       "      <td>2</td>\n",
       "      <td>60</td>\n",
       "      <td>49</td>\n",
       "      <td>0.82</td>\n",
       "      <td>2020-06-13</td>\n",
       "      <td>2022-12-31</td>\n",
       "      <td>49</td>\n",
       "      <td>49</td>\n",
       "    </tr>\n",
       "    <tr>\n",
       "      <th>3</th>\n",
       "      <td>AAAA__CJ_AV_FJ_CG_EH</td>\n",
       "      <td>AAAA</td>\n",
       "      <td>CJ AV FJ CG EH</td>\n",
       "      <td>2019-05-25</td>\n",
       "      <td>2019-05-25</td>\n",
       "      <td>1</td>\n",
       "      <td>62</td>\n",
       "      <td>62</td>\n",
       "      <td>1.00</td>\n",
       "      <td>2020-06-13</td>\n",
       "      <td>2022-12-31</td>\n",
       "      <td>49</td>\n",
       "      <td>49</td>\n",
       "    </tr>\n",
       "    <tr>\n",
       "      <th>4</th>\n",
       "      <td>AAAA__CJ_CZ_CG_EH</td>\n",
       "      <td>AAAA</td>\n",
       "      <td>CJ CZ CG EH</td>\n",
       "      <td>2019-04-20</td>\n",
       "      <td>2019-04-20</td>\n",
       "      <td>1</td>\n",
       "      <td>63</td>\n",
       "      <td>63</td>\n",
       "      <td>1.00</td>\n",
       "      <td>2020-06-13</td>\n",
       "      <td>2022-12-31</td>\n",
       "      <td>49</td>\n",
       "      <td>49</td>\n",
       "    </tr>\n",
       "  </tbody>\n",
       "</table>\n",
       "</div>"
      ],
      "text/plain": [
       "              poc_ppg_id unique_poc_id         ppg_name start_date_vol  \\\n",
       "0       AAAA__AK_AB_CG_T          AAAA       AK AB CG T     2019-05-25   \n",
       "1  AAAA__AR_EW_N_DS_CG_T          AAAA  AR EW N DS CG T     2019-04-20   \n",
       "2      AAAA__BP_BJ_CG_EH          AAAA      BP BJ CG EH     2019-07-24   \n",
       "3   AAAA__CJ_AV_FJ_CG_EH          AAAA   CJ AV FJ CG EH     2019-05-25   \n",
       "4      AAAA__CJ_CZ_CG_EH          AAAA      CJ CZ CG EH     2019-04-20   \n",
       "\n",
       "  end_date_vol  unique_selling_days  life_from_start_months  \\\n",
       "0   2019-05-25                    1                      62   \n",
       "1   2019-07-24                    2                      63   \n",
       "2   2020-06-13                    2                      60   \n",
       "3   2019-05-25                    1                      62   \n",
       "4   2019-04-20                    1                      63   \n",
       "\n",
       "   last_selling_record_months  inactive_life poc_last_sell_date  \\\n",
       "0                          62           1.00         2020-06-13   \n",
       "1                          60           0.95         2020-06-13   \n",
       "2                          49           0.82         2020-06-13   \n",
       "3                          62           1.00         2020-06-13   \n",
       "4                          63           1.00         2020-06-13   \n",
       "\n",
       "  ppg_last_sell_date  poc_last_sell_months  ppg_last_sell_months  \n",
       "0         2022-12-31                    49                    49  \n",
       "1         2022-12-31                    49                    49  \n",
       "2         2022-12-31                    49                    49  \n",
       "3         2022-12-31                    49                    49  \n",
       "4         2022-12-31                    49                    49  "
      ]
     },
     "execution_count": 40,
     "metadata": {},
     "output_type": "execute_result"
    }
   ],
   "source": [
    "id_life_df.head()"
   ]
  },
  {
   "cell_type": "code",
   "execution_count": 41,
   "metadata": {},
   "outputs": [
    {
     "data": {
      "text/plain": [
       "<Axes: >"
      ]
     },
     "execution_count": 41,
     "metadata": {},
     "output_type": "execute_result"
    },
    {
     "data": {
      "image/png": "[encoded data removed]",
      "text/plain": [
       "<Figure size 504x360 with 1 Axes>"
      ]
     },
     "metadata": {
      "needs_background": "light"
     },
     "output_type": "display_data"
    }
   ],
   "source": [
    "plt.figure(figsize=(7, 5))\n",
    "id_life_df[\"last_selling_record_months\"].hist()"
   ]
  },
  {
   "cell_type": "code",
   "execution_count": 42,
   "metadata": {},
   "outputs": [],
   "source": [
    "# Lets first remove those stores which have already been delisted and then remove delisted ids and new_ids\n",
    "delist_stores = (\n",
    "    id_life_df.loc[id_life_df[\"poc_last_sell_months\"] > 24, \"unique_poc_id\"]\n",
    "    .unique()\n",
    "    .tolist()\n",
    ")"
   ]
  },
  {
   "cell_type": "code",
   "execution_count": 43,
   "metadata": {},
   "outputs": [
    {
     "name": "stdout",
     "output_type": "stream",
     "text": [
      "11591\n"
     ]
    }
   ],
   "source": [
    "print(len(delist_stores))"
   ]
  },
  {
   "cell_type": "code",
   "execution_count": 44,
   "metadata": {},
   "outputs": [],
   "source": [
    "id_life_df_new = id_life_df.loc[\n",
    "    ~(id_life_df[\"unique_poc_id\"].isin(delist_stores))\n",
    "    & (id_life_df[\"last_selling_record_months\"] < 24)\n",
    "#     & (id_life_df[\"last_selling_record_months\"] > 4)\n",
    "].reset_index(drop=True)"
   ]
  },
  {
   "cell_type": "code",
   "execution_count": 45,
   "metadata": {},
   "outputs": [
    {
     "data": {
      "text/plain": [
       "(506684, 13)"
      ]
     },
     "execution_count": 45,
     "metadata": {},
     "output_type": "execute_result"
    }
   ],
   "source": [
    "id_life_df_new.shape"
   ]
  },
  {
   "cell_type": "code",
   "execution_count": 46,
   "metadata": {},
   "outputs": [],
   "source": [
    "# now we will extract the year month iso week numbers"
   ]
  },
  {
   "cell_type": "code",
   "execution_count": 47,
   "metadata": {},
   "outputs": [],
   "source": [
    "# volume_df_sample[\"year\"] = volume_df_sample[\"date\"].dt.year\n",
    "# volume_df_sample[\"month\"] = volume_df_sample[\"date\"].dt.month\n",
    "# volume_df_sample[\"week\"] = volume_df_sample[\"date\"].dt.week\n",
    "# volume_df_sample[\"iso_week\"] = volume_df_sample[\"date\"].dt.isocalendar().week\n",
    "# volume_df_sample[\"iso_year\"] = volume_df_sample[\"date\"].dt.isocalendar().year"
   ]
  },
  {
   "cell_type": "code",
   "execution_count": 48,
   "metadata": {},
   "outputs": [],
   "source": [
    "# temp_df = volume_df_sample.loc[volume_df_sample[\"month\"].isin([1, 12])].reset_index(drop=True)"
   ]
  },
  {
   "cell_type": "code",
   "execution_count": 49,
   "metadata": {},
   "outputs": [],
   "source": [
    "# temp_df = temp_df.sort_values([\"date\"]).reset_index(drop=True)"
   ]
  },
  {
   "cell_type": "code",
   "execution_count": 50,
   "metadata": {},
   "outputs": [],
   "source": [
    "# temp_df.loc[(temp_df['week']==5) ].head()"
   ]
  },
  {
   "cell_type": "code",
   "execution_count": 51,
   "metadata": {},
   "outputs": [],
   "source": [
    "# Null checks\n",
    "# Duplication checks mean /sum\n",
    "# weekly data sum of sales volume - direct from weekly data\n",
    "# monthly data sum of sales volume - direct from date\n",
    "# Item wise starting dates and life\n",
    "# poc wise item wise sales starting dates and life"
   ]
  },
  {
   "cell_type": "code",
   "execution_count": 52,
   "metadata": {},
   "outputs": [],
   "source": [
    "# covid data consolidation\n",
    "# weather data consolidation\n",
    "# macro economic data consolidation"
   ]
  },
  {
   "cell_type": "markdown",
   "metadata": {},
   "source": [
    "#### Create your own calendar mapping"
   ]
  },
  {
   "cell_type": "code",
   "execution_count": 53,
   "metadata": {},
   "outputs": [],
   "source": [
    "holidays_df = pd.read_csv(\n",
    "    os.path.join(data_folder, \"South_Africa_Holidays_2019_2022.csv\")\n",
    ")"
   ]
  },
  {
   "cell_type": "code",
   "execution_count": 54,
   "metadata": {},
   "outputs": [],
   "source": [
    "holidays_df[\"Date\"] = pd.to_datetime(holidays_df[\"Date\"])"
   ]
  },
  {
   "cell_type": "code",
   "execution_count": 55,
   "metadata": {},
   "outputs": [],
   "source": [
    "holidays_df.columns = [col.lower() for col in holidays_df.columns]"
   ]
  },
  {
   "cell_type": "code",
   "execution_count": 56,
   "metadata": {},
   "outputs": [
    {
     "data": {
      "text/html": [
       "<div>\n",
       "<style scoped>\n",
       "    .dataframe tbody tr th:only-of-type {\n",
       "        vertical-align: middle;\n",
       "    }\n",
       "\n",
       "    .dataframe tbody tr th {\n",
       "        vertical-align: top;\n",
       "    }\n",
       "\n",
       "    .dataframe thead th {\n",
       "        text-align: right;\n",
       "    }\n",
       "</style>\n",
       "<table border=\"1\" class=\"dataframe\">\n",
       "  <thead>\n",
       "    <tr style=\"text-align: right;\">\n",
       "      <th></th>\n",
       "      <th>year</th>\n",
       "      <th>holiday</th>\n",
       "      <th>date</th>\n",
       "    </tr>\n",
       "  </thead>\n",
       "  <tbody>\n",
       "    <tr>\n",
       "      <th>0</th>\n",
       "      <td>2019</td>\n",
       "      <td>New Year's Day</td>\n",
       "      <td>2019-01-01</td>\n",
       "    </tr>\n",
       "    <tr>\n",
       "      <th>1</th>\n",
       "      <td>2019</td>\n",
       "      <td>Human Rights Day</td>\n",
       "      <td>2019-03-21</td>\n",
       "    </tr>\n",
       "    <tr>\n",
       "      <th>2</th>\n",
       "      <td>2019</td>\n",
       "      <td>Good Friday</td>\n",
       "      <td>2019-04-19</td>\n",
       "    </tr>\n",
       "    <tr>\n",
       "      <th>3</th>\n",
       "      <td>2019</td>\n",
       "      <td>Family Day</td>\n",
       "      <td>2019-04-22</td>\n",
       "    </tr>\n",
       "    <tr>\n",
       "      <th>4</th>\n",
       "      <td>2019</td>\n",
       "      <td>Freedom Day</td>\n",
       "      <td>2019-04-27</td>\n",
       "    </tr>\n",
       "  </tbody>\n",
       "</table>\n",
       "</div>"
      ],
      "text/plain": [
       "   year           holiday       date\n",
       "0  2019    New Year's Day 2019-01-01\n",
       "1  2019  Human Rights Day 2019-03-21\n",
       "2  2019       Good Friday 2019-04-19\n",
       "3  2019        Family Day 2019-04-22\n",
       "4  2019       Freedom Day 2019-04-27"
      ]
     },
     "execution_count": 56,
     "metadata": {},
     "output_type": "execute_result"
    }
   ],
   "source": [
    "holidays_df.head()"
   ]
  },
  {
   "cell_type": "code",
   "execution_count": 57,
   "metadata": {},
   "outputs": [],
   "source": [
    "calender_df = pd.DataFrame(\n",
    "    pd.date_range(start=\"2019-01-01\", end=\"2023-12-31\", freq=\"D\"), columns=[\"date\"]\n",
    ")"
   ]
  },
  {
   "cell_type": "code",
   "execution_count": 58,
   "metadata": {},
   "outputs": [],
   "source": [
    "calender_df[\"year\"] = calender_df[\"date\"].dt.year\n",
    "calender_df[\"month\"] = calender_df[\"date\"].dt.month\n",
    "calender_df[\"week\"] = calender_df[\"date\"].dt.isocalendar().week"
   ]
  },
  {
   "cell_type": "code",
   "execution_count": 59,
   "metadata": {},
   "outputs": [],
   "source": [
    "# calender_df.loc[calender_df['week']==53]"
   ]
  },
  {
   "cell_type": "code",
   "execution_count": 60,
   "metadata": {},
   "outputs": [
    {
     "data": {
      "application/vnd.jupyter.widget-view+json": {
       "model_id": "23a1aa2d1ce449e099852e66ee19d964",
       "version_major": 2,
       "version_minor": 0
      },
      "text/plain": [
       "VBox(children=(HBox(children=(IntProgress(value=0, description='0.00%', max=153), Label(value='0 / 153'))), HB…"
      ]
     },
     "metadata": {},
     "output_type": "display_data"
    },
    {
     "data": {
      "application/vnd.jupyter.widget-view+json": {
       "model_id": "0ae56f4eccbb46b8b8e58151a4c7668c",
       "version_major": 2,
       "version_minor": 0
      },
      "text/plain": [
       "VBox(children=(HBox(children=(IntProgress(value=0, description='0.00%', max=153), Label(value='0 / 153'))), HB…"
      ]
     },
     "metadata": {},
     "output_type": "display_data"
    }
   ],
   "source": [
    "calender_df[\"adjusted_year\"] = calender_df.parallel_apply(\n",
    "    lambda x: x[\"year\"] - 1 if x[\"week\"] == 53 and x[\"month\"] == 1 else x[\"year\"],\n",
    "    axis=1,\n",
    ")\n",
    "calender_df[\"adjusted_month\"] = calender_df.parallel_apply(\n",
    "    lambda x: 12 if x[\"week\"] == 53 and x[\"month\"] == 1 else x[\"month\"], axis=1\n",
    ")"
   ]
  },
  {
   "cell_type": "code",
   "execution_count": 61,
   "metadata": {},
   "outputs": [
    {
     "data": {
      "text/html": [
       "<div>\n",
       "<style scoped>\n",
       "    .dataframe tbody tr th:only-of-type {\n",
       "        vertical-align: middle;\n",
       "    }\n",
       "\n",
       "    .dataframe tbody tr th {\n",
       "        vertical-align: top;\n",
       "    }\n",
       "\n",
       "    .dataframe thead th {\n",
       "        text-align: right;\n",
       "    }\n",
       "</style>\n",
       "<table border=\"1\" class=\"dataframe\">\n",
       "  <thead>\n",
       "    <tr style=\"text-align: right;\">\n",
       "      <th></th>\n",
       "      <th>date</th>\n",
       "      <th>year</th>\n",
       "      <th>month</th>\n",
       "      <th>week</th>\n",
       "      <th>adjusted_year</th>\n",
       "      <th>adjusted_month</th>\n",
       "    </tr>\n",
       "  </thead>\n",
       "  <tbody>\n",
       "    <tr>\n",
       "      <th>727</th>\n",
       "      <td>2020-12-28</td>\n",
       "      <td>2020</td>\n",
       "      <td>12</td>\n",
       "      <td>53</td>\n",
       "      <td>2020</td>\n",
       "      <td>12</td>\n",
       "    </tr>\n",
       "    <tr>\n",
       "      <th>728</th>\n",
       "      <td>2020-12-29</td>\n",
       "      <td>2020</td>\n",
       "      <td>12</td>\n",
       "      <td>53</td>\n",
       "      <td>2020</td>\n",
       "      <td>12</td>\n",
       "    </tr>\n",
       "    <tr>\n",
       "      <th>729</th>\n",
       "      <td>2020-12-30</td>\n",
       "      <td>2020</td>\n",
       "      <td>12</td>\n",
       "      <td>53</td>\n",
       "      <td>2020</td>\n",
       "      <td>12</td>\n",
       "    </tr>\n",
       "    <tr>\n",
       "      <th>730</th>\n",
       "      <td>2020-12-31</td>\n",
       "      <td>2020</td>\n",
       "      <td>12</td>\n",
       "      <td>53</td>\n",
       "      <td>2020</td>\n",
       "      <td>12</td>\n",
       "    </tr>\n",
       "    <tr>\n",
       "      <th>731</th>\n",
       "      <td>2021-01-01</td>\n",
       "      <td>2021</td>\n",
       "      <td>1</td>\n",
       "      <td>53</td>\n",
       "      <td>2020</td>\n",
       "      <td>12</td>\n",
       "    </tr>\n",
       "    <tr>\n",
       "      <th>732</th>\n",
       "      <td>2021-01-02</td>\n",
       "      <td>2021</td>\n",
       "      <td>1</td>\n",
       "      <td>53</td>\n",
       "      <td>2020</td>\n",
       "      <td>12</td>\n",
       "    </tr>\n",
       "    <tr>\n",
       "      <th>733</th>\n",
       "      <td>2021-01-03</td>\n",
       "      <td>2021</td>\n",
       "      <td>1</td>\n",
       "      <td>53</td>\n",
       "      <td>2020</td>\n",
       "      <td>12</td>\n",
       "    </tr>\n",
       "  </tbody>\n",
       "</table>\n",
       "</div>"
      ],
      "text/plain": [
       "          date  year  month  week  adjusted_year  adjusted_month\n",
       "727 2020-12-28  2020     12    53           2020              12\n",
       "728 2020-12-29  2020     12    53           2020              12\n",
       "729 2020-12-30  2020     12    53           2020              12\n",
       "730 2020-12-31  2020     12    53           2020              12\n",
       "731 2021-01-01  2021      1    53           2020              12\n",
       "732 2021-01-02  2021      1    53           2020              12\n",
       "733 2021-01-03  2021      1    53           2020              12"
      ]
     },
     "execution_count": 61,
     "metadata": {},
     "output_type": "execute_result"
    }
   ],
   "source": [
    "calender_df.loc[calender_df[\"week\"] == 53]"
   ]
  },
  {
   "cell_type": "code",
   "execution_count": 62,
   "metadata": {},
   "outputs": [],
   "source": [
    "calender_df[\"day_of_the_week\"] = calender_df[\"date\"].dt.dayofweek"
   ]
  },
  {
   "cell_type": "code",
   "execution_count": 63,
   "metadata": {},
   "outputs": [],
   "source": [
    "# 0-Monday and so on\n",
    "calender_df[\"is_weekend\"] = calender_df[\"date\"].dt.dayofweek // 4\n",
    "calender_df[\"is_month_start\"] = calender_df[\"date\"].dt.is_month_start.astype(int)\n",
    "calender_df[\"is_month_end\"] = calender_df[\"date\"].dt.is_month_end.astype(int)\n",
    "calender_df[\"quarter\"] = calender_df[\"date\"].dt.quarter"
   ]
  },
  {
   "cell_type": "code",
   "execution_count": 64,
   "metadata": {},
   "outputs": [],
   "source": [
    "calender_df[\"key\"] = 1"
   ]
  },
  {
   "cell_type": "code",
   "execution_count": 65,
   "metadata": {},
   "outputs": [
    {
     "data": {
      "text/html": [
       "<div>\n",
       "<style scoped>\n",
       "    .dataframe tbody tr th:only-of-type {\n",
       "        vertical-align: middle;\n",
       "    }\n",
       "\n",
       "    .dataframe tbody tr th {\n",
       "        vertical-align: top;\n",
       "    }\n",
       "\n",
       "    .dataframe thead th {\n",
       "        text-align: right;\n",
       "    }\n",
       "</style>\n",
       "<table border=\"1\" class=\"dataframe\">\n",
       "  <thead>\n",
       "    <tr style=\"text-align: right;\">\n",
       "      <th></th>\n",
       "      <th>date</th>\n",
       "      <th>year</th>\n",
       "      <th>month</th>\n",
       "      <th>week</th>\n",
       "      <th>adjusted_year</th>\n",
       "      <th>adjusted_month</th>\n",
       "      <th>day_of_the_week</th>\n",
       "      <th>is_weekend</th>\n",
       "      <th>is_month_start</th>\n",
       "      <th>is_month_end</th>\n",
       "      <th>quarter</th>\n",
       "      <th>key</th>\n",
       "    </tr>\n",
       "  </thead>\n",
       "  <tbody>\n",
       "    <tr>\n",
       "      <th>0</th>\n",
       "      <td>2019-01-01</td>\n",
       "      <td>2019</td>\n",
       "      <td>1</td>\n",
       "      <td>1</td>\n",
       "      <td>2019</td>\n",
       "      <td>1</td>\n",
       "      <td>1</td>\n",
       "      <td>0</td>\n",
       "      <td>1</td>\n",
       "      <td>0</td>\n",
       "      <td>1</td>\n",
       "      <td>1</td>\n",
       "    </tr>\n",
       "    <tr>\n",
       "      <th>1</th>\n",
       "      <td>2019-01-02</td>\n",
       "      <td>2019</td>\n",
       "      <td>1</td>\n",
       "      <td>1</td>\n",
       "      <td>2019</td>\n",
       "      <td>1</td>\n",
       "      <td>2</td>\n",
       "      <td>0</td>\n",
       "      <td>0</td>\n",
       "      <td>0</td>\n",
       "      <td>1</td>\n",
       "      <td>1</td>\n",
       "    </tr>\n",
       "    <tr>\n",
       "      <th>2</th>\n",
       "      <td>2019-01-03</td>\n",
       "      <td>2019</td>\n",
       "      <td>1</td>\n",
       "      <td>1</td>\n",
       "      <td>2019</td>\n",
       "      <td>1</td>\n",
       "      <td>3</td>\n",
       "      <td>0</td>\n",
       "      <td>0</td>\n",
       "      <td>0</td>\n",
       "      <td>1</td>\n",
       "      <td>1</td>\n",
       "    </tr>\n",
       "    <tr>\n",
       "      <th>3</th>\n",
       "      <td>2019-01-04</td>\n",
       "      <td>2019</td>\n",
       "      <td>1</td>\n",
       "      <td>1</td>\n",
       "      <td>2019</td>\n",
       "      <td>1</td>\n",
       "      <td>4</td>\n",
       "      <td>1</td>\n",
       "      <td>0</td>\n",
       "      <td>0</td>\n",
       "      <td>1</td>\n",
       "      <td>1</td>\n",
       "    </tr>\n",
       "    <tr>\n",
       "      <th>4</th>\n",
       "      <td>2019-01-05</td>\n",
       "      <td>2019</td>\n",
       "      <td>1</td>\n",
       "      <td>1</td>\n",
       "      <td>2019</td>\n",
       "      <td>1</td>\n",
       "      <td>5</td>\n",
       "      <td>1</td>\n",
       "      <td>0</td>\n",
       "      <td>0</td>\n",
       "      <td>1</td>\n",
       "      <td>1</td>\n",
       "    </tr>\n",
       "  </tbody>\n",
       "</table>\n",
       "</div>"
      ],
      "text/plain": [
       "        date  year  month  week  adjusted_year  adjusted_month  \\\n",
       "0 2019-01-01  2019      1     1           2019               1   \n",
       "1 2019-01-02  2019      1     1           2019               1   \n",
       "2 2019-01-03  2019      1     1           2019               1   \n",
       "3 2019-01-04  2019      1     1           2019               1   \n",
       "4 2019-01-05  2019      1     1           2019               1   \n",
       "\n",
       "   day_of_the_week  is_weekend  is_month_start  is_month_end  quarter  key  \n",
       "0                1           0               1             0        1    1  \n",
       "1                2           0               0             0        1    1  \n",
       "2                3           0               0             0        1    1  \n",
       "3                4           1               0             0        1    1  \n",
       "4                5           1               0             0        1    1  "
      ]
     },
     "execution_count": 65,
     "metadata": {},
     "output_type": "execute_result"
    }
   ],
   "source": [
    "calender_df.head()"
   ]
  },
  {
   "cell_type": "code",
   "execution_count": 66,
   "metadata": {},
   "outputs": [],
   "source": [
    "# merging the calendar records\n",
    "calender_df = pd.merge(\n",
    "    calender_df, holidays_df[[\"date\", \"holiday\"]], how=\"left\", on=\"date\"\n",
    ")"
   ]
  },
  {
   "cell_type": "code",
   "execution_count": 67,
   "metadata": {},
   "outputs": [
    {
     "data": {
      "application/vnd.jupyter.widget-view+json": {
       "model_id": "964e146864c34ad9bdc991855c032f4a",
       "version_major": 2,
       "version_minor": 0
      },
      "text/plain": [
       "VBox(children=(HBox(children=(IntProgress(value=0, description='0.00%', max=153), Label(value='0 / 153'))), HB…"
      ]
     },
     "metadata": {},
     "output_type": "display_data"
    }
   ],
   "source": [
    "calender_df[\"holiday\"] = calender_df[\"holiday\"].parallel_apply(\n",
    "    lambda x: 1 if not pd.isnull(x) else 0.0\n",
    ")"
   ]
  },
  {
   "cell_type": "code",
   "execution_count": null,
   "metadata": {},
   "outputs": [],
   "source": [
    "def sin_transformer(period):\n",
    "    return lambda x: np.sin(x / period * 2 * np.pi)\n",
    "\n",
    "\n",
    "def cos_transformer(period):\n",
    "    return lambda x: np.cos(x / period * 2 * np.pi)"
   ]
  },
  {
   "cell_type": "code",
   "execution_count": 83,
   "metadata": {},
   "outputs": [],
   "source": [
    "calender_df[\"month_sin\"] = calender_df[\"month\"].apply(sin_transformer(12))\n",
    "calender_df[\"month_cos\"] = calender_df[\"month\"].apply(cos_transformer(12))\n",
    "\n",
    "calender_df[\"week_sin\"] = calender_df[\"week\"].apply(sin_transformer(52))\n",
    "calender_df[\"week_cos\"] = calender_df[\"week\"].apply(cos_transformer(52))\n",
    "\n",
    "calender_df[\"quarter_sin\"] = calender_df[\"quarter\"].apply(sin_transformer(4))\n",
    "calender_df[\"quarter_cos\"] = calender_df[\"quarter\"].apply(cos_transformer(4))"
   ]
  },
  {
   "cell_type": "code",
   "execution_count": 68,
   "metadata": {},
   "outputs": [],
   "source": [
    "# calender_df.loc[calender_df[\"holiday\"] == 1]"
   ]
  },
  {
   "cell_type": "code",
   "execution_count": 84,
   "metadata": {},
   "outputs": [
    {
     "data": {
      "text/html": [
       "<div>\n",
       "<style scoped>\n",
       "    .dataframe tbody tr th:only-of-type {\n",
       "        vertical-align: middle;\n",
       "    }\n",
       "\n",
       "    .dataframe tbody tr th {\n",
       "        vertical-align: top;\n",
       "    }\n",
       "\n",
       "    .dataframe thead th {\n",
       "        text-align: right;\n",
       "    }\n",
       "</style>\n",
       "<table border=\"1\" class=\"dataframe\">\n",
       "  <thead>\n",
       "    <tr style=\"text-align: right;\">\n",
       "      <th></th>\n",
       "      <th>date</th>\n",
       "      <th>year</th>\n",
       "      <th>month</th>\n",
       "      <th>week</th>\n",
       "      <th>adjusted_year</th>\n",
       "      <th>adjusted_month</th>\n",
       "      <th>day_of_the_week</th>\n",
       "      <th>is_weekend</th>\n",
       "      <th>is_month_start</th>\n",
       "      <th>is_month_end</th>\n",
       "      <th>quarter</th>\n",
       "      <th>key</th>\n",
       "      <th>holiday</th>\n",
       "      <th>month_sin</th>\n",
       "      <th>month_cos</th>\n",
       "      <th>week_sin</th>\n",
       "      <th>week_cos</th>\n",
       "      <th>quarter_sin</th>\n",
       "      <th>quarter_cos</th>\n",
       "    </tr>\n",
       "  </thead>\n",
       "  <tbody>\n",
       "    <tr>\n",
       "      <th>0</th>\n",
       "      <td>2019-01-01</td>\n",
       "      <td>2019</td>\n",
       "      <td>1</td>\n",
       "      <td>1</td>\n",
       "      <td>2019</td>\n",
       "      <td>1</td>\n",
       "      <td>1</td>\n",
       "      <td>0</td>\n",
       "      <td>1</td>\n",
       "      <td>0</td>\n",
       "      <td>1</td>\n",
       "      <td>1</td>\n",
       "      <td>1.0</td>\n",
       "      <td>0.5</td>\n",
       "      <td>0.866025</td>\n",
       "      <td>0.120537</td>\n",
       "      <td>0.992709</td>\n",
       "      <td>1.0</td>\n",
       "      <td>6.123234e-17</td>\n",
       "    </tr>\n",
       "    <tr>\n",
       "      <th>1</th>\n",
       "      <td>2019-01-02</td>\n",
       "      <td>2019</td>\n",
       "      <td>1</td>\n",
       "      <td>1</td>\n",
       "      <td>2019</td>\n",
       "      <td>1</td>\n",
       "      <td>2</td>\n",
       "      <td>0</td>\n",
       "      <td>0</td>\n",
       "      <td>0</td>\n",
       "      <td>1</td>\n",
       "      <td>1</td>\n",
       "      <td>0.0</td>\n",
       "      <td>0.5</td>\n",
       "      <td>0.866025</td>\n",
       "      <td>0.120537</td>\n",
       "      <td>0.992709</td>\n",
       "      <td>1.0</td>\n",
       "      <td>6.123234e-17</td>\n",
       "    </tr>\n",
       "    <tr>\n",
       "      <th>2</th>\n",
       "      <td>2019-01-03</td>\n",
       "      <td>2019</td>\n",
       "      <td>1</td>\n",
       "      <td>1</td>\n",
       "      <td>2019</td>\n",
       "      <td>1</td>\n",
       "      <td>3</td>\n",
       "      <td>0</td>\n",
       "      <td>0</td>\n",
       "      <td>0</td>\n",
       "      <td>1</td>\n",
       "      <td>1</td>\n",
       "      <td>0.0</td>\n",
       "      <td>0.5</td>\n",
       "      <td>0.866025</td>\n",
       "      <td>0.120537</td>\n",
       "      <td>0.992709</td>\n",
       "      <td>1.0</td>\n",
       "      <td>6.123234e-17</td>\n",
       "    </tr>\n",
       "  </tbody>\n",
       "</table>\n",
       "</div>"
      ],
      "text/plain": [
       "        date  year  month  week  adjusted_year  adjusted_month  \\\n",
       "0 2019-01-01  2019      1     1           2019               1   \n",
       "1 2019-01-02  2019      1     1           2019               1   \n",
       "2 2019-01-03  2019      1     1           2019               1   \n",
       "\n",
       "   day_of_the_week  is_weekend  is_month_start  is_month_end  quarter  key  \\\n",
       "0                1           0               1             0        1    1   \n",
       "1                2           0               0             0        1    1   \n",
       "2                3           0               0             0        1    1   \n",
       "\n",
       "   holiday  month_sin  month_cos  week_sin  week_cos  quarter_sin  \\\n",
       "0      1.0        0.5   0.866025  0.120537  0.992709          1.0   \n",
       "1      0.0        0.5   0.866025  0.120537  0.992709          1.0   \n",
       "2      0.0        0.5   0.866025  0.120537  0.992709          1.0   \n",
       "\n",
       "    quarter_cos  \n",
       "0  6.123234e-17  \n",
       "1  6.123234e-17  \n",
       "2  6.123234e-17  "
      ]
     },
     "execution_count": 84,
     "metadata": {},
     "output_type": "execute_result"
    }
   ],
   "source": [
    "calender_df.head(3)"
   ]
  },
  {
   "cell_type": "code",
   "execution_count": 70,
   "metadata": {},
   "outputs": [
    {
     "data": {
      "text/plain": [
       "1331"
      ]
     },
     "execution_count": 70,
     "metadata": {},
     "output_type": "execute_result"
    }
   ],
   "source": [
    "del volume_df\n",
    "gc.collect()"
   ]
  },
  {
   "cell_type": "code",
   "execution_count": 71,
   "metadata": {},
   "outputs": [
    {
     "data": {
      "text/plain": [
       "363"
      ]
     },
     "execution_count": 71,
     "metadata": {},
     "output_type": "execute_result"
    }
   ],
   "source": [
    "del id_life_df\n",
    "gc.collect()"
   ]
  },
  {
   "cell_type": "code",
   "execution_count": 164,
   "metadata": {},
   "outputs": [],
   "source": [
    "# From the volume data we will take out the ids and create id date mapping file"
   ]
  },
  {
   "cell_type": "code",
   "execution_count": 72,
   "metadata": {},
   "outputs": [],
   "source": [
    "id_life_df_new[\"key\"] = 1"
   ]
  },
  {
   "cell_type": "code",
   "execution_count": 73,
   "metadata": {},
   "outputs": [],
   "source": [
    "poc_ppg_cont_df = pd.merge(\n",
    "    id_life_df_new[[\"poc_ppg_id\", \"start_date_vol\", \"end_date_vol\", \"key\"]],\n",
    "    calender_df[[\"date\", \"key\"]],\n",
    "    on=\"key\",\n",
    ")"
   ]
  },
  {
   "cell_type": "code",
   "execution_count": 74,
   "metadata": {},
   "outputs": [
    {
     "data": {
      "text/html": [
       "<div>\n",
       "<style scoped>\n",
       "    .dataframe tbody tr th:only-of-type {\n",
       "        vertical-align: middle;\n",
       "    }\n",
       "\n",
       "    .dataframe tbody tr th {\n",
       "        vertical-align: top;\n",
       "    }\n",
       "\n",
       "    .dataframe thead th {\n",
       "        text-align: right;\n",
       "    }\n",
       "</style>\n",
       "<table border=\"1\" class=\"dataframe\">\n",
       "  <thead>\n",
       "    <tr style=\"text-align: right;\">\n",
       "      <th></th>\n",
       "      <th>poc_ppg_id</th>\n",
       "      <th>start_date_vol</th>\n",
       "      <th>end_date_vol</th>\n",
       "      <th>key</th>\n",
       "      <th>date</th>\n",
       "    </tr>\n",
       "  </thead>\n",
       "  <tbody>\n",
       "    <tr>\n",
       "      <th>0</th>\n",
       "      <td>AAAC__AR_EW_N_DS_CG_T</td>\n",
       "      <td>2019-03-12</td>\n",
       "      <td>2022-12-20</td>\n",
       "      <td>1</td>\n",
       "      <td>2019-01-01</td>\n",
       "    </tr>\n",
       "    <tr>\n",
       "      <th>1</th>\n",
       "      <td>AAAC__AR_EW_N_DS_CG_T</td>\n",
       "      <td>2019-03-12</td>\n",
       "      <td>2022-12-20</td>\n",
       "      <td>1</td>\n",
       "      <td>2019-01-02</td>\n",
       "    </tr>\n",
       "    <tr>\n",
       "      <th>2</th>\n",
       "      <td>AAAC__AR_EW_N_DS_CG_T</td>\n",
       "      <td>2019-03-12</td>\n",
       "      <td>2022-12-20</td>\n",
       "      <td>1</td>\n",
       "      <td>2019-01-03</td>\n",
       "    </tr>\n",
       "    <tr>\n",
       "      <th>3</th>\n",
       "      <td>AAAC__AR_EW_N_DS_CG_T</td>\n",
       "      <td>2019-03-12</td>\n",
       "      <td>2022-12-20</td>\n",
       "      <td>1</td>\n",
       "      <td>2019-01-04</td>\n",
       "    </tr>\n",
       "    <tr>\n",
       "      <th>4</th>\n",
       "      <td>AAAC__AR_EW_N_DS_CG_T</td>\n",
       "      <td>2019-03-12</td>\n",
       "      <td>2022-12-20</td>\n",
       "      <td>1</td>\n",
       "      <td>2019-01-05</td>\n",
       "    </tr>\n",
       "  </tbody>\n",
       "</table>\n",
       "</div>"
      ],
      "text/plain": [
       "              poc_ppg_id start_date_vol end_date_vol  key       date\n",
       "0  AAAC__AR_EW_N_DS_CG_T     2019-03-12   2022-12-20    1 2019-01-01\n",
       "1  AAAC__AR_EW_N_DS_CG_T     2019-03-12   2022-12-20    1 2019-01-02\n",
       "2  AAAC__AR_EW_N_DS_CG_T     2019-03-12   2022-12-20    1 2019-01-03\n",
       "3  AAAC__AR_EW_N_DS_CG_T     2019-03-12   2022-12-20    1 2019-01-04\n",
       "4  AAAC__AR_EW_N_DS_CG_T     2019-03-12   2022-12-20    1 2019-01-05"
      ]
     },
     "execution_count": 74,
     "metadata": {},
     "output_type": "execute_result"
    }
   ],
   "source": [
    "poc_ppg_cont_df.head()"
   ]
  },
  {
   "cell_type": "code",
   "execution_count": 75,
   "metadata": {},
   "outputs": [],
   "source": [
    "poc_ppg_cont_df = poc_ppg_cont_df.loc[\n",
    "    poc_ppg_cont_df[\"date\"] >= poc_ppg_cont_df[\"start_date_vol\"]\n",
    "].reset_index(drop=True)"
   ]
  },
  {
   "cell_type": "code",
   "execution_count": 76,
   "metadata": {},
   "outputs": [
    {
     "data": {
      "text/plain": [
       "(652325774, 5)"
      ]
     },
     "execution_count": 76,
     "metadata": {},
     "output_type": "execute_result"
    }
   ],
   "source": [
    "poc_ppg_cont_df.shape"
   ]
  },
  {
   "cell_type": "code",
   "execution_count": 77,
   "metadata": {},
   "outputs": [],
   "source": [
    "poc_ppg_cont_df = poc_ppg_cont_df.sort_values(\n",
    "    [\"poc_ppg_id\", \"date\"], ascending=[True, True]\n",
    ").reset_index(drop=True)"
   ]
  },
  {
   "cell_type": "code",
   "execution_count": 78,
   "metadata": {},
   "outputs": [
    {
     "data": {
      "text/plain": [
       "<Axes: >"
      ]
     },
     "execution_count": 78,
     "metadata": {},
     "output_type": "execute_result"
    },
    {
     "data": {
      "image/png": "[encoded data removed]",
      "text/plain": [
       "<Figure size 432x288 with 1 Axes>"
      ]
     },
     "metadata": {
      "needs_background": "light"
     },
     "output_type": "display_data"
    }
   ],
   "source": [
    "id_life_df_new[\"unique_selling_days\"].hist()"
   ]
  },
  {
   "cell_type": "code",
   "execution_count": 79,
   "metadata": {},
   "outputs": [
    {
     "data": {
      "text/plain": [
       "415446    OSI__CJ_CZ_CG_EH\n",
       "Name: poc_ppg_id, dtype: object"
      ]
     },
     "execution_count": 79,
     "metadata": {},
     "output_type": "execute_result"
    }
   ],
   "source": [
    "id_life_df_new.loc[id_life_df_new[\"unique_selling_days\"] == 271, \"poc_ppg_id\"]"
   ]
  },
  {
   "cell_type": "code",
   "execution_count": null,
   "metadata": {},
   "outputs": [],
   "source": []
  },
  {
   "cell_type": "code",
   "execution_count": null,
   "metadata": {},
   "outputs": [],
   "source": []
  },
  {
   "cell_type": "markdown",
   "metadata": {},
   "source": [
    "###########################-----------------------------------------------##############################################"
   ]
  }
 ],
 "metadata": {
  "kernelspec": {
   "display_name": "torch_env",
   "language": "python",
   "name": "torch_env"
  },
  "language_info": {
   "codemirror_mode": {
    "name": "ipython",
    "version": 3
   },
   "file_extension": ".py",
   "mimetype": "text/x-python",
   "name": "python",
   "nbconvert_exporter": "python",
   "pygments_lexer": "ipython3",
   "version": "3.10.14"
  }
 },
 "nbformat": 4,
 "nbformat_minor": 2
}
