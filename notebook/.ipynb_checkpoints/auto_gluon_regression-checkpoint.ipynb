{
 "cells": [
  {
   "cell_type": "code",
   "execution_count": 2,
   "id": "1b8deae0",
   "metadata": {},
   "outputs": [
    {
     "data": {
      "application/javascript": [
       "IPython.notebook.set_autosave_interval(300000)"
      ]
     },
     "metadata": {},
     "output_type": "display_data"
    },
    {
     "name": "stdout",
     "output_type": "stream",
     "text": [
      "Autosaving every 300 seconds\n"
     ]
    }
   ],
   "source": [
    "%autosave 300\n",
    "%reload_ext autoreload\n",
    "%autoreload 2\n",
    "%config Completer.use_jedi = False"
   ]
  },
  {
   "cell_type": "code",
   "execution_count": 3,
   "id": "d7cb2666",
   "metadata": {},
   "outputs": [
    {
     "name": "stdout",
     "output_type": "stream",
     "text": [
      "/mnt/batch/tasks/shared/LS_root/mounts/clusters/copilot-model-run/code/Users/Soutrik.Chowdhury/abi_hackathon_2k24\n"
     ]
    }
   ],
   "source": [
    "import os\n",
    "\n",
    "os.chdir(\n",
    "    r\"/mnt/batch/tasks/shared/LS_root/mounts/clusters/copilot-model-run/code/Users/Soutrik.Chowdhury/abi_hackathon_2k24\"\n",
    ")\n",
    "print(os.getcwd())"
   ]
  },
  {
   "cell_type": "code",
   "execution_count": 4,
   "id": "6964d59b",
   "metadata": {},
   "outputs": [],
   "source": [
    "import pandas as pd\n",
    "import numpy as np\n",
    "import matplotlib.pyplot as plt\n",
    "import seaborn as sns\n",
    "\n",
    "pd.set_option(\"display.max_columns\", None)\n",
    "pd.set_option(\"display.max_rows\", None)\n",
    "pd.set_option(\"display.max_colwidth\", None)\n",
    "pd.set_option(\"display.width\", None)\n",
    "from pandarallel import pandarallel\n",
    "import re\n",
    "from datetime import datetime\n",
    "import gc\n",
    "from sklearn.preprocessing import FunctionTransformer\n",
    "\n",
    "# from helpers.compress import reduce_mem_usage\n",
    "import pickle\n",
    "import warnings\n",
    "from autogluon.timeseries import TimeSeriesDataFrame, TimeSeriesPredictor\n",
    "warnings.filterwarnings(\"ignore\")"
   ]
  },
  {
   "cell_type": "code",
   "execution_count": 5,
   "id": "9b14ff8c",
   "metadata": {},
   "outputs": [],
   "source": [
    "data_folder = \"data\"\n",
    "macro_data_folder = \"macro_data\"\n",
    "processed_data_folder = \"processed_data_S2\"\n",
    "processed_macro = \"macro_processed\"\n",
    "fe_data = \"feature_engineered_data\""
   ]
  },
  {
   "cell_type": "code",
   "execution_count": null,
   "id": "a8a92bbb",
   "metadata": {},
   "outputs": [],
   "source": [
    "volume_monthly_df_best = pd.read_pickle(\n",
    "    os.path.join(\n",
    "        os.getcwd(), processed_data_folder, \"submission_id_vol_cluster_monthly_df_all_feats.pkl\"\n",
    "    )\n",
    ")"
   ]
  },
  {
   "cell_type": "code",
   "execution_count": null,
   "id": "9bea9cd0",
   "metadata": {},
   "outputs": [],
   "source": [
    "submission_df = pd.read_csv(\n",
    "    os.path.join(\n",
    "        os.getcwd(), data_folder, \"sample_submission_file.csv\"\n",
    "    )\n",
    ")"
   ]
  },
  {
   "cell_type": "code",
   "execution_count": null,
   "id": "63c94d9c",
   "metadata": {},
   "outputs": [],
   "source": [
    "test_cut_date = \"2023-01-01\"\n",
    "full_train_df = volume_monthly_df_best.loc[volume_monthly_df_best['year_month_start_date']<test_cut_date].reset_index(drop=True)\n",
    "test_df =  volume_monthly_df_best.loc[volume_monthly_df_best['year_month_start_date']>=test_cut_date].reset_index(drop=True)"
   ]
  },
  {
   "cell_type": "code",
   "execution_count": null,
   "id": "8319dd3c",
   "metadata": {},
   "outputs": [],
   "source": [
    "full_train_df.shape"
   ]
  },
  {
   "cell_type": "code",
   "execution_count": null,
   "id": "84c428e7",
   "metadata": {},
   "outputs": [],
   "source": [
    "test_df.shape"
   ]
  },
  {
   "cell_type": "code",
   "execution_count": null,
   "id": "dff9d282",
   "metadata": {},
   "outputs": [],
   "source": [
    "# test_df['poc_ppg_id'].nunique() *12"
   ]
  },
  {
   "cell_type": "code",
   "execution_count": null,
   "id": "5f4b037b",
   "metadata": {},
   "outputs": [],
   "source": [
    "val_date = \"2022-07-01\"\n",
    "train_df = full_train_df.loc[full_train_df['year_month_start_date']<val_date].reset_index(drop=True)\n",
    "val_df = full_train_df.loc[full_train_df['year_month_start_date']>=val_date].reset_index(drop=True)"
   ]
  },
  {
   "cell_type": "code",
   "execution_count": null,
   "id": "184f2aad",
   "metadata": {},
   "outputs": [],
   "source": [
    "from autogluon.tabular import TabularDataset, TabularPredictor\n",
    "from autogluon.common import space"
   ]
  },
  {
   "cell_type": "code",
   "execution_count": null,
   "id": "efc1d067",
   "metadata": {},
   "outputs": [],
   "source": [
    "label = 'sales_volume_hl_agg'"
   ]
  },
  {
   "cell_type": "code",
   "execution_count": null,
   "id": "aac1a98b",
   "metadata": {},
   "outputs": [],
   "source": [
    "y_val = val_df[label]\n",
    "val_df_nolabel = val_df.drop(columns=[label])"
   ]
  },
  {
   "cell_type": "code",
   "execution_count": null,
   "id": "b6c6e5b3",
   "metadata": {},
   "outputs": [],
   "source": [
    "metric='smape'"
   ]
  },
  {
   "cell_type": "code",
   "execution_count": null,
   "id": "925217fc",
   "metadata": {},
   "outputs": [],
   "source": [
    "# GBM,XGB"
   ]
  },
  {
   "cell_type": "code",
   "execution_count": null,
   "id": "372ce617",
   "metadata": {},
   "outputs": [],
   "source": [
    "gbm_options = {  # specifies non-default hyperparameter values for lightGBM gradient boosted trees\n",
    "    'num_boost_round': space.Int(lower=100, upper=1000, default=200), \n",
    "    'num_leaves': space.Int(lower=26, upper=66, default=36),\n",
    "    'learning_rate' : space.Real(0.01, 0.1, log=True)\n",
    "\n",
    "}\n",
    "xgb_options = {  # specifies non-default hyperparameter values for lightGBM gradient boosted trees\n",
    "    'max_depth': space.Int(lower=6, upper=15, default=10),\n",
    "    'eta' : space.Real(0.01, 0.5, log=True)\n",
    "}\n",
    "xt_options = {  # specifies non-default hyperparameter values for neural network models\n",
    "    'min_samples_split': space.Int(lower=2, upper=8, default=5), \n",
    "    'n_estimators': space.Int(lower=100, upper=300, default=100),\n",
    "}"
   ]
  },
  {
   "cell_type": "code",
   "execution_count": null,
   "id": "c95fa80b",
   "metadata": {},
   "outputs": [],
   "source": [
    "hyperparameters = {  # hyperparameters of each model type\n",
    "                   'GBM': gbm_options,\n",
    "                   'XGB': xgb_options, \n",
    "                    \"XT\":{}\n",
    "                  }  \n",
    "num_trials = 15  # try at most 5 different hyperparameter configurations for each type of model\n",
    "search_strategy = 'auto'  # to tune hyperparameters using random search routine with a local scheduler\n",
    "\n",
    "hyperparameter_tune_kwargs = {  # HPO is not performed unless hyperparameter_tune_kwargs is specified\n",
    "    'num_trials': num_trials,\n",
    "    'scheduler' : 'local',\n",
    "    'searcher': search_strategy,\n",
    "}  # Refer to TabularPredictor.fit docstring for all valid values\n",
    "\n",
    "predictor = TabularPredictor(label=label, eval_metric=metric).fit(\n",
    "    full_train_df,\n",
    "    hyperparameters=hyperparameters,\n",
    "    hyperparameter_tune_kwargs=hyperparameter_tune_kwargs, \n",
    "#     presets=\"high_quality\",\n",
    "#     refit_full=True\n",
    "\n",
    ")"
   ]
  },
  {
   "cell_type": "code",
   "execution_count": null,
   "id": "a6388dfd",
   "metadata": {},
   "outputs": [],
   "source": [
    "# predictor = TabularPredictor.load('AutogluonModels/ag-20240719_063409')"
   ]
  },
  {
   "cell_type": "code",
   "execution_count": null,
   "id": "a05c5e46",
   "metadata": {},
   "outputs": [],
   "source": [
    "y_pred = predictor.predict(val_df_nolabel)\n",
    "print(\"Predictions:  \", list(y_pred)[:5])\n",
    "perf = predictor.evaluate(val_df, auxiliary_metrics=False)"
   ]
  },
  {
   "cell_type": "code",
   "execution_count": null,
   "id": "58fe3d92",
   "metadata": {},
   "outputs": [],
   "source": [
    "predictor.leaderboard(val_df)"
   ]
  },
  {
   "cell_type": "code",
   "execution_count": null,
   "id": "1cbca8cd",
   "metadata": {},
   "outputs": [],
   "source": [
    "results = predictor.fit_summary()"
   ]
  },
  {
   "cell_type": "code",
   "execution_count": null,
   "id": "66af84c3",
   "metadata": {},
   "outputs": [],
   "source": [
    "predictor.evaluate(val_df)"
   ]
  },
  {
   "cell_type": "code",
   "execution_count": null,
   "id": "cde148a4",
   "metadata": {},
   "outputs": [],
   "source": [
    "predictor.feature_importance(test_data)"
   ]
  },
  {
   "cell_type": "markdown",
   "id": "2738d888",
   "metadata": {},
   "source": [
    "###### Predictions"
   ]
  },
  {
   "cell_type": "code",
   "execution_count": null,
   "id": "6e6c8c3d",
   "metadata": {},
   "outputs": [],
   "source": [
    "test_df_id = test_df[['ppg_name','unique_poc_id','year','month','quarter']]"
   ]
  },
  {
   "cell_type": "code",
   "execution_count": null,
   "id": "ab60fc33",
   "metadata": {},
   "outputs": [],
   "source": [
    "y_pred_test = predictor.predict(test_df)"
   ]
  },
  {
   "cell_type": "code",
   "execution_count": null,
   "id": "bd7fdaeb",
   "metadata": {},
   "outputs": [],
   "source": [
    "test_df_id['quarterly_sales_hl'] = y_pred_test"
   ]
  },
  {
   "cell_type": "code",
   "execution_count": null,
   "id": "697616f2",
   "metadata": {},
   "outputs": [],
   "source": [
    "test_df_id['quarterly_sales_hl'].mean()"
   ]
  },
  {
   "cell_type": "code",
   "execution_count": null,
   "id": "ba8d4955",
   "metadata": {},
   "outputs": [],
   "source": [
    "test_df_id.head()"
   ]
  },
  {
   "cell_type": "code",
   "execution_count": null,
   "id": "3ef5999a",
   "metadata": {},
   "outputs": [],
   "source": [
    "test_df_id = test_df_id.groupby(['ppg_name','unique_poc_id','year','quarter','month'],as_index=False).agg({\"quarterly_sales_hl\":\"mean\"})"
   ]
  },
  {
   "cell_type": "code",
   "execution_count": null,
   "id": "2084d580",
   "metadata": {},
   "outputs": [],
   "source": [
    "test_df_id['quarterly_sales_hl'].mean()"
   ]
  },
  {
   "cell_type": "code",
   "execution_count": null,
   "id": "4ec0ab7c",
   "metadata": {},
   "outputs": [],
   "source": [
    "test_df_id_qrtr = test_df_id.groupby(['ppg_name','unique_poc_id','year','quarter'],\n",
    "                                     as_index=False).agg({\"quarterly_sales_hl\":\"sum\"})"
   ]
  },
  {
   "cell_type": "code",
   "execution_count": null,
   "id": "ddc0f36c",
   "metadata": {},
   "outputs": [],
   "source": [
    "test_df_id_qrtr.shape"
   ]
  },
  {
   "cell_type": "code",
   "execution_count": null,
   "id": "27d831cc",
   "metadata": {},
   "outputs": [],
   "source": [
    "# submission_df = submission_df.drop(['quarterly_sales_hl'],axis=1) "
   ]
  },
  {
   "cell_type": "code",
   "execution_count": null,
   "id": "e927c4c8",
   "metadata": {},
   "outputs": [],
   "source": [
    "submission_df_merge = pd.merge(submission_df,test_df_id_qrtr,\n",
    "                               on=[\"ppg_name\",\"unique_poc_id\",\"year\",\"quarter\"],\n",
    "                              how='left')"
   ]
  },
  {
   "cell_type": "code",
   "execution_count": null,
   "id": "21e71ff9",
   "metadata": {},
   "outputs": [],
   "source": [
    "submission_df_merge.isnull().sum()"
   ]
  },
  {
   "cell_type": "code",
   "execution_count": null,
   "id": "fd7544ba",
   "metadata": {},
   "outputs": [],
   "source": [
    "submission_df_merge['quarterly_sales_hl'].sum()"
   ]
  },
  {
   "cell_type": "code",
   "execution_count": 59,
   "id": "89bbcba2",
   "metadata": {},
   "outputs": [],
   "source": [
    "iter_name = 2\n",
    "os.makedirs(os.path.join(os.getcwd(),\"sample_submissions\"))\n",
    "submission_df_merge.to_csv(os.path.join(os.getcwd(),\"sample_submissions\",f'Submission_{iter_name}.csv'),index=False)"
   ]
  },
  {
   "cell_type": "code",
   "execution_count": null,
   "id": "9db5408e",
   "metadata": {},
   "outputs": [],
   "source": []
  }
 ],
 "metadata": {
  "kernelspec": {
   "display_name": "torch_env",
   "language": "python",
   "name": "torch_env"
  },
  "language_info": {
   "codemirror_mode": {
    "name": "ipython",
    "version": 3
   },
   "file_extension": ".py",
   "mimetype": "text/x-python",
   "name": "python",
   "nbconvert_exporter": "python",
   "pygments_lexer": "ipython3",
   "version": "3.10.14"
  }
 },
 "nbformat": 4,
 "nbformat_minor": 5
}
