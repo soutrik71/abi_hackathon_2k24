{
 "cells": [
  {
   "cell_type": "code",
   "execution_count": 24,
   "id": "3852f246",
   "metadata": {},
   "outputs": [
    {
     "data": {
      "application/javascript": [
       "IPython.notebook.set_autosave_interval(300000)"
      ]
     },
     "metadata": {},
     "output_type": "display_data"
    },
    {
     "name": "stdout",
     "output_type": "stream",
     "text": [
      "Autosaving every 300 seconds\n"
     ]
    }
   ],
   "source": [
    "%autosave 300\n",
    "%reload_ext autoreload\n",
    "%autoreload 2\n",
    "%config Completer.use_jedi = False"
   ]
  },
  {
   "cell_type": "code",
   "execution_count": 25,
   "id": "9be55db8",
   "metadata": {},
   "outputs": [
    {
     "name": "stdout",
     "output_type": "stream",
     "text": [
      "/mnt/batch/tasks/shared/LS_root/mounts/clusters/copilot-model-run/code/Users/Soutrik.Chowdhury/abi_hackathon_2k24\n"
     ]
    }
   ],
   "source": [
    "import os\n",
    "\n",
    "os.chdir(\n",
    "    r\"/mnt/batch/tasks/shared/LS_root/mounts/clusters/copilot-model-run/code/Users/Soutrik.Chowdhury/abi_hackathon_2k24\"\n",
    ")\n",
    "print(os.getcwd())"
   ]
  },
  {
   "cell_type": "code",
   "execution_count": 26,
   "id": "0af385fd",
   "metadata": {},
   "outputs": [],
   "source": [
    "import pandas as pd\n",
    "import numpy as np\n",
    "import matplotlib.pyplot as plt\n",
    "import seaborn as sns\n",
    "\n",
    "pd.set_option(\"display.max_columns\", None)\n",
    "pd.set_option(\"display.max_rows\", None)\n",
    "pd.set_option(\"display.max_colwidth\", None)\n",
    "pd.set_option(\"display.width\", None)\n",
    "from pandarallel import pandarallel\n",
    "import re\n",
    "from datetime import datetime\n",
    "import gc\n",
    "from sklearn.preprocessing import FunctionTransformer\n",
    "\n",
    "# from helpers.compress import reduce_mem_usage\n",
    "import pickle\n",
    "import warnings\n",
    "from autogluon.timeseries import TimeSeriesDataFrame, TimeSeriesPredictor\n",
    "warnings.filterwarnings(\"ignore\")"
   ]
  },
  {
   "cell_type": "code",
   "execution_count": 27,
   "id": "bbbf67ee",
   "metadata": {},
   "outputs": [],
   "source": [
    "data_folder = \"data\"\n",
    "macro_data_folder = \"macro_data\"\n",
    "processed_data_folder = \"processed_data_S2\"\n",
    "processed_macro = \"macro_processed\"\n",
    "fe_data = \"feature_engineered_data\""
   ]
  },
  {
   "cell_type": "code",
   "execution_count": 28,
   "id": "9db70d97",
   "metadata": {},
   "outputs": [],
   "source": [
    "volume_monthly_df_best = pd.read_pickle(\n",
    "    os.path.join(\n",
    "        os.getcwd(), processed_data_folder, \"submission_id_vol_cluster_monthly_df.pkl\"\n",
    "    )\n",
    ")"
   ]
  },
  {
   "cell_type": "code",
   "execution_count": 29,
   "id": "9faeb2e6",
   "metadata": {},
   "outputs": [
    {
     "data": {
      "text/html": [
       "<div>\n",
       "<style scoped>\n",
       "    .dataframe tbody tr th:only-of-type {\n",
       "        vertical-align: middle;\n",
       "    }\n",
       "\n",
       "    .dataframe tbody tr th {\n",
       "        vertical-align: top;\n",
       "    }\n",
       "\n",
       "    .dataframe thead th {\n",
       "        text-align: right;\n",
       "    }\n",
       "</style>\n",
       "<table border=\"1\" class=\"dataframe\">\n",
       "  <thead>\n",
       "    <tr style=\"text-align: right;\">\n",
       "      <th></th>\n",
       "      <th>poc_ppg_id</th>\n",
       "      <th>ppg_name</th>\n",
       "      <th>unique_poc_id</th>\n",
       "      <th>year</th>\n",
       "      <th>month</th>\n",
       "      <th>sales_volume_hl_agg</th>\n",
       "      <th>year_month_start_date</th>\n",
       "      <th>sample_submission_flag</th>\n",
       "      <th>id_life_flag</th>\n",
       "      <th>poc_ppg_cluster</th>\n",
       "    </tr>\n",
       "  </thead>\n",
       "  <tbody>\n",
       "    <tr>\n",
       "      <th>0</th>\n",
       "      <td>AAAC__CJ_C_FN_M</td>\n",
       "      <td>CJ C FN M</td>\n",
       "      <td>AAAC</td>\n",
       "      <td>2021</td>\n",
       "      <td>9</td>\n",
       "      <td>2.657029</td>\n",
       "      <td>2021-09-01</td>\n",
       "      <td>1.0</td>\n",
       "      <td>1.0</td>\n",
       "      <td>1_1</td>\n",
       "    </tr>\n",
       "    <tr>\n",
       "      <th>1</th>\n",
       "      <td>AAAC__CJ_C_FN_M</td>\n",
       "      <td>CJ C FN M</td>\n",
       "      <td>AAAC</td>\n",
       "      <td>2021</td>\n",
       "      <td>10</td>\n",
       "      <td>1.635095</td>\n",
       "      <td>2021-10-01</td>\n",
       "      <td>1.0</td>\n",
       "      <td>1.0</td>\n",
       "      <td>1_1</td>\n",
       "    </tr>\n",
       "    <tr>\n",
       "      <th>2</th>\n",
       "      <td>AAAC__CJ_C_FN_M</td>\n",
       "      <td>CJ C FN M</td>\n",
       "      <td>AAAC</td>\n",
       "      <td>2021</td>\n",
       "      <td>11</td>\n",
       "      <td>5.477568</td>\n",
       "      <td>2021-11-01</td>\n",
       "      <td>1.0</td>\n",
       "      <td>1.0</td>\n",
       "      <td>1_1</td>\n",
       "    </tr>\n",
       "    <tr>\n",
       "      <th>3</th>\n",
       "      <td>AAAC__CJ_C_FN_M</td>\n",
       "      <td>CJ C FN M</td>\n",
       "      <td>AAAC</td>\n",
       "      <td>2021</td>\n",
       "      <td>12</td>\n",
       "      <td>4.905285</td>\n",
       "      <td>2021-12-01</td>\n",
       "      <td>1.0</td>\n",
       "      <td>1.0</td>\n",
       "      <td>1_1</td>\n",
       "    </tr>\n",
       "    <tr>\n",
       "      <th>4</th>\n",
       "      <td>AAAC__CJ_C_FN_M</td>\n",
       "      <td>CJ C FN M</td>\n",
       "      <td>AAAC</td>\n",
       "      <td>2022</td>\n",
       "      <td>1</td>\n",
       "      <td>0.613161</td>\n",
       "      <td>2022-01-01</td>\n",
       "      <td>1.0</td>\n",
       "      <td>1.0</td>\n",
       "      <td>1_1</td>\n",
       "    </tr>\n",
       "  </tbody>\n",
       "</table>\n",
       "</div>"
      ],
      "text/plain": [
       "        poc_ppg_id   ppg_name unique_poc_id  year  month  sales_volume_hl_agg  \\\n",
       "0  AAAC__CJ_C_FN_M  CJ C FN M          AAAC  2021      9             2.657029   \n",
       "1  AAAC__CJ_C_FN_M  CJ C FN M          AAAC  2021     10             1.635095   \n",
       "2  AAAC__CJ_C_FN_M  CJ C FN M          AAAC  2021     11             5.477568   \n",
       "3  AAAC__CJ_C_FN_M  CJ C FN M          AAAC  2021     12             4.905285   \n",
       "4  AAAC__CJ_C_FN_M  CJ C FN M          AAAC  2022      1             0.613161   \n",
       "\n",
       "  year_month_start_date  sample_submission_flag  id_life_flag poc_ppg_cluster  \n",
       "0            2021-09-01                     1.0           1.0             1_1  \n",
       "1            2021-10-01                     1.0           1.0             1_1  \n",
       "2            2021-11-01                     1.0           1.0             1_1  \n",
       "3            2021-12-01                     1.0           1.0             1_1  \n",
       "4            2022-01-01                     1.0           1.0             1_1  "
      ]
     },
     "execution_count": 29,
     "metadata": {},
     "output_type": "execute_result"
    }
   ],
   "source": [
    "volume_monthly_df_best.head()"
   ]
  },
  {
   "cell_type": "code",
   "execution_count": 30,
   "id": "cbaf6668",
   "metadata": {},
   "outputs": [],
   "source": [
    "test_cut_date = \"2023-01-01\"\n",
    "full_train_df = volume_monthly_df_best.loc[volume_monthly_df_best['year_month_start_date']<test_cut_date].reset_index(drop=True)\n",
    "test_df =  volume_monthly_df_best.loc[volume_monthly_df_best['year_month_start_date']>=test_cut_date].reset_index(drop=True)"
   ]
  },
  {
   "cell_type": "code",
   "execution_count": 31,
   "id": "8227204f",
   "metadata": {},
   "outputs": [],
   "source": [
    "id_life = full_train_df.groupby(['poc_ppg_id'],as_index=False).agg({\"year_month_start_date\":'count'})"
   ]
  },
  {
   "cell_type": "code",
   "execution_count": 32,
   "id": "022980f7",
   "metadata": {},
   "outputs": [],
   "source": [
    "id_life = id_life.sort_values(['year_month_start_date'],ascending=False).reset_index(drop=True)"
   ]
  },
  {
   "cell_type": "code",
   "execution_count": 33,
   "id": "b20ed010",
   "metadata": {},
   "outputs": [
    {
     "data": {
      "text/plain": [
       "['NA1__DG_CF_AF_CG_EH',\n",
       " 'NA1__CJ_CZ_CG_EH',\n",
       " 'BDMU__DG_CF_AF_CG_EH',\n",
       " 'BJBP__DG_CF_AF_CG_EH',\n",
       " 'BJAZ__CJ_DM_W_CG_T',\n",
       " 'BJAZ__DG_CF_AF_CG_EH',\n",
       " 'BJBA__CJ_CZ_CG_EH',\n",
       " 'BJBA__DG_CF_AF_CG_EH',\n",
       " 'BJBJ__DG_CF_AF_CG_EH',\n",
       " 'BJBM__ET_ES_CV',\n",
       " 'YHX__AR_EW_FM_DU_FN_DY',\n",
       " 'BJAQ__DG_CF_AF_CG_EH',\n",
       " 'BJBQ__DI_BV_FU_CE_BZ_ES_DP',\n",
       " 'BJBQ__DI_BV_FU_CE_BZ_FN_DY',\n",
       " 'BJBQ__ET_ES_CV',\n",
       " 'BJBV__CJ_CZ_CG_EH',\n",
       " 'BJBV__DG_CF_AF_CG_EH',\n",
       " 'BJAZ__CJ_CZ_CG_EH',\n",
       " 'BJAQ__CJ_CZ_CG_EH',\n",
       " 'BJBW__DG_CF_AF_CG_EH']"
      ]
     },
     "execution_count": 33,
     "metadata": {},
     "output_type": "execute_result"
    }
   ],
   "source": [
    "id_life.head(20)['poc_ppg_id'].unique().tolist()"
   ]
  },
  {
   "cell_type": "code",
   "execution_count": 34,
   "id": "9a605d22",
   "metadata": {},
   "outputs": [
    {
     "data": {
      "text/plain": [
       "46119"
      ]
     },
     "execution_count": 34,
     "metadata": {},
     "output_type": "execute_result"
    }
   ],
   "source": [
    "legit_ids = id_life.loc[id_life['year_month_start_date']>=12]['poc_ppg_id'].unique().tolist()\n",
    "len(legit_ids)"
   ]
  },
  {
   "cell_type": "code",
   "execution_count": 35,
   "id": "84b4c403",
   "metadata": {},
   "outputs": [],
   "source": [
    "temp1_df = full_train_df.loc[full_train_df['poc_ppg_id']==\"NA1__DG_CF_AF_CG_EH\"].reset_index(drop=True)"
   ]
  },
  {
   "cell_type": "code",
   "execution_count": 36,
   "id": "8cc0972f",
   "metadata": {},
   "outputs": [
    {
     "data": {
      "text/html": [
       "<div>\n",
       "<style scoped>\n",
       "    .dataframe tbody tr th:only-of-type {\n",
       "        vertical-align: middle;\n",
       "    }\n",
       "\n",
       "    .dataframe tbody tr th {\n",
       "        vertical-align: top;\n",
       "    }\n",
       "\n",
       "    .dataframe thead th {\n",
       "        text-align: right;\n",
       "    }\n",
       "</style>\n",
       "<table border=\"1\" class=\"dataframe\">\n",
       "  <thead>\n",
       "    <tr style=\"text-align: right;\">\n",
       "      <th></th>\n",
       "      <th>poc_ppg_id</th>\n",
       "      <th>ppg_name</th>\n",
       "      <th>unique_poc_id</th>\n",
       "      <th>year</th>\n",
       "      <th>month</th>\n",
       "      <th>sales_volume_hl_agg</th>\n",
       "      <th>year_month_start_date</th>\n",
       "      <th>sample_submission_flag</th>\n",
       "      <th>id_life_flag</th>\n",
       "      <th>poc_ppg_cluster</th>\n",
       "    </tr>\n",
       "  </thead>\n",
       "  <tbody>\n",
       "    <tr>\n",
       "      <th>0</th>\n",
       "      <td>NA1__DG_CF_AF_CG_EH</td>\n",
       "      <td>DG CF AF CG EH</td>\n",
       "      <td>NA1</td>\n",
       "      <td>2019</td>\n",
       "      <td>1</td>\n",
       "      <td>0.373878</td>\n",
       "      <td>2019-01-01</td>\n",
       "      <td>0.0</td>\n",
       "      <td>0.0</td>\n",
       "      <td>0_1</td>\n",
       "    </tr>\n",
       "    <tr>\n",
       "      <th>1</th>\n",
       "      <td>NA1__DG_CF_AF_CG_EH</td>\n",
       "      <td>DG CF AF CG EH</td>\n",
       "      <td>NA1</td>\n",
       "      <td>2019</td>\n",
       "      <td>1</td>\n",
       "      <td>0.638206</td>\n",
       "      <td>2019-01-01</td>\n",
       "      <td>0.0</td>\n",
       "      <td>0.0</td>\n",
       "      <td>0_1</td>\n",
       "    </tr>\n",
       "    <tr>\n",
       "      <th>2</th>\n",
       "      <td>NA1__DG_CF_AF_CG_EH</td>\n",
       "      <td>DG CF AF CG EH</td>\n",
       "      <td>NA1</td>\n",
       "      <td>2019</td>\n",
       "      <td>2</td>\n",
       "      <td>0.411266</td>\n",
       "      <td>2019-02-01</td>\n",
       "      <td>0.0</td>\n",
       "      <td>0.0</td>\n",
       "      <td>0_1</td>\n",
       "    </tr>\n",
       "    <tr>\n",
       "      <th>3</th>\n",
       "      <td>NA1__DG_CF_AF_CG_EH</td>\n",
       "      <td>DG CF AF CG EH</td>\n",
       "      <td>NA1</td>\n",
       "      <td>2019</td>\n",
       "      <td>2</td>\n",
       "      <td>0.534693</td>\n",
       "      <td>2019-02-01</td>\n",
       "      <td>0.0</td>\n",
       "      <td>0.0</td>\n",
       "      <td>0_1</td>\n",
       "    </tr>\n",
       "    <tr>\n",
       "      <th>4</th>\n",
       "      <td>NA1__DG_CF_AF_CG_EH</td>\n",
       "      <td>DG CF AF CG EH</td>\n",
       "      <td>NA1</td>\n",
       "      <td>2019</td>\n",
       "      <td>3</td>\n",
       "      <td>0.336491</td>\n",
       "      <td>2019-03-01</td>\n",
       "      <td>0.0</td>\n",
       "      <td>0.0</td>\n",
       "      <td>0_1</td>\n",
       "    </tr>\n",
       "  </tbody>\n",
       "</table>\n",
       "</div>"
      ],
      "text/plain": [
       "            poc_ppg_id        ppg_name unique_poc_id  year  month  \\\n",
       "0  NA1__DG_CF_AF_CG_EH  DG CF AF CG EH           NA1  2019      1   \n",
       "1  NA1__DG_CF_AF_CG_EH  DG CF AF CG EH           NA1  2019      1   \n",
       "2  NA1__DG_CF_AF_CG_EH  DG CF AF CG EH           NA1  2019      2   \n",
       "3  NA1__DG_CF_AF_CG_EH  DG CF AF CG EH           NA1  2019      2   \n",
       "4  NA1__DG_CF_AF_CG_EH  DG CF AF CG EH           NA1  2019      3   \n",
       "\n",
       "   sales_volume_hl_agg year_month_start_date  sample_submission_flag  \\\n",
       "0             0.373878            2019-01-01                     0.0   \n",
       "1             0.638206            2019-01-01                     0.0   \n",
       "2             0.411266            2019-02-01                     0.0   \n",
       "3             0.534693            2019-02-01                     0.0   \n",
       "4             0.336491            2019-03-01                     0.0   \n",
       "\n",
       "   id_life_flag poc_ppg_cluster  \n",
       "0           0.0             0_1  \n",
       "1           0.0             0_1  \n",
       "2           0.0             0_1  \n",
       "3           0.0             0_1  \n",
       "4           0.0             0_1  "
      ]
     },
     "execution_count": 36,
     "metadata": {},
     "output_type": "execute_result"
    }
   ],
   "source": [
    "temp1_df.head()"
   ]
  },
  {
   "cell_type": "code",
   "execution_count": 37,
   "id": "cb08db3e",
   "metadata": {},
   "outputs": [],
   "source": [
    "from pmdarima import auto_arima\n",
    "from statsmodels.tsa.statespace.sarimax import SARIMAX\n",
    "from joblib import Parallel, delayed"
   ]
  },
  {
   "cell_type": "code",
   "execution_count": null,
   "id": "4645b8ed",
   "metadata": {},
   "outputs": [],
   "source": [
    "def train_arimax_auto_arima(endog, exog, seasonal=False, m=1):\n",
    "    \n",
    "    # Find the best order using auto_arima\n",
    "    stepwise_model = auto_arima(endog, exogenous=exog, seasonal=seasonal, m=m, trace=True, error_action='ignore', suppress_warnings=True)\n",
    "    order = stepwise_model.order\n",
    "    seasonal_order = stepwise_model.seasonal_order if seasonal else (0, 0, 0, 0)\n",
    "    \n",
    "    # Fit ARIMAX model\n",
    "    model = SARIMAX(endog, exog=exog, order=order, seasonal_order=seasonal_order)\n",
    "    results = model.fit(disp=False)\n",
    "    return results\n"
   ]
  },
  {
   "cell_type": "code",
   "execution_count": null,
   "id": "886963b1",
   "metadata": {},
   "outputs": [],
   "source": [
    "def parallel_train_arimax_auto_arima(data, seasonal=False, m=1, n_jobs=-1):\n",
    "\n",
    "    # Split data by entity\n",
    "    grouped = data.groupby('entity')\n",
    "\n",
    "    # Train models in parallel\n",
    "    results = Parallel(n_jobs=n_jobs)(\n",
    "        delayed(train_arimax_auto_arima)(\n",
    "            group['endog'],\n",
    "            group[['exog1', 'exog2']],\n",
    "            seasonal,\n",
    "            m\n",
    "        ) for name, group in grouped\n",
    "    )\n",
    "\n",
    "    return results\n"
   ]
  },
  {
   "cell_type": "code",
   "execution_count": null,
   "id": "9acad02c",
   "metadata": {},
   "outputs": [],
   "source": []
  }
 ],
 "metadata": {
  "kernelspec": {
   "display_name": "torch_env",
   "language": "python",
   "name": "torch_env"
  },
  "language_info": {
   "codemirror_mode": {
    "name": "ipython",
    "version": 3
   },
   "file_extension": ".py",
   "mimetype": "text/x-python",
   "name": "python",
   "nbconvert_exporter": "python",
   "pygments_lexer": "ipython3",
   "version": "3.10.14"
  }
 },
 "nbformat": 4,
 "nbformat_minor": 5
}
