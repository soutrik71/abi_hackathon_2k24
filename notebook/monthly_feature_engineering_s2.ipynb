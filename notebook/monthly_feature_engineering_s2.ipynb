{
 "cells": [
  {
   "cell_type": "markdown",
   "id": "13785421",
   "metadata": {},
   "source": [
    "The objecective of this notebook is to\n",
    "1. Read the volume agg data for exitsing stores as per history\n",
    "2. Read the dummy volume data for new stores as per submission\n",
    "3. use only the store combinations given in submission"
   ]
  },
  {
   "cell_type": "code",
   "execution_count": 1,
   "id": "68d33944",
   "metadata": {},
   "outputs": [],
   "source": [
    "# import jupyter_black\n",
    "\n",
    "# jupyter_black.load()"
   ]
  },
  {
   "cell_type": "code",
   "execution_count": 1,
   "id": "4d12bf17",
   "metadata": {},
   "outputs": [
    {
     "data": {
      "application/javascript": [
       "IPython.notebook.set_autosave_interval(300000)"
      ]
     },
     "metadata": {},
     "output_type": "display_data"
    },
    {
     "name": "stdout",
     "output_type": "stream",
     "text": [
      "Autosaving every 300 seconds\n"
     ]
    }
   ],
   "source": [
    "%autosave 300\n",
    "%reload_ext autoreload\n",
    "%autoreload 2\n",
    "%config Completer.use_jedi = False"
   ]
  },
  {
   "cell_type": "code",
   "execution_count": 2,
   "id": "d650be9a",
   "metadata": {},
   "outputs": [
    {
     "name": "stdout",
     "output_type": "stream",
     "text": [
      "/mnt/batch/tasks/shared/LS_root/mounts/clusters/copilot-model-run/code/Users/Soutrik.Chowdhury/abi_hackathon_2k24\n"
     ]
    }
   ],
   "source": [
    "import os\n",
    "\n",
    "os.chdir(\n",
    "    r\"/mnt/batch/tasks/shared/LS_root/mounts/clusters/copilot-model-run/code/Users/Soutrik.Chowdhury/abi_hackathon_2k24\"\n",
    ")\n",
    "print(os.getcwd())"
   ]
  },
  {
   "cell_type": "code",
   "execution_count": 3,
   "id": "6268b184",
   "metadata": {},
   "outputs": [],
   "source": [
    "import pandas as pd\n",
    "import numpy as np\n",
    "import matplotlib.pyplot as plt\n",
    "import seaborn as sns\n",
    "\n",
    "pd.set_option(\"display.max_columns\", None)\n",
    "pd.set_option(\"display.max_rows\", None)\n",
    "pd.set_option(\"display.max_colwidth\", None)\n",
    "pd.set_option(\"display.width\", None)\n",
    "from pandarallel import pandarallel\n",
    "import re\n",
    "from datetime import datetime\n",
    "import gc\n",
    "from sklearn.preprocessing import FunctionTransformer\n",
    "\n",
    "# from helpers.compress import reduce_mem_usage\n",
    "import pickle\n",
    "import warnings\n",
    "\n",
    "warnings.filterwarnings(\"ignore\")"
   ]
  },
  {
   "cell_type": "code",
   "execution_count": 7,
   "id": "6946a89d",
   "metadata": {},
   "outputs": [
    {
     "name": "stdout",
     "output_type": "stream",
     "text": [
      "INFO: Pandarallel will run on 14 workers.\n",
      "INFO: Pandarallel will use Memory file system to transfer data between the main process and workers.\n"
     ]
    }
   ],
   "source": [
    "pandarallel.initialize(progress_bar=True, nb_workers=os.cpu_count() - 2)"
   ]
  },
  {
   "cell_type": "code",
   "execution_count": 4,
   "id": "415e97ae",
   "metadata": {},
   "outputs": [],
   "source": [
    "data_folder = \"data\"\n",
    "macro_data_folder = \"macro_data\"\n",
    "processed_data_folder = \"processed_data_S2\"\n",
    "processed_macro = \"macro_processed\"\n",
    "fe_data = \"feature_engineered_data\""
   ]
  },
  {
   "cell_type": "code",
   "execution_count": null,
   "id": "38cf1bda",
   "metadata": {},
   "outputs": [],
   "source": [
    "volume_monthly_df = pd.read_pickle(\n",
    "    os.path.join(os.getcwd(), processed_data_folder, \"volume_df_month_agg.pkl\")\n",
    ")\n",
    "\n",
    "id_life_df = pd.read_pickle(\n",
    "    os.path.join(os.getcwd(), processed_data_folder, \"id_date_life.pkl\")\n",
    ")"
   ]
  },
  {
   "cell_type": "code",
   "execution_count": null,
   "id": "01f953ff",
   "metadata": {},
   "outputs": [],
   "source": [
    "sample_submission_df = pd.read_csv(\n",
    "    os.path.join(os.getcwd(), data_folder, \"sample_submission_file.csv\")\n",
    ")"
   ]
  },
  {
   "cell_type": "code",
   "execution_count": null,
   "id": "5237fdb2",
   "metadata": {},
   "outputs": [],
   "source": [
    "volume_monthly_df.head()"
   ]
  },
  {
   "cell_type": "code",
   "execution_count": null,
   "id": "5b042296",
   "metadata": {},
   "outputs": [],
   "source": [
    "volume_monthly_df.drop_duplicates(['poc_ppg_id','year','month']).shape"
   ]
  },
  {
   "cell_type": "code",
   "execution_count": null,
   "id": "efce7e23",
   "metadata": {},
   "outputs": [],
   "source": [
    "volume_monthly_df.shape"
   ]
  },
  {
   "cell_type": "code",
   "execution_count": null,
   "id": "ae39e10c",
   "metadata": {},
   "outputs": [],
   "source": [
    "# adding synthetic data for the new ones"
   ]
  },
  {
   "cell_type": "code",
   "execution_count": 12,
   "id": "15c20cff",
   "metadata": {},
   "outputs": [],
   "source": [
    "synthetic_ids_monthly_df = pd.read_pickle(\n",
    "    os.path.join(\n",
    "        os.getcwd(), processed_data_folder, \"synthetic_poc_ppg_monthly_vols_v2.pkl\"\n",
    "    )\n",
    ")\n",
    "\n",
    "poc_ppg_combination_clusters_df = pd.read_pickle(\n",
    "    os.path.join(os.getcwd(), processed_data_folder, \"poc_ppg_combination_clusters.pkl\")\n",
    ")"
   ]
  },
  {
   "cell_type": "code",
   "execution_count": 13,
   "id": "a1639bb2",
   "metadata": {},
   "outputs": [],
   "source": [
    "calendar_df_month = pd.read_pickle(\n",
    "    os.path.join(os.getcwd(), processed_macro, \"calendar_df_month.pkl\")\n",
    ")"
   ]
  },
  {
   "cell_type": "code",
   "execution_count": 14,
   "id": "1a97d054",
   "metadata": {},
   "outputs": [
    {
     "data": {
      "text/plain": [
       "(280992, 17)"
      ]
     },
     "execution_count": 14,
     "metadata": {},
     "output_type": "execute_result"
    }
   ],
   "source": [
    "synthetic_ids_monthly_df.shape"
   ]
  },
  {
   "cell_type": "code",
   "execution_count": 15,
   "id": "c33a83e9",
   "metadata": {},
   "outputs": [
    {
     "data": {
      "text/plain": [
       "(280992, 17)"
      ]
     },
     "execution_count": 15,
     "metadata": {},
     "output_type": "execute_result"
    }
   ],
   "source": [
    "synthetic_ids_monthly_df.drop_duplicates(['poc_ppg_id','year','month']).shape"
   ]
  },
  {
   "cell_type": "code",
   "execution_count": 16,
   "id": "4c95d29d",
   "metadata": {},
   "outputs": [],
   "source": [
    "synthetic_ids_monthly_df[\"sales_volume_hl_agg\"] = synthetic_ids_monthly_df[\n",
    "    \"sales_volume_hl_agg\"\n",
    "].fillna(0.0)"
   ]
  },
  {
   "cell_type": "code",
   "execution_count": 17,
   "id": "e938c735",
   "metadata": {},
   "outputs": [
    {
     "data": {
      "text/plain": [
       "5854"
      ]
     },
     "execution_count": 17,
     "metadata": {},
     "output_type": "execute_result"
    }
   ],
   "source": [
    "new_ids = synthetic_ids_monthly_df[\"poc_ppg_id\"].unique()\n",
    "len(new_ids)"
   ]
  },
  {
   "cell_type": "code",
   "execution_count": 18,
   "id": "c9aef270",
   "metadata": {},
   "outputs": [],
   "source": [
    "existing_ids = volume_monthly_df['poc_ppg_id'].unique()\n",
    "intersect_ids = list(set(new_ids).intersection(set(existing_ids)))"
   ]
  },
  {
   "cell_type": "code",
   "execution_count": 19,
   "id": "c2cc0689",
   "metadata": {},
   "outputs": [],
   "source": [
    "synthetic_ids_monthly_df = synthetic_ids_monthly_df.loc[~synthetic_ids_monthly_df['poc_ppg_id'].isin(intersect_ids)].reset_index(drop=True)"
   ]
  },
  {
   "cell_type": "code",
   "execution_count": 20,
   "id": "edbaa962",
   "metadata": {},
   "outputs": [
    {
     "data": {
      "text/plain": [
       "(280896, 17)"
      ]
     },
     "execution_count": 20,
     "metadata": {},
     "output_type": "execute_result"
    }
   ],
   "source": [
    "synthetic_ids_monthly_df.shape"
   ]
  },
  {
   "cell_type": "code",
   "execution_count": 21,
   "id": "c2a903ba",
   "metadata": {},
   "outputs": [],
   "source": [
    "# adding data for 2023 only for new ids"
   ]
  },
  {
   "cell_type": "code",
   "execution_count": 22,
   "id": "6cac6ab6",
   "metadata": {},
   "outputs": [],
   "source": [
    "new_id_df = synthetic_ids_monthly_df.drop_duplicates(\n",
    "    [\"unique_poc_id\", \"ppg_name\", \"poc_ppg_id\"]\n",
    ")[[\"unique_poc_id\", \"ppg_name\", \"poc_ppg_id\"]].reset_index(drop=True)\n",
    "new_id_df[\"key\"] = 1"
   ]
  },
  {
   "cell_type": "code",
   "execution_count": 23,
   "id": "accc7443",
   "metadata": {},
   "outputs": [
    {
     "data": {
      "text/plain": [
       "(5852, 4)"
      ]
     },
     "execution_count": 23,
     "metadata": {},
     "output_type": "execute_result"
    }
   ],
   "source": [
    "new_id_df.shape"
   ]
  },
  {
   "cell_type": "code",
   "execution_count": 24,
   "id": "fc6e3c25",
   "metadata": {},
   "outputs": [],
   "source": [
    "calendar_df_month = calendar_df_month.loc[\n",
    "    (calendar_df_month[\"year_month_start_date\"] >= \"2023-01-01\")\n",
    "    & (calendar_df_month[\"year_month_start_date\"] <= \"2023-12-01\"),\n",
    "    [\"year\", \"month\", \"year_month_start_date\"],\n",
    "].reset_index(drop=True)\n",
    "calendar_df_month[\"key\"] = 1"
   ]
  },
  {
   "cell_type": "code",
   "execution_count": 25,
   "id": "aaf0079d",
   "metadata": {},
   "outputs": [
    {
     "data": {
      "text/plain": [
       "(12, 4)"
      ]
     },
     "execution_count": 25,
     "metadata": {},
     "output_type": "execute_result"
    }
   ],
   "source": [
    "calendar_df_month.shape"
   ]
  },
  {
   "cell_type": "code",
   "execution_count": 26,
   "id": "4274d31e",
   "metadata": {},
   "outputs": [],
   "source": [
    "new_id_df_23 = pd.merge(new_id_df, calendar_df_month, on=\"key\").drop([\"key\"], axis=1)"
   ]
  },
  {
   "cell_type": "code",
   "execution_count": 27,
   "id": "d8376fe8",
   "metadata": {},
   "outputs": [],
   "source": [
    "new_id_df_23[\"sales_volume_hl_agg\"] = 0.0"
   ]
  },
  {
   "cell_type": "code",
   "execution_count": 28,
   "id": "1cad789b",
   "metadata": {},
   "outputs": [],
   "source": [
    "synthetic_ids_monthly_df = synthetic_ids_monthly_df.rename(\n",
    "    columns={\"date\": \"year_month_start_date\"}\n",
    ")"
   ]
  },
  {
   "cell_type": "code",
   "execution_count": 29,
   "id": "93b73f7e",
   "metadata": {},
   "outputs": [],
   "source": [
    "synthetic_ids_monthly_df = pd.concat(\n",
    "    [synthetic_ids_monthly_df[volume_monthly_df.columns.tolist()], new_id_df_23],\n",
    "    axis=0,\n",
    "    ignore_index=True,\n",
    ")"
   ]
  },
  {
   "cell_type": "code",
   "execution_count": 30,
   "id": "2ff8598b",
   "metadata": {},
   "outputs": [
    {
     "data": {
      "text/plain": [
       "Timestamp('2023-12-01 00:00:00')"
      ]
     },
     "execution_count": 30,
     "metadata": {},
     "output_type": "execute_result"
    }
   ],
   "source": [
    "synthetic_ids_monthly_df[\"year_month_start_date\"].max()"
   ]
  },
  {
   "cell_type": "code",
   "execution_count": 31,
   "id": "44852778",
   "metadata": {},
   "outputs": [],
   "source": [
    "# Join with monthly vol from history and new id history created"
   ]
  },
  {
   "cell_type": "code",
   "execution_count": 32,
   "id": "494c1352",
   "metadata": {},
   "outputs": [],
   "source": [
    "volume_monthly_df = pd.concat(\n",
    "    [volume_monthly_df, synthetic_ids_monthly_df[volume_monthly_df.columns.tolist()]],\n",
    "    axis=0,\n",
    "    ignore_index=True,\n",
    ")"
   ]
  },
  {
   "cell_type": "code",
   "execution_count": 33,
   "id": "802d8028",
   "metadata": {},
   "outputs": [],
   "source": [
    "volume_monthly_df = volume_monthly_df.sort_values(\n",
    "    [\"poc_ppg_id\", \"year\", \"month\"]\n",
    ").reset_index(drop=True)"
   ]
  },
  {
   "cell_type": "code",
   "execution_count": 34,
   "id": "ab61f923",
   "metadata": {},
   "outputs": [
    {
     "data": {
      "text/plain": [
       "(79400788, 7)"
      ]
     },
     "execution_count": 34,
     "metadata": {},
     "output_type": "execute_result"
    }
   ],
   "source": [
    "volume_monthly_df.shape"
   ]
  },
  {
   "cell_type": "code",
   "execution_count": 35,
   "id": "683c27db",
   "metadata": {},
   "outputs": [
    {
     "data": {
      "text/plain": [
       "(79400788, 7)"
      ]
     },
     "execution_count": 35,
     "metadata": {},
     "output_type": "execute_result"
    }
   ],
   "source": [
    "volume_monthly_df.drop_duplicates(['poc_ppg_id','year','month']).shape"
   ]
  },
  {
   "cell_type": "code",
   "execution_count": 36,
   "id": "16f6c4a0",
   "metadata": {},
   "outputs": [],
   "source": [
    "# adding cluster details"
   ]
  },
  {
   "cell_type": "code",
   "execution_count": 37,
   "id": "cb9100c1",
   "metadata": {},
   "outputs": [
    {
     "data": {
      "text/plain": [
       "(8318715, 7)"
      ]
     },
     "execution_count": 37,
     "metadata": {},
     "output_type": "execute_result"
    }
   ],
   "source": [
    "poc_ppg_combination_clusters_df.shape"
   ]
  },
  {
   "cell_type": "code",
   "execution_count": 38,
   "id": "4e3088f1",
   "metadata": {},
   "outputs": [
    {
     "data": {
      "text/plain": [
       "(8318715, 7)"
      ]
     },
     "execution_count": 38,
     "metadata": {},
     "output_type": "execute_result"
    }
   ],
   "source": [
    "poc_ppg_combination_clusters_df.drop_duplicates(['poc_ppg']).shape"
   ]
  },
  {
   "cell_type": "code",
   "execution_count": 39,
   "id": "f160e56d",
   "metadata": {},
   "outputs": [],
   "source": [
    "poc_ppg_combination_clusters_df = poc_ppg_combination_clusters_df.rename(\n",
    "    columns={\"poc_ppg\": \"poc_ppg_id\"}\n",
    ")"
   ]
  },
  {
   "cell_type": "code",
   "execution_count": 40,
   "id": "88a8df55",
   "metadata": {},
   "outputs": [],
   "source": [
    "poc_ppg_combination_clusters_df[\"poc_ppg_cluster\"] = (\n",
    "    poc_ppg_combination_clusters_df[\"poc_cluster\"].astype(str)\n",
    "    + \"_\"\n",
    "    + poc_ppg_combination_clusters_df[\"ppg_cluster\"].astype(str)\n",
    ")"
   ]
  },
  {
   "cell_type": "code",
   "execution_count": 41,
   "id": "a723cd89",
   "metadata": {},
   "outputs": [
    {
     "data": {
      "text/html": [
       "<div>\n",
       "<style scoped>\n",
       "    .dataframe tbody tr th:only-of-type {\n",
       "        vertical-align: middle;\n",
       "    }\n",
       "\n",
       "    .dataframe tbody tr th {\n",
       "        vertical-align: top;\n",
       "    }\n",
       "\n",
       "    .dataframe thead th {\n",
       "        text-align: right;\n",
       "    }\n",
       "</style>\n",
       "<table border=\"1\" class=\"dataframe\">\n",
       "  <thead>\n",
       "    <tr style=\"text-align: right;\">\n",
       "      <th></th>\n",
       "      <th>poc_ppg_id</th>\n",
       "      <th>ppg_name</th>\n",
       "      <th>unique_poc_id</th>\n",
       "      <th>year</th>\n",
       "      <th>month</th>\n",
       "      <th>sales_volume_hl_agg</th>\n",
       "      <th>year_month_start_date</th>\n",
       "    </tr>\n",
       "  </thead>\n",
       "  <tbody>\n",
       "    <tr>\n",
       "      <th>0</th>\n",
       "      <td>AAAA__AK_AB_CG_T</td>\n",
       "      <td>AK AB CG T</td>\n",
       "      <td>AAAA</td>\n",
       "      <td>2019</td>\n",
       "      <td>4</td>\n",
       "      <td>0.065803</td>\n",
       "      <td>2019-04-01</td>\n",
       "    </tr>\n",
       "    <tr>\n",
       "      <th>1</th>\n",
       "      <td>AAAA__AK_AB_CG_T</td>\n",
       "      <td>AK AB CG T</td>\n",
       "      <td>AAAA</td>\n",
       "      <td>2019</td>\n",
       "      <td>5</td>\n",
       "      <td>0.131605</td>\n",
       "      <td>2019-05-01</td>\n",
       "    </tr>\n",
       "    <tr>\n",
       "      <th>2</th>\n",
       "      <td>AAAA__AK_AB_CG_T</td>\n",
       "      <td>AK AB CG T</td>\n",
       "      <td>AAAA</td>\n",
       "      <td>2019</td>\n",
       "      <td>6</td>\n",
       "      <td>0.000000</td>\n",
       "      <td>2019-06-01</td>\n",
       "    </tr>\n",
       "    <tr>\n",
       "      <th>3</th>\n",
       "      <td>AAAA__AK_AB_CG_T</td>\n",
       "      <td>AK AB CG T</td>\n",
       "      <td>AAAA</td>\n",
       "      <td>2019</td>\n",
       "      <td>7</td>\n",
       "      <td>0.000000</td>\n",
       "      <td>2019-07-01</td>\n",
       "    </tr>\n",
       "    <tr>\n",
       "      <th>4</th>\n",
       "      <td>AAAA__AK_AB_CG_T</td>\n",
       "      <td>AK AB CG T</td>\n",
       "      <td>AAAA</td>\n",
       "      <td>2019</td>\n",
       "      <td>8</td>\n",
       "      <td>0.000000</td>\n",
       "      <td>2019-08-01</td>\n",
       "    </tr>\n",
       "  </tbody>\n",
       "</table>\n",
       "</div>"
      ],
      "text/plain": [
       "         poc_ppg_id    ppg_name unique_poc_id  year  month  \\\n",
       "0  AAAA__AK_AB_CG_T  AK AB CG T          AAAA  2019      4   \n",
       "1  AAAA__AK_AB_CG_T  AK AB CG T          AAAA  2019      5   \n",
       "2  AAAA__AK_AB_CG_T  AK AB CG T          AAAA  2019      6   \n",
       "3  AAAA__AK_AB_CG_T  AK AB CG T          AAAA  2019      7   \n",
       "4  AAAA__AK_AB_CG_T  AK AB CG T          AAAA  2019      8   \n",
       "\n",
       "   sales_volume_hl_agg year_month_start_date  \n",
       "0             0.065803            2019-04-01  \n",
       "1             0.131605            2019-05-01  \n",
       "2             0.000000            2019-06-01  \n",
       "3             0.000000            2019-07-01  \n",
       "4             0.000000            2019-08-01  "
      ]
     },
     "execution_count": 41,
     "metadata": {},
     "output_type": "execute_result"
    }
   ],
   "source": [
    "volume_monthly_df.head()"
   ]
  },
  {
   "cell_type": "code",
   "execution_count": 42,
   "id": "d7257b84",
   "metadata": {},
   "outputs": [],
   "source": [
    "volume_monthly_df = pd.merge(\n",
    "    volume_monthly_df,\n",
    "    poc_ppg_combination_clusters_df[\n",
    "        [\"poc_ppg_id\", \"sample_submission_flag\", \"id_life_flag\", \"poc_ppg_cluster\"]\n",
    "    ],\n",
    "    on=\"poc_ppg_id\",\n",
    "    how=\"left\",\n",
    ")"
   ]
  },
  {
   "cell_type": "code",
   "execution_count": 43,
   "id": "d9d6a5a4",
   "metadata": {},
   "outputs": [
    {
     "data": {
      "text/plain": [
       "(79400788, 10)"
      ]
     },
     "execution_count": 43,
     "metadata": {},
     "output_type": "execute_result"
    }
   ],
   "source": [
    "volume_monthly_df.shape"
   ]
  },
  {
   "cell_type": "code",
   "execution_count": 44,
   "id": "14e80bee",
   "metadata": {},
   "outputs": [
    {
     "data": {
      "text/plain": [
       "(79400788, 10)"
      ]
     },
     "execution_count": 44,
     "metadata": {},
     "output_type": "execute_result"
    }
   ],
   "source": [
    "volume_monthly_df.drop_duplicates(['poc_ppg_id','year','month']).shape"
   ]
  },
  {
   "cell_type": "code",
   "execution_count": 45,
   "id": "c1de41c4",
   "metadata": {},
   "outputs": [
    {
     "data": {
      "text/plain": [
       "poc_ppg_id                      0\n",
       "ppg_name                        0\n",
       "unique_poc_id                   0\n",
       "year                            0\n",
       "month                           0\n",
       "sales_volume_hl_agg             0\n",
       "year_month_start_date           0\n",
       "sample_submission_flag    6898759\n",
       "id_life_flag              6898759\n",
       "poc_ppg_cluster           6898759\n",
       "dtype: int64"
      ]
     },
     "execution_count": 45,
     "metadata": {},
     "output_type": "execute_result"
    }
   ],
   "source": [
    "volume_monthly_df.isnull().sum()  # misiing one are delisted so not clustered"
   ]
  },
  {
   "cell_type": "code",
   "execution_count": 46,
   "id": "a2b81293",
   "metadata": {},
   "outputs": [],
   "source": [
    "volume_monthly_df.to_pickle(\n",
    "    os.path.join(\n",
    "        os.getcwd(), processed_data_folder, \"all_id_vol_cluster_monthly_df.pkl\"\n",
    "    )\n",
    ")"
   ]
  },
  {
   "cell_type": "code",
   "execution_count": 47,
   "id": "6d6ebedc",
   "metadata": {},
   "outputs": [],
   "source": [
    "# volume_monthly_df = pd.read_pickle(\n",
    "#     os.path.join(\n",
    "#         os.getcwd(), processed_data_folder, \"all_id_vol_cluster_monthly_df.pkl\"\n",
    "#     )\n",
    "# )"
   ]
  },
  {
   "cell_type": "markdown",
   "id": "ddbd2341",
   "metadata": {},
   "source": [
    "##### adding  metadata"
   ]
  },
  {
   "cell_type": "code",
   "execution_count": 48,
   "id": "57dfcba6",
   "metadata": {},
   "outputs": [],
   "source": [
    "poc_atrb_df = pd.read_pickle(\n",
    "    os.path.join(os.getcwd(), processed_macro, \"poc_atrb_df.pkl\")\n",
    ")\n",
    "ppg_atrb_df = pd.read_pickle(\n",
    "    os.path.join(os.getcwd(), processed_macro, \"ppg_atrb_df.pkl\")\n",
    ")"
   ]
  },
  {
   "cell_type": "code",
   "execution_count": 49,
   "id": "8491185c",
   "metadata": {},
   "outputs": [
    {
     "name": "stdout",
     "output_type": "stream",
     "text": [
      "(240, 7)\n",
      "(240, 7)\n"
     ]
    }
   ],
   "source": [
    "print(ppg_atrb_df.shape)\n",
    "print(ppg_atrb_df.drop_duplicates(['ppg_name']).shape)"
   ]
  },
  {
   "cell_type": "code",
   "execution_count": 50,
   "id": "2fab00d3",
   "metadata": {},
   "outputs": [
    {
     "name": "stdout",
     "output_type": "stream",
     "text": [
      "(43645, 6)\n",
      "(43645, 6)\n"
     ]
    }
   ],
   "source": [
    "print(poc_atrb_df.shape)\n",
    "print(poc_atrb_df.drop_duplicates(['unique_poc_id']).shape)"
   ]
  },
  {
   "cell_type": "code",
   "execution_count": 51,
   "id": "df660b8d",
   "metadata": {},
   "outputs": [],
   "source": [
    "# adding PPG details\n",
    "volume_monthly_df = pd.merge(\n",
    "    volume_monthly_df,\n",
    "    ppg_atrb_df[[\"ppg_name\", \"category_name\", \"price_segment\", \"brand\", \"subbrand\"]],\n",
    "    on=[\"ppg_name\"],\n",
    "    how=\"left\",\n",
    ")"
   ]
  },
  {
   "cell_type": "code",
   "execution_count": 52,
   "id": "3929c326",
   "metadata": {},
   "outputs": [],
   "source": [
    "# adding poc details\n",
    "volume_monthly_df = pd.merge(\n",
    "    volume_monthly_df,\n",
    "    poc_atrb_df[[\"unique_poc_id\", \"subchannel\", \"channel_type\", \"segment\"]],\n",
    "    on=[\"unique_poc_id\"],\n",
    "    how=\"left\",\n",
    ")"
   ]
  },
  {
   "cell_type": "code",
   "execution_count": 53,
   "id": "75c797ec",
   "metadata": {},
   "outputs": [
    {
     "data": {
      "text/plain": [
       "poc_ppg_id                      0\n",
       "ppg_name                        0\n",
       "unique_poc_id                   0\n",
       "year                            0\n",
       "month                           0\n",
       "sales_volume_hl_agg             0\n",
       "year_month_start_date           0\n",
       "sample_submission_flag    6898759\n",
       "id_life_flag              6898759\n",
       "poc_ppg_cluster           6898759\n",
       "category_name                   0\n",
       "price_segment                   0\n",
       "brand                           0\n",
       "subbrand                        0\n",
       "subchannel                      0\n",
       "channel_type                    0\n",
       "segment                         0\n",
       "dtype: int64"
      ]
     },
     "execution_count": 53,
     "metadata": {},
     "output_type": "execute_result"
    }
   ],
   "source": [
    "volume_monthly_df.isnull().sum()"
   ]
  },
  {
   "cell_type": "code",
   "execution_count": 54,
   "id": "25ea808f",
   "metadata": {},
   "outputs": [
    {
     "data": {
      "text/plain": [
       "(79400788, 17)"
      ]
     },
     "execution_count": 54,
     "metadata": {},
     "output_type": "execute_result"
    }
   ],
   "source": [
    "volume_monthly_df.shape"
   ]
  },
  {
   "cell_type": "markdown",
   "id": "71403afd",
   "metadata": {},
   "source": [
    "###### seasonal index"
   ]
  },
  {
   "cell_type": "code",
   "execution_count": 55,
   "id": "5f2e636d",
   "metadata": {},
   "outputs": [],
   "source": [
    "volume_monthly_df[\"ppg_seasonality_index\"] = volume_monthly_df.groupby(\n",
    "    [\"category_name\", \"price_segment\", \"month\"]\n",
    ")[\"sales_volume_hl_agg\"].transform(lambda x: x.sum()) / volume_monthly_df.groupby(\n",
    "    [\"category_name\", \"price_segment\"]\n",
    ")[\n",
    "    \"sales_volume_hl_agg\"\n",
    "].transform(\n",
    "    lambda x: x.sum()\n",
    ")"
   ]
  },
  {
   "cell_type": "code",
   "execution_count": 56,
   "id": "5755146d",
   "metadata": {},
   "outputs": [],
   "source": [
    "volume_monthly_df[\"poc_seasonality_index\"] = volume_monthly_df.groupby(\n",
    "    [\"segment\", \"month\"]\n",
    ")[\"sales_volume_hl_agg\"].transform(lambda x: x.sum()) / volume_monthly_df.groupby(\n",
    "    [\"segment\"]\n",
    ")[\n",
    "    \"sales_volume_hl_agg\"\n",
    "].transform(\n",
    "    lambda x: x.sum()\n",
    ")"
   ]
  },
  {
   "cell_type": "code",
   "execution_count": 57,
   "id": "988a8e8e",
   "metadata": {},
   "outputs": [
    {
     "data": {
      "text/plain": [
       "poc_ppg_id                      0\n",
       "ppg_name                        0\n",
       "unique_poc_id                   0\n",
       "year                            0\n",
       "month                           0\n",
       "sales_volume_hl_agg             0\n",
       "year_month_start_date           0\n",
       "sample_submission_flag    6898759\n",
       "id_life_flag              6898759\n",
       "poc_ppg_cluster           6898759\n",
       "category_name                   0\n",
       "price_segment                   0\n",
       "brand                           0\n",
       "subbrand                        0\n",
       "subchannel                      0\n",
       "channel_type                    0\n",
       "segment                         0\n",
       "ppg_seasonality_index           0\n",
       "poc_seasonality_index           0\n",
       "dtype: int64"
      ]
     },
     "execution_count": 57,
     "metadata": {},
     "output_type": "execute_result"
    }
   ],
   "source": [
    "volume_monthly_df.isnull().sum()"
   ]
  },
  {
   "cell_type": "code",
   "execution_count": 58,
   "id": "56a02358",
   "metadata": {},
   "outputs": [
    {
     "data": {
      "text/plain": [
       "(79400788, 19)"
      ]
     },
     "execution_count": 58,
     "metadata": {},
     "output_type": "execute_result"
    }
   ],
   "source": [
    "volume_monthly_df.shape"
   ]
  },
  {
   "cell_type": "markdown",
   "id": "40e21e42",
   "metadata": {},
   "source": [
    "#### Todo\n",
    "- Store category- brand  ranking\n",
    "- Store Category -subrand ranking\n",
    "- PPG Category - price segment - brand ranking"
   ]
  },
  {
   "cell_type": "markdown",
   "id": "75a6c6df",
   "metadata": {},
   "source": [
    "#### subsetting sample ids"
   ]
  },
  {
   "cell_type": "code",
   "execution_count": 59,
   "id": "6d11799c",
   "metadata": {},
   "outputs": [],
   "source": [
    "# clean name\n",
    "sample_submission_df[\"ppg_name_clean\"] = sample_submission_df[\"ppg_name\"].apply(\n",
    "    lambda x: re.sub(r\"\\s+\", \"_\", x)\n",
    ")\n",
    "# poc-Ppg id\n",
    "sample_submission_df[\"poc_ppg_id\"] = sample_submission_df.apply(\n",
    "    lambda x: str(x[\"unique_poc_id\"]) + \"__\" + str(x[\"ppg_name_clean\"]), axis=1\n",
    ")"
   ]
  },
  {
   "cell_type": "code",
   "execution_count": 60,
   "id": "ab381c99",
   "metadata": {},
   "outputs": [
    {
     "name": "stdout",
     "output_type": "stream",
     "text": [
      "49337\n"
     ]
    }
   ],
   "source": [
    "best_ids = sample_submission_df[\"poc_ppg_id\"].unique().tolist()\n",
    "print(len(best_ids))"
   ]
  },
  {
   "cell_type": "code",
   "execution_count": 61,
   "id": "a4b3dc92",
   "metadata": {},
   "outputs": [
    {
     "data": {
      "text/plain": [
       "set()"
      ]
     },
     "execution_count": 61,
     "metadata": {},
     "output_type": "execute_result"
    }
   ],
   "source": [
    "set(best_ids).difference(set(volume_monthly_df[\"poc_ppg_id\"].unique()))"
   ]
  },
  {
   "cell_type": "code",
   "execution_count": 62,
   "id": "667ebb69",
   "metadata": {},
   "outputs": [],
   "source": [
    "# volume for best id\n",
    "volume_monthly_df_best = volume_monthly_df.loc[\n",
    "    volume_monthly_df[\"poc_ppg_id\"].isin(best_ids)\n",
    "].reset_index(drop=True)"
   ]
  },
  {
   "cell_type": "code",
   "execution_count": 63,
   "id": "fda2ab7c",
   "metadata": {},
   "outputs": [
    {
     "data": {
      "text/plain": [
       "poc_ppg_id                0\n",
       "ppg_name                  0\n",
       "unique_poc_id             0\n",
       "year                      0\n",
       "month                     0\n",
       "sales_volume_hl_agg       0\n",
       "year_month_start_date     0\n",
       "sample_submission_flag    0\n",
       "id_life_flag              0\n",
       "poc_ppg_cluster           0\n",
       "category_name             0\n",
       "price_segment             0\n",
       "brand                     0\n",
       "subbrand                  0\n",
       "subchannel                0\n",
       "channel_type              0\n",
       "segment                   0\n",
       "ppg_seasonality_index     0\n",
       "poc_seasonality_index     0\n",
       "dtype: int64"
      ]
     },
     "execution_count": 63,
     "metadata": {},
     "output_type": "execute_result"
    }
   ],
   "source": [
    "volume_monthly_df_best.isnull().sum()"
   ]
  },
  {
   "cell_type": "code",
   "execution_count": 64,
   "id": "11311367",
   "metadata": {},
   "outputs": [
    {
     "data": {
      "text/plain": [
       "(2565882, 19)"
      ]
     },
     "execution_count": 64,
     "metadata": {},
     "output_type": "execute_result"
    }
   ],
   "source": [
    "volume_monthly_df_best.shape"
   ]
  },
  {
   "cell_type": "code",
   "execution_count": 65,
   "id": "57a8053d",
   "metadata": {},
   "outputs": [
    {
     "data": {
      "text/plain": [
       "(2565882, 19)"
      ]
     },
     "execution_count": 65,
     "metadata": {},
     "output_type": "execute_result"
    }
   ],
   "source": [
    "volume_monthly_df_best.drop_duplicates(['poc_ppg_id','year','month']).shape"
   ]
  },
  {
   "cell_type": "code",
   "execution_count": 66,
   "id": "5bd28355",
   "metadata": {},
   "outputs": [],
   "source": [
    "### Should we also include some dominant cluster  more combinations"
   ]
  },
  {
   "cell_type": "markdown",
   "id": "849a9b28",
   "metadata": {},
   "source": [
    "##### only Lag features"
   ]
  },
  {
   "cell_type": "code",
   "execution_count": 67,
   "id": "5e5761fa",
   "metadata": {},
   "outputs": [],
   "source": [
    "def random_noise(dataframe):\n",
    "    return np.random.normal(scale=0.01, size=(len(dataframe)))"
   ]
  },
  {
   "cell_type": "code",
   "execution_count": 68,
   "id": "7956620b",
   "metadata": {},
   "outputs": [],
   "source": [
    "def lag_features(dataframe, lags, id_col, target_col):\n",
    "    dataframe = dataframe.copy()\n",
    "    for lag in lags:\n",
    "        dataframe[\"sales_lag_\" + str(lag)] = dataframe.groupby([id_col])[\n",
    "            target_col\n",
    "        ].transform(\n",
    "            lambda x: x.shift(lag)\n",
    "            .fillna(method=\"bfill\")\n",
    "            .fillna(method=\"ffill\")\n",
    "            .fillna(0.0)\n",
    "        ) + random_noise(\n",
    "            dataframe\n",
    "        )\n",
    "    return dataframe"
   ]
  },
  {
   "cell_type": "code",
   "execution_count": 69,
   "id": "8ae68f02",
   "metadata": {},
   "outputs": [],
   "source": [
    "volume_monthly_df_best = lag_features(\n",
    "    volume_monthly_df_best, [12, 13, 14, 15], \"poc_ppg_id\", \"sales_volume_hl_agg\"\n",
    ")"
   ]
  },
  {
   "cell_type": "code",
   "execution_count": 70,
   "id": "b3462603",
   "metadata": {},
   "outputs": [
    {
     "data": {
      "text/html": [
       "<div>\n",
       "<style scoped>\n",
       "    .dataframe tbody tr th:only-of-type {\n",
       "        vertical-align: middle;\n",
       "    }\n",
       "\n",
       "    .dataframe tbody tr th {\n",
       "        vertical-align: top;\n",
       "    }\n",
       "\n",
       "    .dataframe thead th {\n",
       "        text-align: right;\n",
       "    }\n",
       "</style>\n",
       "<table border=\"1\" class=\"dataframe\">\n",
       "  <thead>\n",
       "    <tr style=\"text-align: right;\">\n",
       "      <th></th>\n",
       "      <th>poc_ppg_id</th>\n",
       "      <th>ppg_name</th>\n",
       "      <th>unique_poc_id</th>\n",
       "      <th>year</th>\n",
       "      <th>month</th>\n",
       "      <th>sales_volume_hl_agg</th>\n",
       "      <th>year_month_start_date</th>\n",
       "      <th>sample_submission_flag</th>\n",
       "      <th>id_life_flag</th>\n",
       "      <th>poc_ppg_cluster</th>\n",
       "      <th>category_name</th>\n",
       "      <th>price_segment</th>\n",
       "      <th>brand</th>\n",
       "      <th>subbrand</th>\n",
       "      <th>subchannel</th>\n",
       "      <th>channel_type</th>\n",
       "      <th>segment</th>\n",
       "      <th>ppg_seasonality_index</th>\n",
       "      <th>poc_seasonality_index</th>\n",
       "      <th>sales_lag_12</th>\n",
       "      <th>sales_lag_13</th>\n",
       "      <th>sales_lag_14</th>\n",
       "      <th>sales_lag_15</th>\n",
       "    </tr>\n",
       "  </thead>\n",
       "  <tbody>\n",
       "    <tr>\n",
       "      <th>0</th>\n",
       "      <td>AAAC__CJ_C_FN_M</td>\n",
       "      <td>CJ C FN M</td>\n",
       "      <td>AAAC</td>\n",
       "      <td>2021</td>\n",
       "      <td>9</td>\n",
       "      <td>2.657029</td>\n",
       "      <td>2021-09-01</td>\n",
       "      <td>1.0</td>\n",
       "      <td>1.0</td>\n",
       "      <td>1_1</td>\n",
       "      <td>BM</td>\n",
       "      <td>EJ CW</td>\n",
       "      <td>CJ</td>\n",
       "      <td>CJ C</td>\n",
       "      <td>AQXZ APPZ ADOT</td>\n",
       "      <td>BBOB</td>\n",
       "      <td>AZJC UIP</td>\n",
       "      <td>0.086632</td>\n",
       "      <td>0.083310</td>\n",
       "      <td>2.680361</td>\n",
       "      <td>2.659049</td>\n",
       "      <td>2.641487</td>\n",
       "      <td>2.663112</td>\n",
       "    </tr>\n",
       "    <tr>\n",
       "      <th>1</th>\n",
       "      <td>AAAC__CJ_C_FN_M</td>\n",
       "      <td>CJ C FN M</td>\n",
       "      <td>AAAC</td>\n",
       "      <td>2021</td>\n",
       "      <td>10</td>\n",
       "      <td>1.635095</td>\n",
       "      <td>2021-10-01</td>\n",
       "      <td>1.0</td>\n",
       "      <td>1.0</td>\n",
       "      <td>1_1</td>\n",
       "      <td>BM</td>\n",
       "      <td>EJ CW</td>\n",
       "      <td>CJ</td>\n",
       "      <td>CJ C</td>\n",
       "      <td>AQXZ APPZ ADOT</td>\n",
       "      <td>BBOB</td>\n",
       "      <td>AZJC UIP</td>\n",
       "      <td>0.097920</td>\n",
       "      <td>0.099356</td>\n",
       "      <td>2.660838</td>\n",
       "      <td>2.665773</td>\n",
       "      <td>2.663828</td>\n",
       "      <td>2.645569</td>\n",
       "    </tr>\n",
       "    <tr>\n",
       "      <th>2</th>\n",
       "      <td>AAAC__CJ_C_FN_M</td>\n",
       "      <td>CJ C FN M</td>\n",
       "      <td>AAAC</td>\n",
       "      <td>2021</td>\n",
       "      <td>11</td>\n",
       "      <td>5.477568</td>\n",
       "      <td>2021-11-01</td>\n",
       "      <td>1.0</td>\n",
       "      <td>1.0</td>\n",
       "      <td>1_1</td>\n",
       "      <td>BM</td>\n",
       "      <td>EJ CW</td>\n",
       "      <td>CJ</td>\n",
       "      <td>CJ C</td>\n",
       "      <td>AQXZ APPZ ADOT</td>\n",
       "      <td>BBOB</td>\n",
       "      <td>AZJC UIP</td>\n",
       "      <td>0.116346</td>\n",
       "      <td>0.114571</td>\n",
       "      <td>2.663475</td>\n",
       "      <td>2.656727</td>\n",
       "      <td>2.663527</td>\n",
       "      <td>2.641021</td>\n",
       "    </tr>\n",
       "    <tr>\n",
       "      <th>3</th>\n",
       "      <td>AAAC__CJ_C_FN_M</td>\n",
       "      <td>CJ C FN M</td>\n",
       "      <td>AAAC</td>\n",
       "      <td>2021</td>\n",
       "      <td>12</td>\n",
       "      <td>4.905285</td>\n",
       "      <td>2021-12-01</td>\n",
       "      <td>1.0</td>\n",
       "      <td>1.0</td>\n",
       "      <td>1_1</td>\n",
       "      <td>BM</td>\n",
       "      <td>EJ CW</td>\n",
       "      <td>CJ</td>\n",
       "      <td>CJ C</td>\n",
       "      <td>AQXZ APPZ ADOT</td>\n",
       "      <td>BBOB</td>\n",
       "      <td>AZJC UIP</td>\n",
       "      <td>0.135510</td>\n",
       "      <td>0.138193</td>\n",
       "      <td>2.645500</td>\n",
       "      <td>2.674356</td>\n",
       "      <td>2.650064</td>\n",
       "      <td>2.654775</td>\n",
       "    </tr>\n",
       "    <tr>\n",
       "      <th>4</th>\n",
       "      <td>AAAC__CJ_C_FN_M</td>\n",
       "      <td>CJ C FN M</td>\n",
       "      <td>AAAC</td>\n",
       "      <td>2022</td>\n",
       "      <td>1</td>\n",
       "      <td>0.613161</td>\n",
       "      <td>2022-01-01</td>\n",
       "      <td>1.0</td>\n",
       "      <td>1.0</td>\n",
       "      <td>1_1</td>\n",
       "      <td>BM</td>\n",
       "      <td>EJ CW</td>\n",
       "      <td>CJ</td>\n",
       "      <td>CJ C</td>\n",
       "      <td>AQXZ APPZ ADOT</td>\n",
       "      <td>BBOB</td>\n",
       "      <td>AZJC UIP</td>\n",
       "      <td>0.056200</td>\n",
       "      <td>0.055705</td>\n",
       "      <td>2.635591</td>\n",
       "      <td>2.657807</td>\n",
       "      <td>2.671511</td>\n",
       "      <td>2.658479</td>\n",
       "    </tr>\n",
       "  </tbody>\n",
       "</table>\n",
       "</div>"
      ],
      "text/plain": [
       "        poc_ppg_id   ppg_name unique_poc_id  year  month  sales_volume_hl_agg  \\\n",
       "0  AAAC__CJ_C_FN_M  CJ C FN M          AAAC  2021      9             2.657029   \n",
       "1  AAAC__CJ_C_FN_M  CJ C FN M          AAAC  2021     10             1.635095   \n",
       "2  AAAC__CJ_C_FN_M  CJ C FN M          AAAC  2021     11             5.477568   \n",
       "3  AAAC__CJ_C_FN_M  CJ C FN M          AAAC  2021     12             4.905285   \n",
       "4  AAAC__CJ_C_FN_M  CJ C FN M          AAAC  2022      1             0.613161   \n",
       "\n",
       "  year_month_start_date  sample_submission_flag  id_life_flag poc_ppg_cluster  \\\n",
       "0            2021-09-01                     1.0           1.0             1_1   \n",
       "1            2021-10-01                     1.0           1.0             1_1   \n",
       "2            2021-11-01                     1.0           1.0             1_1   \n",
       "3            2021-12-01                     1.0           1.0             1_1   \n",
       "4            2022-01-01                     1.0           1.0             1_1   \n",
       "\n",
       "  category_name price_segment brand subbrand      subchannel channel_type  \\\n",
       "0            BM         EJ CW    CJ     CJ C  AQXZ APPZ ADOT         BBOB   \n",
       "1            BM         EJ CW    CJ     CJ C  AQXZ APPZ ADOT         BBOB   \n",
       "2            BM         EJ CW    CJ     CJ C  AQXZ APPZ ADOT         BBOB   \n",
       "3            BM         EJ CW    CJ     CJ C  AQXZ APPZ ADOT         BBOB   \n",
       "4            BM         EJ CW    CJ     CJ C  AQXZ APPZ ADOT         BBOB   \n",
       "\n",
       "    segment  ppg_seasonality_index  poc_seasonality_index  sales_lag_12  \\\n",
       "0  AZJC UIP               0.086632               0.083310      2.680361   \n",
       "1  AZJC UIP               0.097920               0.099356      2.660838   \n",
       "2  AZJC UIP               0.116346               0.114571      2.663475   \n",
       "3  AZJC UIP               0.135510               0.138193      2.645500   \n",
       "4  AZJC UIP               0.056200               0.055705      2.635591   \n",
       "\n",
       "   sales_lag_13  sales_lag_14  sales_lag_15  \n",
       "0      2.659049      2.641487      2.663112  \n",
       "1      2.665773      2.663828      2.645569  \n",
       "2      2.656727      2.663527      2.641021  \n",
       "3      2.674356      2.650064      2.654775  \n",
       "4      2.657807      2.671511      2.658479  "
      ]
     },
     "execution_count": 70,
     "metadata": {},
     "output_type": "execute_result"
    }
   ],
   "source": [
    "volume_monthly_df_best.head()"
   ]
  },
  {
   "cell_type": "code",
   "execution_count": 71,
   "id": "25492b84",
   "metadata": {},
   "outputs": [
    {
     "data": {
      "text/plain": [
       "(2565882, 23)"
      ]
     },
     "execution_count": 71,
     "metadata": {},
     "output_type": "execute_result"
    }
   ],
   "source": [
    "volume_monthly_df_best.shape"
   ]
  },
  {
   "cell_type": "markdown",
   "id": "51b373c7",
   "metadata": {},
   "source": [
    "##### lag diff"
   ]
  },
  {
   "cell_type": "code",
   "execution_count": 72,
   "id": "c6df4afe",
   "metadata": {},
   "outputs": [],
   "source": [
    "def calculate_lag_diff(dataframe):\n",
    "    dataframe = dataframe.copy()\n",
    "    diff_df = dataframe.filter(regex=\"sales_lag\").diff(axis=1).dropna(axis=1, how=\"all\")\n",
    "    diff_df.columns = [col + \"_diff\" for col in diff_df.columns]\n",
    "    dataframe = pd.concat([dataframe, diff_df], axis=1)\n",
    "    return dataframe"
   ]
  },
  {
   "cell_type": "code",
   "execution_count": 73,
   "id": "f9f62199",
   "metadata": {},
   "outputs": [],
   "source": [
    "volume_monthly_df_best = calculate_lag_diff(volume_monthly_df_best)"
   ]
  },
  {
   "cell_type": "code",
   "execution_count": 74,
   "id": "8a871f56",
   "metadata": {},
   "outputs": [
    {
     "data": {
      "text/plain": [
       "poc_ppg_id                0\n",
       "ppg_name                  0\n",
       "unique_poc_id             0\n",
       "year                      0\n",
       "month                     0\n",
       "sales_volume_hl_agg       0\n",
       "year_month_start_date     0\n",
       "sample_submission_flag    0\n",
       "id_life_flag              0\n",
       "poc_ppg_cluster           0\n",
       "category_name             0\n",
       "price_segment             0\n",
       "brand                     0\n",
       "subbrand                  0\n",
       "subchannel                0\n",
       "channel_type              0\n",
       "segment                   0\n",
       "ppg_seasonality_index     0\n",
       "poc_seasonality_index     0\n",
       "sales_lag_12              0\n",
       "sales_lag_13              0\n",
       "sales_lag_14              0\n",
       "sales_lag_15              0\n",
       "sales_lag_13_diff         0\n",
       "sales_lag_14_diff         0\n",
       "sales_lag_15_diff         0\n",
       "dtype: int64"
      ]
     },
     "execution_count": 74,
     "metadata": {},
     "output_type": "execute_result"
    }
   ],
   "source": [
    "volume_monthly_df_best.isnull().sum()"
   ]
  },
  {
   "cell_type": "code",
   "execution_count": 75,
   "id": "0335643c",
   "metadata": {},
   "outputs": [
    {
     "data": {
      "text/plain": [
       "(2565882, 26)"
      ]
     },
     "execution_count": 75,
     "metadata": {},
     "output_type": "execute_result"
    }
   ],
   "source": [
    "volume_monthly_df_best.shape"
   ]
  },
  {
   "cell_type": "markdown",
   "id": "e691b518",
   "metadata": {},
   "source": [
    "#### roll features"
   ]
  },
  {
   "cell_type": "code",
   "execution_count": 76,
   "id": "a653b456",
   "metadata": {},
   "outputs": [],
   "source": [
    "def roll_mean_features(dataframe, windows, id_col, target_col):\n",
    "    dataframe = dataframe.copy()\n",
    "    for window in windows:\n",
    "        dataframe[\"sales_roll_mean_\" + str(window)] = dataframe.groupby([id_col])[\n",
    "            target_col\n",
    "        ].transform(\n",
    "            lambda x: x.shift(12)\n",
    "            .rolling(window=window, min_periods=1)\n",
    "            .mean()\n",
    "            .fillna(method=\"bfill\")\n",
    "            .fillna(method=\"ffill\")\n",
    "            .fillna(0.0)\n",
    "        ) + random_noise(\n",
    "            dataframe\n",
    "        )\n",
    "    return dataframe"
   ]
  },
  {
   "cell_type": "code",
   "execution_count": 77,
   "id": "f296a52f",
   "metadata": {},
   "outputs": [],
   "source": [
    "volume_monthly_df_best = roll_mean_features(volume_monthly_df_best, [3, 6, 9], \"poc_ppg_id\", \"sales_volume_hl_agg\")"
   ]
  },
  {
   "cell_type": "code",
   "execution_count": 78,
   "id": "ba2f1d17",
   "metadata": {},
   "outputs": [
    {
     "data": {
      "text/plain": [
       "poc_ppg_id                0\n",
       "ppg_name                  0\n",
       "unique_poc_id             0\n",
       "year                      0\n",
       "month                     0\n",
       "sales_volume_hl_agg       0\n",
       "year_month_start_date     0\n",
       "sample_submission_flag    0\n",
       "id_life_flag              0\n",
       "poc_ppg_cluster           0\n",
       "category_name             0\n",
       "price_segment             0\n",
       "brand                     0\n",
       "subbrand                  0\n",
       "subchannel                0\n",
       "channel_type              0\n",
       "segment                   0\n",
       "ppg_seasonality_index     0\n",
       "poc_seasonality_index     0\n",
       "sales_lag_12              0\n",
       "sales_lag_13              0\n",
       "sales_lag_14              0\n",
       "sales_lag_15              0\n",
       "sales_lag_13_diff         0\n",
       "sales_lag_14_diff         0\n",
       "sales_lag_15_diff         0\n",
       "sales_roll_mean_3         0\n",
       "sales_roll_mean_6         0\n",
       "sales_roll_mean_9         0\n",
       "dtype: int64"
      ]
     },
     "execution_count": 78,
     "metadata": {},
     "output_type": "execute_result"
    }
   ],
   "source": [
    "volume_monthly_df_best.isnull().sum()"
   ]
  },
  {
   "cell_type": "code",
   "execution_count": 79,
   "id": "a789a153",
   "metadata": {},
   "outputs": [
    {
     "data": {
      "text/plain": [
       "(2565882, 29)"
      ]
     },
     "execution_count": 79,
     "metadata": {},
     "output_type": "execute_result"
    }
   ],
   "source": [
    "volume_monthly_df_best.shape"
   ]
  },
  {
   "cell_type": "markdown",
   "id": "542fb248",
   "metadata": {},
   "source": [
    "#### ewm features"
   ]
  },
  {
   "cell_type": "code",
   "execution_count": 80,
   "id": "57b9ece3",
   "metadata": {},
   "outputs": [],
   "source": [
    "def ewm_features(dataframe, alphas, lags, id_col, target_col):\n",
    "    dataframe = dataframe.copy()\n",
    "    for alpha in alphas:\n",
    "        for lag in lags:\n",
    "            dataframe[\n",
    "                \"sales_ewm_alpha_\" + str(alpha).replace(\".\", \"\") + \"_lag_\" + str(lag)\n",
    "            ] = dataframe.groupby([id_col])[target_col].transform(\n",
    "                lambda x: x.shift(lag)\n",
    "                .ewm(alpha=alpha, min_periods=1)\n",
    "                .mean()\n",
    "                .fillna(method=\"bfill\")\n",
    "                .fillna(method=\"ffill\")\n",
    "                .fillna(0.0)\n",
    "            )\n",
    "    return dataframe"
   ]
  },
  {
   "cell_type": "code",
   "execution_count": 81,
   "id": "fb694c94",
   "metadata": {},
   "outputs": [],
   "source": [
    "volume_monthly_df_best = ewm_features(\n",
    "    volume_monthly_df_best, [0.95, 0.9, 0.8], [12, 13, 14], \"poc_ppg_id\", \"sales_volume_hl_agg\"\n",
    ")"
   ]
  },
  {
   "cell_type": "code",
   "execution_count": 82,
   "id": "f5ad673e",
   "metadata": {},
   "outputs": [
    {
     "data": {
      "text/plain": [
       "(2565882, 38)"
      ]
     },
     "execution_count": 82,
     "metadata": {},
     "output_type": "execute_result"
    }
   ],
   "source": [
    "volume_monthly_df_best.shape"
   ]
  },
  {
   "cell_type": "markdown",
   "id": "09bd3635",
   "metadata": {},
   "source": [
    "##### macro"
   ]
  },
  {
   "cell_type": "code",
   "execution_count": 83,
   "id": "42d29c98",
   "metadata": {},
   "outputs": [],
   "source": [
    "ppg_financials = pd.read_pickle(\n",
    "    os.path.join(os.getcwd(), processed_macro, \"ppg_financials.pkl\")\n",
    ")\n",
    "\n",
    "calendar_df_month = pd.read_pickle(\n",
    "    os.path.join(os.getcwd(), processed_macro, \"calendar_df_month.pkl\")\n",
    ")\n",
    "covid_data_monthly = pd.read_pickle(\n",
    "    os.path.join(os.getcwd(), processed_macro, \"covid_data_monthly.pkl\")\n",
    ")\n",
    "weather_data_monthly = pd.read_pickle(\n",
    "    os.path.join(os.getcwd(), processed_macro, \"weather_data_monthly.pkl\")\n",
    ")\n",
    "macro_df = pd.read_pickle(\n",
    "    os.path.join(os.getcwd(), processed_macro, \"macro_eco_df_pvt.pkl\")\n",
    ")"
   ]
  },
  {
   "cell_type": "code",
   "execution_count": 84,
   "id": "92b23488",
   "metadata": {},
   "outputs": [
    {
     "data": {
      "text/plain": [
       "poc_ppg_id                    0\n",
       "ppg_name                      0\n",
       "unique_poc_id                 0\n",
       "year                          0\n",
       "month                         0\n",
       "sales_volume_hl_agg           0\n",
       "year_month_start_date         0\n",
       "sample_submission_flag        0\n",
       "id_life_flag                  0\n",
       "poc_ppg_cluster               0\n",
       "category_name                 0\n",
       "price_segment                 0\n",
       "brand                         0\n",
       "subbrand                      0\n",
       "subchannel                    0\n",
       "channel_type                  0\n",
       "segment                       0\n",
       "ppg_seasonality_index         0\n",
       "poc_seasonality_index         0\n",
       "sales_lag_12                  0\n",
       "sales_lag_13                  0\n",
       "sales_lag_14                  0\n",
       "sales_lag_15                  0\n",
       "sales_lag_13_diff             0\n",
       "sales_lag_14_diff             0\n",
       "sales_lag_15_diff             0\n",
       "sales_roll_mean_3             0\n",
       "sales_roll_mean_6             0\n",
       "sales_roll_mean_9             0\n",
       "sales_ewm_alpha_095_lag_12    0\n",
       "sales_ewm_alpha_095_lag_13    0\n",
       "sales_ewm_alpha_095_lag_14    0\n",
       "sales_ewm_alpha_09_lag_12     0\n",
       "sales_ewm_alpha_09_lag_13     0\n",
       "sales_ewm_alpha_09_lag_14     0\n",
       "sales_ewm_alpha_08_lag_12     0\n",
       "sales_ewm_alpha_08_lag_13     0\n",
       "sales_ewm_alpha_08_lag_14     0\n",
       "maco_hl                       0\n",
       "nr_hl                         0\n",
       "dtype: int64"
      ]
     },
     "execution_count": 84,
     "metadata": {},
     "output_type": "execute_result"
    }
   ],
   "source": [
    "volume_monthly_df_best = pd.merge(\n",
    "    volume_monthly_df_best, ppg_financials, on=[\"ppg_name\", \"year\", \"month\"], how=\"left\"\n",
    ")\n",
    "\n",
    "# filling the missing values\n",
    "volume_monthly_df_best[\"maco_hl\"] = volume_monthly_df_best.groupby([\"ppg_name\", \"month\"])[\"maco_hl\"].transform(\n",
    "    lambda x: x.median()\n",
    ")\n",
    "volume_monthly_df_best[\"nr_hl\"] = volume_monthly_df_best.groupby([\"ppg_name\", \"month\"])[\"nr_hl\"].transform(\n",
    "    lambda x: x.median()\n",
    ")\n",
    "\n",
    "volume_monthly_df_best.isnull().sum()"
   ]
  },
  {
   "cell_type": "code",
   "execution_count": 85,
   "id": "91c92b19",
   "metadata": {},
   "outputs": [
    {
     "data": {
      "text/plain": [
       "(2565882, 40)"
      ]
     },
     "execution_count": 85,
     "metadata": {},
     "output_type": "execute_result"
    }
   ],
   "source": [
    "volume_monthly_df_best.shape"
   ]
  },
  {
   "cell_type": "code",
   "execution_count": 86,
   "id": "6e73752e",
   "metadata": {},
   "outputs": [
    {
     "data": {
      "text/plain": [
       "poc_ppg_id                    0\n",
       "ppg_name                      0\n",
       "unique_poc_id                 0\n",
       "year                          0\n",
       "month                         0\n",
       "sales_volume_hl_agg           0\n",
       "year_month_start_date         0\n",
       "sample_submission_flag        0\n",
       "id_life_flag                  0\n",
       "poc_ppg_cluster               0\n",
       "category_name                 0\n",
       "price_segment                 0\n",
       "brand                         0\n",
       "subbrand                      0\n",
       "subchannel                    0\n",
       "channel_type                  0\n",
       "segment                       0\n",
       "ppg_seasonality_index         0\n",
       "poc_seasonality_index         0\n",
       "sales_lag_12                  0\n",
       "sales_lag_13                  0\n",
       "sales_lag_14                  0\n",
       "sales_lag_15                  0\n",
       "sales_lag_13_diff             0\n",
       "sales_lag_14_diff             0\n",
       "sales_lag_15_diff             0\n",
       "sales_roll_mean_3             0\n",
       "sales_roll_mean_6             0\n",
       "sales_roll_mean_9             0\n",
       "sales_ewm_alpha_095_lag_12    0\n",
       "sales_ewm_alpha_095_lag_13    0\n",
       "sales_ewm_alpha_095_lag_14    0\n",
       "sales_ewm_alpha_09_lag_12     0\n",
       "sales_ewm_alpha_09_lag_13     0\n",
       "sales_ewm_alpha_09_lag_14     0\n",
       "sales_ewm_alpha_08_lag_12     0\n",
       "sales_ewm_alpha_08_lag_13     0\n",
       "sales_ewm_alpha_08_lag_14     0\n",
       "maco_hl                       0\n",
       "nr_hl                         0\n",
       "quarter                       0\n",
       "holiday                       0\n",
       "month_sin                     0\n",
       "month_cos                     0\n",
       "quarter_sin                   0\n",
       "quarter_cos                   0\n",
       "dtype: int64"
      ]
     },
     "execution_count": 86,
     "metadata": {},
     "output_type": "execute_result"
    }
   ],
   "source": [
    "calendar_df_month.head()\n",
    "\n",
    "volume_monthly_df_best = pd.merge(\n",
    "    volume_monthly_df_best,\n",
    "    calendar_df_month[\n",
    "        [\n",
    "            \"year\",\n",
    "            \"month\",\n",
    "            \"quarter\",\n",
    "            \"holiday\",\n",
    "            \"month_sin\",\n",
    "            \"month_cos\",\n",
    "            \"quarter_sin\",\n",
    "            \"quarter_cos\",\n",
    "        ]\n",
    "    ],\n",
    "    on=[\"year\", \"month\"],\n",
    "    how=\"left\",\n",
    ")\n",
    "\n",
    "volume_monthly_df_best.isnull().sum()"
   ]
  },
  {
   "cell_type": "code",
   "execution_count": 87,
   "id": "42bcb920",
   "metadata": {},
   "outputs": [
    {
     "data": {
      "text/plain": [
       "(2565882, 46)"
      ]
     },
     "execution_count": 87,
     "metadata": {},
     "output_type": "execute_result"
    }
   ],
   "source": [
    "volume_monthly_df_best.shape"
   ]
  },
  {
   "cell_type": "code",
   "execution_count": 88,
   "id": "a41b53dc",
   "metadata": {},
   "outputs": [
    {
     "data": {
      "text/plain": [
       "poc_ppg_id                    0\n",
       "ppg_name                      0\n",
       "unique_poc_id                 0\n",
       "year                          0\n",
       "month                         0\n",
       "sales_volume_hl_agg           0\n",
       "year_month_start_date         0\n",
       "sample_submission_flag        0\n",
       "id_life_flag                  0\n",
       "poc_ppg_cluster               0\n",
       "category_name                 0\n",
       "price_segment                 0\n",
       "brand                         0\n",
       "subbrand                      0\n",
       "subchannel                    0\n",
       "channel_type                  0\n",
       "segment                       0\n",
       "ppg_seasonality_index         0\n",
       "poc_seasonality_index         0\n",
       "sales_lag_12                  0\n",
       "sales_lag_13                  0\n",
       "sales_lag_14                  0\n",
       "sales_lag_15                  0\n",
       "sales_lag_13_diff             0\n",
       "sales_lag_14_diff             0\n",
       "sales_lag_15_diff             0\n",
       "sales_roll_mean_3             0\n",
       "sales_roll_mean_6             0\n",
       "sales_roll_mean_9             0\n",
       "sales_ewm_alpha_095_lag_12    0\n",
       "sales_ewm_alpha_095_lag_13    0\n",
       "sales_ewm_alpha_095_lag_14    0\n",
       "sales_ewm_alpha_09_lag_12     0\n",
       "sales_ewm_alpha_09_lag_13     0\n",
       "sales_ewm_alpha_09_lag_14     0\n",
       "sales_ewm_alpha_08_lag_12     0\n",
       "sales_ewm_alpha_08_lag_13     0\n",
       "sales_ewm_alpha_08_lag_14     0\n",
       "maco_hl                       0\n",
       "nr_hl                         0\n",
       "quarter                       0\n",
       "holiday                       0\n",
       "month_sin                     0\n",
       "month_cos                     0\n",
       "quarter_sin                   0\n",
       "quarter_cos                   0\n",
       "daily_cases                   0\n",
       "daily_deaths                  0\n",
       "daily_cases_band              0\n",
       "daily_deaths_band             0\n",
       "dtype: int64"
      ]
     },
     "execution_count": 88,
     "metadata": {},
     "output_type": "execute_result"
    }
   ],
   "source": [
    "volume_monthly_df_best = pd.merge(\n",
    "    volume_monthly_df_best,\n",
    "    covid_data_monthly[\n",
    "        [\n",
    "            \"year\",\n",
    "            \"month\",\n",
    "            \"daily_cases\",\n",
    "            \"daily_deaths\",\n",
    "            \"daily_cases_band\",\n",
    "            \"daily_deaths_band\",\n",
    "        ]\n",
    "    ],\n",
    "    on=[\"year\", \"month\"],\n",
    "    how=\"left\",\n",
    ")\n",
    "\n",
    "# missing values\n",
    "volume_monthly_df_best[[\"daily_cases\", \"daily_deaths\"]] = volume_monthly_df_best[\n",
    "    [\"daily_cases\", \"daily_deaths\"]\n",
    "].fillna(0.0)\n",
    "\n",
    "volume_monthly_df_best[[\"daily_cases_band\", \"daily_deaths_band\"]] = (\n",
    "    volume_monthly_df_best[[\"daily_cases_band\", \"daily_deaths_band\"]]\n",
    "    .astype(str)\n",
    "    .replace(\"nan\", \"unknown\")\n",
    ")\n",
    "\n",
    "volume_monthly_df_best.isnull().sum()"
   ]
  },
  {
   "cell_type": "code",
   "execution_count": 89,
   "id": "947b22f5",
   "metadata": {},
   "outputs": [
    {
     "data": {
      "text/plain": [
       "(2565882, 50)"
      ]
     },
     "execution_count": 89,
     "metadata": {},
     "output_type": "execute_result"
    }
   ],
   "source": [
    "volume_monthly_df_best.shape"
   ]
  },
  {
   "cell_type": "code",
   "execution_count": 90,
   "id": "a01f1793",
   "metadata": {},
   "outputs": [],
   "source": [
    "# weather details\n",
    "volume_monthly_df_best = pd.merge(\n",
    "    volume_monthly_df_best,\n",
    "    weather_data_monthly[\n",
    "        [\n",
    "            \"year\",\n",
    "            \"month\",\n",
    "            \"tempmax\",\n",
    "            \"tempmin\",\n",
    "            \"temp\",\n",
    "            \"dew\",\n",
    "            \"humidity\",\n",
    "            \"precip\",\n",
    "            \"windgust\",\n",
    "        ]\n",
    "    ],\n",
    "    on=[\"year\", \"month\"],\n",
    "    how=\"left\",\n",
    ")"
   ]
  },
  {
   "cell_type": "code",
   "execution_count": 91,
   "id": "bcf2b6cc",
   "metadata": {},
   "outputs": [
    {
     "data": {
      "text/plain": [
       "poc_ppg_id                    0\n",
       "ppg_name                      0\n",
       "unique_poc_id                 0\n",
       "year                          0\n",
       "month                         0\n",
       "sales_volume_hl_agg           0\n",
       "year_month_start_date         0\n",
       "sample_submission_flag        0\n",
       "id_life_flag                  0\n",
       "poc_ppg_cluster               0\n",
       "category_name                 0\n",
       "price_segment                 0\n",
       "brand                         0\n",
       "subbrand                      0\n",
       "subchannel                    0\n",
       "channel_type                  0\n",
       "segment                       0\n",
       "ppg_seasonality_index         0\n",
       "poc_seasonality_index         0\n",
       "sales_lag_12                  0\n",
       "sales_lag_13                  0\n",
       "sales_lag_14                  0\n",
       "sales_lag_15                  0\n",
       "sales_lag_13_diff             0\n",
       "sales_lag_14_diff             0\n",
       "sales_lag_15_diff             0\n",
       "sales_roll_mean_3             0\n",
       "sales_roll_mean_6             0\n",
       "sales_roll_mean_9             0\n",
       "sales_ewm_alpha_095_lag_12    0\n",
       "sales_ewm_alpha_095_lag_13    0\n",
       "sales_ewm_alpha_095_lag_14    0\n",
       "sales_ewm_alpha_09_lag_12     0\n",
       "sales_ewm_alpha_09_lag_13     0\n",
       "sales_ewm_alpha_09_lag_14     0\n",
       "sales_ewm_alpha_08_lag_12     0\n",
       "sales_ewm_alpha_08_lag_13     0\n",
       "sales_ewm_alpha_08_lag_14     0\n",
       "maco_hl                       0\n",
       "nr_hl                         0\n",
       "quarter                       0\n",
       "holiday                       0\n",
       "month_sin                     0\n",
       "month_cos                     0\n",
       "quarter_sin                   0\n",
       "quarter_cos                   0\n",
       "daily_cases                   0\n",
       "daily_deaths                  0\n",
       "daily_cases_band              0\n",
       "daily_deaths_band             0\n",
       "tempmax                       0\n",
       "tempmin                       0\n",
       "temp                          0\n",
       "dew                           0\n",
       "humidity                      0\n",
       "precip                        0\n",
       "windgust                      0\n",
       "dtype: int64"
      ]
     },
     "execution_count": 91,
     "metadata": {},
     "output_type": "execute_result"
    }
   ],
   "source": [
    "volume_monthly_df_best.isnull().sum()"
   ]
  },
  {
   "cell_type": "code",
   "execution_count": 92,
   "id": "217da3dd",
   "metadata": {},
   "outputs": [
    {
     "data": {
      "text/plain": [
       "(2565882, 57)"
      ]
     },
     "execution_count": 92,
     "metadata": {},
     "output_type": "execute_result"
    }
   ],
   "source": [
    "volume_monthly_df_best.shape"
   ]
  },
  {
   "cell_type": "markdown",
   "id": "0aa0d737",
   "metadata": {},
   "source": [
    "##### macro"
   ]
  },
  {
   "cell_type": "code",
   "execution_count": 93,
   "id": "392c9ec6",
   "metadata": {},
   "outputs": [],
   "source": [
    "best_kpis = [\n",
    "    'consumer price index, aop',\n",
    "    'retail sales, volume index',\n",
    "    'retail sales, value index',\n",
    "    'exchange rate lc per usd, aop',\n",
    "    'production index, industry',\n",
    "    'inflation, cpi, aop',\n",
    "    'interest rate, short-term',\n",
    "    'effective exchange rate index, nominal',\n",
    "    'retail sales, volume index, % change previous year',\n",
    "    'wholesale price index',\n",
    "    \"year\",\n",
    "    \"month\"\n",
    "]"
   ]
  },
  {
   "cell_type": "code",
   "execution_count": 94,
   "id": "b1ed4046",
   "metadata": {},
   "outputs": [],
   "source": [
    "# weather details\n",
    "volume_monthly_df_best = pd.merge(\n",
    "    volume_monthly_df_best,\n",
    "    macro_df[best_kpis],\n",
    "    on=[\"year\", \"month\"],\n",
    "    how=\"left\",\n",
    ")"
   ]
  },
  {
   "cell_type": "code",
   "execution_count": 95,
   "id": "86988b80",
   "metadata": {},
   "outputs": [
    {
     "data": {
      "text/html": [
       "<div>\n",
       "<style scoped>\n",
       "    .dataframe tbody tr th:only-of-type {\n",
       "        vertical-align: middle;\n",
       "    }\n",
       "\n",
       "    .dataframe tbody tr th {\n",
       "        vertical-align: top;\n",
       "    }\n",
       "\n",
       "    .dataframe thead th {\n",
       "        text-align: right;\n",
       "    }\n",
       "</style>\n",
       "<table border=\"1\" class=\"dataframe\">\n",
       "  <thead>\n",
       "    <tr style=\"text-align: right;\">\n",
       "      <th></th>\n",
       "      <th>poc_ppg_id</th>\n",
       "      <th>ppg_name</th>\n",
       "      <th>unique_poc_id</th>\n",
       "      <th>year</th>\n",
       "      <th>month</th>\n",
       "      <th>sales_volume_hl_agg</th>\n",
       "      <th>year_month_start_date</th>\n",
       "      <th>sample_submission_flag</th>\n",
       "      <th>id_life_flag</th>\n",
       "      <th>poc_ppg_cluster</th>\n",
       "      <th>category_name</th>\n",
       "      <th>price_segment</th>\n",
       "      <th>brand</th>\n",
       "      <th>subbrand</th>\n",
       "      <th>subchannel</th>\n",
       "      <th>channel_type</th>\n",
       "      <th>segment</th>\n",
       "      <th>ppg_seasonality_index</th>\n",
       "      <th>poc_seasonality_index</th>\n",
       "      <th>sales_lag_12</th>\n",
       "      <th>sales_lag_13</th>\n",
       "      <th>sales_lag_14</th>\n",
       "      <th>sales_lag_15</th>\n",
       "      <th>sales_lag_13_diff</th>\n",
       "      <th>sales_lag_14_diff</th>\n",
       "      <th>sales_lag_15_diff</th>\n",
       "      <th>sales_roll_mean_3</th>\n",
       "      <th>sales_roll_mean_6</th>\n",
       "      <th>sales_roll_mean_9</th>\n",
       "      <th>sales_ewm_alpha_095_lag_12</th>\n",
       "      <th>sales_ewm_alpha_095_lag_13</th>\n",
       "      <th>sales_ewm_alpha_095_lag_14</th>\n",
       "      <th>sales_ewm_alpha_09_lag_12</th>\n",
       "      <th>sales_ewm_alpha_09_lag_13</th>\n",
       "      <th>sales_ewm_alpha_09_lag_14</th>\n",
       "      <th>sales_ewm_alpha_08_lag_12</th>\n",
       "      <th>sales_ewm_alpha_08_lag_13</th>\n",
       "      <th>sales_ewm_alpha_08_lag_14</th>\n",
       "      <th>maco_hl</th>\n",
       "      <th>nr_hl</th>\n",
       "      <th>quarter</th>\n",
       "      <th>holiday</th>\n",
       "      <th>month_sin</th>\n",
       "      <th>month_cos</th>\n",
       "      <th>quarter_sin</th>\n",
       "      <th>quarter_cos</th>\n",
       "      <th>daily_cases</th>\n",
       "      <th>daily_deaths</th>\n",
       "      <th>daily_cases_band</th>\n",
       "      <th>daily_deaths_band</th>\n",
       "      <th>tempmax</th>\n",
       "      <th>tempmin</th>\n",
       "      <th>temp</th>\n",
       "      <th>dew</th>\n",
       "      <th>humidity</th>\n",
       "      <th>precip</th>\n",
       "      <th>windgust</th>\n",
       "      <th>consumer price index, aop</th>\n",
       "      <th>retail sales, volume index</th>\n",
       "      <th>retail sales, value index</th>\n",
       "      <th>exchange rate lc per usd, aop</th>\n",
       "      <th>production index, industry</th>\n",
       "      <th>inflation, cpi, aop</th>\n",
       "      <th>interest rate, short-term</th>\n",
       "      <th>effective exchange rate index, nominal</th>\n",
       "      <th>retail sales, volume index, % change previous year</th>\n",
       "      <th>wholesale price index</th>\n",
       "    </tr>\n",
       "  </thead>\n",
       "  <tbody>\n",
       "    <tr>\n",
       "      <th>0</th>\n",
       "      <td>AAAC__CJ_C_FN_M</td>\n",
       "      <td>CJ C FN M</td>\n",
       "      <td>AAAC</td>\n",
       "      <td>2021</td>\n",
       "      <td>9</td>\n",
       "      <td>2.657029</td>\n",
       "      <td>2021-09-01</td>\n",
       "      <td>1.0</td>\n",
       "      <td>1.0</td>\n",
       "      <td>1_1</td>\n",
       "      <td>BM</td>\n",
       "      <td>EJ CW</td>\n",
       "      <td>CJ</td>\n",
       "      <td>CJ C</td>\n",
       "      <td>AQXZ APPZ ADOT</td>\n",
       "      <td>BBOB</td>\n",
       "      <td>AZJC UIP</td>\n",
       "      <td>0.086632</td>\n",
       "      <td>0.083310</td>\n",
       "      <td>2.680361</td>\n",
       "      <td>2.659049</td>\n",
       "      <td>2.641487</td>\n",
       "      <td>2.663112</td>\n",
       "      <td>-0.021312</td>\n",
       "      <td>-0.017561</td>\n",
       "      <td>0.021625</td>\n",
       "      <td>2.675780</td>\n",
       "      <td>2.652467</td>\n",
       "      <td>2.650496</td>\n",
       "      <td>2.657029</td>\n",
       "      <td>2.657029</td>\n",
       "      <td>2.657029</td>\n",
       "      <td>2.657029</td>\n",
       "      <td>2.657029</td>\n",
       "      <td>2.657029</td>\n",
       "      <td>2.657029</td>\n",
       "      <td>2.657029</td>\n",
       "      <td>2.657029</td>\n",
       "      <td>63.695448</td>\n",
       "      <td>113.044610</td>\n",
       "      <td>3</td>\n",
       "      <td>1.0</td>\n",
       "      <td>-1.000000e+00</td>\n",
       "      <td>-1.836970e-16</td>\n",
       "      <td>-1.000000e+00</td>\n",
       "      <td>-1.836970e-16</td>\n",
       "      <td>125013.0</td>\n",
       "      <td>5365.0</td>\n",
       "      <td>high</td>\n",
       "      <td>high</td>\n",
       "      <td>18.65</td>\n",
       "      <td>9.5</td>\n",
       "      <td>14.15</td>\n",
       "      <td>8.20</td>\n",
       "      <td>68.40</td>\n",
       "      <td>0.000</td>\n",
       "      <td>43.35</td>\n",
       "      <td>109.067272</td>\n",
       "      <td>99.803771</td>\n",
       "      <td>108.842318</td>\n",
       "      <td>14.566128</td>\n",
       "      <td>93.946973</td>\n",
       "      <td>4.965848</td>\n",
       "      <td>3.79</td>\n",
       "      <td>99.876129</td>\n",
       "      <td>2.243897</td>\n",
       "      <td>111.255241</td>\n",
       "    </tr>\n",
       "    <tr>\n",
       "      <th>1</th>\n",
       "      <td>AAAC__CJ_C_FN_M</td>\n",
       "      <td>CJ C FN M</td>\n",
       "      <td>AAAC</td>\n",
       "      <td>2021</td>\n",
       "      <td>10</td>\n",
       "      <td>1.635095</td>\n",
       "      <td>2021-10-01</td>\n",
       "      <td>1.0</td>\n",
       "      <td>1.0</td>\n",
       "      <td>1_1</td>\n",
       "      <td>BM</td>\n",
       "      <td>EJ CW</td>\n",
       "      <td>CJ</td>\n",
       "      <td>CJ C</td>\n",
       "      <td>AQXZ APPZ ADOT</td>\n",
       "      <td>BBOB</td>\n",
       "      <td>AZJC UIP</td>\n",
       "      <td>0.097920</td>\n",
       "      <td>0.099356</td>\n",
       "      <td>2.660838</td>\n",
       "      <td>2.665773</td>\n",
       "      <td>2.663828</td>\n",
       "      <td>2.645569</td>\n",
       "      <td>0.004934</td>\n",
       "      <td>-0.001944</td>\n",
       "      <td>-0.018259</td>\n",
       "      <td>2.659772</td>\n",
       "      <td>2.658145</td>\n",
       "      <td>2.643428</td>\n",
       "      <td>2.657029</td>\n",
       "      <td>2.657029</td>\n",
       "      <td>2.657029</td>\n",
       "      <td>2.657029</td>\n",
       "      <td>2.657029</td>\n",
       "      <td>2.657029</td>\n",
       "      <td>2.657029</td>\n",
       "      <td>2.657029</td>\n",
       "      <td>2.657029</td>\n",
       "      <td>61.805912</td>\n",
       "      <td>111.155075</td>\n",
       "      <td>4</td>\n",
       "      <td>0.0</td>\n",
       "      <td>-8.660254e-01</td>\n",
       "      <td>5.000000e-01</td>\n",
       "      <td>-2.449294e-16</td>\n",
       "      <td>1.000000e+00</td>\n",
       "      <td>19444.0</td>\n",
       "      <td>1551.0</td>\n",
       "      <td>low</td>\n",
       "      <td>mid</td>\n",
       "      <td>22.00</td>\n",
       "      <td>13.0</td>\n",
       "      <td>17.20</td>\n",
       "      <td>10.10</td>\n",
       "      <td>68.00</td>\n",
       "      <td>0.001</td>\n",
       "      <td>44.90</td>\n",
       "      <td>109.544098</td>\n",
       "      <td>100.516543</td>\n",
       "      <td>110.098882</td>\n",
       "      <td>14.847482</td>\n",
       "      <td>89.044522</td>\n",
       "      <td>4.964110</td>\n",
       "      <td>3.75</td>\n",
       "      <td>98.607810</td>\n",
       "      <td>2.394505</td>\n",
       "      <td>112.176646</td>\n",
       "    </tr>\n",
       "    <tr>\n",
       "      <th>2</th>\n",
       "      <td>AAAC__CJ_C_FN_M</td>\n",
       "      <td>CJ C FN M</td>\n",
       "      <td>AAAC</td>\n",
       "      <td>2021</td>\n",
       "      <td>11</td>\n",
       "      <td>5.477568</td>\n",
       "      <td>2021-11-01</td>\n",
       "      <td>1.0</td>\n",
       "      <td>1.0</td>\n",
       "      <td>1_1</td>\n",
       "      <td>BM</td>\n",
       "      <td>EJ CW</td>\n",
       "      <td>CJ</td>\n",
       "      <td>CJ C</td>\n",
       "      <td>AQXZ APPZ ADOT</td>\n",
       "      <td>BBOB</td>\n",
       "      <td>AZJC UIP</td>\n",
       "      <td>0.116346</td>\n",
       "      <td>0.114571</td>\n",
       "      <td>2.663475</td>\n",
       "      <td>2.656727</td>\n",
       "      <td>2.663527</td>\n",
       "      <td>2.641021</td>\n",
       "      <td>-0.006748</td>\n",
       "      <td>0.006800</td>\n",
       "      <td>-0.022506</td>\n",
       "      <td>2.663179</td>\n",
       "      <td>2.658387</td>\n",
       "      <td>2.659077</td>\n",
       "      <td>2.657029</td>\n",
       "      <td>2.657029</td>\n",
       "      <td>2.657029</td>\n",
       "      <td>2.657029</td>\n",
       "      <td>2.657029</td>\n",
       "      <td>2.657029</td>\n",
       "      <td>2.657029</td>\n",
       "      <td>2.657029</td>\n",
       "      <td>2.657029</td>\n",
       "      <td>62.990969</td>\n",
       "      <td>112.155744</td>\n",
       "      <td>4</td>\n",
       "      <td>0.0</td>\n",
       "      <td>-5.000000e-01</td>\n",
       "      <td>8.660254e-01</td>\n",
       "      <td>-2.449294e-16</td>\n",
       "      <td>1.000000e+00</td>\n",
       "      <td>45936.0</td>\n",
       "      <td>666.0</td>\n",
       "      <td>mid</td>\n",
       "      <td>mid</td>\n",
       "      <td>22.00</td>\n",
       "      <td>15.0</td>\n",
       "      <td>18.10</td>\n",
       "      <td>11.75</td>\n",
       "      <td>65.45</td>\n",
       "      <td>0.000</td>\n",
       "      <td>46.30</td>\n",
       "      <td>110.214387</td>\n",
       "      <td>100.150272</td>\n",
       "      <td>110.368923</td>\n",
       "      <td>15.480569</td>\n",
       "      <td>93.946973</td>\n",
       "      <td>5.379141</td>\n",
       "      <td>3.89</td>\n",
       "      <td>95.304895</td>\n",
       "      <td>2.178436</td>\n",
       "      <td>114.017164</td>\n",
       "    </tr>\n",
       "    <tr>\n",
       "      <th>3</th>\n",
       "      <td>AAAC__CJ_C_FN_M</td>\n",
       "      <td>CJ C FN M</td>\n",
       "      <td>AAAC</td>\n",
       "      <td>2021</td>\n",
       "      <td>12</td>\n",
       "      <td>4.905285</td>\n",
       "      <td>2021-12-01</td>\n",
       "      <td>1.0</td>\n",
       "      <td>1.0</td>\n",
       "      <td>1_1</td>\n",
       "      <td>BM</td>\n",
       "      <td>EJ CW</td>\n",
       "      <td>CJ</td>\n",
       "      <td>CJ C</td>\n",
       "      <td>AQXZ APPZ ADOT</td>\n",
       "      <td>BBOB</td>\n",
       "      <td>AZJC UIP</td>\n",
       "      <td>0.135510</td>\n",
       "      <td>0.138193</td>\n",
       "      <td>2.645500</td>\n",
       "      <td>2.674356</td>\n",
       "      <td>2.650064</td>\n",
       "      <td>2.654775</td>\n",
       "      <td>0.028856</td>\n",
       "      <td>-0.024293</td>\n",
       "      <td>0.004711</td>\n",
       "      <td>2.663731</td>\n",
       "      <td>2.652931</td>\n",
       "      <td>2.670176</td>\n",
       "      <td>2.657029</td>\n",
       "      <td>2.657029</td>\n",
       "      <td>2.657029</td>\n",
       "      <td>2.657029</td>\n",
       "      <td>2.657029</td>\n",
       "      <td>2.657029</td>\n",
       "      <td>2.657029</td>\n",
       "      <td>2.657029</td>\n",
       "      <td>2.657029</td>\n",
       "      <td>63.164604</td>\n",
       "      <td>111.637664</td>\n",
       "      <td>4</td>\n",
       "      <td>4.0</td>\n",
       "      <td>-2.449294e-16</td>\n",
       "      <td>1.000000e+00</td>\n",
       "      <td>-2.449294e-16</td>\n",
       "      <td>1.000000e+00</td>\n",
       "      <td>490234.0</td>\n",
       "      <td>1302.0</td>\n",
       "      <td>high</td>\n",
       "      <td>mid</td>\n",
       "      <td>23.00</td>\n",
       "      <td>15.8</td>\n",
       "      <td>19.30</td>\n",
       "      <td>13.20</td>\n",
       "      <td>64.50</td>\n",
       "      <td>0.000</td>\n",
       "      <td>51.50</td>\n",
       "      <td>111.006049</td>\n",
       "      <td>101.133586</td>\n",
       "      <td>112.253124</td>\n",
       "      <td>15.850507</td>\n",
       "      <td>94.647324</td>\n",
       "      <td>5.915687</td>\n",
       "      <td>3.83</td>\n",
       "      <td>93.725565</td>\n",
       "      <td>2.450774</td>\n",
       "      <td>115.774565</td>\n",
       "    </tr>\n",
       "    <tr>\n",
       "      <th>4</th>\n",
       "      <td>AAAC__CJ_C_FN_M</td>\n",
       "      <td>CJ C FN M</td>\n",
       "      <td>AAAC</td>\n",
       "      <td>2022</td>\n",
       "      <td>1</td>\n",
       "      <td>0.613161</td>\n",
       "      <td>2022-01-01</td>\n",
       "      <td>1.0</td>\n",
       "      <td>1.0</td>\n",
       "      <td>1_1</td>\n",
       "      <td>BM</td>\n",
       "      <td>EJ CW</td>\n",
       "      <td>CJ</td>\n",
       "      <td>CJ C</td>\n",
       "      <td>AQXZ APPZ ADOT</td>\n",
       "      <td>BBOB</td>\n",
       "      <td>AZJC UIP</td>\n",
       "      <td>0.056200</td>\n",
       "      <td>0.055705</td>\n",
       "      <td>2.635591</td>\n",
       "      <td>2.657807</td>\n",
       "      <td>2.671511</td>\n",
       "      <td>2.658479</td>\n",
       "      <td>0.022217</td>\n",
       "      <td>0.013704</td>\n",
       "      <td>-0.013033</td>\n",
       "      <td>2.675261</td>\n",
       "      <td>2.660880</td>\n",
       "      <td>2.669944</td>\n",
       "      <td>2.657029</td>\n",
       "      <td>2.657029</td>\n",
       "      <td>2.657029</td>\n",
       "      <td>2.657029</td>\n",
       "      <td>2.657029</td>\n",
       "      <td>2.657029</td>\n",
       "      <td>2.657029</td>\n",
       "      <td>2.657029</td>\n",
       "      <td>2.657029</td>\n",
       "      <td>57.546540</td>\n",
       "      <td>106.895703</td>\n",
       "      <td>1</td>\n",
       "      <td>1.0</td>\n",
       "      <td>5.000000e-01</td>\n",
       "      <td>8.660254e-01</td>\n",
       "      <td>1.000000e+00</td>\n",
       "      <td>6.123234e-17</td>\n",
       "      <td>146936.0</td>\n",
       "      <td>3948.0</td>\n",
       "      <td>high</td>\n",
       "      <td>high</td>\n",
       "      <td>27.50</td>\n",
       "      <td>17.7</td>\n",
       "      <td>22.00</td>\n",
       "      <td>15.50</td>\n",
       "      <td>64.70</td>\n",
       "      <td>0.000</td>\n",
       "      <td>41.80</td>\n",
       "      <td>111.499937</td>\n",
       "      <td>102.457158</td>\n",
       "      <td>114.228193</td>\n",
       "      <td>15.492598</td>\n",
       "      <td>96.648324</td>\n",
       "      <td>5.711628</td>\n",
       "      <td>4.03</td>\n",
       "      <td>95.625194</td>\n",
       "      <td>7.804066</td>\n",
       "      <td>116.362157</td>\n",
       "    </tr>\n",
       "  </tbody>\n",
       "</table>\n",
       "</div>"
      ],
      "text/plain": [
       "        poc_ppg_id   ppg_name unique_poc_id  year  month  sales_volume_hl_agg  \\\n",
       "0  AAAC__CJ_C_FN_M  CJ C FN M          AAAC  2021      9             2.657029   \n",
       "1  AAAC__CJ_C_FN_M  CJ C FN M          AAAC  2021     10             1.635095   \n",
       "2  AAAC__CJ_C_FN_M  CJ C FN M          AAAC  2021     11             5.477568   \n",
       "3  AAAC__CJ_C_FN_M  CJ C FN M          AAAC  2021     12             4.905285   \n",
       "4  AAAC__CJ_C_FN_M  CJ C FN M          AAAC  2022      1             0.613161   \n",
       "\n",
       "  year_month_start_date  sample_submission_flag  id_life_flag poc_ppg_cluster  \\\n",
       "0            2021-09-01                     1.0           1.0             1_1   \n",
       "1            2021-10-01                     1.0           1.0             1_1   \n",
       "2            2021-11-01                     1.0           1.0             1_1   \n",
       "3            2021-12-01                     1.0           1.0             1_1   \n",
       "4            2022-01-01                     1.0           1.0             1_1   \n",
       "\n",
       "  category_name price_segment brand subbrand      subchannel channel_type  \\\n",
       "0            BM         EJ CW    CJ     CJ C  AQXZ APPZ ADOT         BBOB   \n",
       "1            BM         EJ CW    CJ     CJ C  AQXZ APPZ ADOT         BBOB   \n",
       "2            BM         EJ CW    CJ     CJ C  AQXZ APPZ ADOT         BBOB   \n",
       "3            BM         EJ CW    CJ     CJ C  AQXZ APPZ ADOT         BBOB   \n",
       "4            BM         EJ CW    CJ     CJ C  AQXZ APPZ ADOT         BBOB   \n",
       "\n",
       "    segment  ppg_seasonality_index  poc_seasonality_index  sales_lag_12  \\\n",
       "0  AZJC UIP               0.086632               0.083310      2.680361   \n",
       "1  AZJC UIP               0.097920               0.099356      2.660838   \n",
       "2  AZJC UIP               0.116346               0.114571      2.663475   \n",
       "3  AZJC UIP               0.135510               0.138193      2.645500   \n",
       "4  AZJC UIP               0.056200               0.055705      2.635591   \n",
       "\n",
       "   sales_lag_13  sales_lag_14  sales_lag_15  sales_lag_13_diff  \\\n",
       "0      2.659049      2.641487      2.663112          -0.021312   \n",
       "1      2.665773      2.663828      2.645569           0.004934   \n",
       "2      2.656727      2.663527      2.641021          -0.006748   \n",
       "3      2.674356      2.650064      2.654775           0.028856   \n",
       "4      2.657807      2.671511      2.658479           0.022217   \n",
       "\n",
       "   sales_lag_14_diff  sales_lag_15_diff  sales_roll_mean_3  sales_roll_mean_6  \\\n",
       "0          -0.017561           0.021625           2.675780           2.652467   \n",
       "1          -0.001944          -0.018259           2.659772           2.658145   \n",
       "2           0.006800          -0.022506           2.663179           2.658387   \n",
       "3          -0.024293           0.004711           2.663731           2.652931   \n",
       "4           0.013704          -0.013033           2.675261           2.660880   \n",
       "\n",
       "   sales_roll_mean_9  sales_ewm_alpha_095_lag_12  sales_ewm_alpha_095_lag_13  \\\n",
       "0           2.650496                    2.657029                    2.657029   \n",
       "1           2.643428                    2.657029                    2.657029   \n",
       "2           2.659077                    2.657029                    2.657029   \n",
       "3           2.670176                    2.657029                    2.657029   \n",
       "4           2.669944                    2.657029                    2.657029   \n",
       "\n",
       "   sales_ewm_alpha_095_lag_14  sales_ewm_alpha_09_lag_12  \\\n",
       "0                    2.657029                   2.657029   \n",
       "1                    2.657029                   2.657029   \n",
       "2                    2.657029                   2.657029   \n",
       "3                    2.657029                   2.657029   \n",
       "4                    2.657029                   2.657029   \n",
       "\n",
       "   sales_ewm_alpha_09_lag_13  sales_ewm_alpha_09_lag_14  \\\n",
       "0                   2.657029                   2.657029   \n",
       "1                   2.657029                   2.657029   \n",
       "2                   2.657029                   2.657029   \n",
       "3                   2.657029                   2.657029   \n",
       "4                   2.657029                   2.657029   \n",
       "\n",
       "   sales_ewm_alpha_08_lag_12  sales_ewm_alpha_08_lag_13  \\\n",
       "0                   2.657029                   2.657029   \n",
       "1                   2.657029                   2.657029   \n",
       "2                   2.657029                   2.657029   \n",
       "3                   2.657029                   2.657029   \n",
       "4                   2.657029                   2.657029   \n",
       "\n",
       "   sales_ewm_alpha_08_lag_14    maco_hl       nr_hl  quarter  holiday  \\\n",
       "0                   2.657029  63.695448  113.044610        3      1.0   \n",
       "1                   2.657029  61.805912  111.155075        4      0.0   \n",
       "2                   2.657029  62.990969  112.155744        4      0.0   \n",
       "3                   2.657029  63.164604  111.637664        4      4.0   \n",
       "4                   2.657029  57.546540  106.895703        1      1.0   \n",
       "\n",
       "      month_sin     month_cos   quarter_sin   quarter_cos  daily_cases  \\\n",
       "0 -1.000000e+00 -1.836970e-16 -1.000000e+00 -1.836970e-16     125013.0   \n",
       "1 -8.660254e-01  5.000000e-01 -2.449294e-16  1.000000e+00      19444.0   \n",
       "2 -5.000000e-01  8.660254e-01 -2.449294e-16  1.000000e+00      45936.0   \n",
       "3 -2.449294e-16  1.000000e+00 -2.449294e-16  1.000000e+00     490234.0   \n",
       "4  5.000000e-01  8.660254e-01  1.000000e+00  6.123234e-17     146936.0   \n",
       "\n",
       "   daily_deaths daily_cases_band daily_deaths_band  tempmax  tempmin   temp  \\\n",
       "0        5365.0             high              high    18.65      9.5  14.15   \n",
       "1        1551.0              low               mid    22.00     13.0  17.20   \n",
       "2         666.0              mid               mid    22.00     15.0  18.10   \n",
       "3        1302.0             high               mid    23.00     15.8  19.30   \n",
       "4        3948.0             high              high    27.50     17.7  22.00   \n",
       "\n",
       "     dew  humidity  precip  windgust  consumer price index, aop  \\\n",
       "0   8.20     68.40   0.000     43.35                 109.067272   \n",
       "1  10.10     68.00   0.001     44.90                 109.544098   \n",
       "2  11.75     65.45   0.000     46.30                 110.214387   \n",
       "3  13.20     64.50   0.000     51.50                 111.006049   \n",
       "4  15.50     64.70   0.000     41.80                 111.499937   \n",
       "\n",
       "   retail sales, volume index  retail sales, value index  \\\n",
       "0                   99.803771                 108.842318   \n",
       "1                  100.516543                 110.098882   \n",
       "2                  100.150272                 110.368923   \n",
       "3                  101.133586                 112.253124   \n",
       "4                  102.457158                 114.228193   \n",
       "\n",
       "   exchange rate lc per usd, aop  production index, industry  \\\n",
       "0                      14.566128                   93.946973   \n",
       "1                      14.847482                   89.044522   \n",
       "2                      15.480569                   93.946973   \n",
       "3                      15.850507                   94.647324   \n",
       "4                      15.492598                   96.648324   \n",
       "\n",
       "   inflation, cpi, aop  interest rate, short-term  \\\n",
       "0             4.965848                       3.79   \n",
       "1             4.964110                       3.75   \n",
       "2             5.379141                       3.89   \n",
       "3             5.915687                       3.83   \n",
       "4             5.711628                       4.03   \n",
       "\n",
       "   effective exchange rate index, nominal  \\\n",
       "0                               99.876129   \n",
       "1                               98.607810   \n",
       "2                               95.304895   \n",
       "3                               93.725565   \n",
       "4                               95.625194   \n",
       "\n",
       "   retail sales, volume index, % change previous year  wholesale price index  \n",
       "0                                            2.243897             111.255241  \n",
       "1                                            2.394505             112.176646  \n",
       "2                                            2.178436             114.017164  \n",
       "3                                            2.450774             115.774565  \n",
       "4                                            7.804066             116.362157  "
      ]
     },
     "execution_count": 95,
     "metadata": {},
     "output_type": "execute_result"
    }
   ],
   "source": [
    "volume_monthly_df_best.head()"
   ]
  },
  {
   "cell_type": "code",
   "execution_count": 96,
   "id": "31f7c68a",
   "metadata": {},
   "outputs": [
    {
     "data": {
      "text/plain": [
       "poc_ppg_id                                            0\n",
       "ppg_name                                              0\n",
       "unique_poc_id                                         0\n",
       "year                                                  0\n",
       "month                                                 0\n",
       "sales_volume_hl_agg                                   0\n",
       "year_month_start_date                                 0\n",
       "sample_submission_flag                                0\n",
       "id_life_flag                                          0\n",
       "poc_ppg_cluster                                       0\n",
       "category_name                                         0\n",
       "price_segment                                         0\n",
       "brand                                                 0\n",
       "subbrand                                              0\n",
       "subchannel                                            0\n",
       "channel_type                                          0\n",
       "segment                                               0\n",
       "ppg_seasonality_index                                 0\n",
       "poc_seasonality_index                                 0\n",
       "sales_lag_12                                          0\n",
       "sales_lag_13                                          0\n",
       "sales_lag_14                                          0\n",
       "sales_lag_15                                          0\n",
       "sales_lag_13_diff                                     0\n",
       "sales_lag_14_diff                                     0\n",
       "sales_lag_15_diff                                     0\n",
       "sales_roll_mean_3                                     0\n",
       "sales_roll_mean_6                                     0\n",
       "sales_roll_mean_9                                     0\n",
       "sales_ewm_alpha_095_lag_12                            0\n",
       "sales_ewm_alpha_095_lag_13                            0\n",
       "sales_ewm_alpha_095_lag_14                            0\n",
       "sales_ewm_alpha_09_lag_12                             0\n",
       "sales_ewm_alpha_09_lag_13                             0\n",
       "sales_ewm_alpha_09_lag_14                             0\n",
       "sales_ewm_alpha_08_lag_12                             0\n",
       "sales_ewm_alpha_08_lag_13                             0\n",
       "sales_ewm_alpha_08_lag_14                             0\n",
       "maco_hl                                               0\n",
       "nr_hl                                                 0\n",
       "quarter                                               0\n",
       "holiday                                               0\n",
       "month_sin                                             0\n",
       "month_cos                                             0\n",
       "quarter_sin                                           0\n",
       "quarter_cos                                           0\n",
       "daily_cases                                           0\n",
       "daily_deaths                                          0\n",
       "daily_cases_band                                      0\n",
       "daily_deaths_band                                     0\n",
       "tempmax                                               0\n",
       "tempmin                                               0\n",
       "temp                                                  0\n",
       "dew                                                   0\n",
       "humidity                                              0\n",
       "precip                                                0\n",
       "windgust                                              0\n",
       "consumer price index, aop                             0\n",
       "retail sales, volume index                            0\n",
       "retail sales, value index                             0\n",
       "exchange rate lc per usd, aop                         0\n",
       "production index, industry                            0\n",
       "inflation, cpi, aop                                   0\n",
       "interest rate, short-term                             0\n",
       "effective exchange rate index, nominal                0\n",
       "retail sales, volume index, % change previous year    0\n",
       "wholesale price index                                 0\n",
       "dtype: int64"
      ]
     },
     "execution_count": 96,
     "metadata": {},
     "output_type": "execute_result"
    }
   ],
   "source": [
    "volume_monthly_df_best.isnull().sum()"
   ]
  },
  {
   "cell_type": "code",
   "execution_count": 97,
   "id": "e4756d3a",
   "metadata": {},
   "outputs": [
    {
     "data": {
      "text/plain": [
       "(2565882, 67)"
      ]
     },
     "execution_count": 97,
     "metadata": {},
     "output_type": "execute_result"
    }
   ],
   "source": [
    "volume_monthly_df_best.shape"
   ]
  },
  {
   "cell_type": "code",
   "execution_count": 98,
   "id": "96479192",
   "metadata": {},
   "outputs": [
    {
     "data": {
      "text/plain": [
       "(2565882, 67)"
      ]
     },
     "execution_count": 98,
     "metadata": {},
     "output_type": "execute_result"
    }
   ],
   "source": [
    "volume_monthly_df_best.drop_duplicates(['poc_ppg_id','ppg_name','unique_poc_id','year','month']).shape"
   ]
  },
  {
   "cell_type": "markdown",
   "id": "8d24f052",
   "metadata": {},
   "source": [
    "###### only create feature for sample submissions"
   ]
  },
  {
   "cell_type": "code",
   "execution_count": 99,
   "id": "7f162a2f",
   "metadata": {},
   "outputs": [],
   "source": [
    "volume_monthly_df_best.to_pickle(\n",
    "    os.path.join(\n",
    "        os.getcwd(), processed_data_folder, \"submission_id_vol_cluster_monthly_df_all_feats.pkl\"\n",
    "    )\n",
    ")"
   ]
  },
  {
   "cell_type": "code",
   "execution_count": 100,
   "id": "20c0e96f",
   "metadata": {},
   "outputs": [
    {
     "data": {
      "text/html": [
       "<div>\n",
       "<style scoped>\n",
       "    .dataframe tbody tr th:only-of-type {\n",
       "        vertical-align: middle;\n",
       "    }\n",
       "\n",
       "    .dataframe tbody tr th {\n",
       "        vertical-align: top;\n",
       "    }\n",
       "\n",
       "    .dataframe thead th {\n",
       "        text-align: right;\n",
       "    }\n",
       "</style>\n",
       "<table border=\"1\" class=\"dataframe\">\n",
       "  <thead>\n",
       "    <tr style=\"text-align: right;\">\n",
       "      <th></th>\n",
       "      <th>poc_ppg_id</th>\n",
       "      <th>ppg_name</th>\n",
       "      <th>unique_poc_id</th>\n",
       "      <th>year</th>\n",
       "      <th>month</th>\n",
       "      <th>sales_volume_hl_agg</th>\n",
       "      <th>year_month_start_date</th>\n",
       "      <th>sample_submission_flag</th>\n",
       "      <th>id_life_flag</th>\n",
       "      <th>poc_ppg_cluster</th>\n",
       "      <th>category_name</th>\n",
       "      <th>price_segment</th>\n",
       "      <th>brand</th>\n",
       "      <th>subbrand</th>\n",
       "      <th>subchannel</th>\n",
       "      <th>channel_type</th>\n",
       "      <th>segment</th>\n",
       "      <th>ppg_seasonality_index</th>\n",
       "      <th>poc_seasonality_index</th>\n",
       "      <th>sales_lag_12</th>\n",
       "      <th>sales_lag_13</th>\n",
       "      <th>sales_lag_14</th>\n",
       "      <th>sales_lag_15</th>\n",
       "      <th>sales_lag_13_diff</th>\n",
       "      <th>sales_lag_14_diff</th>\n",
       "      <th>sales_lag_15_diff</th>\n",
       "      <th>sales_roll_mean_3</th>\n",
       "      <th>sales_roll_mean_6</th>\n",
       "      <th>sales_roll_mean_9</th>\n",
       "      <th>sales_ewm_alpha_095_lag_12</th>\n",
       "      <th>sales_ewm_alpha_095_lag_13</th>\n",
       "      <th>sales_ewm_alpha_095_lag_14</th>\n",
       "      <th>sales_ewm_alpha_09_lag_12</th>\n",
       "      <th>sales_ewm_alpha_09_lag_13</th>\n",
       "      <th>sales_ewm_alpha_09_lag_14</th>\n",
       "      <th>sales_ewm_alpha_08_lag_12</th>\n",
       "      <th>sales_ewm_alpha_08_lag_13</th>\n",
       "      <th>sales_ewm_alpha_08_lag_14</th>\n",
       "      <th>maco_hl</th>\n",
       "      <th>nr_hl</th>\n",
       "      <th>quarter</th>\n",
       "      <th>holiday</th>\n",
       "      <th>month_sin</th>\n",
       "      <th>month_cos</th>\n",
       "      <th>quarter_sin</th>\n",
       "      <th>quarter_cos</th>\n",
       "      <th>daily_cases</th>\n",
       "      <th>daily_deaths</th>\n",
       "      <th>daily_cases_band</th>\n",
       "      <th>daily_deaths_band</th>\n",
       "      <th>tempmax</th>\n",
       "      <th>tempmin</th>\n",
       "      <th>temp</th>\n",
       "      <th>dew</th>\n",
       "      <th>humidity</th>\n",
       "      <th>precip</th>\n",
       "      <th>windgust</th>\n",
       "      <th>consumer price index, aop</th>\n",
       "      <th>retail sales, volume index</th>\n",
       "      <th>retail sales, value index</th>\n",
       "      <th>exchange rate lc per usd, aop</th>\n",
       "      <th>production index, industry</th>\n",
       "      <th>inflation, cpi, aop</th>\n",
       "      <th>interest rate, short-term</th>\n",
       "      <th>effective exchange rate index, nominal</th>\n",
       "      <th>retail sales, volume index, % change previous year</th>\n",
       "      <th>wholesale price index</th>\n",
       "    </tr>\n",
       "  </thead>\n",
       "  <tbody>\n",
       "    <tr>\n",
       "      <th>0</th>\n",
       "      <td>AAAC__CJ_C_FN_M</td>\n",
       "      <td>CJ C FN M</td>\n",
       "      <td>AAAC</td>\n",
       "      <td>2021</td>\n",
       "      <td>9</td>\n",
       "      <td>2.657029</td>\n",
       "      <td>2021-09-01</td>\n",
       "      <td>1.0</td>\n",
       "      <td>1.0</td>\n",
       "      <td>1_1</td>\n",
       "      <td>BM</td>\n",
       "      <td>EJ CW</td>\n",
       "      <td>CJ</td>\n",
       "      <td>CJ C</td>\n",
       "      <td>AQXZ APPZ ADOT</td>\n",
       "      <td>BBOB</td>\n",
       "      <td>AZJC UIP</td>\n",
       "      <td>0.086632</td>\n",
       "      <td>0.083310</td>\n",
       "      <td>2.680361</td>\n",
       "      <td>2.659049</td>\n",
       "      <td>2.641487</td>\n",
       "      <td>2.663112</td>\n",
       "      <td>-0.021312</td>\n",
       "      <td>-0.017561</td>\n",
       "      <td>0.021625</td>\n",
       "      <td>2.675780</td>\n",
       "      <td>2.652467</td>\n",
       "      <td>2.650496</td>\n",
       "      <td>2.657029</td>\n",
       "      <td>2.657029</td>\n",
       "      <td>2.657029</td>\n",
       "      <td>2.657029</td>\n",
       "      <td>2.657029</td>\n",
       "      <td>2.657029</td>\n",
       "      <td>2.657029</td>\n",
       "      <td>2.657029</td>\n",
       "      <td>2.657029</td>\n",
       "      <td>63.695448</td>\n",
       "      <td>113.044610</td>\n",
       "      <td>3</td>\n",
       "      <td>1.0</td>\n",
       "      <td>-1.000000</td>\n",
       "      <td>-1.836970e-16</td>\n",
       "      <td>-1.000000e+00</td>\n",
       "      <td>-1.836970e-16</td>\n",
       "      <td>125013.0</td>\n",
       "      <td>5365.0</td>\n",
       "      <td>high</td>\n",
       "      <td>high</td>\n",
       "      <td>18.65</td>\n",
       "      <td>9.5</td>\n",
       "      <td>14.15</td>\n",
       "      <td>8.20</td>\n",
       "      <td>68.40</td>\n",
       "      <td>0.000</td>\n",
       "      <td>43.35</td>\n",
       "      <td>109.067272</td>\n",
       "      <td>99.803771</td>\n",
       "      <td>108.842318</td>\n",
       "      <td>14.566128</td>\n",
       "      <td>93.946973</td>\n",
       "      <td>4.965848</td>\n",
       "      <td>3.79</td>\n",
       "      <td>99.876129</td>\n",
       "      <td>2.243897</td>\n",
       "      <td>111.255241</td>\n",
       "    </tr>\n",
       "    <tr>\n",
       "      <th>1</th>\n",
       "      <td>AAAC__CJ_C_FN_M</td>\n",
       "      <td>CJ C FN M</td>\n",
       "      <td>AAAC</td>\n",
       "      <td>2021</td>\n",
       "      <td>10</td>\n",
       "      <td>1.635095</td>\n",
       "      <td>2021-10-01</td>\n",
       "      <td>1.0</td>\n",
       "      <td>1.0</td>\n",
       "      <td>1_1</td>\n",
       "      <td>BM</td>\n",
       "      <td>EJ CW</td>\n",
       "      <td>CJ</td>\n",
       "      <td>CJ C</td>\n",
       "      <td>AQXZ APPZ ADOT</td>\n",
       "      <td>BBOB</td>\n",
       "      <td>AZJC UIP</td>\n",
       "      <td>0.097920</td>\n",
       "      <td>0.099356</td>\n",
       "      <td>2.660838</td>\n",
       "      <td>2.665773</td>\n",
       "      <td>2.663828</td>\n",
       "      <td>2.645569</td>\n",
       "      <td>0.004934</td>\n",
       "      <td>-0.001944</td>\n",
       "      <td>-0.018259</td>\n",
       "      <td>2.659772</td>\n",
       "      <td>2.658145</td>\n",
       "      <td>2.643428</td>\n",
       "      <td>2.657029</td>\n",
       "      <td>2.657029</td>\n",
       "      <td>2.657029</td>\n",
       "      <td>2.657029</td>\n",
       "      <td>2.657029</td>\n",
       "      <td>2.657029</td>\n",
       "      <td>2.657029</td>\n",
       "      <td>2.657029</td>\n",
       "      <td>2.657029</td>\n",
       "      <td>61.805912</td>\n",
       "      <td>111.155075</td>\n",
       "      <td>4</td>\n",
       "      <td>0.0</td>\n",
       "      <td>-0.866025</td>\n",
       "      <td>5.000000e-01</td>\n",
       "      <td>-2.449294e-16</td>\n",
       "      <td>1.000000e+00</td>\n",
       "      <td>19444.0</td>\n",
       "      <td>1551.0</td>\n",
       "      <td>low</td>\n",
       "      <td>mid</td>\n",
       "      <td>22.00</td>\n",
       "      <td>13.0</td>\n",
       "      <td>17.20</td>\n",
       "      <td>10.10</td>\n",
       "      <td>68.00</td>\n",
       "      <td>0.001</td>\n",
       "      <td>44.90</td>\n",
       "      <td>109.544098</td>\n",
       "      <td>100.516543</td>\n",
       "      <td>110.098882</td>\n",
       "      <td>14.847482</td>\n",
       "      <td>89.044522</td>\n",
       "      <td>4.964110</td>\n",
       "      <td>3.75</td>\n",
       "      <td>98.607810</td>\n",
       "      <td>2.394505</td>\n",
       "      <td>112.176646</td>\n",
       "    </tr>\n",
       "    <tr>\n",
       "      <th>2</th>\n",
       "      <td>AAAC__CJ_C_FN_M</td>\n",
       "      <td>CJ C FN M</td>\n",
       "      <td>AAAC</td>\n",
       "      <td>2021</td>\n",
       "      <td>11</td>\n",
       "      <td>5.477568</td>\n",
       "      <td>2021-11-01</td>\n",
       "      <td>1.0</td>\n",
       "      <td>1.0</td>\n",
       "      <td>1_1</td>\n",
       "      <td>BM</td>\n",
       "      <td>EJ CW</td>\n",
       "      <td>CJ</td>\n",
       "      <td>CJ C</td>\n",
       "      <td>AQXZ APPZ ADOT</td>\n",
       "      <td>BBOB</td>\n",
       "      <td>AZJC UIP</td>\n",
       "      <td>0.116346</td>\n",
       "      <td>0.114571</td>\n",
       "      <td>2.663475</td>\n",
       "      <td>2.656727</td>\n",
       "      <td>2.663527</td>\n",
       "      <td>2.641021</td>\n",
       "      <td>-0.006748</td>\n",
       "      <td>0.006800</td>\n",
       "      <td>-0.022506</td>\n",
       "      <td>2.663179</td>\n",
       "      <td>2.658387</td>\n",
       "      <td>2.659077</td>\n",
       "      <td>2.657029</td>\n",
       "      <td>2.657029</td>\n",
       "      <td>2.657029</td>\n",
       "      <td>2.657029</td>\n",
       "      <td>2.657029</td>\n",
       "      <td>2.657029</td>\n",
       "      <td>2.657029</td>\n",
       "      <td>2.657029</td>\n",
       "      <td>2.657029</td>\n",
       "      <td>62.990969</td>\n",
       "      <td>112.155744</td>\n",
       "      <td>4</td>\n",
       "      <td>0.0</td>\n",
       "      <td>-0.500000</td>\n",
       "      <td>8.660254e-01</td>\n",
       "      <td>-2.449294e-16</td>\n",
       "      <td>1.000000e+00</td>\n",
       "      <td>45936.0</td>\n",
       "      <td>666.0</td>\n",
       "      <td>mid</td>\n",
       "      <td>mid</td>\n",
       "      <td>22.00</td>\n",
       "      <td>15.0</td>\n",
       "      <td>18.10</td>\n",
       "      <td>11.75</td>\n",
       "      <td>65.45</td>\n",
       "      <td>0.000</td>\n",
       "      <td>46.30</td>\n",
       "      <td>110.214387</td>\n",
       "      <td>100.150272</td>\n",
       "      <td>110.368923</td>\n",
       "      <td>15.480569</td>\n",
       "      <td>93.946973</td>\n",
       "      <td>5.379141</td>\n",
       "      <td>3.89</td>\n",
       "      <td>95.304895</td>\n",
       "      <td>2.178436</td>\n",
       "      <td>114.017164</td>\n",
       "    </tr>\n",
       "  </tbody>\n",
       "</table>\n",
       "</div>"
      ],
      "text/plain": [
       "        poc_ppg_id   ppg_name unique_poc_id  year  month  sales_volume_hl_agg  \\\n",
       "0  AAAC__CJ_C_FN_M  CJ C FN M          AAAC  2021      9             2.657029   \n",
       "1  AAAC__CJ_C_FN_M  CJ C FN M          AAAC  2021     10             1.635095   \n",
       "2  AAAC__CJ_C_FN_M  CJ C FN M          AAAC  2021     11             5.477568   \n",
       "\n",
       "  year_month_start_date  sample_submission_flag  id_life_flag poc_ppg_cluster  \\\n",
       "0            2021-09-01                     1.0           1.0             1_1   \n",
       "1            2021-10-01                     1.0           1.0             1_1   \n",
       "2            2021-11-01                     1.0           1.0             1_1   \n",
       "\n",
       "  category_name price_segment brand subbrand      subchannel channel_type  \\\n",
       "0            BM         EJ CW    CJ     CJ C  AQXZ APPZ ADOT         BBOB   \n",
       "1            BM         EJ CW    CJ     CJ C  AQXZ APPZ ADOT         BBOB   \n",
       "2            BM         EJ CW    CJ     CJ C  AQXZ APPZ ADOT         BBOB   \n",
       "\n",
       "    segment  ppg_seasonality_index  poc_seasonality_index  sales_lag_12  \\\n",
       "0  AZJC UIP               0.086632               0.083310      2.680361   \n",
       "1  AZJC UIP               0.097920               0.099356      2.660838   \n",
       "2  AZJC UIP               0.116346               0.114571      2.663475   \n",
       "\n",
       "   sales_lag_13  sales_lag_14  sales_lag_15  sales_lag_13_diff  \\\n",
       "0      2.659049      2.641487      2.663112          -0.021312   \n",
       "1      2.665773      2.663828      2.645569           0.004934   \n",
       "2      2.656727      2.663527      2.641021          -0.006748   \n",
       "\n",
       "   sales_lag_14_diff  sales_lag_15_diff  sales_roll_mean_3  sales_roll_mean_6  \\\n",
       "0          -0.017561           0.021625           2.675780           2.652467   \n",
       "1          -0.001944          -0.018259           2.659772           2.658145   \n",
       "2           0.006800          -0.022506           2.663179           2.658387   \n",
       "\n",
       "   sales_roll_mean_9  sales_ewm_alpha_095_lag_12  sales_ewm_alpha_095_lag_13  \\\n",
       "0           2.650496                    2.657029                    2.657029   \n",
       "1           2.643428                    2.657029                    2.657029   \n",
       "2           2.659077                    2.657029                    2.657029   \n",
       "\n",
       "   sales_ewm_alpha_095_lag_14  sales_ewm_alpha_09_lag_12  \\\n",
       "0                    2.657029                   2.657029   \n",
       "1                    2.657029                   2.657029   \n",
       "2                    2.657029                   2.657029   \n",
       "\n",
       "   sales_ewm_alpha_09_lag_13  sales_ewm_alpha_09_lag_14  \\\n",
       "0                   2.657029                   2.657029   \n",
       "1                   2.657029                   2.657029   \n",
       "2                   2.657029                   2.657029   \n",
       "\n",
       "   sales_ewm_alpha_08_lag_12  sales_ewm_alpha_08_lag_13  \\\n",
       "0                   2.657029                   2.657029   \n",
       "1                   2.657029                   2.657029   \n",
       "2                   2.657029                   2.657029   \n",
       "\n",
       "   sales_ewm_alpha_08_lag_14    maco_hl       nr_hl  quarter  holiday  \\\n",
       "0                   2.657029  63.695448  113.044610        3      1.0   \n",
       "1                   2.657029  61.805912  111.155075        4      0.0   \n",
       "2                   2.657029  62.990969  112.155744        4      0.0   \n",
       "\n",
       "   month_sin     month_cos   quarter_sin   quarter_cos  daily_cases  \\\n",
       "0  -1.000000 -1.836970e-16 -1.000000e+00 -1.836970e-16     125013.0   \n",
       "1  -0.866025  5.000000e-01 -2.449294e-16  1.000000e+00      19444.0   \n",
       "2  -0.500000  8.660254e-01 -2.449294e-16  1.000000e+00      45936.0   \n",
       "\n",
       "   daily_deaths daily_cases_band daily_deaths_band  tempmax  tempmin   temp  \\\n",
       "0        5365.0             high              high    18.65      9.5  14.15   \n",
       "1        1551.0              low               mid    22.00     13.0  17.20   \n",
       "2         666.0              mid               mid    22.00     15.0  18.10   \n",
       "\n",
       "     dew  humidity  precip  windgust  consumer price index, aop  \\\n",
       "0   8.20     68.40   0.000     43.35                 109.067272   \n",
       "1  10.10     68.00   0.001     44.90                 109.544098   \n",
       "2  11.75     65.45   0.000     46.30                 110.214387   \n",
       "\n",
       "   retail sales, volume index  retail sales, value index  \\\n",
       "0                   99.803771                 108.842318   \n",
       "1                  100.516543                 110.098882   \n",
       "2                  100.150272                 110.368923   \n",
       "\n",
       "   exchange rate lc per usd, aop  production index, industry  \\\n",
       "0                      14.566128                   93.946973   \n",
       "1                      14.847482                   89.044522   \n",
       "2                      15.480569                   93.946973   \n",
       "\n",
       "   inflation, cpi, aop  interest rate, short-term  \\\n",
       "0             4.965848                       3.79   \n",
       "1             4.964110                       3.75   \n",
       "2             5.379141                       3.89   \n",
       "\n",
       "   effective exchange rate index, nominal  \\\n",
       "0                               99.876129   \n",
       "1                               98.607810   \n",
       "2                               95.304895   \n",
       "\n",
       "   retail sales, volume index, % change previous year  wholesale price index  \n",
       "0                                            2.243897             111.255241  \n",
       "1                                            2.394505             112.176646  \n",
       "2                                            2.178436             114.017164  "
      ]
     },
     "execution_count": 100,
     "metadata": {},
     "output_type": "execute_result"
    }
   ],
   "source": [
    "volume_monthly_df_best.head(3)"
   ]
  },
  {
   "cell_type": "code",
   "execution_count": 101,
   "id": "8a96e646",
   "metadata": {},
   "outputs": [
    {
     "data": {
      "text/html": [
       "<div>\n",
       "<style scoped>\n",
       "    .dataframe tbody tr th:only-of-type {\n",
       "        vertical-align: middle;\n",
       "    }\n",
       "\n",
       "    .dataframe tbody tr th {\n",
       "        vertical-align: top;\n",
       "    }\n",
       "\n",
       "    .dataframe thead th {\n",
       "        text-align: right;\n",
       "    }\n",
       "</style>\n",
       "<table border=\"1\" class=\"dataframe\">\n",
       "  <thead>\n",
       "    <tr style=\"text-align: right;\">\n",
       "      <th></th>\n",
       "      <th>poc_ppg_id</th>\n",
       "    </tr>\n",
       "    <tr>\n",
       "      <th>poc_ppg_cluster</th>\n",
       "      <th></th>\n",
       "    </tr>\n",
       "  </thead>\n",
       "  <tbody>\n",
       "    <tr>\n",
       "      <th>0_0</th>\n",
       "      <td>545</td>\n",
       "    </tr>\n",
       "    <tr>\n",
       "      <th>0_1</th>\n",
       "      <td>9442</td>\n",
       "    </tr>\n",
       "    <tr>\n",
       "      <th>1_0</th>\n",
       "      <td>5311</td>\n",
       "    </tr>\n",
       "    <tr>\n",
       "      <th>1_1</th>\n",
       "      <td>34039</td>\n",
       "    </tr>\n",
       "  </tbody>\n",
       "</table>\n",
       "</div>"
      ],
      "text/plain": [
       "                 poc_ppg_id\n",
       "poc_ppg_cluster            \n",
       "0_0                     545\n",
       "0_1                    9442\n",
       "1_0                    5311\n",
       "1_1                   34039"
      ]
     },
     "execution_count": 101,
     "metadata": {},
     "output_type": "execute_result"
    }
   ],
   "source": [
    "volume_monthly_df_best.groupby([\"poc_ppg_cluster\"]).agg({\"poc_ppg_id\": \"nunique\"})"
   ]
  },
  {
   "cell_type": "markdown",
   "id": "2b965ca4",
   "metadata": {},
   "source": [
    "##### We create the ppg month level low and top percentile values(5-99)"
   ]
  },
  {
   "cell_type": "code",
   "execution_count": 5,
   "id": "0d62e8b6",
   "metadata": {},
   "outputs": [],
   "source": [
    "volume_monthly_df_best = pd.read_pickle(\n",
    "    os.path.join(\n",
    "        os.getcwd(), processed_data_folder, \"all_id_vol_cluster_monthly_df.pkl\"\n",
    "    )\n",
    ")"
   ]
  },
  {
   "cell_type": "code",
   "execution_count": 21,
   "id": "55e1062e",
   "metadata": {},
   "outputs": [
    {
     "data": {
      "text/plain": [
       "Index(['poc_ppg_id', 'ppg_name', 'unique_poc_id', 'year', 'month',\n",
       "       'sales_volume_hl_agg', 'year_month_start_date',\n",
       "       'sample_submission_flag', 'id_life_flag', 'poc_ppg_cluster'],\n",
       "      dtype='object')"
      ]
     },
     "execution_count": 21,
     "metadata": {},
     "output_type": "execute_result"
    }
   ],
   "source": [
    "volume_monthly_df_best.columns"
   ]
  },
  {
   "cell_type": "code",
   "execution_count": 25,
   "id": "41f3ec62",
   "metadata": {},
   "outputs": [
    {
     "ename": "KeyboardInterrupt",
     "evalue": "",
     "output_type": "error",
     "traceback": [
      "\u001b[0;31m---------------------------------------------------------------------------\u001b[0m",
      "\u001b[0;31mKeyboardInterrupt\u001b[0m                         Traceback (most recent call last)",
      "\u001b[0;32m<ipython-input-25-afba689ee119>\u001b[0m in \u001b[0;36m?\u001b[0;34m()\u001b[0m\n\u001b[0;32m----> 1\u001b[0;31m temp = volume_monthly_df_best.groupby(['poc_ppg_id','month'],as_index=False).agg(low_band = (\"sales_volume_hl_agg\",lambda x: np.percentile(x,5)),\n\u001b[0m\u001b[1;32m      2\u001b[0m                                                                                 \u001b[0mhigh_band\u001b[0m \u001b[0;34m=\u001b[0m \u001b[0;34m(\u001b[0m\u001b[0;34m\"sales_volume_hl_agg\"\u001b[0m\u001b[0;34m,\u001b[0m\u001b[0;32mlambda\u001b[0m \u001b[0mx\u001b[0m\u001b[0;34m:\u001b[0m \u001b[0mnp\u001b[0m\u001b[0;34m.\u001b[0m\u001b[0mpercentile\u001b[0m\u001b[0;34m(\u001b[0m\u001b[0mx\u001b[0m\u001b[0;34m,\u001b[0m\u001b[0;36m99.5\u001b[0m\u001b[0;34m)\u001b[0m\u001b[0;34m)\u001b[0m\u001b[0;34m\u001b[0m\u001b[0;34m\u001b[0m\u001b[0m\n\u001b[1;32m      3\u001b[0m                                                                                 )\n",
      "\u001b[0;32m/anaconda/envs/torch_env/lib/python3.10/site-packages/pandas/core/groupby/generic.py\u001b[0m in \u001b[0;36m?\u001b[0;34m(self, func, engine, engine_kwargs, *args, **kwargs)\u001b[0m\n\u001b[1;32m   1428\u001b[0m             \u001b[0mkwargs\u001b[0m\u001b[0;34m[\u001b[0m\u001b[0;34m\"engine\"\u001b[0m\u001b[0;34m]\u001b[0m \u001b[0;34m=\u001b[0m \u001b[0mengine\u001b[0m\u001b[0;34m\u001b[0m\u001b[0;34m\u001b[0m\u001b[0m\n\u001b[1;32m   1429\u001b[0m             \u001b[0mkwargs\u001b[0m\u001b[0;34m[\u001b[0m\u001b[0;34m\"engine_kwargs\"\u001b[0m\u001b[0;34m]\u001b[0m \u001b[0;34m=\u001b[0m \u001b[0mengine_kwargs\u001b[0m\u001b[0;34m\u001b[0m\u001b[0;34m\u001b[0m\u001b[0m\n\u001b[1;32m   1430\u001b[0m \u001b[0;34m\u001b[0m\u001b[0m\n\u001b[1;32m   1431\u001b[0m         \u001b[0mop\u001b[0m \u001b[0;34m=\u001b[0m \u001b[0mGroupByApply\u001b[0m\u001b[0;34m(\u001b[0m\u001b[0mself\u001b[0m\u001b[0;34m,\u001b[0m \u001b[0mfunc\u001b[0m\u001b[0;34m,\u001b[0m \u001b[0margs\u001b[0m\u001b[0;34m=\u001b[0m\u001b[0margs\u001b[0m\u001b[0;34m,\u001b[0m \u001b[0mkwargs\u001b[0m\u001b[0;34m=\u001b[0m\u001b[0mkwargs\u001b[0m\u001b[0;34m)\u001b[0m\u001b[0;34m\u001b[0m\u001b[0;34m\u001b[0m\u001b[0m\n\u001b[0;32m-> 1432\u001b[0;31m         \u001b[0mresult\u001b[0m \u001b[0;34m=\u001b[0m \u001b[0mop\u001b[0m\u001b[0;34m.\u001b[0m\u001b[0magg\u001b[0m\u001b[0;34m(\u001b[0m\u001b[0;34m)\u001b[0m\u001b[0;34m\u001b[0m\u001b[0;34m\u001b[0m\u001b[0m\n\u001b[0m\u001b[1;32m   1433\u001b[0m         \u001b[0;32mif\u001b[0m \u001b[0;32mnot\u001b[0m \u001b[0mis_dict_like\u001b[0m\u001b[0;34m(\u001b[0m\u001b[0mfunc\u001b[0m\u001b[0;34m)\u001b[0m \u001b[0;32mand\u001b[0m \u001b[0mresult\u001b[0m \u001b[0;32mis\u001b[0m \u001b[0;32mnot\u001b[0m \u001b[0;32mNone\u001b[0m\u001b[0;34m:\u001b[0m\u001b[0;34m\u001b[0m\u001b[0;34m\u001b[0m\u001b[0m\n\u001b[1;32m   1434\u001b[0m             \u001b[0;31m# GH #52849\u001b[0m\u001b[0;34m\u001b[0m\u001b[0;34m\u001b[0m\u001b[0m\n\u001b[1;32m   1435\u001b[0m             \u001b[0;32mif\u001b[0m \u001b[0;32mnot\u001b[0m \u001b[0mself\u001b[0m\u001b[0;34m.\u001b[0m\u001b[0mas_index\u001b[0m \u001b[0;32mand\u001b[0m \u001b[0mis_list_like\u001b[0m\u001b[0;34m(\u001b[0m\u001b[0mfunc\u001b[0m\u001b[0;34m)\u001b[0m\u001b[0;34m:\u001b[0m\u001b[0;34m\u001b[0m\u001b[0;34m\u001b[0m\u001b[0m\n",
      "\u001b[0;32m/anaconda/envs/torch_env/lib/python3.10/site-packages/pandas/core/apply.py\u001b[0m in \u001b[0;36m?\u001b[0;34m(self)\u001b[0m\n\u001b[1;32m    186\u001b[0m         \u001b[0;32mif\u001b[0m \u001b[0misinstance\u001b[0m\u001b[0;34m(\u001b[0m\u001b[0mfunc\u001b[0m\u001b[0;34m,\u001b[0m \u001b[0mstr\u001b[0m\u001b[0;34m)\u001b[0m\u001b[0;34m:\u001b[0m\u001b[0;34m\u001b[0m\u001b[0;34m\u001b[0m\u001b[0m\n\u001b[1;32m    187\u001b[0m             \u001b[0;32mreturn\u001b[0m \u001b[0mself\u001b[0m\u001b[0;34m.\u001b[0m\u001b[0mapply_str\u001b[0m\u001b[0;34m(\u001b[0m\u001b[0;34m)\u001b[0m\u001b[0;34m\u001b[0m\u001b[0;34m\u001b[0m\u001b[0m\n\u001b[1;32m    188\u001b[0m \u001b[0;34m\u001b[0m\u001b[0m\n\u001b[1;32m    189\u001b[0m         \u001b[0;32mif\u001b[0m \u001b[0mis_dict_like\u001b[0m\u001b[0;34m(\u001b[0m\u001b[0mfunc\u001b[0m\u001b[0;34m)\u001b[0m\u001b[0;34m:\u001b[0m\u001b[0;34m\u001b[0m\u001b[0;34m\u001b[0m\u001b[0m\n\u001b[0;32m--> 190\u001b[0;31m             \u001b[0;32mreturn\u001b[0m \u001b[0mself\u001b[0m\u001b[0;34m.\u001b[0m\u001b[0magg_dict_like\u001b[0m\u001b[0;34m(\u001b[0m\u001b[0;34m)\u001b[0m\u001b[0;34m\u001b[0m\u001b[0;34m\u001b[0m\u001b[0m\n\u001b[0m\u001b[1;32m    191\u001b[0m         \u001b[0;32melif\u001b[0m \u001b[0mis_list_like\u001b[0m\u001b[0;34m(\u001b[0m\u001b[0mfunc\u001b[0m\u001b[0;34m)\u001b[0m\u001b[0;34m:\u001b[0m\u001b[0;34m\u001b[0m\u001b[0;34m\u001b[0m\u001b[0m\n\u001b[1;32m    192\u001b[0m             \u001b[0;31m# we require a list, but not a 'str'\u001b[0m\u001b[0;34m\u001b[0m\u001b[0;34m\u001b[0m\u001b[0m\n\u001b[1;32m    193\u001b[0m             \u001b[0;32mreturn\u001b[0m \u001b[0mself\u001b[0m\u001b[0;34m.\u001b[0m\u001b[0magg_list_like\u001b[0m\u001b[0;34m(\u001b[0m\u001b[0;34m)\u001b[0m\u001b[0;34m\u001b[0m\u001b[0;34m\u001b[0m\u001b[0m\n",
      "\u001b[0;32m/anaconda/envs/torch_env/lib/python3.10/site-packages/pandas/core/apply.py\u001b[0m in \u001b[0;36m?\u001b[0;34m(self)\u001b[0m\n\u001b[1;32m    419\u001b[0m         \u001b[0mReturns\u001b[0m\u001b[0;34m\u001b[0m\u001b[0;34m\u001b[0m\u001b[0m\n\u001b[1;32m    420\u001b[0m         \u001b[0;34m-\u001b[0m\u001b[0;34m-\u001b[0m\u001b[0;34m-\u001b[0m\u001b[0;34m-\u001b[0m\u001b[0;34m-\u001b[0m\u001b[0;34m-\u001b[0m\u001b[0;34m-\u001b[0m\u001b[0;34m\u001b[0m\u001b[0;34m\u001b[0m\u001b[0m\n\u001b[1;32m    421\u001b[0m         \u001b[0mResult\u001b[0m \u001b[0mof\u001b[0m \u001b[0maggregation\u001b[0m\u001b[0;34m.\u001b[0m\u001b[0;34m\u001b[0m\u001b[0;34m\u001b[0m\u001b[0m\n\u001b[1;32m    422\u001b[0m         \"\"\"\n\u001b[0;32m--> 423\u001b[0;31m         \u001b[0;32mreturn\u001b[0m \u001b[0mself\u001b[0m\u001b[0;34m.\u001b[0m\u001b[0magg_or_apply_dict_like\u001b[0m\u001b[0;34m(\u001b[0m\u001b[0mop_name\u001b[0m\u001b[0;34m=\u001b[0m\u001b[0;34m\"agg\"\u001b[0m\u001b[0;34m)\u001b[0m\u001b[0;34m\u001b[0m\u001b[0;34m\u001b[0m\u001b[0m\n\u001b[0m",
      "\u001b[0;32m/anaconda/envs/torch_env/lib/python3.10/site-packages/pandas/core/apply.py\u001b[0m in \u001b[0;36m?\u001b[0;34m(self, op_name)\u001b[0m\n\u001b[1;32m   1604\u001b[0m \u001b[0;34m\u001b[0m\u001b[0m\n\u001b[1;32m   1605\u001b[0m         with com.temp_setattr(\n\u001b[1;32m   1606\u001b[0m             \u001b[0mobj\u001b[0m\u001b[0;34m,\u001b[0m \u001b[0;34m\"as_index\"\u001b[0m\u001b[0;34m,\u001b[0m \u001b[0;32mTrue\u001b[0m\u001b[0;34m,\u001b[0m \u001b[0mcondition\u001b[0m\u001b[0;34m=\u001b[0m\u001b[0mhasattr\u001b[0m\u001b[0;34m(\u001b[0m\u001b[0mobj\u001b[0m\u001b[0;34m,\u001b[0m \u001b[0;34m\"as_index\"\u001b[0m\u001b[0;34m)\u001b[0m\u001b[0;34m\u001b[0m\u001b[0;34m\u001b[0m\u001b[0m\n\u001b[1;32m   1607\u001b[0m         ):\n\u001b[0;32m-> 1608\u001b[0;31m             result_index, result_data = self.compute_dict_like(\n\u001b[0m\u001b[1;32m   1609\u001b[0m                 \u001b[0mop_name\u001b[0m\u001b[0;34m,\u001b[0m \u001b[0mselected_obj\u001b[0m\u001b[0;34m,\u001b[0m \u001b[0mselection\u001b[0m\u001b[0;34m,\u001b[0m \u001b[0mkwargs\u001b[0m\u001b[0;34m\u001b[0m\u001b[0;34m\u001b[0m\u001b[0m\n\u001b[1;32m   1610\u001b[0m             )\n\u001b[1;32m   1611\u001b[0m         \u001b[0mresult\u001b[0m \u001b[0;34m=\u001b[0m \u001b[0mself\u001b[0m\u001b[0;34m.\u001b[0m\u001b[0mwrap_results_dict_like\u001b[0m\u001b[0;34m(\u001b[0m\u001b[0mselected_obj\u001b[0m\u001b[0;34m,\u001b[0m \u001b[0mresult_index\u001b[0m\u001b[0;34m,\u001b[0m \u001b[0mresult_data\u001b[0m\u001b[0;34m)\u001b[0m\u001b[0;34m\u001b[0m\u001b[0;34m\u001b[0m\u001b[0m\n",
      "\u001b[0;32m/anaconda/envs/torch_env/lib/python3.10/site-packages/pandas/core/apply.py\u001b[0m in \u001b[0;36m?\u001b[0;34m(self, op_name, selected_obj, selection, kwargs)\u001b[0m\n\u001b[1;32m    492\u001b[0m                 \u001b[0mkeys\u001b[0m \u001b[0;34m+=\u001b[0m \u001b[0;34m[\u001b[0m\u001b[0mkey\u001b[0m\u001b[0;34m]\u001b[0m \u001b[0;34m*\u001b[0m \u001b[0mlen\u001b[0m\u001b[0;34m(\u001b[0m\u001b[0mkey_data\u001b[0m\u001b[0;34m)\u001b[0m\u001b[0;34m\u001b[0m\u001b[0;34m\u001b[0m\u001b[0m\n\u001b[1;32m    493\u001b[0m                 \u001b[0mresults\u001b[0m \u001b[0;34m+=\u001b[0m \u001b[0mkey_data\u001b[0m\u001b[0;34m\u001b[0m\u001b[0;34m\u001b[0m\u001b[0m\n\u001b[1;32m    494\u001b[0m         \u001b[0;32melse\u001b[0m\u001b[0;34m:\u001b[0m\u001b[0;34m\u001b[0m\u001b[0;34m\u001b[0m\u001b[0m\n\u001b[1;32m    495\u001b[0m             \u001b[0;31m# key used for column selection and output\u001b[0m\u001b[0;34m\u001b[0m\u001b[0;34m\u001b[0m\u001b[0m\n\u001b[0;32m--> 496\u001b[0;31m             results = [\n\u001b[0m\u001b[1;32m    497\u001b[0m                 \u001b[0mgetattr\u001b[0m\u001b[0;34m(\u001b[0m\u001b[0mobj\u001b[0m\u001b[0;34m.\u001b[0m\u001b[0m_gotitem\u001b[0m\u001b[0;34m(\u001b[0m\u001b[0mkey\u001b[0m\u001b[0;34m,\u001b[0m \u001b[0mndim\u001b[0m\u001b[0;34m=\u001b[0m\u001b[0;36m1\u001b[0m\u001b[0;34m)\u001b[0m\u001b[0;34m,\u001b[0m \u001b[0mop_name\u001b[0m\u001b[0;34m)\u001b[0m\u001b[0;34m(\u001b[0m\u001b[0mhow\u001b[0m\u001b[0;34m,\u001b[0m \u001b[0;34m**\u001b[0m\u001b[0mkwargs\u001b[0m\u001b[0;34m)\u001b[0m\u001b[0;34m\u001b[0m\u001b[0;34m\u001b[0m\u001b[0m\n\u001b[1;32m    498\u001b[0m                 \u001b[0;32mfor\u001b[0m \u001b[0mkey\u001b[0m\u001b[0;34m,\u001b[0m \u001b[0mhow\u001b[0m \u001b[0;32min\u001b[0m \u001b[0mfunc\u001b[0m\u001b[0;34m.\u001b[0m\u001b[0mitems\u001b[0m\u001b[0;34m(\u001b[0m\u001b[0;34m)\u001b[0m\u001b[0;34m\u001b[0m\u001b[0;34m\u001b[0m\u001b[0m\n\u001b[1;32m    499\u001b[0m             ]\n",
      "\u001b[0;32m/anaconda/envs/torch_env/lib/python3.10/site-packages/pandas/core/apply.py\u001b[0m in \u001b[0;36m?\u001b[0;34m(.0)\u001b[0m\n\u001b[1;32m    496\u001b[0m     def compute_dict_like(\n\u001b[0;32m--> 497\u001b[0;31m         \u001b[0mself\u001b[0m\u001b[0;34m,\u001b[0m\u001b[0;34m\u001b[0m\u001b[0;34m\u001b[0m\u001b[0m\n\u001b[0m\u001b[1;32m    498\u001b[0m         \u001b[0mop_name\u001b[0m\u001b[0;34m:\u001b[0m \u001b[0mLiteral\u001b[0m\u001b[0;34m[\u001b[0m\u001b[0;34m\"agg\"\u001b[0m\u001b[0;34m,\u001b[0m \u001b[0;34m\"apply\"\u001b[0m\u001b[0;34m]\u001b[0m\u001b[0;34m,\u001b[0m\u001b[0;34m\u001b[0m\u001b[0;34m\u001b[0m\u001b[0m\n\u001b[1;32m    499\u001b[0m         \u001b[0mselected_obj\u001b[0m\u001b[0;34m:\u001b[0m \u001b[0mSeries\u001b[0m \u001b[0;34m|\u001b[0m \u001b[0mDataFrame\u001b[0m\u001b[0;34m,\u001b[0m\u001b[0;34m\u001b[0m\u001b[0;34m\u001b[0m\u001b[0m\n\u001b[1;32m    500\u001b[0m         \u001b[0mselection\u001b[0m\u001b[0;34m:\u001b[0m \u001b[0mHashable\u001b[0m \u001b[0;34m|\u001b[0m \u001b[0mSequence\u001b[0m\u001b[0;34m[\u001b[0m\u001b[0mHashable\u001b[0m\u001b[0;34m]\u001b[0m\u001b[0;34m,\u001b[0m\u001b[0;34m\u001b[0m\u001b[0;34m\u001b[0m\u001b[0m\n",
      "\u001b[0;32m/anaconda/envs/torch_env/lib/python3.10/site-packages/pandas/core/groupby/generic.py\u001b[0m in \u001b[0;36m?\u001b[0;34m(self, func, engine, engine_kwargs, *args, **kwargs)\u001b[0m\n\u001b[1;32m    253\u001b[0m             \u001b[0;31m# but not the class list / tuple itself.\u001b[0m\u001b[0;34m\u001b[0m\u001b[0;34m\u001b[0m\u001b[0m\n\u001b[1;32m    254\u001b[0m             \u001b[0mfunc\u001b[0m \u001b[0;34m=\u001b[0m \u001b[0mmaybe_mangle_lambdas\u001b[0m\u001b[0;34m(\u001b[0m\u001b[0mfunc\u001b[0m\u001b[0;34m)\u001b[0m\u001b[0;34m\u001b[0m\u001b[0;34m\u001b[0m\u001b[0m\n\u001b[1;32m    255\u001b[0m             \u001b[0mkwargs\u001b[0m\u001b[0;34m[\u001b[0m\u001b[0;34m\"engine\"\u001b[0m\u001b[0;34m]\u001b[0m \u001b[0;34m=\u001b[0m \u001b[0mengine\u001b[0m\u001b[0;34m\u001b[0m\u001b[0;34m\u001b[0m\u001b[0m\n\u001b[1;32m    256\u001b[0m             \u001b[0mkwargs\u001b[0m\u001b[0;34m[\u001b[0m\u001b[0;34m\"engine_kwargs\"\u001b[0m\u001b[0;34m]\u001b[0m \u001b[0;34m=\u001b[0m \u001b[0mengine_kwargs\u001b[0m\u001b[0;34m\u001b[0m\u001b[0;34m\u001b[0m\u001b[0m\n\u001b[0;32m--> 257\u001b[0;31m             \u001b[0mret\u001b[0m \u001b[0;34m=\u001b[0m \u001b[0mself\u001b[0m\u001b[0;34m.\u001b[0m\u001b[0m_aggregate_multiple_funcs\u001b[0m\u001b[0;34m(\u001b[0m\u001b[0mfunc\u001b[0m\u001b[0;34m,\u001b[0m \u001b[0;34m*\u001b[0m\u001b[0margs\u001b[0m\u001b[0;34m,\u001b[0m \u001b[0;34m**\u001b[0m\u001b[0mkwargs\u001b[0m\u001b[0;34m)\u001b[0m\u001b[0;34m\u001b[0m\u001b[0;34m\u001b[0m\u001b[0m\n\u001b[0m\u001b[1;32m    258\u001b[0m             \u001b[0;32mif\u001b[0m \u001b[0mrelabeling\u001b[0m\u001b[0;34m:\u001b[0m\u001b[0;34m\u001b[0m\u001b[0;34m\u001b[0m\u001b[0m\n\u001b[1;32m    259\u001b[0m                 \u001b[0;31m# columns is not narrowed by mypy from relabeling flag\u001b[0m\u001b[0;34m\u001b[0m\u001b[0;34m\u001b[0m\u001b[0m\n\u001b[1;32m    260\u001b[0m                 \u001b[0;32massert\u001b[0m \u001b[0mcolumns\u001b[0m \u001b[0;32mis\u001b[0m \u001b[0;32mnot\u001b[0m \u001b[0;32mNone\u001b[0m  \u001b[0;31m# for mypy\u001b[0m\u001b[0;34m\u001b[0m\u001b[0;34m\u001b[0m\u001b[0m\n",
      "\u001b[0;32m/anaconda/envs/torch_env/lib/python3.10/site-packages/pandas/core/groupby/generic.py\u001b[0m in \u001b[0;36m?\u001b[0;34m(self, arg, *args, **kwargs)\u001b[0m\n\u001b[1;32m    358\u001b[0m             \u001b[0;31m# Combine results using the index, need to adjust index after\u001b[0m\u001b[0;34m\u001b[0m\u001b[0;34m\u001b[0m\u001b[0m\n\u001b[1;32m    359\u001b[0m             \u001b[0;31m# if as_index=False (GH#50724)\u001b[0m\u001b[0;34m\u001b[0m\u001b[0;34m\u001b[0m\u001b[0m\n\u001b[1;32m    360\u001b[0m             \u001b[0;32mfor\u001b[0m \u001b[0midx\u001b[0m\u001b[0;34m,\u001b[0m \u001b[0;34m(\u001b[0m\u001b[0mname\u001b[0m\u001b[0;34m,\u001b[0m \u001b[0mfunc\u001b[0m\u001b[0;34m)\u001b[0m \u001b[0;32min\u001b[0m \u001b[0menumerate\u001b[0m\u001b[0;34m(\u001b[0m\u001b[0marg\u001b[0m\u001b[0;34m)\u001b[0m\u001b[0;34m:\u001b[0m\u001b[0;34m\u001b[0m\u001b[0;34m\u001b[0m\u001b[0m\n\u001b[1;32m    361\u001b[0m                 \u001b[0mkey\u001b[0m \u001b[0;34m=\u001b[0m \u001b[0mbase\u001b[0m\u001b[0;34m.\u001b[0m\u001b[0mOutputKey\u001b[0m\u001b[0;34m(\u001b[0m\u001b[0mlabel\u001b[0m\u001b[0;34m=\u001b[0m\u001b[0mname\u001b[0m\u001b[0;34m,\u001b[0m \u001b[0mposition\u001b[0m\u001b[0;34m=\u001b[0m\u001b[0midx\u001b[0m\u001b[0;34m)\u001b[0m\u001b[0;34m\u001b[0m\u001b[0;34m\u001b[0m\u001b[0m\n\u001b[0;32m--> 362\u001b[0;31m                 \u001b[0mresults\u001b[0m\u001b[0;34m[\u001b[0m\u001b[0mkey\u001b[0m\u001b[0;34m]\u001b[0m \u001b[0;34m=\u001b[0m \u001b[0mself\u001b[0m\u001b[0;34m.\u001b[0m\u001b[0maggregate\u001b[0m\u001b[0;34m(\u001b[0m\u001b[0mfunc\u001b[0m\u001b[0;34m,\u001b[0m \u001b[0;34m*\u001b[0m\u001b[0margs\u001b[0m\u001b[0;34m,\u001b[0m \u001b[0;34m**\u001b[0m\u001b[0mkwargs\u001b[0m\u001b[0;34m)\u001b[0m\u001b[0;34m\u001b[0m\u001b[0;34m\u001b[0m\u001b[0m\n\u001b[0m\u001b[1;32m    363\u001b[0m \u001b[0;34m\u001b[0m\u001b[0m\n\u001b[1;32m    364\u001b[0m         \u001b[0;32mif\u001b[0m \u001b[0many\u001b[0m\u001b[0;34m(\u001b[0m\u001b[0misinstance\u001b[0m\u001b[0;34m(\u001b[0m\u001b[0mx\u001b[0m\u001b[0;34m,\u001b[0m \u001b[0mDataFrame\u001b[0m\u001b[0;34m)\u001b[0m \u001b[0;32mfor\u001b[0m \u001b[0mx\u001b[0m \u001b[0;32min\u001b[0m \u001b[0mresults\u001b[0m\u001b[0;34m.\u001b[0m\u001b[0mvalues\u001b[0m\u001b[0;34m(\u001b[0m\u001b[0;34m)\u001b[0m\u001b[0;34m)\u001b[0m\u001b[0;34m:\u001b[0m\u001b[0;34m\u001b[0m\u001b[0;34m\u001b[0m\u001b[0m\n\u001b[1;32m    365\u001b[0m             \u001b[0;32mfrom\u001b[0m \u001b[0mpandas\u001b[0m \u001b[0;32mimport\u001b[0m \u001b[0mconcat\u001b[0m\u001b[0;34m\u001b[0m\u001b[0;34m\u001b[0m\u001b[0m\n",
      "\u001b[0;32m/anaconda/envs/torch_env/lib/python3.10/site-packages/pandas/core/groupby/generic.py\u001b[0m in \u001b[0;36m?\u001b[0;34m(self, func, engine, engine_kwargs, *args, **kwargs)\u001b[0m\n\u001b[1;32m    287\u001b[0m                     \u001b[0mdtype\u001b[0m\u001b[0;34m=\u001b[0m\u001b[0mobj\u001b[0m\u001b[0;34m.\u001b[0m\u001b[0mdtype\u001b[0m\u001b[0;34m,\u001b[0m\u001b[0;34m\u001b[0m\u001b[0;34m\u001b[0m\u001b[0m\n\u001b[1;32m    288\u001b[0m                 )\n\u001b[1;32m    289\u001b[0m \u001b[0;34m\u001b[0m\u001b[0m\n\u001b[1;32m    290\u001b[0m             \u001b[0;32mif\u001b[0m \u001b[0mself\u001b[0m\u001b[0;34m.\u001b[0m\u001b[0m_grouper\u001b[0m\u001b[0;34m.\u001b[0m\u001b[0mnkeys\u001b[0m \u001b[0;34m>\u001b[0m \u001b[0;36m1\u001b[0m\u001b[0;34m:\u001b[0m\u001b[0;34m\u001b[0m\u001b[0;34m\u001b[0m\u001b[0m\n\u001b[0;32m--> 291\u001b[0;31m                 \u001b[0;32mreturn\u001b[0m \u001b[0mself\u001b[0m\u001b[0;34m.\u001b[0m\u001b[0m_python_agg_general\u001b[0m\u001b[0;34m(\u001b[0m\u001b[0mfunc\u001b[0m\u001b[0;34m,\u001b[0m \u001b[0;34m*\u001b[0m\u001b[0margs\u001b[0m\u001b[0;34m,\u001b[0m \u001b[0;34m**\u001b[0m\u001b[0mkwargs\u001b[0m\u001b[0;34m)\u001b[0m\u001b[0;34m\u001b[0m\u001b[0;34m\u001b[0m\u001b[0m\n\u001b[0m\u001b[1;32m    292\u001b[0m \u001b[0;34m\u001b[0m\u001b[0m\n\u001b[1;32m    293\u001b[0m             \u001b[0;32mtry\u001b[0m\u001b[0;34m:\u001b[0m\u001b[0;34m\u001b[0m\u001b[0;34m\u001b[0m\u001b[0m\n\u001b[1;32m    294\u001b[0m                 \u001b[0;32mreturn\u001b[0m \u001b[0mself\u001b[0m\u001b[0;34m.\u001b[0m\u001b[0m_python_agg_general\u001b[0m\u001b[0;34m(\u001b[0m\u001b[0mfunc\u001b[0m\u001b[0;34m,\u001b[0m \u001b[0;34m*\u001b[0m\u001b[0margs\u001b[0m\u001b[0;34m,\u001b[0m \u001b[0;34m**\u001b[0m\u001b[0mkwargs\u001b[0m\u001b[0;34m)\u001b[0m\u001b[0;34m\u001b[0m\u001b[0;34m\u001b[0m\u001b[0m\n",
      "\u001b[0;32m/anaconda/envs/torch_env/lib/python3.10/site-packages/pandas/core/groupby/generic.py\u001b[0m in \u001b[0;36m?\u001b[0;34m(self, func, *args, **kwargs)\u001b[0m\n\u001b[1;32m    323\u001b[0m             \u001b[0mwarn_alias_replacement\u001b[0m\u001b[0;34m(\u001b[0m\u001b[0mself\u001b[0m\u001b[0;34m,\u001b[0m \u001b[0morig_func\u001b[0m\u001b[0;34m,\u001b[0m \u001b[0malias\u001b[0m\u001b[0;34m)\u001b[0m\u001b[0;34m\u001b[0m\u001b[0;34m\u001b[0m\u001b[0m\n\u001b[1;32m    324\u001b[0m         \u001b[0mf\u001b[0m \u001b[0;34m=\u001b[0m \u001b[0;32mlambda\u001b[0m \u001b[0mx\u001b[0m\u001b[0;34m:\u001b[0m \u001b[0mfunc\u001b[0m\u001b[0;34m(\u001b[0m\u001b[0mx\u001b[0m\u001b[0;34m,\u001b[0m \u001b[0;34m*\u001b[0m\u001b[0margs\u001b[0m\u001b[0;34m,\u001b[0m \u001b[0;34m**\u001b[0m\u001b[0mkwargs\u001b[0m\u001b[0;34m)\u001b[0m\u001b[0;34m\u001b[0m\u001b[0;34m\u001b[0m\u001b[0m\n\u001b[1;32m    325\u001b[0m \u001b[0;34m\u001b[0m\u001b[0m\n\u001b[1;32m    326\u001b[0m         \u001b[0mobj\u001b[0m \u001b[0;34m=\u001b[0m \u001b[0mself\u001b[0m\u001b[0;34m.\u001b[0m\u001b[0m_obj_with_exclusions\u001b[0m\u001b[0;34m\u001b[0m\u001b[0;34m\u001b[0m\u001b[0m\n\u001b[0;32m--> 327\u001b[0;31m         \u001b[0mresult\u001b[0m \u001b[0;34m=\u001b[0m \u001b[0mself\u001b[0m\u001b[0;34m.\u001b[0m\u001b[0m_grouper\u001b[0m\u001b[0;34m.\u001b[0m\u001b[0magg_series\u001b[0m\u001b[0;34m(\u001b[0m\u001b[0mobj\u001b[0m\u001b[0;34m,\u001b[0m \u001b[0mf\u001b[0m\u001b[0;34m)\u001b[0m\u001b[0;34m\u001b[0m\u001b[0;34m\u001b[0m\u001b[0m\n\u001b[0m\u001b[1;32m    328\u001b[0m         \u001b[0mres\u001b[0m \u001b[0;34m=\u001b[0m \u001b[0mobj\u001b[0m\u001b[0;34m.\u001b[0m\u001b[0m_constructor\u001b[0m\u001b[0;34m(\u001b[0m\u001b[0mresult\u001b[0m\u001b[0;34m,\u001b[0m \u001b[0mname\u001b[0m\u001b[0;34m=\u001b[0m\u001b[0mobj\u001b[0m\u001b[0;34m.\u001b[0m\u001b[0mname\u001b[0m\u001b[0;34m)\u001b[0m\u001b[0;34m\u001b[0m\u001b[0;34m\u001b[0m\u001b[0m\n\u001b[1;32m    329\u001b[0m         \u001b[0;32mreturn\u001b[0m \u001b[0mself\u001b[0m\u001b[0;34m.\u001b[0m\u001b[0m_wrap_aggregated_output\u001b[0m\u001b[0;34m(\u001b[0m\u001b[0mres\u001b[0m\u001b[0;34m)\u001b[0m\u001b[0;34m\u001b[0m\u001b[0;34m\u001b[0m\u001b[0m\n",
      "\u001b[0;32m/anaconda/envs/torch_env/lib/python3.10/site-packages/pandas/core/groupby/ops.py\u001b[0m in \u001b[0;36m?\u001b[0;34m(self, obj, func, preserve_dtype)\u001b[0m\n\u001b[1;32m    860\u001b[0m             \u001b[0;31m#  with _from_sequence.  NB we are assuming here that _from_sequence\u001b[0m\u001b[0;34m\u001b[0m\u001b[0;34m\u001b[0m\u001b[0m\n\u001b[1;32m    861\u001b[0m             \u001b[0;31m#  is sufficiently strict that it casts appropriately.\u001b[0m\u001b[0;34m\u001b[0m\u001b[0;34m\u001b[0m\u001b[0m\n\u001b[1;32m    862\u001b[0m             \u001b[0mpreserve_dtype\u001b[0m \u001b[0;34m=\u001b[0m \u001b[0;32mTrue\u001b[0m\u001b[0;34m\u001b[0m\u001b[0;34m\u001b[0m\u001b[0m\n\u001b[1;32m    863\u001b[0m \u001b[0;34m\u001b[0m\u001b[0m\n\u001b[0;32m--> 864\u001b[0;31m         \u001b[0mresult\u001b[0m \u001b[0;34m=\u001b[0m \u001b[0mself\u001b[0m\u001b[0;34m.\u001b[0m\u001b[0m_aggregate_series_pure_python\u001b[0m\u001b[0;34m(\u001b[0m\u001b[0mobj\u001b[0m\u001b[0;34m,\u001b[0m \u001b[0mfunc\u001b[0m\u001b[0;34m)\u001b[0m\u001b[0;34m\u001b[0m\u001b[0;34m\u001b[0m\u001b[0m\n\u001b[0m\u001b[1;32m    865\u001b[0m \u001b[0;34m\u001b[0m\u001b[0m\n\u001b[1;32m    866\u001b[0m         \u001b[0mnpvalues\u001b[0m \u001b[0;34m=\u001b[0m \u001b[0mlib\u001b[0m\u001b[0;34m.\u001b[0m\u001b[0mmaybe_convert_objects\u001b[0m\u001b[0;34m(\u001b[0m\u001b[0mresult\u001b[0m\u001b[0;34m,\u001b[0m \u001b[0mtry_float\u001b[0m\u001b[0;34m=\u001b[0m\u001b[0;32mFalse\u001b[0m\u001b[0;34m)\u001b[0m\u001b[0;34m\u001b[0m\u001b[0;34m\u001b[0m\u001b[0m\n\u001b[1;32m    867\u001b[0m         \u001b[0;32mif\u001b[0m \u001b[0mpreserve_dtype\u001b[0m\u001b[0;34m:\u001b[0m\u001b[0;34m\u001b[0m\u001b[0;34m\u001b[0m\u001b[0m\n",
      "\u001b[0;32m/anaconda/envs/torch_env/lib/python3.10/site-packages/pandas/core/groupby/ops.py\u001b[0m in \u001b[0;36m?\u001b[0;34m(self, obj, func)\u001b[0m\n\u001b[1;32m    880\u001b[0m         \u001b[0minitialized\u001b[0m \u001b[0;34m=\u001b[0m \u001b[0;32mFalse\u001b[0m\u001b[0;34m\u001b[0m\u001b[0;34m\u001b[0m\u001b[0m\n\u001b[1;32m    881\u001b[0m \u001b[0;34m\u001b[0m\u001b[0m\n\u001b[1;32m    882\u001b[0m         \u001b[0msplitter\u001b[0m \u001b[0;34m=\u001b[0m \u001b[0mself\u001b[0m\u001b[0;34m.\u001b[0m\u001b[0m_get_splitter\u001b[0m\u001b[0;34m(\u001b[0m\u001b[0mobj\u001b[0m\u001b[0;34m,\u001b[0m \u001b[0maxis\u001b[0m\u001b[0;34m=\u001b[0m\u001b[0;36m0\u001b[0m\u001b[0;34m)\u001b[0m\u001b[0;34m\u001b[0m\u001b[0;34m\u001b[0m\u001b[0m\n\u001b[1;32m    883\u001b[0m \u001b[0;34m\u001b[0m\u001b[0m\n\u001b[0;32m--> 884\u001b[0;31m         \u001b[0;32mfor\u001b[0m \u001b[0mi\u001b[0m\u001b[0;34m,\u001b[0m \u001b[0mgroup\u001b[0m \u001b[0;32min\u001b[0m \u001b[0menumerate\u001b[0m\u001b[0;34m(\u001b[0m\u001b[0msplitter\u001b[0m\u001b[0;34m)\u001b[0m\u001b[0;34m:\u001b[0m\u001b[0;34m\u001b[0m\u001b[0;34m\u001b[0m\u001b[0m\n\u001b[0m\u001b[1;32m    885\u001b[0m             \u001b[0mres\u001b[0m \u001b[0;34m=\u001b[0m \u001b[0mfunc\u001b[0m\u001b[0;34m(\u001b[0m\u001b[0mgroup\u001b[0m\u001b[0;34m)\u001b[0m\u001b[0;34m\u001b[0m\u001b[0;34m\u001b[0m\u001b[0m\n\u001b[1;32m    886\u001b[0m             \u001b[0mres\u001b[0m \u001b[0;34m=\u001b[0m \u001b[0mextract_result\u001b[0m\u001b[0;34m(\u001b[0m\u001b[0mres\u001b[0m\u001b[0;34m)\u001b[0m\u001b[0;34m\u001b[0m\u001b[0;34m\u001b[0m\u001b[0m\n\u001b[1;32m    887\u001b[0m \u001b[0;34m\u001b[0m\u001b[0m\n",
      "\u001b[0;32m/anaconda/envs/torch_env/lib/python3.10/site-packages/pandas/core/groupby/ops.py\u001b[0m in \u001b[0;36m?\u001b[0;34m(self)\u001b[0m\n\u001b[1;32m   1156\u001b[0m \u001b[0;34m\u001b[0m\u001b[0m\n\u001b[1;32m   1157\u001b[0m         \u001b[0mstarts\u001b[0m\u001b[0;34m,\u001b[0m \u001b[0mends\u001b[0m \u001b[0;34m=\u001b[0m \u001b[0mlib\u001b[0m\u001b[0;34m.\u001b[0m\u001b[0mgenerate_slices\u001b[0m\u001b[0;34m(\u001b[0m\u001b[0mself\u001b[0m\u001b[0;34m.\u001b[0m\u001b[0m_slabels\u001b[0m\u001b[0;34m,\u001b[0m \u001b[0mself\u001b[0m\u001b[0;34m.\u001b[0m\u001b[0mngroups\u001b[0m\u001b[0;34m)\u001b[0m\u001b[0;34m\u001b[0m\u001b[0;34m\u001b[0m\u001b[0m\n\u001b[1;32m   1158\u001b[0m \u001b[0;34m\u001b[0m\u001b[0m\n\u001b[1;32m   1159\u001b[0m         \u001b[0;32mfor\u001b[0m \u001b[0mstart\u001b[0m\u001b[0;34m,\u001b[0m \u001b[0mend\u001b[0m \u001b[0;32min\u001b[0m \u001b[0mzip\u001b[0m\u001b[0;34m(\u001b[0m\u001b[0mstarts\u001b[0m\u001b[0;34m,\u001b[0m \u001b[0mends\u001b[0m\u001b[0;34m)\u001b[0m\u001b[0;34m:\u001b[0m\u001b[0;34m\u001b[0m\u001b[0;34m\u001b[0m\u001b[0m\n\u001b[0;32m-> 1160\u001b[0;31m             \u001b[0;32myield\u001b[0m \u001b[0mself\u001b[0m\u001b[0;34m.\u001b[0m\u001b[0m_chop\u001b[0m\u001b[0;34m(\u001b[0m\u001b[0msdata\u001b[0m\u001b[0;34m,\u001b[0m \u001b[0mslice\u001b[0m\u001b[0;34m(\u001b[0m\u001b[0mstart\u001b[0m\u001b[0;34m,\u001b[0m \u001b[0mend\u001b[0m\u001b[0;34m)\u001b[0m\u001b[0;34m)\u001b[0m\u001b[0;34m\u001b[0m\u001b[0;34m\u001b[0m\u001b[0m\n\u001b[0m",
      "\u001b[0;32m/anaconda/envs/torch_env/lib/python3.10/site-packages/pandas/core/groupby/ops.py\u001b[0m in \u001b[0;36m?\u001b[0;34m(self, sdata, slice_obj)\u001b[0m\n\u001b[1;32m   1172\u001b[0m         \u001b[0;31m# fastpath equivalent to `sdata.iloc[slice_obj]`\u001b[0m\u001b[0;34m\u001b[0m\u001b[0;34m\u001b[0m\u001b[0m\n\u001b[1;32m   1173\u001b[0m         \u001b[0mmgr\u001b[0m \u001b[0;34m=\u001b[0m \u001b[0msdata\u001b[0m\u001b[0;34m.\u001b[0m\u001b[0m_mgr\u001b[0m\u001b[0;34m.\u001b[0m\u001b[0mget_slice\u001b[0m\u001b[0;34m(\u001b[0m\u001b[0mslice_obj\u001b[0m\u001b[0;34m)\u001b[0m\u001b[0;34m\u001b[0m\u001b[0;34m\u001b[0m\u001b[0m\n\u001b[1;32m   1174\u001b[0m         \u001b[0mser\u001b[0m \u001b[0;34m=\u001b[0m \u001b[0msdata\u001b[0m\u001b[0;34m.\u001b[0m\u001b[0m_constructor_from_mgr\u001b[0m\u001b[0;34m(\u001b[0m\u001b[0mmgr\u001b[0m\u001b[0;34m,\u001b[0m \u001b[0maxes\u001b[0m\u001b[0;34m=\u001b[0m\u001b[0mmgr\u001b[0m\u001b[0;34m.\u001b[0m\u001b[0maxes\u001b[0m\u001b[0;34m)\u001b[0m\u001b[0;34m\u001b[0m\u001b[0;34m\u001b[0m\u001b[0m\n\u001b[1;32m   1175\u001b[0m         \u001b[0mser\u001b[0m\u001b[0;34m.\u001b[0m\u001b[0m_name\u001b[0m \u001b[0;34m=\u001b[0m \u001b[0msdata\u001b[0m\u001b[0;34m.\u001b[0m\u001b[0mname\u001b[0m\u001b[0;34m\u001b[0m\u001b[0;34m\u001b[0m\u001b[0m\n\u001b[0;32m-> 1176\u001b[0;31m         \u001b[0;32mreturn\u001b[0m \u001b[0mser\u001b[0m\u001b[0;34m.\u001b[0m\u001b[0m__finalize__\u001b[0m\u001b[0;34m(\u001b[0m\u001b[0msdata\u001b[0m\u001b[0;34m,\u001b[0m \u001b[0mmethod\u001b[0m\u001b[0;34m=\u001b[0m\u001b[0;34m\"groupby\"\u001b[0m\u001b[0;34m)\u001b[0m\u001b[0;34m\u001b[0m\u001b[0;34m\u001b[0m\u001b[0m\n\u001b[0m",
      "\u001b[0;32m/anaconda/envs/torch_env/lib/python3.10/site-packages/pandas/core/generic.py\u001b[0m in \u001b[0;36m?\u001b[0;34m(self, other, method, **kwargs)\u001b[0m\n\u001b[0;32m-> 6236\u001b[0;31m     \u001b[0;34m@\u001b[0m\u001b[0mfinal\u001b[0m\u001b[0;34m\u001b[0m\u001b[0;34m\u001b[0m\u001b[0m\n\u001b[0m\u001b[1;32m   6237\u001b[0m     \u001b[0;32mdef\u001b[0m \u001b[0m__finalize__\u001b[0m\u001b[0;34m(\u001b[0m\u001b[0mself\u001b[0m\u001b[0;34m,\u001b[0m \u001b[0mother\u001b[0m\u001b[0;34m,\u001b[0m \u001b[0mmethod\u001b[0m\u001b[0;34m:\u001b[0m \u001b[0mstr\u001b[0m \u001b[0;34m|\u001b[0m \u001b[0;32mNone\u001b[0m \u001b[0;34m=\u001b[0m \u001b[0;32mNone\u001b[0m\u001b[0;34m,\u001b[0m \u001b[0;34m**\u001b[0m\u001b[0mkwargs\u001b[0m\u001b[0;34m)\u001b[0m \u001b[0;34m->\u001b[0m \u001b[0mSelf\u001b[0m\u001b[0;34m:\u001b[0m\u001b[0;34m\u001b[0m\u001b[0;34m\u001b[0m\u001b[0m\n\u001b[1;32m   6238\u001b[0m         \"\"\"\n\u001b[1;32m   6239\u001b[0m         \u001b[0mPropagate\u001b[0m \u001b[0mmetadata\u001b[0m \u001b[0;32mfrom\u001b[0m \u001b[0mother\u001b[0m \u001b[0mto\u001b[0m \u001b[0mself\u001b[0m\u001b[0;34m.\u001b[0m\u001b[0;34m\u001b[0m\u001b[0;34m\u001b[0m\u001b[0m\n",
      "\u001b[0;31mKeyboardInterrupt\u001b[0m: "
     ]
    }
   ],
   "source": [
    "temp = volume_monthly_df_best.groupby(['poc_ppg_id','month'],as_index=False).agg(low_band = (\"sales_volume_hl_agg\",lambda x: np.percentile(x,5)),\n",
    "                                                                                high_band = (\"sales_volume_hl_agg\",lambda x: np.percentile(x,99.5))\n",
    "                                                                                )"
   ]
  },
  {
   "cell_type": "code",
   "execution_count": null,
   "id": "6981c547",
   "metadata": {},
   "outputs": [],
   "source": [
    "temp.head()"
   ]
  },
  {
   "cell_type": "code",
   "execution_count": null,
   "id": "bd0f506b",
   "metadata": {},
   "outputs": [],
   "source": []
  }
 ],
 "metadata": {
  "kernelspec": {
   "display_name": "torch_env",
   "language": "python",
   "name": "torch_env"
  },
  "language_info": {
   "codemirror_mode": {
    "name": "ipython",
    "version": 3
   },
   "file_extension": ".py",
   "mimetype": "text/x-python",
   "name": "python",
   "nbconvert_exporter": "python",
   "pygments_lexer": "ipython3",
   "version": "3.10.14"
  }
 },
 "nbformat": 4,
 "nbformat_minor": 5
}
